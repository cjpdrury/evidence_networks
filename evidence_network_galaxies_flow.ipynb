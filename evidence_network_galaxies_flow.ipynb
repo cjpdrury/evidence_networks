{
  "cells": [
    {
      "cell_type": "markdown",
      "metadata": {
        "id": "view-in-github",
        "colab_type": "text"
      },
      "source": [
        "<a href=\"https://colab.research.google.com/github/cjpdrury/evidence_networks/blob/fluxes/evidence_network_galaxies_flow.ipynb\" target=\"_parent\"><img src=\"https://colab.research.google.com/assets/colab-badge.svg\" alt=\"Open In Colab\"/></a>"
      ]
    },
    {
      "cell_type": "markdown",
      "metadata": {
        "id": "x6OgvpynRxrT"
      },
      "source": [
        "## Evidence Network example"
      ],
      "id": "x6OgvpynRxrT"
    },
    {
      "cell_type": "code",
      "execution_count": 1,
      "metadata": {
        "colab": {
          "base_uri": "https://localhost:8080/"
        },
        "id": "hZlXrY_oRxCy",
        "outputId": "7bfd338c-d560-4e11-9f89-fd8aab8ffaba"
      },
      "outputs": [
        {
          "output_type": "stream",
          "name": "stdout",
          "text": [
            "Collecting tensorflow==2.8.0\n",
            "  Downloading tensorflow-2.8.0-cp310-cp310-manylinux2010_x86_64.whl (497.6 MB)\n",
            "\u001b[2K     \u001b[90m━━━━━━━━━━━━━━━━━━━━━━━━━━━━━━━━━━━━━━━\u001b[0m \u001b[32m497.6/497.6 MB\u001b[0m \u001b[31m2.5 MB/s\u001b[0m eta \u001b[36m0:00:00\u001b[0m\n",
            "\u001b[?25hRequirement already satisfied: absl-py>=0.4.0 in /usr/local/lib/python3.10/dist-packages (from tensorflow==2.8.0) (1.4.0)\n",
            "Requirement already satisfied: astunparse>=1.6.0 in /usr/local/lib/python3.10/dist-packages (from tensorflow==2.8.0) (1.6.3)\n",
            "Requirement already satisfied: flatbuffers>=1.12 in /usr/local/lib/python3.10/dist-packages (from tensorflow==2.8.0) (23.5.26)\n",
            "Requirement already satisfied: gast>=0.2.1 in /usr/local/lib/python3.10/dist-packages (from tensorflow==2.8.0) (0.4.0)\n",
            "Requirement already satisfied: google-pasta>=0.1.1 in /usr/local/lib/python3.10/dist-packages (from tensorflow==2.8.0) (0.2.0)\n",
            "Requirement already satisfied: h5py>=2.9.0 in /usr/local/lib/python3.10/dist-packages (from tensorflow==2.8.0) (3.8.0)\n",
            "Collecting keras-preprocessing>=1.1.1 (from tensorflow==2.8.0)\n",
            "  Downloading Keras_Preprocessing-1.1.2-py2.py3-none-any.whl (42 kB)\n",
            "\u001b[2K     \u001b[90m━━━━━━━━━━━━━━━━━━━━━━━━━━━━━━━━━━━━━━━━\u001b[0m \u001b[32m42.6/42.6 kB\u001b[0m \u001b[31m1.8 MB/s\u001b[0m eta \u001b[36m0:00:00\u001b[0m\n",
            "\u001b[?25hRequirement already satisfied: libclang>=9.0.1 in /usr/local/lib/python3.10/dist-packages (from tensorflow==2.8.0) (16.0.6)\n",
            "Requirement already satisfied: numpy>=1.20 in /usr/local/lib/python3.10/dist-packages (from tensorflow==2.8.0) (1.22.4)\n",
            "Requirement already satisfied: opt-einsum>=2.3.2 in /usr/local/lib/python3.10/dist-packages (from tensorflow==2.8.0) (3.3.0)\n",
            "Requirement already satisfied: protobuf>=3.9.2 in /usr/local/lib/python3.10/dist-packages (from tensorflow==2.8.0) (3.20.3)\n",
            "Requirement already satisfied: setuptools in /usr/local/lib/python3.10/dist-packages (from tensorflow==2.8.0) (67.7.2)\n",
            "Requirement already satisfied: six>=1.12.0 in /usr/local/lib/python3.10/dist-packages (from tensorflow==2.8.0) (1.16.0)\n",
            "Requirement already satisfied: termcolor>=1.1.0 in /usr/local/lib/python3.10/dist-packages (from tensorflow==2.8.0) (2.3.0)\n",
            "Requirement already satisfied: typing-extensions>=3.6.6 in /usr/local/lib/python3.10/dist-packages (from tensorflow==2.8.0) (4.7.1)\n",
            "Requirement already satisfied: wrapt>=1.11.0 in /usr/local/lib/python3.10/dist-packages (from tensorflow==2.8.0) (1.14.1)\n",
            "Collecting tensorboard<2.9,>=2.8 (from tensorflow==2.8.0)\n",
            "  Downloading tensorboard-2.8.0-py3-none-any.whl (5.8 MB)\n",
            "\u001b[2K     \u001b[90m━━━━━━━━━━━━━━━━━━━━━━━━━━━━━━━━━━━━━━━━\u001b[0m \u001b[32m5.8/5.8 MB\u001b[0m \u001b[31m37.0 MB/s\u001b[0m eta \u001b[36m0:00:00\u001b[0m\n",
            "\u001b[?25hCollecting tf-estimator-nightly==2.8.0.dev2021122109 (from tensorflow==2.8.0)\n",
            "  Downloading tf_estimator_nightly-2.8.0.dev2021122109-py2.py3-none-any.whl (462 kB)\n",
            "\u001b[2K     \u001b[90m━━━━━━━━━━━━━━━━━━━━━━━━━━━━━━━━━━━━━━━\u001b[0m \u001b[32m462.5/462.5 kB\u001b[0m \u001b[31m9.5 MB/s\u001b[0m eta \u001b[36m0:00:00\u001b[0m\n",
            "\u001b[?25hCollecting keras<2.9,>=2.8.0rc0 (from tensorflow==2.8.0)\n",
            "  Downloading keras-2.8.0-py2.py3-none-any.whl (1.4 MB)\n",
            "\u001b[2K     \u001b[90m━━━━━━━━━━━━━━━━━━━━━━━━━━━━━━━━━━━━━━━━\u001b[0m \u001b[32m1.4/1.4 MB\u001b[0m \u001b[31m55.8 MB/s\u001b[0m eta \u001b[36m0:00:00\u001b[0m\n",
            "\u001b[?25hRequirement already satisfied: tensorflow-io-gcs-filesystem>=0.23.1 in /usr/local/lib/python3.10/dist-packages (from tensorflow==2.8.0) (0.32.0)\n",
            "Requirement already satisfied: grpcio<2.0,>=1.24.3 in /usr/local/lib/python3.10/dist-packages (from tensorflow==2.8.0) (1.56.0)\n",
            "Requirement already satisfied: wheel<1.0,>=0.23.0 in /usr/local/lib/python3.10/dist-packages (from astunparse>=1.6.0->tensorflow==2.8.0) (0.40.0)\n",
            "Requirement already satisfied: google-auth<3,>=1.6.3 in /usr/local/lib/python3.10/dist-packages (from tensorboard<2.9,>=2.8->tensorflow==2.8.0) (2.17.3)\n",
            "Collecting google-auth-oauthlib<0.5,>=0.4.1 (from tensorboard<2.9,>=2.8->tensorflow==2.8.0)\n",
            "  Downloading google_auth_oauthlib-0.4.6-py2.py3-none-any.whl (18 kB)\n",
            "Requirement already satisfied: markdown>=2.6.8 in /usr/local/lib/python3.10/dist-packages (from tensorboard<2.9,>=2.8->tensorflow==2.8.0) (3.4.3)\n",
            "Requirement already satisfied: requests<3,>=2.21.0 in /usr/local/lib/python3.10/dist-packages (from tensorboard<2.9,>=2.8->tensorflow==2.8.0) (2.27.1)\n",
            "Collecting tensorboard-data-server<0.7.0,>=0.6.0 (from tensorboard<2.9,>=2.8->tensorflow==2.8.0)\n",
            "  Downloading tensorboard_data_server-0.6.1-py3-none-manylinux2010_x86_64.whl (4.9 MB)\n",
            "\u001b[2K     \u001b[90m━━━━━━━━━━━━━━━━━━━━━━━━━━━━━━━━━━━━━━━━\u001b[0m \u001b[32m4.9/4.9 MB\u001b[0m \u001b[31m44.4 MB/s\u001b[0m eta \u001b[36m0:00:00\u001b[0m\n",
            "\u001b[?25hCollecting tensorboard-plugin-wit>=1.6.0 (from tensorboard<2.9,>=2.8->tensorflow==2.8.0)\n",
            "  Downloading tensorboard_plugin_wit-1.8.1-py3-none-any.whl (781 kB)\n",
            "\u001b[2K     \u001b[90m━━━━━━━━━━━━━━━━━━━━━━━━━━━━━━━━━━━━━━\u001b[0m \u001b[32m781.3/781.3 kB\u001b[0m \u001b[31m43.2 MB/s\u001b[0m eta \u001b[36m0:00:00\u001b[0m\n",
            "\u001b[?25hRequirement already satisfied: werkzeug>=0.11.15 in /usr/local/lib/python3.10/dist-packages (from tensorboard<2.9,>=2.8->tensorflow==2.8.0) (2.3.6)\n",
            "Requirement already satisfied: cachetools<6.0,>=2.0.0 in /usr/local/lib/python3.10/dist-packages (from google-auth<3,>=1.6.3->tensorboard<2.9,>=2.8->tensorflow==2.8.0) (5.3.1)\n",
            "Requirement already satisfied: pyasn1-modules>=0.2.1 in /usr/local/lib/python3.10/dist-packages (from google-auth<3,>=1.6.3->tensorboard<2.9,>=2.8->tensorflow==2.8.0) (0.3.0)\n",
            "Requirement already satisfied: rsa<5,>=3.1.4 in /usr/local/lib/python3.10/dist-packages (from google-auth<3,>=1.6.3->tensorboard<2.9,>=2.8->tensorflow==2.8.0) (4.9)\n",
            "Requirement already satisfied: requests-oauthlib>=0.7.0 in /usr/local/lib/python3.10/dist-packages (from google-auth-oauthlib<0.5,>=0.4.1->tensorboard<2.9,>=2.8->tensorflow==2.8.0) (1.3.1)\n",
            "Requirement already satisfied: urllib3<1.27,>=1.21.1 in /usr/local/lib/python3.10/dist-packages (from requests<3,>=2.21.0->tensorboard<2.9,>=2.8->tensorflow==2.8.0) (1.26.16)\n",
            "Requirement already satisfied: certifi>=2017.4.17 in /usr/local/lib/python3.10/dist-packages (from requests<3,>=2.21.0->tensorboard<2.9,>=2.8->tensorflow==2.8.0) (2023.5.7)\n",
            "Requirement already satisfied: charset-normalizer~=2.0.0 in /usr/local/lib/python3.10/dist-packages (from requests<3,>=2.21.0->tensorboard<2.9,>=2.8->tensorflow==2.8.0) (2.0.12)\n",
            "Requirement already satisfied: idna<4,>=2.5 in /usr/local/lib/python3.10/dist-packages (from requests<3,>=2.21.0->tensorboard<2.9,>=2.8->tensorflow==2.8.0) (3.4)\n",
            "Requirement already satisfied: MarkupSafe>=2.1.1 in /usr/local/lib/python3.10/dist-packages (from werkzeug>=0.11.15->tensorboard<2.9,>=2.8->tensorflow==2.8.0) (2.1.3)\n",
            "Requirement already satisfied: pyasn1<0.6.0,>=0.4.6 in /usr/local/lib/python3.10/dist-packages (from pyasn1-modules>=0.2.1->google-auth<3,>=1.6.3->tensorboard<2.9,>=2.8->tensorflow==2.8.0) (0.5.0)\n",
            "Requirement already satisfied: oauthlib>=3.0.0 in /usr/local/lib/python3.10/dist-packages (from requests-oauthlib>=0.7.0->google-auth-oauthlib<0.5,>=0.4.1->tensorboard<2.9,>=2.8->tensorflow==2.8.0) (3.2.2)\n",
            "Installing collected packages: tf-estimator-nightly, tensorboard-plugin-wit, keras, tensorboard-data-server, keras-preprocessing, google-auth-oauthlib, tensorboard, tensorflow\n",
            "  Attempting uninstall: keras\n",
            "    Found existing installation: keras 2.12.0\n",
            "    Uninstalling keras-2.12.0:\n",
            "      Successfully uninstalled keras-2.12.0\n",
            "  Attempting uninstall: tensorboard-data-server\n",
            "    Found existing installation: tensorboard-data-server 0.7.1\n",
            "    Uninstalling tensorboard-data-server-0.7.1:\n",
            "      Successfully uninstalled tensorboard-data-server-0.7.1\n",
            "  Attempting uninstall: google-auth-oauthlib\n",
            "    Found existing installation: google-auth-oauthlib 1.0.0\n",
            "    Uninstalling google-auth-oauthlib-1.0.0:\n",
            "      Successfully uninstalled google-auth-oauthlib-1.0.0\n",
            "  Attempting uninstall: tensorboard\n",
            "    Found existing installation: tensorboard 2.12.3\n",
            "    Uninstalling tensorboard-2.12.3:\n",
            "      Successfully uninstalled tensorboard-2.12.3\n",
            "  Attempting uninstall: tensorflow\n",
            "    Found existing installation: tensorflow 2.12.0\n",
            "    Uninstalling tensorflow-2.12.0:\n",
            "      Successfully uninstalled tensorflow-2.12.0\n",
            "Successfully installed google-auth-oauthlib-0.4.6 keras-2.8.0 keras-preprocessing-1.1.2 tensorboard-2.8.0 tensorboard-data-server-0.6.1 tensorboard-plugin-wit-1.8.1 tensorflow-2.8.0 tf-estimator-nightly-2.8.0.dev2021122109\n",
            "Collecting pzflow\n",
            "  Downloading pzflow-3.1.1-py3-none-any.whl (8.7 MB)\n",
            "\u001b[2K     \u001b[90m━━━━━━━━━━━━━━━━━━━━━━━━━━━━━━━━━━━━━━━━\u001b[0m \u001b[32m8.7/8.7 MB\u001b[0m \u001b[31m4.4 MB/s\u001b[0m eta \u001b[36m0:00:00\u001b[0m\n",
            "\u001b[?25hRequirement already satisfied: matplotlib in /usr/local/lib/python3.10/dist-packages (3.7.1)\n",
            "Collecting dill<0.4.0,>=0.3.6 (from pzflow)\n",
            "  Downloading dill-0.3.7-py3-none-any.whl (115 kB)\n",
            "\u001b[2K     \u001b[90m━━━━━━━━━━━━━━━━━━━━━━━━━━━━━━━━━━━━━━\u001b[0m \u001b[32m115.3/115.3 kB\u001b[0m \u001b[31m11.2 MB/s\u001b[0m eta \u001b[36m0:00:00\u001b[0m\n",
            "\u001b[?25hRequirement already satisfied: jax<0.5.0,>=0.4.2 in /usr/local/lib/python3.10/dist-packages (from pzflow) (0.4.13)\n",
            "Requirement already satisfied: jaxlib<0.5.0,>=0.4.2 in /usr/local/lib/python3.10/dist-packages (from pzflow) (0.4.13+cuda11.cudnn86)\n",
            "Requirement already satisfied: optax<0.2.0,>=0.1.4 in /usr/local/lib/python3.10/dist-packages (from pzflow) (0.1.5)\n",
            "Requirement already satisfied: pandas>=1.1 in /usr/local/lib/python3.10/dist-packages (from pzflow) (1.5.3)\n",
            "Requirement already satisfied: tqdm<5.0.0,>=4.64.1 in /usr/local/lib/python3.10/dist-packages (from pzflow) (4.65.0)\n",
            "Requirement already satisfied: contourpy>=1.0.1 in /usr/local/lib/python3.10/dist-packages (from matplotlib) (1.1.0)\n",
            "Requirement already satisfied: cycler>=0.10 in /usr/local/lib/python3.10/dist-packages (from matplotlib) (0.11.0)\n",
            "Requirement already satisfied: fonttools>=4.22.0 in /usr/local/lib/python3.10/dist-packages (from matplotlib) (4.41.0)\n",
            "Requirement already satisfied: kiwisolver>=1.0.1 in /usr/local/lib/python3.10/dist-packages (from matplotlib) (1.4.4)\n",
            "Requirement already satisfied: numpy>=1.20 in /usr/local/lib/python3.10/dist-packages (from matplotlib) (1.22.4)\n",
            "Requirement already satisfied: packaging>=20.0 in /usr/local/lib/python3.10/dist-packages (from matplotlib) (23.1)\n",
            "Requirement already satisfied: pillow>=6.2.0 in /usr/local/lib/python3.10/dist-packages (from matplotlib) (8.4.0)\n",
            "Requirement already satisfied: pyparsing>=2.3.1 in /usr/local/lib/python3.10/dist-packages (from matplotlib) (3.1.0)\n",
            "Requirement already satisfied: python-dateutil>=2.7 in /usr/local/lib/python3.10/dist-packages (from matplotlib) (2.8.2)\n",
            "Requirement already satisfied: ml-dtypes>=0.1.0 in /usr/local/lib/python3.10/dist-packages (from jax<0.5.0,>=0.4.2->pzflow) (0.2.0)\n",
            "Requirement already satisfied: opt-einsum in /usr/local/lib/python3.10/dist-packages (from jax<0.5.0,>=0.4.2->pzflow) (3.3.0)\n",
            "Requirement already satisfied: scipy>=1.7 in /usr/local/lib/python3.10/dist-packages (from jax<0.5.0,>=0.4.2->pzflow) (1.10.1)\n",
            "Requirement already satisfied: absl-py>=0.7.1 in /usr/local/lib/python3.10/dist-packages (from optax<0.2.0,>=0.1.4->pzflow) (1.4.0)\n",
            "Requirement already satisfied: chex>=0.1.5 in /usr/local/lib/python3.10/dist-packages (from optax<0.2.0,>=0.1.4->pzflow) (0.1.7)\n",
            "Requirement already satisfied: pytz>=2020.1 in /usr/local/lib/python3.10/dist-packages (from pandas>=1.1->pzflow) (2022.7.1)\n",
            "Requirement already satisfied: six>=1.5 in /usr/local/lib/python3.10/dist-packages (from python-dateutil>=2.7->matplotlib) (1.16.0)\n",
            "Requirement already satisfied: dm-tree>=0.1.5 in /usr/local/lib/python3.10/dist-packages (from chex>=0.1.5->optax<0.2.0,>=0.1.4->pzflow) (0.1.8)\n",
            "Requirement already satisfied: toolz>=0.9.0 in /usr/local/lib/python3.10/dist-packages (from chex>=0.1.5->optax<0.2.0,>=0.1.4->pzflow) (0.12.0)\n",
            "Requirement already satisfied: typing-extensions>=4.2.0 in /usr/local/lib/python3.10/dist-packages (from chex>=0.1.5->optax<0.2.0,>=0.1.4->pzflow) (4.7.1)\n",
            "Installing collected packages: dill, pzflow\n",
            "Successfully installed dill-0.3.7 pzflow-3.1.1\n"
          ]
        }
      ],
      "source": [
        "# install this version of tf to use decayed lr metric\n",
        "!pip install tensorflow==2.8.0\n",
        "!pip install pzflow matplotlib\n",
        "\n"
      ],
      "id": "hZlXrY_oRxCy"
    },
    {
      "cell_type": "code",
      "source": [
        "\n",
        "gpu_info = !nvidia-smi\n",
        "gpu_info = '\\n'.join(gpu_info)\n",
        "if gpu_info.find('failed') >= 0:\n",
        "  print('Not connected to a GPU')\n",
        "else:\n",
        "  print(gpu_info)"
      ],
      "metadata": {
        "colab": {
          "base_uri": "https://localhost:8080/"
        },
        "id": "zPxjzoGMBwbH",
        "outputId": "af01c0ea-f5dc-47d2-c013-bb447c6bedaa"
      },
      "id": "zPxjzoGMBwbH",
      "execution_count": 2,
      "outputs": [
        {
          "output_type": "stream",
          "name": "stdout",
          "text": [
            "/bin/bash: line 1: nvidia-smi: command not found\n"
          ]
        }
      ]
    },
    {
      "cell_type": "code",
      "execution_count": 3,
      "metadata": {
        "colab": {
          "base_uri": "https://localhost:8080/"
        },
        "id": "reported-burlington",
        "outputId": "178c593b-60eb-4121-b05d-a875d59d20fa"
      },
      "outputs": [
        {
          "output_type": "stream",
          "name": "stdout",
          "text": [
            "[]\n",
            "[0]\n",
            "2.8.0\n"
          ]
        }
      ],
      "source": [
        "import numpy as np\n",
        "from scipy.stats import norm, multivariate_normal\n",
        "import sys, os, time, gc\n",
        "\n",
        "import tensorflow as tf\n",
        "import tensorflow.keras as keras\n",
        "from tensorflow.keras.models import Model\n",
        "from tensorflow.keras.layers import Dense, LeakyReLU, Input,ReLU\n",
        "from tensorflow.keras import optimizers, callbacks\n",
        "\n",
        "from tensorflow.keras.layers import concatenate, BatchNormalization\n",
        "\n",
        "import pandas as pd\n",
        "import random\n",
        "from sklearn.preprocessing import StandardScaler\n",
        "from sklearn.model_selection import train_test_split\n",
        "\n",
        "import requests\n",
        "import time\n",
        "\n",
        "from pzflow import Flow\n",
        "from pzflow.examples import get_twomoons_data\n",
        "\n",
        "import jax.numpy as jnp\n",
        "from mpl_toolkits.mplot3d import Axes3D\n",
        "\n",
        "\n",
        "import matplotlib.pyplot as plt\n",
        "plt.rcParams[\"font.family\"] = \"serif\"\n",
        "plt.rcParams[\"mathtext.fontset\"] = \"cm\"\n",
        "plt.rcParams['image.cmap'] = 'coolwarm'\n",
        "plt.rcParams[\"figure.facecolor\"] = \"white\"\n",
        "print(tf.config.list_physical_devices('GPU'))\n",
        "tf.print(tf.constant([0.0]))\n",
        "print(tf.__version__)"
      ],
      "id": "reported-burlington"
    },
    {
      "cell_type": "code",
      "execution_count": 4,
      "metadata": {
        "colab": {
          "base_uri": "https://localhost:8080/"
        },
        "id": "cqtfv2o_Kgrb",
        "outputId": "b433b807-6838-4002-e644-599fa0facea5"
      },
      "outputs": [
        {
          "output_type": "stream",
          "name": "stdout",
          "text": [
            "Mounted at /content/drive\n"
          ]
        }
      ],
      "source": [
        "from google.colab import drive\n",
        "drive.mount('/content/drive')\n",
        "# !cd /content/drive/MyDrive/ML_Intern/\n",
        "\n",
        "path = '/content/drive/MyDrive/ML_Intern'\n",
        "\n"
      ],
      "id": "cqtfv2o_Kgrb"
    },
    {
      "cell_type": "markdown",
      "metadata": {
        "id": "3KWomcAUSpdV"
      },
      "source": [
        "## Import Data and Save as Numpy file\n",
        "Once Numpy file is created it is not necessary to run this"
      ],
      "id": "3KWomcAUSpdV"
    },
    {
      "cell_type": "code",
      "execution_count": null,
      "metadata": {
        "id": "dom2n_nNSooG"
      },
      "outputs": [],
      "source": [
        "# import and save data as npy file\n",
        "train_Illu = np.loadtxt(path+\"/galaxies_IllustrisTNG_z=0.00.txt\", float)\n",
        "train_SIMB = np.loadtxt(path+\"/galaxies_SIMBA_z=0.00.txt\", float)\n",
        "\n",
        "f = open(path+\"/galaxies_IllustrisTNG_z=0.00.txt\")\n",
        "header = f.readline()\n",
        "\n",
        "np.save(path+'/gal_Illu.npy',train_Illu)\n",
        "np.save(path+'/gal_SIMB.npy',train_SIMB)\n"
      ],
      "id": "dom2n_nNSooG"
    },
    {
      "cell_type": "code",
      "execution_count": null,
      "metadata": {
        "id": "kSHrXHex0YUd",
        "colab": {
          "base_uri": "https://localhost:8080/"
        },
        "outputId": "e63d64ff-817b-4c92-e97d-ad75749fbd81"
      },
      "outputs": [
        {
          "output_type": "stream",
          "name": "stdout",
          "text": [
            "['# ', ' gas mass ', ' stellar mass ', ' black-hole mass ', ' total mass ', ' Vmax ', ' velocity dispersion ', ' gas metallicity ', ' stars metallicity ', ' star-formation rate ']\n"
          ]
        }
      ],
      "source": [
        "f = open(path+\"/galaxies_IllustrisTNG_z=0.00.txt\")\n",
        "header = f.readline()\n",
        "header = header.split('|')\n",
        "print(header[0:10])\n",
        "# gal_Illu"
      ],
      "id": "kSHrXHex0YUd"
    },
    {
      "cell_type": "markdown",
      "metadata": {
        "id": "pCmwYsNPSyzL"
      },
      "source": [
        "## Load and prepare data\n",
        "Each data file contains >100,000 data vectors. Note that SIMBA is about a 1.6x larger dataset than IllustrisTNG. A data vector is a package of 17 properties for a given galaxy. The values are normalised as they range over several orders of magnitude. A dataframe for each model is made to examine the data, but the numpy array is fed into the network as this is faster. <br>\n",
        "The models are assigned the labels; SIMBA (1), IllustrisTNG (0). They are combined into one set of training data. x_train is the data and y_train is the labels.\n"
      ],
      "id": "pCmwYsNPSyzL"
    },
    {
      "cell_type": "code",
      "execution_count": 93,
      "metadata": {
        "colab": {
          "base_uri": "https://localhost:8080/"
        },
        "id": "B8NKf1mrcG5X",
        "outputId": "50783374-323b-4452-ae67-f54931532110"
      },
      "outputs": [
        {
          "output_type": "stream",
          "name": "stdout",
          "text": [
            "(720548, 17)\n"
          ]
        }
      ],
      "source": [
        "# unpack data\n",
        "train_Illu = np.load(path+'/gal_Illu.npy')\n",
        "train_SIMB = np.load(path+'/gal_SIMB.npy')\n",
        "print(np.shape(train_Illu))\n",
        "\n",
        "# get headers and convert to pandas\n",
        "header = 'gas mass | stellar mass | black-hole mass | total mass | Vmax | velocity dispersion | gas metallicity | stars metallicity | star-formation rate | spin | peculiar velocity | stellar radius | total radius | Vmax radius | U | K | g'\n",
        "header = header.split('|')\n",
        "\n",
        "df_Illu = pd.DataFrame(train_Illu, columns=header)\n",
        "df_SIMB = pd.DataFrame(train_SIMB, columns=header)\n",
        "\n",
        "# add model labels 'm'\n",
        "df_Illu['m'] = np.zeros(df_Illu.shape[0])\n",
        "df_SIMB['m'] = np.ones(df_SIMB.shape[0])\n",
        "\n"
      ],
      "id": "B8NKf1mrcG5X"
    },
    {
      "cell_type": "code",
      "execution_count": 94,
      "metadata": {
        "colab": {
          "base_uri": "https://localhost:8080/",
          "height": 340
        },
        "id": "ZdRP0n7v4E10",
        "outputId": "02cc799c-f975-425b-ebd4-fdae22e36ac2"
      },
      "outputs": [
        {
          "output_type": "stream",
          "name": "stderr",
          "text": [
            "<ipython-input-94-bbc7c8626d90>:1: FutureWarning: The frame.append method is deprecated and will be removed from pandas in a future version. Use pandas.concat instead.\n",
            "  df_gal = df_Illu.append(df_SIMB)\n"
          ]
        },
        {
          "output_type": "execute_result",
          "data": {
            "text/plain": [
              "      gas mass    stellar mass    black-hole mass    total mass      Vmax   \\\n",
              "0  9.282650e+12    5.420345e+11       1.466206e+09  6.418189e+13  728.5484   \n",
              "1  1.038497e+11    2.636133e+10       1.044907e+07  9.836553e+11  233.9234   \n",
              "2  9.195971e+08    2.106634e+10       1.157354e+08  3.509456e+11  208.0617   \n",
              "3  3.779673e+10    1.197717e+09       1.650660e+06  2.944225e+11  155.9398   \n",
              "4  6.460591e+09    9.020908e+09       3.054039e+06  1.818515e+11  150.3801   \n",
              "\n",
              "    velocity dispersion    gas metallicity    stars metallicity   \\\n",
              "0              388.82180           0.004787             0.017947   \n",
              "1              119.81900           0.018286             0.015760   \n",
              "2               99.18353           0.009185             0.015279   \n",
              "3               88.05768           0.002823             0.003315   \n",
              "4               76.50587           0.016340             0.010027   \n",
              "\n",
              "    star-formation rate       spin    peculiar velocity    stellar radius   \\\n",
              "0               9.441491  7318.4480             33.48256          0.021288   \n",
              "1               2.637218  1866.9370            514.23650          0.005122   \n",
              "2               0.000000   129.6710            469.85760          0.003984   \n",
              "3               0.186221  1364.7460            903.87620          0.007515   \n",
              "4               0.260545   115.4676            318.39040          0.005950   \n",
              "\n",
              "    total radius    Vmax radius         U         K          g    m  \n",
              "0        0.265175       0.195745 -22.93387 -26.54785 -23.42693  0.0  \n",
              "1        0.044712       0.015302 -21.15315 -23.88854 -21.25109  0.0  \n",
              "2        0.025255       0.004423 -19.08513 -23.24341 -19.95050  0.0  \n",
              "3        0.026186       0.027755 -18.45237 -20.64906 -18.61216  0.0  \n",
              "4        0.019798       0.007311 -19.32953 -22.77941 -19.95593  0.0  "
            ],
            "text/html": [
              "\n",
              "\n",
              "  <div id=\"df-01bce967-745f-4448-ab89-2343f4b1005f\">\n",
              "    <div class=\"colab-df-container\">\n",
              "      <div>\n",
              "<style scoped>\n",
              "    .dataframe tbody tr th:only-of-type {\n",
              "        vertical-align: middle;\n",
              "    }\n",
              "\n",
              "    .dataframe tbody tr th {\n",
              "        vertical-align: top;\n",
              "    }\n",
              "\n",
              "    .dataframe thead th {\n",
              "        text-align: right;\n",
              "    }\n",
              "</style>\n",
              "<table border=\"1\" class=\"dataframe\">\n",
              "  <thead>\n",
              "    <tr style=\"text-align: right;\">\n",
              "      <th></th>\n",
              "      <th>gas mass</th>\n",
              "      <th>stellar mass</th>\n",
              "      <th>black-hole mass</th>\n",
              "      <th>total mass</th>\n",
              "      <th>Vmax</th>\n",
              "      <th>velocity dispersion</th>\n",
              "      <th>gas metallicity</th>\n",
              "      <th>stars metallicity</th>\n",
              "      <th>star-formation rate</th>\n",
              "      <th>spin</th>\n",
              "      <th>peculiar velocity</th>\n",
              "      <th>stellar radius</th>\n",
              "      <th>total radius</th>\n",
              "      <th>Vmax radius</th>\n",
              "      <th>U</th>\n",
              "      <th>K</th>\n",
              "      <th>g</th>\n",
              "      <th>m</th>\n",
              "    </tr>\n",
              "  </thead>\n",
              "  <tbody>\n",
              "    <tr>\n",
              "      <th>0</th>\n",
              "      <td>9.282650e+12</td>\n",
              "      <td>5.420345e+11</td>\n",
              "      <td>1.466206e+09</td>\n",
              "      <td>6.418189e+13</td>\n",
              "      <td>728.5484</td>\n",
              "      <td>388.82180</td>\n",
              "      <td>0.004787</td>\n",
              "      <td>0.017947</td>\n",
              "      <td>9.441491</td>\n",
              "      <td>7318.4480</td>\n",
              "      <td>33.48256</td>\n",
              "      <td>0.021288</td>\n",
              "      <td>0.265175</td>\n",
              "      <td>0.195745</td>\n",
              "      <td>-22.93387</td>\n",
              "      <td>-26.54785</td>\n",
              "      <td>-23.42693</td>\n",
              "      <td>0.0</td>\n",
              "    </tr>\n",
              "    <tr>\n",
              "      <th>1</th>\n",
              "      <td>1.038497e+11</td>\n",
              "      <td>2.636133e+10</td>\n",
              "      <td>1.044907e+07</td>\n",
              "      <td>9.836553e+11</td>\n",
              "      <td>233.9234</td>\n",
              "      <td>119.81900</td>\n",
              "      <td>0.018286</td>\n",
              "      <td>0.015760</td>\n",
              "      <td>2.637218</td>\n",
              "      <td>1866.9370</td>\n",
              "      <td>514.23650</td>\n",
              "      <td>0.005122</td>\n",
              "      <td>0.044712</td>\n",
              "      <td>0.015302</td>\n",
              "      <td>-21.15315</td>\n",
              "      <td>-23.88854</td>\n",
              "      <td>-21.25109</td>\n",
              "      <td>0.0</td>\n",
              "    </tr>\n",
              "    <tr>\n",
              "      <th>2</th>\n",
              "      <td>9.195971e+08</td>\n",
              "      <td>2.106634e+10</td>\n",
              "      <td>1.157354e+08</td>\n",
              "      <td>3.509456e+11</td>\n",
              "      <td>208.0617</td>\n",
              "      <td>99.18353</td>\n",
              "      <td>0.009185</td>\n",
              "      <td>0.015279</td>\n",
              "      <td>0.000000</td>\n",
              "      <td>129.6710</td>\n",
              "      <td>469.85760</td>\n",
              "      <td>0.003984</td>\n",
              "      <td>0.025255</td>\n",
              "      <td>0.004423</td>\n",
              "      <td>-19.08513</td>\n",
              "      <td>-23.24341</td>\n",
              "      <td>-19.95050</td>\n",
              "      <td>0.0</td>\n",
              "    </tr>\n",
              "    <tr>\n",
              "      <th>3</th>\n",
              "      <td>3.779673e+10</td>\n",
              "      <td>1.197717e+09</td>\n",
              "      <td>1.650660e+06</td>\n",
              "      <td>2.944225e+11</td>\n",
              "      <td>155.9398</td>\n",
              "      <td>88.05768</td>\n",
              "      <td>0.002823</td>\n",
              "      <td>0.003315</td>\n",
              "      <td>0.186221</td>\n",
              "      <td>1364.7460</td>\n",
              "      <td>903.87620</td>\n",
              "      <td>0.007515</td>\n",
              "      <td>0.026186</td>\n",
              "      <td>0.027755</td>\n",
              "      <td>-18.45237</td>\n",
              "      <td>-20.64906</td>\n",
              "      <td>-18.61216</td>\n",
              "      <td>0.0</td>\n",
              "    </tr>\n",
              "    <tr>\n",
              "      <th>4</th>\n",
              "      <td>6.460591e+09</td>\n",
              "      <td>9.020908e+09</td>\n",
              "      <td>3.054039e+06</td>\n",
              "      <td>1.818515e+11</td>\n",
              "      <td>150.3801</td>\n",
              "      <td>76.50587</td>\n",
              "      <td>0.016340</td>\n",
              "      <td>0.010027</td>\n",
              "      <td>0.260545</td>\n",
              "      <td>115.4676</td>\n",
              "      <td>318.39040</td>\n",
              "      <td>0.005950</td>\n",
              "      <td>0.019798</td>\n",
              "      <td>0.007311</td>\n",
              "      <td>-19.32953</td>\n",
              "      <td>-22.77941</td>\n",
              "      <td>-19.95593</td>\n",
              "      <td>0.0</td>\n",
              "    </tr>\n",
              "  </tbody>\n",
              "</table>\n",
              "</div>\n",
              "      <button class=\"colab-df-convert\" onclick=\"convertToInteractive('df-01bce967-745f-4448-ab89-2343f4b1005f')\"\n",
              "              title=\"Convert this dataframe to an interactive table.\"\n",
              "              style=\"display:none;\">\n",
              "\n",
              "  <svg xmlns=\"http://www.w3.org/2000/svg\" height=\"24px\"viewBox=\"0 0 24 24\"\n",
              "       width=\"24px\">\n",
              "    <path d=\"M0 0h24v24H0V0z\" fill=\"none\"/>\n",
              "    <path d=\"M18.56 5.44l.94 2.06.94-2.06 2.06-.94-2.06-.94-.94-2.06-.94 2.06-2.06.94zm-11 1L8.5 8.5l.94-2.06 2.06-.94-2.06-.94L8.5 2.5l-.94 2.06-2.06.94zm10 10l.94 2.06.94-2.06 2.06-.94-2.06-.94-.94-2.06-.94 2.06-2.06.94z\"/><path d=\"M17.41 7.96l-1.37-1.37c-.4-.4-.92-.59-1.43-.59-.52 0-1.04.2-1.43.59L10.3 9.45l-7.72 7.72c-.78.78-.78 2.05 0 2.83L4 21.41c.39.39.9.59 1.41.59.51 0 1.02-.2 1.41-.59l7.78-7.78 2.81-2.81c.8-.78.8-2.07 0-2.86zM5.41 20L4 18.59l7.72-7.72 1.47 1.35L5.41 20z\"/>\n",
              "  </svg>\n",
              "      </button>\n",
              "\n",
              "\n",
              "\n",
              "    <div id=\"df-0bf19f90-27ed-41f0-b60e-7359f94fa298\">\n",
              "      <button class=\"colab-df-quickchart\" onclick=\"quickchart('df-0bf19f90-27ed-41f0-b60e-7359f94fa298')\"\n",
              "              title=\"Suggest charts.\"\n",
              "              style=\"display:none;\">\n",
              "\n",
              "<svg xmlns=\"http://www.w3.org/2000/svg\" height=\"24px\"viewBox=\"0 0 24 24\"\n",
              "     width=\"24px\">\n",
              "    <g>\n",
              "        <path d=\"M19 3H5c-1.1 0-2 .9-2 2v14c0 1.1.9 2 2 2h14c1.1 0 2-.9 2-2V5c0-1.1-.9-2-2-2zM9 17H7v-7h2v7zm4 0h-2V7h2v10zm4 0h-2v-4h2v4z\"/>\n",
              "    </g>\n",
              "</svg>\n",
              "      </button>\n",
              "    </div>\n",
              "\n",
              "<style>\n",
              "  .colab-df-quickchart {\n",
              "    background-color: #E8F0FE;\n",
              "    border: none;\n",
              "    border-radius: 50%;\n",
              "    cursor: pointer;\n",
              "    display: none;\n",
              "    fill: #1967D2;\n",
              "    height: 32px;\n",
              "    padding: 0 0 0 0;\n",
              "    width: 32px;\n",
              "  }\n",
              "\n",
              "  .colab-df-quickchart:hover {\n",
              "    background-color: #E2EBFA;\n",
              "    box-shadow: 0px 1px 2px rgba(60, 64, 67, 0.3), 0px 1px 3px 1px rgba(60, 64, 67, 0.15);\n",
              "    fill: #174EA6;\n",
              "  }\n",
              "\n",
              "  [theme=dark] .colab-df-quickchart {\n",
              "    background-color: #3B4455;\n",
              "    fill: #D2E3FC;\n",
              "  }\n",
              "\n",
              "  [theme=dark] .colab-df-quickchart:hover {\n",
              "    background-color: #434B5C;\n",
              "    box-shadow: 0px 1px 3px 1px rgba(0, 0, 0, 0.15);\n",
              "    filter: drop-shadow(0px 1px 2px rgba(0, 0, 0, 0.3));\n",
              "    fill: #FFFFFF;\n",
              "  }\n",
              "</style>\n",
              "\n",
              "    <script>\n",
              "      async function quickchart(key) {\n",
              "        const containerElement = document.querySelector('#' + key);\n",
              "        const charts = await google.colab.kernel.invokeFunction(\n",
              "            'suggestCharts', [key], {});\n",
              "      }\n",
              "    </script>\n",
              "\n",
              "      <script>\n",
              "\n",
              "function displayQuickchartButton(domScope) {\n",
              "  let quickchartButtonEl =\n",
              "    domScope.querySelector('#df-0bf19f90-27ed-41f0-b60e-7359f94fa298 button.colab-df-quickchart');\n",
              "  quickchartButtonEl.style.display =\n",
              "    google.colab.kernel.accessAllowed ? 'block' : 'none';\n",
              "}\n",
              "\n",
              "        displayQuickchartButton(document);\n",
              "      </script>\n",
              "      <style>\n",
              "    .colab-df-container {\n",
              "      display:flex;\n",
              "      flex-wrap:wrap;\n",
              "      gap: 12px;\n",
              "    }\n",
              "\n",
              "    .colab-df-convert {\n",
              "      background-color: #E8F0FE;\n",
              "      border: none;\n",
              "      border-radius: 50%;\n",
              "      cursor: pointer;\n",
              "      display: none;\n",
              "      fill: #1967D2;\n",
              "      height: 32px;\n",
              "      padding: 0 0 0 0;\n",
              "      width: 32px;\n",
              "    }\n",
              "\n",
              "    .colab-df-convert:hover {\n",
              "      background-color: #E2EBFA;\n",
              "      box-shadow: 0px 1px 2px rgba(60, 64, 67, 0.3), 0px 1px 3px 1px rgba(60, 64, 67, 0.15);\n",
              "      fill: #174EA6;\n",
              "    }\n",
              "\n",
              "    [theme=dark] .colab-df-convert {\n",
              "      background-color: #3B4455;\n",
              "      fill: #D2E3FC;\n",
              "    }\n",
              "\n",
              "    [theme=dark] .colab-df-convert:hover {\n",
              "      background-color: #434B5C;\n",
              "      box-shadow: 0px 1px 3px 1px rgba(0, 0, 0, 0.15);\n",
              "      filter: drop-shadow(0px 1px 2px rgba(0, 0, 0, 0.3));\n",
              "      fill: #FFFFFF;\n",
              "    }\n",
              "  </style>\n",
              "\n",
              "      <script>\n",
              "        const buttonEl =\n",
              "          document.querySelector('#df-01bce967-745f-4448-ab89-2343f4b1005f button.colab-df-convert');\n",
              "        buttonEl.style.display =\n",
              "          google.colab.kernel.accessAllowed ? 'block' : 'none';\n",
              "\n",
              "        async function convertToInteractive(key) {\n",
              "          const element = document.querySelector('#df-01bce967-745f-4448-ab89-2343f4b1005f');\n",
              "          const dataTable =\n",
              "            await google.colab.kernel.invokeFunction('convertToInteractive',\n",
              "                                                     [key], {});\n",
              "          if (!dataTable) return;\n",
              "\n",
              "          const docLinkHtml = 'Like what you see? Visit the ' +\n",
              "            '<a target=\"_blank\" href=https://colab.research.google.com/notebooks/data_table.ipynb>data table notebook</a>'\n",
              "            + ' to learn more about interactive tables.';\n",
              "          element.innerHTML = '';\n",
              "          dataTable['output_type'] = 'display_data';\n",
              "          await google.colab.output.renderOutput(dataTable, element);\n",
              "          const docLink = document.createElement('div');\n",
              "          docLink.innerHTML = docLinkHtml;\n",
              "          element.appendChild(docLink);\n",
              "        }\n",
              "      </script>\n",
              "    </div>\n",
              "  </div>\n"
            ]
          },
          "metadata": {},
          "execution_count": 94
        }
      ],
      "source": [
        "df_gal = df_Illu.append(df_SIMB)\n",
        "df_gal.head()\n",
        "# df_gal.iloc[0:5,0:5]"
      ],
      "id": "ZdRP0n7v4E10"
    },
    {
      "cell_type": "code",
      "execution_count": 95,
      "metadata": {
        "id": "WYVXOI81nWWC"
      },
      "outputs": [],
      "source": [
        "# assign label of 0 for IllustrisTNG and 1 for SIMBA\n",
        "train_Illu = np.append(train_Illu, np.zeros((len(train_Illu[:,0]),1)) ,axis=1)\n",
        "train_SIMB = np.append(train_SIMB, np.ones((len(train_SIMB[:,0]),1)) ,axis=1)\n",
        "\n"
      ],
      "id": "WYVXOI81nWWC"
    },
    {
      "cell_type": "code",
      "execution_count": 124,
      "metadata": {
        "colab": {
          "base_uri": "https://localhost:8080/"
        },
        "id": "tn8Lws2KYNN2",
        "outputId": "ed4fee8d-91d7-4929-f115-a0de0dadd874"
      },
      "outputs": [
        {
          "output_type": "stream",
          "name": "stdout",
          "text": [
            "(1000000, 2)\n"
          ]
        }
      ],
      "source": [
        "# combine into one dataset :- use equal priors to test flow\n",
        "train_data = np.append(train_SIMB[:500000,:],train_Illu[:500000,:], axis=0 )\n",
        "\n",
        "\n",
        "# below is for using stellar mass and stellar metallicity\n",
        "train_data = train_data[:,[1,7,-1]]\n",
        "\n",
        "print(train_data[:,:-1].shape)\n"
      ],
      "id": "tn8Lws2KYNN2"
    },
    {
      "cell_type": "markdown",
      "metadata": {
        "id": "QqupIyXQSvjs"
      },
      "source": [
        "In the following we select a sub-sample of the data to speed up training. The dataset is then split into training and testing in an 80:20 split.\n"
      ],
      "id": "QqupIyXQSvjs"
    },
    {
      "cell_type": "code",
      "execution_count": 125,
      "metadata": {
        "colab": {
          "base_uri": "https://localhost:8080/"
        },
        "id": "Op848ABr8L6c",
        "outputId": "29fbad92-8977-4155-a2c7-ce3e62cf4180"
      },
      "outputs": [
        {
          "output_type": "stream",
          "name": "stdout",
          "text": [
            "(1000000, 3)\n"
          ]
        }
      ],
      "source": [
        "# randomly sample from training data\n",
        "\n",
        "# n_sample = 500000\n",
        "n_sample = train_data.shape[0]\n",
        "\n",
        "choices = np.random.choice(train_data.shape[0],\n",
        "                                  size=n_sample,\n",
        "                                  replace=False)\n",
        "train_data = train_data[choices,:]\n",
        "print(train_data.shape)\n",
        "\n",
        "\n",
        "# separate training, validation and test data\n",
        "x_train, x_test, y_train, y_test = train_test_split(train_data[:,:-1], train_data[:,-1], test_size=0.20, shuffle=True, random_state=44)\n",
        "x_train, x_val, y_train, y_val = train_test_split(x_train[:,:], y_train[:], test_size=0.20, shuffle=True, random_state=43)\n"
      ],
      "id": "Op848ABr8L6c"
    },
    {
      "cell_type": "code",
      "execution_count": 126,
      "metadata": {
        "colab": {
          "base_uri": "https://localhost:8080/"
        },
        "id": "i2UXiFhH31Vd",
        "outputId": "aa3ae397-a8be-4da6-c74a-9e1f28a5ef76"
      },
      "outputs": [
        {
          "output_type": "stream",
          "name": "stdout",
          "text": [
            "(640000, 2) (160000, 2) (200000, 2) (640000,) (160000,) (200000,)\n"
          ]
        }
      ],
      "source": [
        "print(x_train.shape, x_val.shape, x_test.shape, y_train.shape, y_val.shape,y_test.shape )"
      ],
      "id": "i2UXiFhH31Vd"
    },
    {
      "cell_type": "code",
      "execution_count": 127,
      "metadata": {
        "colab": {
          "base_uri": "https://localhost:8080/"
        },
        "id": "ZMyB7mnviHUy",
        "outputId": "fd89ba25-7168-425c-8577-d3d8386f8e79"
      },
      "outputs": [
        {
          "output_type": "stream",
          "name": "stdout",
          "text": [
            "0.499971875 0.50151875 0.498875\n"
          ]
        }
      ],
      "source": [
        "# check the fraction of each model is the same in each set\n",
        "print(np.mean(y_train), np.mean(y_val),np.mean(y_test) )"
      ],
      "id": "ZMyB7mnviHUy"
    },
    {
      "cell_type": "markdown",
      "metadata": {
        "id": "L5Bae3toaFAu"
      },
      "source": [
        "## Scale data and view distributions"
      ],
      "id": "L5Bae3toaFAu"
    },
    {
      "cell_type": "code",
      "execution_count": 128,
      "metadata": {
        "id": "gKjWQw5nI5up"
      },
      "outputs": [],
      "source": [
        "# normalise each set of data:- note this is specific to stellar mass and metallicity\n",
        "\n",
        "x_train_scaled = np.copy(x_train)\n",
        "x_train_scaled[:,0] = np.log(x_train_scaled[:,0])\n",
        "scaler = StandardScaler()\n",
        "scaler.fit(x_train_scaled)\n",
        "x_train_scaled = scaler.transform(x_train_scaled)/20.+0.5\n",
        "\n",
        "def data_scaler(data):\n",
        "    \"\"\"\n",
        "    Scales input testing and validation data\n",
        "    \"\"\"\n",
        "\n",
        "    data_scaled = np.copy(data)\n",
        "    data_scaled[:,0] = np.log(data[:,0])\n",
        "    data_scaled = scaler.transform(data_scaled)/20.+0.5\n",
        "\n",
        "    return data_scaled\n",
        "\n",
        "x_test_scaled = data_scaler(x_test)\n",
        "x_val_scaled = data_scaler(x_val)\n"
      ],
      "id": "gKjWQw5nI5up"
    },
    {
      "cell_type": "code",
      "execution_count": 129,
      "metadata": {
        "colab": {
          "base_uri": "https://localhost:8080/",
          "height": 430
        },
        "id": "qyCnMdZXgsPU",
        "outputId": "c0617356-842e-4cb5-d188-5dd54b1b18bb"
      },
      "outputs": [
        {
          "output_type": "display_data",
          "data": {
            "text/plain": [
              "<Figure size 640x480 with 1 Axes>"
            ],
            "image/png": "[encoded data removed]"
          },
          "metadata": {}
        }
      ],
      "source": [
        "# check distributions match\n",
        "_ = plt.hist(x_train_scaled[:,1],bins=np.linspace(-0,1,512),density=True)\n",
        "_ = plt.hist(x_train_scaled[:,0],bins=np.linspace(-0,1,512),alpha=0.6,density=True)\n",
        "\n",
        "_ = plt.hist(x_val_scaled[:,1],bins=np.linspace(-0,1,512),density=True)\n",
        "_ = plt.hist(x_val_scaled[:,0],bins=np.linspace(-0,1,512),alpha=0.6,density=True)\n",
        "\n",
        "# _ = plt.hist(x_test_scaled[:,1],bins=np.linspace(-0,1,512),density=True)\n",
        "# _ = plt.hist(x_test_scaled[:,0],bins=np.linspace(-0,1,512),alpha=0.6,density=True)"
      ],
      "id": "qyCnMdZXgsPU"
    },
    {
      "cell_type": "code",
      "execution_count": 130,
      "metadata": {
        "id": "E0p6O-LRbovP"
      },
      "outputs": [],
      "source": [
        "# view distributions of all data\n",
        "\n",
        "# plt.figure(figsize=(10,18))\n",
        "# for i in range(17):\n",
        "#     plt.subplot(6,3,i+1)\n",
        "#     plt.grid(False)\n",
        "#     _ = plt.hist(x_train_scaled[:,i],bins=np.linspace(-5,5,512),density=True)\n",
        "#     plt.title(str(header[i]))\n",
        "\n",
        "# plt.subplots_adjust(hspace=.2)\n"
      ],
      "id": "E0p6O-LRbovP"
    },
    {
      "cell_type": "markdown",
      "metadata": {
        "id": "lN_6o_RwTcq5"
      },
      "source": [
        "This cell finds the ratio of samples from each model."
      ],
      "id": "lN_6o_RwTcq5"
    },
    {
      "cell_type": "code",
      "execution_count": 131,
      "metadata": {
        "colab": {
          "base_uri": "https://localhost:8080/"
        },
        "id": "threatened-hardware",
        "outputId": "f72ae243-e18e-409c-e4e3-d9c4646dbb34"
      },
      "outputs": [
        {
          "output_type": "stream",
          "name": "stdout",
          "text": [
            "0.999887506327769 1.0060935090336898 0.9955101022698928\n"
          ]
        }
      ],
      "source": [
        "def M_ratio(y):\n",
        "  scale = np.sum(y)/np.sum(1 - y)\n",
        "  return scale\n",
        "\n",
        "print(M_ratio(y_train), M_ratio(y_val), M_ratio(y_test))\n",
        "\n",
        "\n"
      ],
      "id": "threatened-hardware"
    },
    {
      "cell_type": "markdown",
      "metadata": {
        "id": "IrgSYceYU3Kp"
      },
      "source": [
        "## Define functions for network"
      ],
      "id": "IrgSYceYU3Kp"
    },
    {
      "cell_type": "code",
      "execution_count": 132,
      "metadata": {
        "id": "8d01cfb2-2a20-438b-91ee-7bc29b26048e"
      },
      "outputs": [],
      "source": [
        "def smooth_sign(x, k =100.):\n",
        "\n",
        "    return 2.*tf.math.sigmoid(k*x) - 1\n",
        "\n",
        "\n",
        "def parity_odd_power(x, alpha=2):\n",
        "    return (x)*(tf.math.abs(x)**(alpha-1))\n",
        "\n",
        "\n",
        "# def leaky_parity_odd_power(x, alpha=2):\n",
        "#     x_transition = (alpha)**(alpha/(1.-alpha))\n",
        "#     shift=(alpha)**(1./(1.-alpha)) - x_transition\n",
        "#     return tf.where(tf.math.abs(x)<x_transition, x, tf.sign(x)*tf.math.abs(x+tf.sign(x)*shift)**alpha)\n",
        "\n",
        "\n",
        "def leaky_parity_odd_power(x, alpha=2):\n",
        "    return x + parity_odd_power(x, alpha)"
      ],
      "id": "8d01cfb2-2a20-438b-91ee-7bc29b26048e"
    },
    {
      "cell_type": "code",
      "execution_count": 17,
      "metadata": {
        "id": "accurate-pride"
      },
      "outputs": [],
      "source": [
        "# Evidence Net functions:\n",
        "\n",
        "class POPExpLoss(tf.keras.losses.Loss):\n",
        "    \"\"\"\n",
        "    Custom exponential loss\n",
        "    \"\"\"\n",
        "\n",
        "    def call(self, model_label, model_pred):\n",
        "        model_pred =  leaky_parity_odd_power(model_pred, alpha=1)\n",
        "        model_pred = tf.clip_by_value(model_pred, -50, 50)\n",
        "        loss_val =  tf.math.exp((0.5 - model_label) * (model_pred) )\n",
        "        return tf.reduce_mean(loss_val)\n",
        "\n",
        "\n",
        "class ExpLoss(tf.keras.losses.Loss):\n",
        "    \"\"\"\n",
        "    Custom exponential loss\n",
        "    \"\"\"\n",
        "\n",
        "    def call(self, model_label, model_pred):\n",
        "        model_pred = tf.clip_by_value(model_pred, -50, 50)\n",
        "        loss_val =  tf.math.exp((0.5 - model_label) * (model_pred) )\n",
        "        return tf.reduce_mean(loss_val)\n",
        "\n",
        "\n",
        "def get_lr_metric(optimizer):\n",
        "    \"\"\"\n",
        "    Learning rate on-the-fly\n",
        "    :param optimizer:\n",
        "    :return: learning rate\n",
        "    \"\"\"\n",
        "    def lr(y_true, y_pred):\n",
        "        return optimizer._decayed_lr(tf.float32)  # I use ._decayed_lr method instead of .lr\n",
        "        # return optimizer.lr(tf.float32) #C try .lr\n",
        "    return lr\n",
        "\n",
        "\n",
        "\n",
        "class DenseNetwork:\n",
        "    \"\"\"\n",
        "    Network that takes in data and returns functions of the Bayesian evidence\n",
        "    \"\"\"\n",
        "\n",
        "    def __init__(self, input_size, weight_init='he_normal', layer_width=100, added_layers=3,\n",
        "                 learning_rate=1e-4, decay_rate=None, batch_norm_flag=1, residual_flag=0):\n",
        "        \"\"\"\n",
        "        Initialisation\n",
        "        :param map_size: size of square image (there are map_size**2 pixels)\n",
        "        :param learning_rate: learning rate for the optimizer\n",
        "        \"\"\"\n",
        "        self.input_size = input_size\n",
        "        self.learning_rate = learning_rate\n",
        "        self.layer_width = layer_width\n",
        "        self.weight_init = weight_init\n",
        "        self.decay_rate = decay_rate\n",
        "        self.added_layers = added_layers\n",
        "        self.batch_norm_flag = batch_norm_flag\n",
        "        self.residual_flag = residual_flag\n",
        "\n",
        "\n",
        "        print('Hyper-parameters:', input_size, weight_init, layer_width, added_layers,\n",
        "              learning_rate, decay_rate, batch_norm_flag, residual_flag)\n",
        "\n",
        "    def simple_layer(self, x_in):\n",
        "        x_out = Dense(self.layer_width, kernel_initializer=self.weight_init)(x_in)\n",
        "        x_out = LeakyReLU(alpha=0.1)(x_out)\n",
        "        # x_out = tf.tanh(x_out)\n",
        "        if self.batch_norm_flag == 1:\n",
        "            x_out = BatchNormalization()(x_out)\n",
        "        return x_out\n",
        "\n",
        "    def residual_block(self, x_in):\n",
        "        x_out = Dense(self.layer_width, kernel_initializer=self.weight_init)(x_in)\n",
        "        x_out = LeakyReLU(alpha=0.1)(x_out)\n",
        "        # x_out = tf.tanh(x_out)\n",
        "        if self.batch_norm_flag == 1:\n",
        "            x_out = BatchNormalization()(x_out)\n",
        "\n",
        "        x_out = Dense(self.layer_width, kernel_initializer=self.weight_init)(x_out)\n",
        "        x_out = LeakyReLU(alpha=0.1)(x_out) + x_in\n",
        "        if self.batch_norm_flag == 1:\n",
        "            x_out = BatchNormalization()(x_out)\n",
        "\n",
        "        return x_out\n",
        "\n",
        "    def model(self):\n",
        "\n",
        "        input_data = (Input(shape=(self.input_size,)))\n",
        "\n",
        "\n",
        "        x1 = Dense(int(1.1*self.input_size)+20, input_dim=self.input_size, kernel_initializer=self.weight_init)(input_data)\n",
        "        x_inner = LeakyReLU(alpha=0.1)(x1)\n",
        "        x_inner = BatchNormalization()(x_inner)\n",
        "        x_inner = Dense(self.layer_width, input_dim=self.input_size, kernel_initializer=self.weight_init)(x_inner)\n",
        "        x_inner = LeakyReLU(alpha=0.1)(x_inner)\n",
        "        x_inner = BatchNormalization()(x_inner)\n",
        "\n",
        "        # x_inner = tf.tanh(x1)\n",
        "\n",
        "        for i in range(self.added_layers):\n",
        "            x_inner = self.residual_block(x_inner)\n",
        "            # x_inner = self.simple_layer(x_inner)\n",
        "\n",
        "        x_out = Dense(self.layer_width, kernel_initializer=self.weight_init)(x_inner)\n",
        "        x_out = LeakyReLU(alpha=0.1)(x_out)\n",
        "        x_out = Dense(1, kernel_initializer=self.weight_init)(x_out)\n",
        "        x_out = 0.1*x_out + 0.001\n",
        "        x_out = leaky_parity_odd_power(x_out, alpha=1)\n",
        "\n",
        "        dense_model = Model(input_data, x_out)\n",
        "\n",
        "        if self.decay_rate is not None:\n",
        "            lr_schedule = optimizers.schedules.ExponentialDecay(initial_learning_rate=self.learning_rate,\n",
        "                                                                decay_steps=5000,\n",
        "                                                                decay_rate=self.decay_rate)\n",
        "            optimizer = optimizers.Adam(learning_rate=lr_schedule)\n",
        "            lr_metric = get_lr_metric(optimizer)\n",
        "            dense_model.compile(optimizer=optimizer,\n",
        "                                loss=ExpLoss(),\n",
        "                                metrics=[lr_metric])\n",
        "        else:\n",
        "            dense_model.compile(optimizer=optimizers.Adam(learning_rate=self.learning_rate),\n",
        "                                loss=ExpLoss())\n",
        "\n",
        "        return dense_model\n",
        "\n",
        "\n",
        "\n",
        "class CustomCallback(callbacks.Callback):\n",
        "    def on_epoch_end(self, epoch, logs=None):\n",
        "        keys = list(logs.keys())\n",
        "        print(\"Loss: {:.5e}. Val loss: {:.5e}\".format(logs['loss'], logs['val_loss']))\n"
      ],
      "id": "accurate-pride"
    },
    {
      "cell_type": "markdown",
      "metadata": {
        "id": "figured-width"
      },
      "source": [
        "# Evidence Net"
      ],
      "id": "figured-width"
    },
    {
      "cell_type": "code",
      "execution_count": 18,
      "metadata": {
        "id": "ZEVRqjEiCfRw",
        "colab": {
          "base_uri": "https://localhost:8080/"
        },
        "outputId": "a0ca6d5a-c64d-4609-d13a-8b459fd16447"
      },
      "outputs": [
        {
          "output_type": "stream",
          "name": "stdout",
          "text": [
            "Hyper-parameters: 2 he_normal 45 3 0.0012 0.7 1 0\n",
            "Epoch 1/5\n",
            "2436/2436 [==============================] - 45s 17ms/step - loss: 0.7863 - lr: 0.0011 - val_loss: 0.7937 - val_lr: 0.0010\n",
            "Epoch 2/5\n",
            "2436/2436 [==============================] - 36s 15ms/step - loss: 0.7820 - lr: 9.2578e-04 - val_loss: 0.7803 - val_lr: 8.4770e-04\n",
            "Epoch 3/5\n",
            "2436/2436 [==============================] - 34s 14ms/step - loss: 0.7810 - lr: 7.7811e-04 - val_loss: 0.7873 - val_lr: 7.1248e-04\n",
            "Epoch 4/5\n",
            "2436/2436 [==============================] - 32s 13ms/step - loss: 0.7805 - lr: 6.5399e-04 - val_loss: 0.7759 - val_lr: 5.9884e-04\n",
            "Epoch 5/5\n",
            "2436/2436 [==============================] - 34s 14ms/step - loss: 0.7798 - lr: 5.4967e-04 - val_loss: 0.7790 - val_lr: 5.0331e-04\n"
          ]
        }
      ],
      "source": [
        "model_instances, model_instances_model,histories,results = [],[],[],[]\n",
        "# for i in range(len(expt_value)):\n",
        "\n",
        "# input size, epochs, number of ensembles\n",
        "N = x_train_scaled.shape[1]\n",
        "epochs = 5\n",
        "n_models = 1\n",
        "#####\n",
        "validation_model = np.atleast_2d([y_train, 1. - y_train]).T\n",
        "#######\n",
        "\n",
        "with tf.device('/device:GPU:0'):\n",
        "    for model_count in range(n_models):\n",
        "        model_instances.append(DenseNetwork(N, weight_init='he_normal',\n",
        "                                            layer_width=45, added_layers=3,\n",
        "                                            learning_rate=0.0012, decay_rate=0.7,\n",
        "                                            batch_norm_flag=1))\n",
        "        model_instances_model.append(model_instances[-1].model())\n",
        "        # validation_prediction = (model_instances_model[-1].predict(x_test_scaled))\n",
        "        # print('Initialization: mean =', validation_prediction.mean(), 'std= ', validation_prediction.std())\n",
        "        # early stopping\n",
        "        early_stop = tf.keras.callbacks.EarlyStopping(monitor='val_loss', patience=7)\n",
        "        histories.append(model_instances_model[-1].fit(x_train_scaled,y_train,\n",
        "            epochs=epochs, batch_size=500,\n",
        "                             shuffle=True,\n",
        "                             validation_data = (x_val_scaled, y_val),\n",
        "                             callbacks = [early_stop],\n",
        "                             verbose=1))\n",
        "        gc.collect()"
      ],
      "id": "ZEVRqjEiCfRw"
    },
    {
      "cell_type": "markdown",
      "metadata": {
        "id": "BPwzySLtk5XE"
      },
      "source": [
        "## Network tuning\n",
        "Below I have my own set of plots for tuning hyper-parameters. These may become obsolete after using optuna."
      ],
      "id": "BPwzySLtk5XE"
    },
    {
      "cell_type": "code",
      "execution_count": 19,
      "metadata": {
        "colab": {
          "base_uri": "https://localhost:8080/"
        },
        "id": "W-Tn2g2dBD5p",
        "outputId": "b4827664-ebbc-4f74-91ab-a0754ac4117d"
      },
      "outputs": [
        {
          "output_type": "stream",
          "name": "stdout",
          "text": [
            "parameter values:\n",
            "\n",
            "losses:\n",
            " [0.7798]\n",
            "val_losses:\n",
            " [0.779]\n",
            "early stopping:\n",
            " [5]\n"
          ]
        }
      ],
      "source": [
        "# print the final loss and validation losses\n",
        "losses, val_losses,stopping = [],[],[]\n",
        "for i in range(len(histories)):\n",
        "  losses.append( round(histories[i].history['loss'][-1], 4))\n",
        "  val_losses.append( round(histories[i].history['val_loss'][-1], 4))\n",
        "  stopping.append(len(histories[i].history['val_loss']))\n",
        "  # histories[0].history['loss'][-1]\n",
        "\n",
        "print('parameter values:\\n')\n",
        "print('losses:\\n',losses)\n",
        "print('val_losses:\\n',val_losses)\n",
        "print('early stopping:\\n',stopping)"
      ],
      "id": "W-Tn2g2dBD5p"
    },
    {
      "cell_type": "code",
      "execution_count": 20,
      "metadata": {
        "colab": {
          "base_uri": "https://localhost:8080/",
          "height": 488
        },
        "id": "aca08579-4234-427a-8907-4d3eb4c1dcc4",
        "outputId": "0970edd0-56aa-4580-ae3d-53fd172fcc42"
      },
      "outputs": [
        {
          "output_type": "execute_result",
          "data": {
            "text/plain": [
              "(0.75, 1.0)"
            ]
          },
          "metadata": {},
          "execution_count": 20
        },
        {
          "output_type": "display_data",
          "data": {
            "text/plain": [
              "<Figure size 640x480 with 1 Axes>"
            ],
            "image/png": "[encoded data removed]"
          },
          "metadata": {}
        }
      ],
      "source": [
        "title = 'new_default'\n",
        "\n",
        "plt.ylabel('Loss')\n",
        "plt.xlabel('Epoch')\n",
        "# plt.title('Network loss with varying '+title+r' ($\\theta$)')\n",
        "plt.title('Network loss with new_default parameters')\n",
        "for i in range(len(histories)):\n",
        "    # if i == 1:\n",
        "    #     continue\n",
        "\n",
        "    _ = plt.plot(histories[i].history['loss'][:],label=r'training')#; $\\theta$='+str(expt_value[i]))\n",
        "    _ = plt.plot(histories[i].history['val_loss'][:],label=r'validation')#; $\\theta$='+str(expt_value[i]))\n",
        "    # save the history\n",
        "    # np.save(path+'/network_tuning/'+title+'_'+str(expt_value[i])+'.npy',histories[0].history)\n",
        "    # np.save(path+'/network_tuning/'+title+'.npy',histories[0].history)\n",
        "plt.legend()\n",
        "plt.ylim(0.75,1)\n",
        "# plt.xlim(0,90)\n",
        "# plt.savefig(path+'/network_tuning/'+title, dpi=250)\n"
      ],
      "id": "aca08579-4234-427a-8907-4d3eb4c1dcc4"
    },
    {
      "cell_type": "markdown",
      "metadata": {
        "id": "WZnoLrEbmzcL"
      },
      "source": [
        "Metric data can be loaded from the numpy file as below"
      ],
      "id": "WZnoLrEbmzcL"
    },
    {
      "cell_type": "code",
      "execution_count": 21,
      "metadata": {
        "colab": {
          "base_uri": "https://localhost:8080/"
        },
        "id": "WNeEYND6fCYm",
        "outputId": "2902e8cb-521c-4667-f430-436cf3af29ad"
      },
      "outputs": [
        {
          "output_type": "execute_result",
          "data": {
            "text/plain": [
              "0.7307199835777283"
            ]
          },
          "metadata": {},
          "execution_count": 21
        }
      ],
      "source": [
        "# note the .item() is important\n",
        "data = np.load(path+'/network_tuning/batch_size_100.npy',allow_pickle=True).item()\n",
        "data['val_accuracy'][-1]"
      ],
      "id": "WNeEYND6fCYm"
    },
    {
      "cell_type": "markdown",
      "metadata": {
        "id": "8nb1Js3-k_BV"
      },
      "source": [
        "## Network Output\n",
        "The network estimates log K values for the test data. As the ratio of priors is not 1, the network predictions should be transformed to give logK."
      ],
      "id": "8nb1Js3-k_BV"
    },
    {
      "cell_type": "code",
      "execution_count": 22,
      "metadata": {
        "colab": {
          "base_uri": "https://localhost:8080/"
        },
        "id": "4FoUH_Rjg8A1",
        "outputId": "775f9475-7eaa-4c22-b7fc-bc6b1f8f29dc"
      },
      "outputs": [
        {
          "output_type": "stream",
          "name": "stdout",
          "text": [
            "[[ 1.194863  ]\n",
            " [-0.24744046]\n",
            " [-2.7026935 ]\n",
            " ...\n",
            " [-0.13891473]\n",
            " [ 3.1474314 ]\n",
            " [-1.343663  ]]\n"
          ]
        }
      ],
      "source": [
        "# network output f(xO).\n",
        "validation_prediction = (model_instances_model[-1].predict(x_test_scaled))\n",
        "\n",
        "# if using l-POP:\n",
        "# validation_prediction = leaky_parity_odd_power(validation_prediction)\n",
        "# validation_prediction = validation_prediction.numpy()\n",
        "\n",
        "print(validation_prediction)"
      ],
      "id": "4FoUH_Rjg8A1"
    },
    {
      "cell_type": "code",
      "execution_count": 23,
      "metadata": {
        "id": "Saw1uyksh8GW"
      },
      "outputs": [],
      "source": [
        "# plt.hist(validation_prediction,bins=200)\n",
        "# plt.plot(validation_prediction,'.')\n",
        "# plt.ylim(-100,100)\n",
        "\n",
        "\n",
        "# validation_prediction_mean = np.mean(validation_prediction)\n",
        "# log_K_net = np.log10(np.exp(validation_prediction_mean))\n",
        "# print(log_K)\n",
        "\n",
        "\n"
      ],
      "id": "Saw1uyksh8GW"
    },
    {
      "cell_type": "markdown",
      "metadata": {
        "id": "98774e70-2010-426c-964b-f6fbb61545e0"
      },
      "source": [
        "# Coverage tests\n",
        "Here I've tried to recreate the coverage tests using my own code. First we calculate p(M1|x). We then bin the posterior probabilities and examine the fraction of model 1 labels (SIMBA) in each bin."
      ],
      "id": "98774e70-2010-426c-964b-f6fbb61545e0"
    },
    {
      "cell_type": "code",
      "execution_count": 60,
      "metadata": {
        "colab": {
          "base_uri": "https://localhost:8080/"
        },
        "id": "HmmYrJH9CgxN",
        "outputId": "b3f67c8b-8bb8-4e6f-88ed-ca28edc6810f"
      },
      "outputs": [
        {
          "output_type": "stream",
          "name": "stdout",
          "text": [
            "(380563, 1)\n"
          ]
        }
      ],
      "source": [
        "# calculate posteriors from network log K values\n",
        "posterior_model_prob = np.exp(validation_prediction)/(1+np.exp(validation_prediction)) # p(M1|x)\n",
        "\n",
        "print(posterior_model_prob.shape)\n",
        "\n",
        "# prepare posterior bins\n",
        "nbins = 100\n",
        "probability_array  = np.linspace(0,1,nbins)\n"
      ],
      "id": "HmmYrJH9CgxN"
    },
    {
      "cell_type": "code",
      "execution_count": 61,
      "metadata": {
        "id": "uxHYsUSRDaEo"
      },
      "outputs": [],
      "source": [
        "def coverage_test(post_model_prob, prob_array):\n",
        "  '''\n",
        "  Performs the coverage tests to evaluate calibration of the network\n",
        "  :param post_model_prob: array of p(M1|x) predicted by network\n",
        "  :param prob_array: array of chosen bins for posteriors\n",
        "  :returns: posterior bin centres, validation fractions, post_bin_n (number of data prob in each bin),\n",
        "            binomial_std (standard error of binomial)\n",
        "  '''\n",
        "\n",
        "  # perform coverage test\n",
        "  bin_centres, fractions, post_bin_n = [],[],[]\n",
        "\n",
        "  for i in range(0,len(prob_array)-1):\n",
        "    # bin posteriors\n",
        "    indexes = np.where((post_model_prob > prob_array[i])\n",
        "                                        & (post_model_prob < prob_array[i+1]))[0]\n",
        "    post_bin = post_model_prob[indexes]\n",
        "    post_bin_mid = float((prob_array[i]+prob_array[i+1]) / 2)\n",
        "    post_bin_size = float(len(post_bin))\n",
        "\n",
        "    # get fraction of model 1 labels in each bin\n",
        "    label_bin = y_test[indexes]\n",
        "    fraction = np.sum(label_bin) / len(label_bin)\n",
        "\n",
        "    bin_centres.append(post_bin_mid), fractions.append(fraction), post_bin_n.append(post_bin_size)\n",
        "\n",
        "\n",
        "  # get the binomial error for each bin\n",
        "  binomial_std = np.sqrt((np.asarray(bin_centres)*(1.-np.asarray(bin_centres))) / np.asarray(post_bin_n))\n",
        "\n",
        "  return bin_centres, fractions, post_bin_n, binomial_std"
      ],
      "id": "uxHYsUSRDaEo"
    },
    {
      "cell_type": "code",
      "source": [
        "bin_centres, fractions, post_bin_n, binomial_std = coverage_test(posterior_model_prob, probability_array)"
      ],
      "metadata": {
        "id": "oQ2NrouYWnMr"
      },
      "id": "oQ2NrouYWnMr",
      "execution_count": 62,
      "outputs": []
    },
    {
      "cell_type": "code",
      "execution_count": 63,
      "metadata": {
        "colab": {
          "base_uri": "https://localhost:8080/",
          "height": 415
        },
        "id": "KZsSMbnaRfqg",
        "outputId": "1896e11a-5256-46e6-ab8b-03b918bc8c1c"
      },
      "outputs": [
        {
          "output_type": "display_data",
          "data": {
            "text/plain": [
              "<Figure size 500x400 with 1 Axes>"
            ],
            "image/png": "[encoded data removed]"
          },
          "metadata": {}
        }
      ],
      "source": [
        "plt.figure(figsize=(5,4))\n",
        "\n",
        "# plt.plot(bin_centres, fractions,'.')\n",
        "# plt.plot(post_bin_means, fractions,'.')\n",
        "plt.errorbar(bin_centres, fractions, np.asarray(binomial_std), marker='.', ls='')\n",
        "plt.title('Model posterior blind coverage test')\n",
        "plt.xlabel(r'$p(M_1 | x)$ bins', fontsize=11)\n",
        "plt.ylabel(str('Validation model fraction'), fontsize=11)\n",
        "plt.plot([0,1],[0,1],'k-',alpha=0.5)\n",
        "# plt.axis('square')\n",
        "plt.grid(True)\n",
        "\n",
        "plt.savefig(path+'coverage_test_20_B.png', dpi=250)\n",
        "# plt.axis('equal')"
      ],
      "id": "KZsSMbnaRfqg"
    },
    {
      "cell_type": "markdown",
      "metadata": {
        "id": "BHCDQZiHG_rE"
      },
      "source": [
        "## Residual between model fraction and posterior probability from evidence network"
      ],
      "id": "BHCDQZiHG_rE"
    },
    {
      "cell_type": "code",
      "execution_count": 28,
      "metadata": {
        "colab": {
          "base_uri": "https://localhost:8080/",
          "height": 393
        },
        "id": "qPZGBUtNpIyq",
        "outputId": "a8ed8bb2-89d8-4fba-cf74-8e1d2c1ba823"
      },
      "outputs": [
        {
          "output_type": "display_data",
          "data": {
            "text/plain": [
              "<Figure size 1400x400 with 2 Axes>"
            ],
            "image/png": "[encoded data removed]"
          },
          "metadata": {}
        }
      ],
      "source": [
        "residual = (np.asarray(fractions) - np.asarray(bin_centres))\n",
        "scaled_residual = residual/np.asarray(binomial_std)\n",
        "\n",
        "plt.figure(figsize=(14,4))\n",
        "\n",
        "plt.subplot(1,2,1)\n",
        "# plt.plot(post_bin_means, residual, marker='.', ls='')\n",
        "plt.errorbar(bin_centres, scaled_residual,yerr=binomial_std/np.asarray(binomial_std), marker='.', ls='')\n",
        "# plt.plot(post_bin_means, residual*binomial_std, marker='.', ls='',c='orange')\n",
        "plt.title('Scaled Residual')\n",
        "plt.xlabel(r'$p(M_1 | x)$ bin', fontsize=11)\n",
        "plt.ylabel(r'[fraction - $p(M_1 | x) ] / \\sigma$', fontsize=11)\n",
        "plt.plot([0,1],[0,0],'k-',alpha=0.5)\n",
        "# plt.axis('square')\n",
        "plt.grid(True)\n",
        "\n",
        "plt.subplot(1,2,2)\n",
        "# plt.plot(post_bin_means, residual, marker='.', ls='')\n",
        "plt.errorbar(bin_centres, residual,yerr=binomial_std, marker='.', ls='',c='orange')\n",
        "plt.title('Raw Residual')\n",
        "plt.xlabel(r'$p(M_1 | x)$ bin', fontsize=11)\n",
        "plt.ylabel(r'[fraction - $p(M_1 | x) ] $', fontsize=11)\n",
        "plt.plot([0,1],[0,0],'k-',alpha=0.5)\n",
        "# plt.axis('square')\n",
        "plt.grid(True)\n",
        "\n",
        "plt.subplots_adjust(wspace=.5)\n"
      ],
      "id": "qPZGBUtNpIyq"
    },
    {
      "cell_type": "markdown",
      "source": [
        "## Normalising flows\n",
        "The following cells use the package PZ Flow to learn the probability density function of the data. We train the neural density estimator to estimate p(x|M1) and p(x|M0), then derive the Bayes factor from this."
      ],
      "metadata": {
        "id": "o_rJ2wjGJv3Q"
      },
      "id": "o_rJ2wjGJv3Q"
    },
    {
      "cell_type": "code",
      "execution_count": 133,
      "metadata": {
        "id": "Rd_Raj_RIPza"
      },
      "outputs": [],
      "source": [
        "# turn datasets into pandas dataframe for PZ Flow.\n",
        "train_df = pd.DataFrame({'stellar_mass': x_train_scaled[:,0], 'stellar_metallicity': x_train_scaled[:,1], 'model': y_train})\n",
        "val_df = pd.DataFrame({'stellar_mass': x_val_scaled[:,0], 'stellar_metallicity': x_val_scaled[:,1], 'model': y_val})\n",
        "test_df = pd.DataFrame({'stellar_mass': x_test_scaled[:,0], 'stellar_metallicity': x_test_scaled[:,1], 'model': y_test})\n",
        "\n",
        "# separate training and validation by model.\n",
        "train_M1_df = train_df[train_df['model'] == 1]\n",
        "train_M0_df = train_df[train_df['model'] == 0]\n",
        "val_M1_df = val_df[val_df['model'] == 1]\n",
        "val_M0_df = val_df[val_df['model'] == 0]\n",
        "\n",
        "\n"
      ],
      "id": "Rd_Raj_RIPza"
    },
    {
      "cell_type": "code",
      "source": [
        "# train the normalising flow.\n",
        "flow_M1 = Flow([\"stellar_mass\", 'stellar_metallicity'])\n",
        "\n",
        "train_loss_M1, val_loss_M1 = flow_M1.train(train_M1_df, val_M1_df, verbose=True, epochs=10, batch_size=500, progress_bar=True)\n"
      ],
      "metadata": {
        "colab": {
          "base_uri": "https://localhost:8080/"
        },
        "id": "JJ0m6GB8K3db",
        "outputId": "b8f62dbc-5463-43dd-b7a7-b6f2c3a7f9e8"
      },
      "id": "JJ0m6GB8K3db",
      "execution_count": null,
      "outputs": [
        {
          "output_type": "stream",
          "name": "stdout",
          "text": [
            "Training 10 epochs \n",
            "Loss:\n",
            "(0) -1.5642  -1.5667\n"
          ]
        },
        {
          "output_type": "stream",
          "name": "stderr",
          "text": [
            "\r  0%|          | 0/10 [00:00<?, ?it/s]"
          ]
        }
      ]
    },
    {
      "cell_type": "code",
      "source": [
        "flow_M0 = Flow([\"stellar_mass\", 'stellar_metallicity'])\n",
        "\n",
        "train_loss_M0, val_loss_M0 = flow_M0.train(train_M0_df, val_M0_df, verbose=True, epochs=10, batch_size=500, progress_bar=True)"
      ],
      "metadata": {
        "id": "Yq06YH1OOIQw"
      },
      "id": "Yq06YH1OOIQw",
      "execution_count": null,
      "outputs": []
    },
    {
      "cell_type": "code",
      "source": [
        "plt.plot(train_loss_M1, label='training M1')\n",
        "plt.plot(val_loss_M1, label='validation M1')\n",
        "plt.plot(train_loss_M1, label='training M0')\n",
        "plt.plot(val_loss_M1, label='validation M0')\n",
        "# plt.ylim(-5,-4)\n",
        "plt.xlabel(\"Epoch\")\n",
        "plt.ylabel(\"Loss\")\n",
        "plt.legend()\n",
        "plt.show()"
      ],
      "metadata": {
        "id": "HaPlkAZeNEAK"
      },
      "id": "HaPlkAZeNEAK",
      "execution_count": null,
      "outputs": []
    },
    {
      "cell_type": "markdown",
      "source": [
        "## Flow Output\n",
        "The following cells output the learnt densities for each model and plots them next to the original binned data."
      ],
      "metadata": {
        "id": "-d0KDoeCTwWc"
      },
      "id": "-d0KDoeCTwWc"
    },
    {
      "cell_type": "code",
      "source": [
        "def density(flow, xlim=(0.4,0.7), ylim=(0.4,0.7) ):\n",
        "  '''\n",
        "  Calculates a grid of density values\n",
        "  '''\n",
        "\n",
        "  nx, ny = (1000, 1000)\n",
        "  x, y = np.linspace(xlim[0], xlim[1], nx), np.linspace(ylim[0], ylim[1], ny)\n",
        "  # y = np.linspace(ylim[0], ylim[1], ny)\n",
        "  xv, yv = np.meshgrid(x, y)\n",
        "  X, Y = xv.flatten(), yv.flatten()\n",
        "  # Y = yv.flatten()\n",
        "  grid_df = pd.DataFrame({'stellar_mass': X, 'stellar_metallicity': Y})\n",
        "  density = np.exp(flow.log_prob(grid_df))\n",
        "  density = density.reshape((nx,ny))\n",
        "  # matrix needs flipping.\n",
        "  density = np.flipud(density)\n",
        "\n",
        "  return density\n",
        "\n",
        "\n",
        "\n"
      ],
      "metadata": {
        "id": "ePzuP5-C0SKW"
      },
      "id": "ePzuP5-C0SKW",
      "execution_count": null,
      "outputs": []
    },
    {
      "cell_type": "code",
      "source": [
        "# define grid limits for densities.\n",
        "xx, yy = (0.4,0.65), (0.4,0.65)\n",
        "dens_M1 = density(flow_M1, xx,yy)\n",
        "dens_M0 = density(flow_M0, xx,yy)"
      ],
      "metadata": {
        "id": "eITjcyxn3aVw"
      },
      "id": "eITjcyxn3aVw",
      "execution_count": null,
      "outputs": []
    },
    {
      "cell_type": "code",
      "source": [
        "# plot outputs.\n",
        "fig, ax = plt.subplots(2,2,  figsize=(10,8))\n",
        "\n",
        "ax[0,0].set_title('Data: (top: $M_1$, bottom: $M_0$)')\n",
        "ax[0,0].hist2d(train_M1_df.iloc[:,0],train_M1_df.iloc[:,1], bins=[np.linspace(xx[0],xx[1],200), np.linspace(yy[0],yy[1],200)])\n",
        "ax[1,0].hist2d(train_M0_df.iloc[:,0],train_M0_df.iloc[:,1], bins=[np.linspace(xx[0],xx[1],200), np.linspace(yy[0],yy[1],200)])\n",
        "ax[0,0].axis('square')\n",
        "ax[1,0].axis('square')\n",
        "\n",
        "\n",
        "ax[0,1].set_title('PZ Flow (top: $M_1$, bottom: $M_0$)')\n",
        "ax[0,1].imshow(dens_M1,extent=[xx[0],xx[1],yy[0],yy[1]])\n",
        "ax[1,1].imshow(dens_M0,extent=[xx[0],xx[1],yy[0],yy[1]])\n",
        "\n",
        "\n",
        "plt.setp(ax, xlabel='stellar mass (scaled)' , ylabel='stellar metallicity (scaled)')"
      ],
      "metadata": {
        "id": "iXTNtzoK0LB6"
      },
      "id": "iXTNtzoK0LB6",
      "execution_count": null,
      "outputs": []
    },
    {
      "cell_type": "code",
      "source": [
        "logprob_M1 = flow_M1.log_prob(test_df)\n",
        "logprob_M0 = flow_M0.log_prob(test_df)\n",
        "\n",
        "\n"
      ],
      "metadata": {
        "id": "KYIKdiqr8lGJ"
      },
      "id": "KYIKdiqr8lGJ",
      "execution_count": 36,
      "outputs": []
    },
    {
      "cell_type": "code",
      "source": [
        "idx = np.where(logprob_M1 > -1e10)\n",
        "logprob_M1 = logprob_M1[idx]\n",
        "logprob_M0 = logprob_M0[idx]"
      ],
      "metadata": {
        "id": "EVlGgxbH3JV2"
      },
      "id": "EVlGgxbH3JV2",
      "execution_count": null,
      "outputs": []
    },
    {
      "cell_type": "markdown",
      "source": [
        "The flow outputs log( p(x|M1) ) and log( p(x|M0) ). We combine these to get log K."
      ],
      "metadata": {
        "id": "W5ORhTKuwBOu"
      },
      "id": "W5ORhTKuwBOu"
    },
    {
      "cell_type": "code",
      "source": [
        "logK_flow = logprob_M1 -  logprob_M0 + np.log(M_ratio(y_test))\n",
        "\n"
      ],
      "metadata": {
        "id": "SyPcXbANwPEh"
      },
      "id": "SyPcXbANwPEh",
      "execution_count": 64,
      "outputs": []
    },
    {
      "cell_type": "markdown",
      "source": [
        "Calculate the Bayes factors and perform a coverage test."
      ],
      "metadata": {
        "id": "_Ho9OBrlbwZE"
      },
      "id": "_Ho9OBrlbwZE"
    },
    {
      "cell_type": "code",
      "source": [
        "print(np.mean(logK_flow), np.std(logK_flow))\n",
        "plt.hist(validation_prediction,bins=100,density=True, alpha=0.7, color='orange', label='Evidence')\n",
        "plt.hist(logK_flow,bins=np.linspace(-10,10,100),density=True, alpha=0.4,color='blue', label='PZFlow')\n",
        "\n",
        "# plt.xlim(-10,10)\n",
        "plt.legend()"
      ],
      "metadata": {
        "colab": {
          "base_uri": "https://localhost:8080/",
          "height": 465
        },
        "id": "WDulj4rdBBbT",
        "outputId": "84797f2e-229e-4f37-f36c-e363ec83493e"
      },
      "id": "WDulj4rdBBbT",
      "execution_count": 76,
      "outputs": [
        {
          "output_type": "stream",
          "name": "stdout",
          "text": [
            "-inf inf\n"
          ]
        },
        {
          "output_type": "execute_result",
          "data": {
            "text/plain": [
              "<matplotlib.legend.Legend at 0x7a63de898670>"
            ]
          },
          "metadata": {},
          "execution_count": 76
        },
        {
          "output_type": "display_data",
          "data": {
            "text/plain": [
              "<Figure size 640x480 with 1 Axes>"
            ],
            "image/png": "[encoded data removed]"
          },
          "metadata": {}
        }
      ]
    },
    {
      "cell_type": "code",
      "source": [
        "# get p(M1|x) from logK\n",
        "post_flow = np.exp(logK_flow)/(1+np.exp(logK_flow))\n",
        "\n",
        "# prepare posterior bins\n",
        "nbins = 100\n",
        "probability_array  = np.linspace(0,1,nbins)\n",
        "# print(probability_array )"
      ],
      "metadata": {
        "id": "1bOvErT9e6XV"
      },
      "id": "1bOvErT9e6XV",
      "execution_count": 70,
      "outputs": []
    },
    {
      "cell_type": "code",
      "source": [
        "bin_centres_flow, fractions_flow, post_bin_n_flow, binomial_std_flow = coverage_test(post_flow, probability_array)"
      ],
      "metadata": {
        "id": "vm3KLkHXRpEN"
      },
      "id": "vm3KLkHXRpEN",
      "execution_count": 71,
      "outputs": []
    },
    {
      "cell_type": "code",
      "source": [
        "plt.figure(figsize=(5,4))\n",
        "\n",
        "plt.errorbar(bin_centres_flow, fractions_flow, np.asarray(binomial_std_flow), marker='.', ls='')\n",
        "plt.title('Model posterior blind coverage test PZFlow')\n",
        "plt.xlabel(r'$p(M_1 | x)$ bins', fontsize=11)\n",
        "plt.ylabel(str('Validation model fraction'), fontsize=11)\n",
        "plt.plot([0,1],[0,1],'k-',alpha=0.5)\n",
        "# plt.axis('square')\n",
        "plt.grid(True)\n",
        "\n",
        "# plt.savefig(path+'coverage_test_20_B.png', dpi=250)\n",
        "# plt.axis('equal')"
      ],
      "metadata": {
        "colab": {
          "base_uri": "https://localhost:8080/",
          "height": 415
        },
        "id": "Dfo5VYzFhZ5b",
        "outputId": "3aee720b-1284-4288-bdff-be11670b1392"
      },
      "id": "Dfo5VYzFhZ5b",
      "execution_count": 72,
      "outputs": [
        {
          "output_type": "display_data",
          "data": {
            "text/plain": [
              "<Figure size 500x400 with 1 Axes>"
            ],
            "image/png": "[encoded data removed]"
          },
          "metadata": {}
        }
      ]
    },
    {
      "cell_type": "code",
      "source": [
        "residual_flow = (np.asarray(fractions_flow) - np.asarray(bin_centres_flow))\n",
        "scaled_residual_flow = residual_flow/np.asarray(binomial_std_flow)\n",
        "\n",
        "plt.figure(figsize=(16,4))\n",
        "\n",
        "plt.subplot(1,2,1)\n",
        "plt.errorbar(bin_centres_flow, scaled_residual_flow,yerr=binomial_std_flow/np.asarray(binomial_std_flow), marker='.', ls='')\n",
        "plt.title('Scaled Residual')\n",
        "plt.xlabel(r'$p(M_1 | x)$ bin', fontsize=11)\n",
        "plt.ylabel(r'[fraction - $p(M_1 | x) ] / \\sigma$', fontsize=11)\n",
        "plt.plot([0,1],[0,0],'k-',alpha=0.5)\n",
        "# plt.axis('square')\n",
        "plt.grid(True)\n",
        "\n",
        "plt.subplot(1,2,2)\n",
        "plt.errorbar(bin_centres_flow, residual_flow,yerr=binomial_std_flow, marker='.', ls='',c='orange')\n",
        "plt.title('Raw Residual')\n",
        "plt.xlabel(r'$p(M_1 | x)$ bin', fontsize=11)\n",
        "plt.ylabel(r'[fraction - $p(M_1 | x) ] $', fontsize=11)\n",
        "plt.plot([0,1],[0,0],'k-',alpha=0.5)\n",
        "# plt.axis('square')\n",
        "plt.grid(True)\n",
        "\n",
        "plt.subplots_adjust(wspace=.5)\n"
      ],
      "metadata": {
        "colab": {
          "base_uri": "https://localhost:8080/",
          "height": 349
        },
        "id": "EcnYMe3zjzsU",
        "outputId": "b0fdbc70-9b43-422d-e8c0-2cfb7e0cc2df"
      },
      "id": "EcnYMe3zjzsU",
      "execution_count": 73,
      "outputs": [
        {
          "output_type": "display_data",
          "data": {
            "text/plain": [
              "<Figure size 1600x400 with 2 Axes>"
            ],
            "image/png": "[encoded data removed]"
          },
          "metadata": {}
        }
      ]
    },
    {
      "cell_type": "code",
      "source": [
        "print(np.mean(scaled_residual_flow))\n",
        "print(np.std(scaled_residual_flow))"
      ],
      "metadata": {
        "id": "C5Tsn3_jj0IQ",
        "colab": {
          "base_uri": "https://localhost:8080/"
        },
        "outputId": "3ad7fc25-2400-4b20-8fb8-01a8bd4c3a32"
      },
      "id": "C5Tsn3_jj0IQ",
      "execution_count": 74,
      "outputs": [
        {
          "output_type": "stream",
          "name": "stdout",
          "text": [
            "0.4540928998343619\n",
            "1.3517964622708523\n"
          ]
        }
      ]
    },
    {
      "cell_type": "code",
      "source": [],
      "metadata": {
        "id": "H0EgMFHXIudL"
      },
      "id": "H0EgMFHXIudL",
      "execution_count": null,
      "outputs": []
    }
  ],
  "metadata": {
    "colab": {
      "provenance": [],
      "gpuType": "T4",
      "include_colab_link": true
    },
    "kernelspec": {
      "display_name": "Python 3",
      "name": "python3"
    },
    "language_info": {
      "codemirror_mode": {
        "name": "ipython",
        "version": 3
      },
      "file_extension": ".py",
      "mimetype": "text/x-python",
      "name": "python",
      "nbconvert_exporter": "python",
      "pygments_lexer": "ipython3",
      "version": "3.9.12"
    },
    "vscode": {
      "interpreter": {
        "hash": "6e093467a8db9a7011af417371fcd573d1abb74261412f30c0a1eba50c9dc224"
      }
    }
  },
  "nbformat": 4,
  "nbformat_minor": 5
}