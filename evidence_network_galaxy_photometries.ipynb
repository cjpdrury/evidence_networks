{
  "cells": [
    {
      "cell_type": "markdown",
      "metadata": {
        "id": "view-in-github",
        "colab_type": "text"
      },
      "source": [
        "<a href=\"https://colab.research.google.com/github/cjpdrury/evidence_networks/blob/main/evidence_network_galaxy_photometries.ipynb\" target=\"_parent\"><img src=\"https://colab.research.google.com/assets/colab-badge.svg\" alt=\"Open In Colab\"/></a>"
      ]
    },
    {
      "cell_type": "markdown",
      "metadata": {
        "id": "x6OgvpynRxrT"
      },
      "source": [
        "# Evidence Network example on galaxy photometries\n",
        "Charlie Drury and Niall Jeffrey, UCL\n",
        "\n",
        "09/11/2023\n",
        "\n",
        "The following notebook demonstrates use of an evidence network to derive Bayes factors. The data consists of galaxy photometries derived from two models; Illustris TNG (model $M_0$) and Simba (model $M_1$). The network is trained on a subset of labelled TNG and Simba data. The trained network is then used on test data to calculate Bayes factors for each galaxy.\n",
        "\n",
        "The evidence network accuracy is assessed using a coverage test. It's performance is compared to a density estimation method using PZFlow.\n",
        "\n",
        "This notebook follows from the accompanying notebook evidence_network_galaxy_properties.ipynb, where an evidence network was tuned and tested on separate data.\n",
        "\n",
        "Further details of techniques used in this notebook are available from \"Evidence Networks: simple losses for fast, amortized, neural\n",
        "Bayesian model comparison\" by Niall Jeffrey and Benjamin D. Wandelt (2023). Available at: https://arxiv.org/abs/2305.11241.\n",
        "\n"
      ],
      "id": "x6OgvpynRxrT"
    },
    {
      "cell_type": "code",
      "execution_count": 1,
      "metadata": {
        "colab": {
          "base_uri": "https://localhost:8080/"
        },
        "id": "hZlXrY_oRxCy",
        "outputId": "46587c2f-2aa7-4528-dfb4-7b1ef2953bc9"
      },
      "outputs": [
        {
          "output_type": "stream",
          "name": "stdout",
          "text": [
            "Collecting tensorflow==2.8.0\n",
            "  Downloading tensorflow-2.8.0-cp310-cp310-manylinux2010_x86_64.whl (497.6 MB)\n",
            "\u001b[2K     \u001b[90m━━━━━━━━━━━━━━━━━━━━━━━━━━━━━━━━━━━━━━━\u001b[0m \u001b[32m497.6/497.6 MB\u001b[0m \u001b[31m2.6 MB/s\u001b[0m eta \u001b[36m0:00:00\u001b[0m\n",
            "\u001b[?25hRequirement already satisfied: absl-py>=0.4.0 in /usr/local/lib/python3.10/dist-packages (from tensorflow==2.8.0) (1.4.0)\n",
            "Requirement already satisfied: astunparse>=1.6.0 in /usr/local/lib/python3.10/dist-packages (from tensorflow==2.8.0) (1.6.3)\n",
            "Requirement already satisfied: flatbuffers>=1.12 in /usr/local/lib/python3.10/dist-packages (from tensorflow==2.8.0) (23.5.26)\n",
            "Requirement already satisfied: gast>=0.2.1 in /usr/local/lib/python3.10/dist-packages (from tensorflow==2.8.0) (0.4.0)\n",
            "Requirement already satisfied: google-pasta>=0.1.1 in /usr/local/lib/python3.10/dist-packages (from tensorflow==2.8.0) (0.2.0)\n",
            "Requirement already satisfied: h5py>=2.9.0 in /usr/local/lib/python3.10/dist-packages (from tensorflow==2.8.0) (3.9.0)\n",
            "Collecting keras-preprocessing>=1.1.1 (from tensorflow==2.8.0)\n",
            "  Downloading Keras_Preprocessing-1.1.2-py2.py3-none-any.whl (42 kB)\n",
            "\u001b[2K     \u001b[90m━━━━━━━━━━━━━━━━━━━━━━━━━━━━━━━━━━━━━━━━\u001b[0m \u001b[32m42.6/42.6 kB\u001b[0m \u001b[31m4.7 MB/s\u001b[0m eta \u001b[36m0:00:00\u001b[0m\n",
            "\u001b[?25hRequirement already satisfied: libclang>=9.0.1 in /usr/local/lib/python3.10/dist-packages (from tensorflow==2.8.0) (16.0.6)\n",
            "Requirement already satisfied: numpy>=1.20 in /usr/local/lib/python3.10/dist-packages (from tensorflow==2.8.0) (1.23.5)\n",
            "Requirement already satisfied: opt-einsum>=2.3.2 in /usr/local/lib/python3.10/dist-packages (from tensorflow==2.8.0) (3.3.0)\n",
            "Requirement already satisfied: protobuf>=3.9.2 in /usr/local/lib/python3.10/dist-packages (from tensorflow==2.8.0) (3.20.3)\n",
            "Requirement already satisfied: setuptools in /usr/local/lib/python3.10/dist-packages (from tensorflow==2.8.0) (67.7.2)\n",
            "Requirement already satisfied: six>=1.12.0 in /usr/local/lib/python3.10/dist-packages (from tensorflow==2.8.0) (1.16.0)\n",
            "Requirement already satisfied: termcolor>=1.1.0 in /usr/local/lib/python3.10/dist-packages (from tensorflow==2.8.0) (2.3.0)\n",
            "Requirement already satisfied: typing-extensions>=3.6.6 in /usr/local/lib/python3.10/dist-packages (from tensorflow==2.8.0) (4.5.0)\n",
            "Requirement already satisfied: wrapt>=1.11.0 in /usr/local/lib/python3.10/dist-packages (from tensorflow==2.8.0) (1.15.0)\n",
            "Collecting tensorboard<2.9,>=2.8 (from tensorflow==2.8.0)\n",
            "  Downloading tensorboard-2.8.0-py3-none-any.whl (5.8 MB)\n",
            "\u001b[2K     \u001b[90m━━━━━━━━━━━━━━━━━━━━━━━━━━━━━━━━━━━━━━━━\u001b[0m \u001b[32m5.8/5.8 MB\u001b[0m \u001b[31m43.2 MB/s\u001b[0m eta \u001b[36m0:00:00\u001b[0m\n",
            "\u001b[?25hCollecting tf-estimator-nightly==2.8.0.dev2021122109 (from tensorflow==2.8.0)\n",
            "  Downloading tf_estimator_nightly-2.8.0.dev2021122109-py2.py3-none-any.whl (462 kB)\n",
            "\u001b[2K     \u001b[90m━━━━━━━━━━━━━━━━━━━━━━━━━━━━━━━━━━━━━━\u001b[0m \u001b[32m462.5/462.5 kB\u001b[0m \u001b[31m23.0 MB/s\u001b[0m eta \u001b[36m0:00:00\u001b[0m\n",
            "\u001b[?25hCollecting keras<2.9,>=2.8.0rc0 (from tensorflow==2.8.0)\n",
            "  Downloading keras-2.8.0-py2.py3-none-any.whl (1.4 MB)\n",
            "\u001b[2K     \u001b[90m━━━━━━━━━━━━━━━━━━━━━━━━━━━━━━━━━━━━━━━━\u001b[0m \u001b[32m1.4/1.4 MB\u001b[0m \u001b[31m43.5 MB/s\u001b[0m eta \u001b[36m0:00:00\u001b[0m\n",
            "\u001b[?25hRequirement already satisfied: tensorflow-io-gcs-filesystem>=0.23.1 in /usr/local/lib/python3.10/dist-packages (from tensorflow==2.8.0) (0.33.0)\n",
            "Requirement already satisfied: grpcio<2.0,>=1.24.3 in /usr/local/lib/python3.10/dist-packages (from tensorflow==2.8.0) (1.57.0)\n",
            "Requirement already satisfied: wheel<1.0,>=0.23.0 in /usr/local/lib/python3.10/dist-packages (from astunparse>=1.6.0->tensorflow==2.8.0) (0.41.2)\n",
            "Requirement already satisfied: google-auth<3,>=1.6.3 in /usr/local/lib/python3.10/dist-packages (from tensorboard<2.9,>=2.8->tensorflow==2.8.0) (2.17.3)\n",
            "Collecting google-auth-oauthlib<0.5,>=0.4.1 (from tensorboard<2.9,>=2.8->tensorflow==2.8.0)\n",
            "  Downloading google_auth_oauthlib-0.4.6-py2.py3-none-any.whl (18 kB)\n",
            "Requirement already satisfied: markdown>=2.6.8 in /usr/local/lib/python3.10/dist-packages (from tensorboard<2.9,>=2.8->tensorflow==2.8.0) (3.4.4)\n",
            "Requirement already satisfied: requests<3,>=2.21.0 in /usr/local/lib/python3.10/dist-packages (from tensorboard<2.9,>=2.8->tensorflow==2.8.0) (2.31.0)\n",
            "Collecting tensorboard-data-server<0.7.0,>=0.6.0 (from tensorboard<2.9,>=2.8->tensorflow==2.8.0)\n",
            "  Downloading tensorboard_data_server-0.6.1-py3-none-manylinux2010_x86_64.whl (4.9 MB)\n",
            "\u001b[2K     \u001b[90m━━━━━━━━━━━━━━━━━━━━━━━━━━━━━━━━━━━━━━━━\u001b[0m \u001b[32m4.9/4.9 MB\u001b[0m \u001b[31m59.5 MB/s\u001b[0m eta \u001b[36m0:00:00\u001b[0m\n",
            "\u001b[?25hCollecting tensorboard-plugin-wit>=1.6.0 (from tensorboard<2.9,>=2.8->tensorflow==2.8.0)\n",
            "  Downloading tensorboard_plugin_wit-1.8.1-py3-none-any.whl (781 kB)\n",
            "\u001b[2K     \u001b[90m━━━━━━━━━━━━━━━━━━━━━━━━━━━━━━━━━━━━━━\u001b[0m \u001b[32m781.3/781.3 kB\u001b[0m \u001b[31m36.3 MB/s\u001b[0m eta \u001b[36m0:00:00\u001b[0m\n",
            "\u001b[?25hRequirement already satisfied: werkzeug>=0.11.15 in /usr/local/lib/python3.10/dist-packages (from tensorboard<2.9,>=2.8->tensorflow==2.8.0) (2.3.7)\n",
            "Requirement already satisfied: cachetools<6.0,>=2.0.0 in /usr/local/lib/python3.10/dist-packages (from google-auth<3,>=1.6.3->tensorboard<2.9,>=2.8->tensorflow==2.8.0) (5.3.1)\n",
            "Requirement already satisfied: pyasn1-modules>=0.2.1 in /usr/local/lib/python3.10/dist-packages (from google-auth<3,>=1.6.3->tensorboard<2.9,>=2.8->tensorflow==2.8.0) (0.3.0)\n",
            "Requirement already satisfied: rsa<5,>=3.1.4 in /usr/local/lib/python3.10/dist-packages (from google-auth<3,>=1.6.3->tensorboard<2.9,>=2.8->tensorflow==2.8.0) (4.9)\n",
            "Requirement already satisfied: requests-oauthlib>=0.7.0 in /usr/local/lib/python3.10/dist-packages (from google-auth-oauthlib<0.5,>=0.4.1->tensorboard<2.9,>=2.8->tensorflow==2.8.0) (1.3.1)\n",
            "Requirement already satisfied: charset-normalizer<4,>=2 in /usr/local/lib/python3.10/dist-packages (from requests<3,>=2.21.0->tensorboard<2.9,>=2.8->tensorflow==2.8.0) (3.2.0)\n",
            "Requirement already satisfied: idna<4,>=2.5 in /usr/local/lib/python3.10/dist-packages (from requests<3,>=2.21.0->tensorboard<2.9,>=2.8->tensorflow==2.8.0) (3.4)\n",
            "Requirement already satisfied: urllib3<3,>=1.21.1 in /usr/local/lib/python3.10/dist-packages (from requests<3,>=2.21.0->tensorboard<2.9,>=2.8->tensorflow==2.8.0) (2.0.4)\n",
            "Requirement already satisfied: certifi>=2017.4.17 in /usr/local/lib/python3.10/dist-packages (from requests<3,>=2.21.0->tensorboard<2.9,>=2.8->tensorflow==2.8.0) (2023.7.22)\n",
            "Requirement already satisfied: MarkupSafe>=2.1.1 in /usr/local/lib/python3.10/dist-packages (from werkzeug>=0.11.15->tensorboard<2.9,>=2.8->tensorflow==2.8.0) (2.1.3)\n",
            "Requirement already satisfied: pyasn1<0.6.0,>=0.4.6 in /usr/local/lib/python3.10/dist-packages (from pyasn1-modules>=0.2.1->google-auth<3,>=1.6.3->tensorboard<2.9,>=2.8->tensorflow==2.8.0) (0.5.0)\n",
            "Requirement already satisfied: oauthlib>=3.0.0 in /usr/local/lib/python3.10/dist-packages (from requests-oauthlib>=0.7.0->google-auth-oauthlib<0.5,>=0.4.1->tensorboard<2.9,>=2.8->tensorflow==2.8.0) (3.2.2)\n",
            "Installing collected packages: tf-estimator-nightly, tensorboard-plugin-wit, keras, tensorboard-data-server, keras-preprocessing, google-auth-oauthlib, tensorboard, tensorflow\n",
            "  Attempting uninstall: keras\n",
            "    Found existing installation: keras 2.13.1\n",
            "    Uninstalling keras-2.13.1:\n",
            "      Successfully uninstalled keras-2.13.1\n",
            "  Attempting uninstall: tensorboard-data-server\n",
            "    Found existing installation: tensorboard-data-server 0.7.1\n",
            "    Uninstalling tensorboard-data-server-0.7.1:\n",
            "      Successfully uninstalled tensorboard-data-server-0.7.1\n",
            "  Attempting uninstall: google-auth-oauthlib\n",
            "    Found existing installation: google-auth-oauthlib 1.0.0\n",
            "    Uninstalling google-auth-oauthlib-1.0.0:\n",
            "      Successfully uninstalled google-auth-oauthlib-1.0.0\n",
            "  Attempting uninstall: tensorboard\n",
            "    Found existing installation: tensorboard 2.13.0\n",
            "    Uninstalling tensorboard-2.13.0:\n",
            "      Successfully uninstalled tensorboard-2.13.0\n",
            "  Attempting uninstall: tensorflow\n",
            "    Found existing installation: tensorflow 2.13.0\n",
            "    Uninstalling tensorflow-2.13.0:\n",
            "      Successfully uninstalled tensorflow-2.13.0\n",
            "Successfully installed google-auth-oauthlib-0.4.6 keras-2.8.0 keras-preprocessing-1.1.2 tensorboard-2.8.0 tensorboard-data-server-0.6.1 tensorboard-plugin-wit-1.8.1 tensorflow-2.8.0 tf-estimator-nightly-2.8.0.dev2021122109\n",
            "Collecting pzflow\n",
            "  Downloading pzflow-3.1.1-py3-none-any.whl (8.7 MB)\n",
            "\u001b[2K     \u001b[90m━━━━━━━━━━━━━━━━━━━━━━━━━━━━━━━━━━━━━━━━\u001b[0m \u001b[32m8.7/8.7 MB\u001b[0m \u001b[31m17.3 MB/s\u001b[0m eta \u001b[36m0:00:00\u001b[0m\n",
            "\u001b[?25hRequirement already satisfied: matplotlib in /usr/local/lib/python3.10/dist-packages (3.7.1)\n",
            "Collecting dill<0.4.0,>=0.3.6 (from pzflow)\n",
            "  Downloading dill-0.3.7-py3-none-any.whl (115 kB)\n",
            "\u001b[2K     \u001b[90m━━━━━━━━━━━━━━━━━━━━━━━━━━━━━━━━━━━━━━\u001b[0m \u001b[32m115.3/115.3 kB\u001b[0m \u001b[31m14.3 MB/s\u001b[0m eta \u001b[36m0:00:00\u001b[0m\n",
            "\u001b[?25hRequirement already satisfied: jax<0.5.0,>=0.4.2 in /usr/local/lib/python3.10/dist-packages (from pzflow) (0.4.14)\n",
            "Requirement already satisfied: jaxlib<0.5.0,>=0.4.2 in /usr/local/lib/python3.10/dist-packages (from pzflow) (0.4.14+cuda11.cudnn86)\n",
            "Requirement already satisfied: optax<0.2.0,>=0.1.4 in /usr/local/lib/python3.10/dist-packages (from pzflow) (0.1.7)\n",
            "Requirement already satisfied: pandas>=1.1 in /usr/local/lib/python3.10/dist-packages (from pzflow) (1.5.3)\n",
            "Requirement already satisfied: tqdm<5.0.0,>=4.64.1 in /usr/local/lib/python3.10/dist-packages (from pzflow) (4.66.1)\n",
            "Requirement already satisfied: contourpy>=1.0.1 in /usr/local/lib/python3.10/dist-packages (from matplotlib) (1.1.0)\n",
            "Requirement already satisfied: cycler>=0.10 in /usr/local/lib/python3.10/dist-packages (from matplotlib) (0.11.0)\n",
            "Requirement already satisfied: fonttools>=4.22.0 in /usr/local/lib/python3.10/dist-packages (from matplotlib) (4.42.1)\n",
            "Requirement already satisfied: kiwisolver>=1.0.1 in /usr/local/lib/python3.10/dist-packages (from matplotlib) (1.4.5)\n",
            "Requirement already satisfied: numpy>=1.20 in /usr/local/lib/python3.10/dist-packages (from matplotlib) (1.23.5)\n",
            "Requirement already satisfied: packaging>=20.0 in /usr/local/lib/python3.10/dist-packages (from matplotlib) (23.1)\n",
            "Requirement already satisfied: pillow>=6.2.0 in /usr/local/lib/python3.10/dist-packages (from matplotlib) (9.4.0)\n",
            "Requirement already satisfied: pyparsing>=2.3.1 in /usr/local/lib/python3.10/dist-packages (from matplotlib) (3.1.1)\n",
            "Requirement already satisfied: python-dateutil>=2.7 in /usr/local/lib/python3.10/dist-packages (from matplotlib) (2.8.2)\n",
            "Requirement already satisfied: ml-dtypes>=0.2.0 in /usr/local/lib/python3.10/dist-packages (from jax<0.5.0,>=0.4.2->pzflow) (0.2.0)\n",
            "Requirement already satisfied: opt-einsum in /usr/local/lib/python3.10/dist-packages (from jax<0.5.0,>=0.4.2->pzflow) (3.3.0)\n",
            "Requirement already satisfied: scipy>=1.7 in /usr/local/lib/python3.10/dist-packages (from jax<0.5.0,>=0.4.2->pzflow) (1.10.1)\n",
            "Requirement already satisfied: absl-py>=0.7.1 in /usr/local/lib/python3.10/dist-packages (from optax<0.2.0,>=0.1.4->pzflow) (1.4.0)\n",
            "Requirement already satisfied: chex>=0.1.5 in /usr/local/lib/python3.10/dist-packages (from optax<0.2.0,>=0.1.4->pzflow) (0.1.7)\n",
            "Requirement already satisfied: pytz>=2020.1 in /usr/local/lib/python3.10/dist-packages (from pandas>=1.1->pzflow) (2023.3.post1)\n",
            "Requirement already satisfied: six>=1.5 in /usr/local/lib/python3.10/dist-packages (from python-dateutil>=2.7->matplotlib) (1.16.0)\n",
            "Requirement already satisfied: dm-tree>=0.1.5 in /usr/local/lib/python3.10/dist-packages (from chex>=0.1.5->optax<0.2.0,>=0.1.4->pzflow) (0.1.8)\n",
            "Requirement already satisfied: toolz>=0.9.0 in /usr/local/lib/python3.10/dist-packages (from chex>=0.1.5->optax<0.2.0,>=0.1.4->pzflow) (0.12.0)\n",
            "Requirement already satisfied: typing-extensions>=4.2.0 in /usr/local/lib/python3.10/dist-packages (from chex>=0.1.5->optax<0.2.0,>=0.1.4->pzflow) (4.5.0)\n",
            "Installing collected packages: dill, pzflow\n",
            "Successfully installed dill-0.3.7 pzflow-3.1.1\n"
          ]
        }
      ],
      "source": [
        "# install this version of tf to use decayed lr metric\n",
        "!pip install tensorflow==2.8.0\n",
        "!pip install pzflow matplotlib\n",
        "\n",
        "\n"
      ],
      "id": "hZlXrY_oRxCy"
    },
    {
      "cell_type": "code",
      "source": [
        "\n",
        "gpu_info = !nvidia-smi\n",
        "gpu_info = '\\n'.join(gpu_info)\n",
        "if gpu_info.find('failed') >= 0:\n",
        "  print('Not connected to a GPU')\n",
        "else:\n",
        "  print(gpu_info)"
      ],
      "metadata": {
        "colab": {
          "base_uri": "https://localhost:8080/"
        },
        "id": "zPxjzoGMBwbH",
        "outputId": "01b39ce3-676b-4410-efc8-96c4d0042c3f"
      },
      "id": "zPxjzoGMBwbH",
      "execution_count": 2,
      "outputs": [
        {
          "output_type": "stream",
          "name": "stdout",
          "text": [
            "Sun Sep 10 12:44:40 2023       \n",
            "+-----------------------------------------------------------------------------+\n",
            "| NVIDIA-SMI 525.105.17   Driver Version: 525.105.17   CUDA Version: 12.0     |\n",
            "|-------------------------------+----------------------+----------------------+\n",
            "| GPU  Name        Persistence-M| Bus-Id        Disp.A | Volatile Uncorr. ECC |\n",
            "| Fan  Temp  Perf  Pwr:Usage/Cap|         Memory-Usage | GPU-Util  Compute M. |\n",
            "|                               |                      |               MIG M. |\n",
            "|===============================+======================+======================|\n",
            "|   0  Tesla T4            Off  | 00000000:00:04.0 Off |                    0 |\n",
            "| N/A   56C    P8    10W /  70W |      0MiB / 15360MiB |      0%      Default |\n",
            "|                               |                      |                  N/A |\n",
            "+-------------------------------+----------------------+----------------------+\n",
            "                                                                               \n",
            "+-----------------------------------------------------------------------------+\n",
            "| Processes:                                                                  |\n",
            "|  GPU   GI   CI        PID   Type   Process name                  GPU Memory |\n",
            "|        ID   ID                                                   Usage      |\n",
            "|=============================================================================|\n",
            "|  No running processes found                                                 |\n",
            "+-----------------------------------------------------------------------------+\n"
          ]
        }
      ]
    },
    {
      "cell_type": "code",
      "execution_count": 3,
      "metadata": {
        "colab": {
          "base_uri": "https://localhost:8080/"
        },
        "id": "reported-burlington",
        "outputId": "38c7fbfc-5a61-420c-ed28-b8aa15667568"
      },
      "outputs": [
        {
          "output_type": "stream",
          "name": "stdout",
          "text": [
            "[PhysicalDevice(name='/physical_device:GPU:0', device_type='GPU')]\n",
            "[0]\n",
            "2.8.0\n"
          ]
        }
      ],
      "source": [
        "import numpy as np\n",
        "from scipy.stats import norm, multivariate_normal\n",
        "import sys, os, time, gc\n",
        "\n",
        "import tensorflow as tf\n",
        "import tensorflow.keras as keras\n",
        "from tensorflow.keras.models import Model\n",
        "from tensorflow.keras.layers import Dense, LeakyReLU, Input,ReLU\n",
        "from tensorflow.keras import optimizers, callbacks\n",
        "import h5py\n",
        "\n",
        "from tensorflow.keras.layers import concatenate, BatchNormalization\n",
        "\n",
        "import pandas as pd\n",
        "import random\n",
        "from sklearn.preprocessing import StandardScaler\n",
        "from sklearn.model_selection import train_test_split\n",
        "\n",
        "import requests\n",
        "import time\n",
        "\n",
        "from pzflow import Flow\n",
        "from pzflow.examples import get_twomoons_data\n",
        "\n",
        "import jax.numpy as jnp\n",
        "\n",
        "\n",
        "import matplotlib.pyplot as plt\n",
        "plt.rcParams[\"font.family\"] = \"serif\"\n",
        "plt.rcParams[\"mathtext.fontset\"] = \"cm\"\n",
        "plt.rcParams['image.cmap'] = 'coolwarm'\n",
        "plt.rcParams[\"figure.facecolor\"] = \"white\"\n",
        "print(tf.config.list_physical_devices('GPU'))\n",
        "tf.print(tf.constant([0.0]))\n",
        "print(tf.__version__)"
      ],
      "id": "reported-burlington"
    },
    {
      "cell_type": "code",
      "execution_count": 4,
      "metadata": {
        "colab": {
          "base_uri": "https://localhost:8080/"
        },
        "id": "cqtfv2o_Kgrb",
        "outputId": "c45458a7-0125-4011-f3d3-7ccae01fb2dd"
      },
      "outputs": [
        {
          "output_type": "stream",
          "name": "stdout",
          "text": [
            "Mounted at /content/drive\n"
          ]
        }
      ],
      "source": [
        "from google.colab import drive\n",
        "drive.mount('/content/drive')\n",
        "# !cd /content/drive/MyDrive/ML_Intern/\n",
        "\n",
        "path = '/content/drive/MyDrive/ML_Intern'\n",
        "\n"
      ],
      "id": "cqtfv2o_Kgrb"
    },
    {
      "cell_type": "markdown",
      "source": [
        "## Write flux data to numpy\n",
        "The data is stored as two HDF5 files, containing SIMBA and TNG simulations. The following cell only needs to be ran once, to store the data as a numpy file. The data used in this notebook is Green 'g' and Red 'r' Sloan filters. Future work could expand this to all available Sloan filters (ugriz)"
      ],
      "metadata": {
        "id": "CbKC_ejA7vEw"
      },
      "id": "CbKC_ejA7vEw"
    },
    {
      "cell_type": "code",
      "source": [
        "# for each file in TNG and SIMBA, extract chosen fluxes.\n",
        "f_TNG = h5py.File(path+'/TNG_master.hdf5', 'r')\n",
        "f_SIM = h5py.File(path+'/simba_master.hdf5', 'r')\n",
        "\n",
        "\n",
        "g_TNG, g_SIM, r_TNG,r_SIM = [],[],[],[]\n",
        "\n",
        "# loop through each folder. Extract all galaxies from chosen filter.\n",
        "for i in range(len(f_TNG.keys())):\n",
        "  data = np.array(f_TNG[str(i)]['intrinsic']['SLOAN']['SDSS.g'])\n",
        "  g_TNG.append(data)\n",
        "  data = np.array(f_TNG[str(i)]['intrinsic']['SLOAN']['SDSS.r'])\n",
        "  r_TNG.append(data)\n",
        "\n",
        "\n",
        "for i in range(len(f_SIM.keys())):\n",
        "  data = np.array(f_SIM[str(i)]['intrinsic']['SLOAN']['SDSS.g'])\n",
        "  g_SIM.append(data)\n",
        "  data = np.array(f_SIM[str(i)]['intrinsic']['SLOAN']['SDSS.r'])\n",
        "  r_SIM.append(data)\n",
        "\n",
        "\n",
        "flux_TNG = np.stack((np.concatenate(g_TNG).ravel(), np.concatenate(r_TNG).ravel()), axis=1)\n",
        "flux_SIM = np.stack((np.concatenate(g_SIM).ravel(), np.concatenate(r_SIM).ravel()), axis=1)\n",
        "\n",
        "np.save(path+'/flux_TNG.npy',flux_TNG)\n",
        "np.save(path+'/flux_SIMBA.npy',flux_SIM)"
      ],
      "metadata": {
        "id": "gGir10a2TmF1"
      },
      "id": "gGir10a2TmF1",
      "execution_count": 9,
      "outputs": []
    },
    {
      "cell_type": "markdown",
      "source": [
        "## Load flux data from numpy file"
      ],
      "metadata": {
        "id": "mwmhhMaRvsTD"
      },
      "id": "mwmhhMaRvsTD"
    },
    {
      "cell_type": "code",
      "source": [
        "# unpack data\n",
        "flux_TNG = np.load(path+'/flux_TNG.npy')\n",
        "flux_sim = np.load(path+'/flux_SIMBA.npy')\n",
        "print(np.shape(flux_TNG))\n",
        "\n",
        "# get headers and convert to pandas\n",
        "header = 'sloan_g | sloan_r'\n",
        "header = header.split('|')\n",
        "\n",
        "df_TNG = pd.DataFrame(flux_TNG, columns=header)\n",
        "df_SIM = pd.DataFrame(flux_SIM, columns=header)\n",
        "\n",
        "# add model labels 'm'\n",
        "df_TNG['m'] = np.zeros(df_TNG.shape[0])\n",
        "df_SIM['m'] = np.ones(df_SIM.shape[0])\n",
        "\n",
        "df_TNG.head()"
      ],
      "metadata": {
        "colab": {
          "base_uri": "https://localhost:8080/",
          "height": 223
        },
        "id": "XhbOE6zorc5L",
        "outputId": "2ad1161a-c760-488b-cd84-87ebdd7b3127"
      },
      "id": "XhbOE6zorc5L",
      "execution_count": 10,
      "outputs": [
        {
          "output_type": "stream",
          "name": "stdout",
          "text": [
            "(2413891, 2)\n"
          ]
        },
        {
          "output_type": "execute_result",
          "data": {
            "text/plain": [
              "       sloan_g        sloan_r    m\n",
              "0  1.008265e+30  1.561652e+30  0.0\n",
              "1  2.232865e+29  3.288638e+29  0.0\n",
              "2  4.372902e+28  6.529679e+28  0.0\n",
              "3  8.979900e+27  1.011223e+28  0.0\n",
              "4  4.124089e+28  5.184374e+28  0.0"
            ],
            "text/html": [
              "\n",
              "  <div id=\"df-47fc9d69-bee7-4522-b253-4709c4723d7a\" class=\"colab-df-container\">\n",
              "    <div>\n",
              "<style scoped>\n",
              "    .dataframe tbody tr th:only-of-type {\n",
              "        vertical-align: middle;\n",
              "    }\n",
              "\n",
              "    .dataframe tbody tr th {\n",
              "        vertical-align: top;\n",
              "    }\n",
              "\n",
              "    .dataframe thead th {\n",
              "        text-align: right;\n",
              "    }\n",
              "</style>\n",
              "<table border=\"1\" class=\"dataframe\">\n",
              "  <thead>\n",
              "    <tr style=\"text-align: right;\">\n",
              "      <th></th>\n",
              "      <th>sloan_g</th>\n",
              "      <th>sloan_r</th>\n",
              "      <th>m</th>\n",
              "    </tr>\n",
              "  </thead>\n",
              "  <tbody>\n",
              "    <tr>\n",
              "      <th>0</th>\n",
              "      <td>1.008265e+30</td>\n",
              "      <td>1.561652e+30</td>\n",
              "      <td>0.0</td>\n",
              "    </tr>\n",
              "    <tr>\n",
              "      <th>1</th>\n",
              "      <td>2.232865e+29</td>\n",
              "      <td>3.288638e+29</td>\n",
              "      <td>0.0</td>\n",
              "    </tr>\n",
              "    <tr>\n",
              "      <th>2</th>\n",
              "      <td>4.372902e+28</td>\n",
              "      <td>6.529679e+28</td>\n",
              "      <td>0.0</td>\n",
              "    </tr>\n",
              "    <tr>\n",
              "      <th>3</th>\n",
              "      <td>8.979900e+27</td>\n",
              "      <td>1.011223e+28</td>\n",
              "      <td>0.0</td>\n",
              "    </tr>\n",
              "    <tr>\n",
              "      <th>4</th>\n",
              "      <td>4.124089e+28</td>\n",
              "      <td>5.184374e+28</td>\n",
              "      <td>0.0</td>\n",
              "    </tr>\n",
              "  </tbody>\n",
              "</table>\n",
              "</div>\n",
              "    <div class=\"colab-df-buttons\">\n",
              "\n",
              "  <div class=\"colab-df-container\">\n",
              "    <button class=\"colab-df-convert\" onclick=\"convertToInteractive('df-47fc9d69-bee7-4522-b253-4709c4723d7a')\"\n",
              "            title=\"Convert this dataframe to an interactive table.\"\n",
              "            style=\"display:none;\">\n",
              "\n",
              "  <svg xmlns=\"http://www.w3.org/2000/svg\" height=\"24px\" viewBox=\"0 -960 960 960\">\n",
              "    <path d=\"M120-120v-720h720v720H120Zm60-500h600v-160H180v160Zm220 220h160v-160H400v160Zm0 220h160v-160H400v160ZM180-400h160v-160H180v160Zm440 0h160v-160H620v160ZM180-180h160v-160H180v160Zm440 0h160v-160H620v160Z\"/>\n",
              "  </svg>\n",
              "    </button>\n",
              "\n",
              "  <style>\n",
              "    .colab-df-container {\n",
              "      display:flex;\n",
              "      gap: 12px;\n",
              "    }\n",
              "\n",
              "    .colab-df-convert {\n",
              "      background-color: #E8F0FE;\n",
              "      border: none;\n",
              "      border-radius: 50%;\n",
              "      cursor: pointer;\n",
              "      display: none;\n",
              "      fill: #1967D2;\n",
              "      height: 32px;\n",
              "      padding: 0 0 0 0;\n",
              "      width: 32px;\n",
              "    }\n",
              "\n",
              "    .colab-df-convert:hover {\n",
              "      background-color: #E2EBFA;\n",
              "      box-shadow: 0px 1px 2px rgba(60, 64, 67, 0.3), 0px 1px 3px 1px rgba(60, 64, 67, 0.15);\n",
              "      fill: #174EA6;\n",
              "    }\n",
              "\n",
              "    .colab-df-buttons div {\n",
              "      margin-bottom: 4px;\n",
              "    }\n",
              "\n",
              "    [theme=dark] .colab-df-convert {\n",
              "      background-color: #3B4455;\n",
              "      fill: #D2E3FC;\n",
              "    }\n",
              "\n",
              "    [theme=dark] .colab-df-convert:hover {\n",
              "      background-color: #434B5C;\n",
              "      box-shadow: 0px 1px 3px 1px rgba(0, 0, 0, 0.15);\n",
              "      filter: drop-shadow(0px 1px 2px rgba(0, 0, 0, 0.3));\n",
              "      fill: #FFFFFF;\n",
              "    }\n",
              "  </style>\n",
              "\n",
              "    <script>\n",
              "      const buttonEl =\n",
              "        document.querySelector('#df-47fc9d69-bee7-4522-b253-4709c4723d7a button.colab-df-convert');\n",
              "      buttonEl.style.display =\n",
              "        google.colab.kernel.accessAllowed ? 'block' : 'none';\n",
              "\n",
              "      async function convertToInteractive(key) {\n",
              "        const element = document.querySelector('#df-47fc9d69-bee7-4522-b253-4709c4723d7a');\n",
              "        const dataTable =\n",
              "          await google.colab.kernel.invokeFunction('convertToInteractive',\n",
              "                                                    [key], {});\n",
              "        if (!dataTable) return;\n",
              "\n",
              "        const docLinkHtml = 'Like what you see? Visit the ' +\n",
              "          '<a target=\"_blank\" href=https://colab.research.google.com/notebooks/data_table.ipynb>data table notebook</a>'\n",
              "          + ' to learn more about interactive tables.';\n",
              "        element.innerHTML = '';\n",
              "        dataTable['output_type'] = 'display_data';\n",
              "        await google.colab.output.renderOutput(dataTable, element);\n",
              "        const docLink = document.createElement('div');\n",
              "        docLink.innerHTML = docLinkHtml;\n",
              "        element.appendChild(docLink);\n",
              "      }\n",
              "    </script>\n",
              "  </div>\n",
              "\n",
              "\n",
              "<div id=\"df-6d061d6a-ada9-4f21-96e2-88059fd45336\">\n",
              "  <button class=\"colab-df-quickchart\" onclick=\"quickchart('df-6d061d6a-ada9-4f21-96e2-88059fd45336')\"\n",
              "            title=\"Suggest charts.\"\n",
              "            style=\"display:none;\">\n",
              "\n",
              "<svg xmlns=\"http://www.w3.org/2000/svg\" height=\"24px\"viewBox=\"0 0 24 24\"\n",
              "     width=\"24px\">\n",
              "    <g>\n",
              "        <path d=\"M19 3H5c-1.1 0-2 .9-2 2v14c0 1.1.9 2 2 2h14c1.1 0 2-.9 2-2V5c0-1.1-.9-2-2-2zM9 17H7v-7h2v7zm4 0h-2V7h2v10zm4 0h-2v-4h2v4z\"/>\n",
              "    </g>\n",
              "</svg>\n",
              "  </button>\n",
              "\n",
              "<style>\n",
              "  .colab-df-quickchart {\n",
              "      --bg-color: #E8F0FE;\n",
              "      --fill-color: #1967D2;\n",
              "      --hover-bg-color: #E2EBFA;\n",
              "      --hover-fill-color: #174EA6;\n",
              "      --disabled-fill-color: #AAA;\n",
              "      --disabled-bg-color: #DDD;\n",
              "  }\n",
              "\n",
              "  [theme=dark] .colab-df-quickchart {\n",
              "      --bg-color: #3B4455;\n",
              "      --fill-color: #D2E3FC;\n",
              "      --hover-bg-color: #434B5C;\n",
              "      --hover-fill-color: #FFFFFF;\n",
              "      --disabled-bg-color: #3B4455;\n",
              "      --disabled-fill-color: #666;\n",
              "  }\n",
              "\n",
              "  .colab-df-quickchart {\n",
              "    background-color: var(--bg-color);\n",
              "    border: none;\n",
              "    border-radius: 50%;\n",
              "    cursor: pointer;\n",
              "    display: none;\n",
              "    fill: var(--fill-color);\n",
              "    height: 32px;\n",
              "    padding: 0;\n",
              "    width: 32px;\n",
              "  }\n",
              "\n",
              "  .colab-df-quickchart:hover {\n",
              "    background-color: var(--hover-bg-color);\n",
              "    box-shadow: 0 1px 2px rgba(60, 64, 67, 0.3), 0 1px 3px 1px rgba(60, 64, 67, 0.15);\n",
              "    fill: var(--button-hover-fill-color);\n",
              "  }\n",
              "\n",
              "  .colab-df-quickchart-complete:disabled,\n",
              "  .colab-df-quickchart-complete:disabled:hover {\n",
              "    background-color: var(--disabled-bg-color);\n",
              "    fill: var(--disabled-fill-color);\n",
              "    box-shadow: none;\n",
              "  }\n",
              "\n",
              "  .colab-df-spinner {\n",
              "    border: 2px solid var(--fill-color);\n",
              "    border-color: transparent;\n",
              "    border-bottom-color: var(--fill-color);\n",
              "    animation:\n",
              "      spin 1s steps(1) infinite;\n",
              "  }\n",
              "\n",
              "  @keyframes spin {\n",
              "    0% {\n",
              "      border-color: transparent;\n",
              "      border-bottom-color: var(--fill-color);\n",
              "      border-left-color: var(--fill-color);\n",
              "    }\n",
              "    20% {\n",
              "      border-color: transparent;\n",
              "      border-left-color: var(--fill-color);\n",
              "      border-top-color: var(--fill-color);\n",
              "    }\n",
              "    30% {\n",
              "      border-color: transparent;\n",
              "      border-left-color: var(--fill-color);\n",
              "      border-top-color: var(--fill-color);\n",
              "      border-right-color: var(--fill-color);\n",
              "    }\n",
              "    40% {\n",
              "      border-color: transparent;\n",
              "      border-right-color: var(--fill-color);\n",
              "      border-top-color: var(--fill-color);\n",
              "    }\n",
              "    60% {\n",
              "      border-color: transparent;\n",
              "      border-right-color: var(--fill-color);\n",
              "    }\n",
              "    80% {\n",
              "      border-color: transparent;\n",
              "      border-right-color: var(--fill-color);\n",
              "      border-bottom-color: var(--fill-color);\n",
              "    }\n",
              "    90% {\n",
              "      border-color: transparent;\n",
              "      border-bottom-color: var(--fill-color);\n",
              "    }\n",
              "  }\n",
              "</style>\n",
              "\n",
              "  <script>\n",
              "    async function quickchart(key) {\n",
              "      const quickchartButtonEl =\n",
              "        document.querySelector('#' + key + ' button');\n",
              "      quickchartButtonEl.disabled = true;  // To prevent multiple clicks.\n",
              "      quickchartButtonEl.classList.add('colab-df-spinner');\n",
              "      try {\n",
              "        const charts = await google.colab.kernel.invokeFunction(\n",
              "            'suggestCharts', [key], {});\n",
              "      } catch (error) {\n",
              "        console.error('Error during call to suggestCharts:', error);\n",
              "      }\n",
              "      quickchartButtonEl.classList.remove('colab-df-spinner');\n",
              "      quickchartButtonEl.classList.add('colab-df-quickchart-complete');\n",
              "    }\n",
              "    (() => {\n",
              "      let quickchartButtonEl =\n",
              "        document.querySelector('#df-6d061d6a-ada9-4f21-96e2-88059fd45336 button');\n",
              "      quickchartButtonEl.style.display =\n",
              "        google.colab.kernel.accessAllowed ? 'block' : 'none';\n",
              "    })();\n",
              "  </script>\n",
              "</div>\n",
              "    </div>\n",
              "  </div>\n"
            ]
          },
          "metadata": {},
          "execution_count": 10
        }
      ]
    },
    {
      "cell_type": "code",
      "source": [
        "# assign label of 0 for IllustrisTNG and 1 for SIMBA\n",
        "flux_TNG = np.append(flux_TNG, np.zeros((len(flux_TNG[:,0]),1)) ,axis=1)\n",
        "flux_SIM = np.append(flux_SIM, np.ones((len(flux_SIM[:,0]),1)) ,axis=1)"
      ],
      "metadata": {
        "id": "K9KlOJ2dv90g"
      },
      "id": "K9KlOJ2dv90g",
      "execution_count": 11,
      "outputs": []
    },
    {
      "cell_type": "code",
      "source": [
        "# combine into one dataset\n",
        "train_flux = np.append(flux_TNG,flux_SIM, axis=0 )"
      ],
      "metadata": {
        "id": "Hr9O_zWJyN9x"
      },
      "id": "Hr9O_zWJyN9x",
      "execution_count": 12,
      "outputs": []
    },
    {
      "cell_type": "markdown",
      "source": [
        "## Produce training, validation and testing data\n",
        "The fluxes are scaled to have a mean of zero and standard deviation of 1."
      ],
      "metadata": {
        "id": "s2bOEjOeyWZu"
      },
      "id": "s2bOEjOeyWZu"
    },
    {
      "cell_type": "code",
      "source": [
        "# randomly sample from training data\n",
        "\n",
        "# n_sample = 500000\n",
        "n_sample = train_flux.shape[0]\n",
        "\n",
        "choices = np.random.choice(train_flux.shape[0],\n",
        "                                  size=n_sample,\n",
        "                                  replace=False)\n",
        "train_flux = train_flux[choices,:]\n",
        "print(train_flux.shape)\n",
        "\n",
        "\n",
        "# separate training, validation and test data\n",
        "x_train, x_test, y_train, y_test = train_test_split(train_flux[:,:-1], train_flux[:,-1], test_size=0.20, shuffle=True, random_state=45)\n",
        "x_train, x_val, y_train, y_val = train_test_split(x_train[:,:], y_train[:], test_size=0.20, shuffle=True, random_state=44)"
      ],
      "metadata": {
        "colab": {
          "base_uri": "https://localhost:8080/"
        },
        "id": "TTYe91RXyc3j",
        "outputId": "c557cd2a-161e-4f43-9c09-4d2cb0608d2f"
      },
      "id": "TTYe91RXyc3j",
      "execution_count": 35,
      "outputs": [
        {
          "output_type": "stream",
          "name": "stdout",
          "text": [
            "(500000, 3)\n"
          ]
        }
      ]
    },
    {
      "cell_type": "code",
      "source": [
        "print(x_train.shape, x_val.shape, x_test.shape, y_train.shape, y_val.shape,y_test.shape )"
      ],
      "metadata": {
        "colab": {
          "base_uri": "https://localhost:8080/"
        },
        "id": "rYh5wa4fyJhb",
        "outputId": "da365e8c-8c32-4674-c393-edc1dedec607"
      },
      "id": "rYh5wa4fyJhb",
      "execution_count": 36,
      "outputs": [
        {
          "output_type": "stream",
          "name": "stdout",
          "text": [
            "(320000, 2) (80000, 2) (100000, 2) (320000,) (80000,) (100000,)\n"
          ]
        }
      ]
    },
    {
      "cell_type": "code",
      "source": [
        "# remove zero valued fluxes.\n",
        "y_train = y_train[~np.all(x_train == 0, axis=1)]\n",
        "x_train = x_train[~np.all(x_train == 0, axis=1)]\n",
        "\n"
      ],
      "metadata": {
        "id": "AGsAKujN0gsr"
      },
      "id": "AGsAKujN0gsr",
      "execution_count": 37,
      "outputs": []
    },
    {
      "cell_type": "code",
      "source": [
        "print(np.mean(x_train[:,0]), np.std(x_train[:,0]), np.max(x_train[:,0]), np.min(x_train[:,0]))"
      ],
      "metadata": {
        "colab": {
          "base_uri": "https://localhost:8080/"
        },
        "id": "mJi4tX3LzN4e",
        "outputId": "3055ee88-987f-47ba-fadb-16f70de8a26c"
      },
      "id": "mJi4tX3LzN4e",
      "execution_count": 38,
      "outputs": [
        {
          "output_type": "stream",
          "name": "stdout",
          "text": [
            "9.980203236505275e+27 8.368070641455743e+28 1.2638160080938696e+31 1.5494635808921732e+24\n"
          ]
        }
      ]
    },
    {
      "cell_type": "code",
      "source": [
        "# check distributions\n",
        "plt.hist(np.log(x_train[:,0]),bins=200, density=True, alpha=0.6)\n",
        "plt.hist(np.log(x_train[:,1]),bins=200, density=True, alpha=0.6)"
      ],
      "metadata": {
        "colab": {
          "base_uri": "https://localhost:8080/",
          "height": 1000
        },
        "id": "j6CYW1Uzyrfi",
        "outputId": "2bd7f408-729b-4ac4-fcbf-00e64154e56c"
      },
      "id": "j6CYW1Uzyrfi",
      "execution_count": 39,
      "outputs": [
        {
          "output_type": "execute_result",
          "data": {
            "text/plain": [
              "(array([3.96811930e-05, 0.00000000e+00, 3.96811930e-05, 7.93623860e-05,\n",
              "        1.58724772e-04, 1.58724772e-04, 3.17449544e-04, 6.34899088e-04,\n",
              "        8.72986246e-04, 9.92029824e-04, 1.98405965e-03, 2.46023396e-03,\n",
              "        3.41258260e-03, 5.87281656e-03, 6.98388996e-03, 1.02774290e-02,\n",
              "        1.13091400e-02, 1.60312020e-02, 1.91263350e-02, 2.27770048e-02,\n",
              "        3.69431907e-02, 4.54746472e-02, 5.29743926e-02, 6.21804294e-02,\n",
              "        8.18226199e-02, 9.92426636e-02, 1.01147361e-01, 1.22337118e-01,\n",
              "        1.36701710e-01, 1.33289127e-01, 1.46622008e-01, 1.45153804e-01,\n",
              "        1.51740882e-01, 1.59597758e-01, 1.65153125e-01, 1.66105474e-01,\n",
              "        1.65351531e-01, 1.59399352e-01, 1.53645579e-01, 1.67057822e-01,\n",
              "        1.71541797e-01, 1.75470235e-01, 1.79636761e-01, 1.77136845e-01,\n",
              "        1.84160417e-01, 1.81224008e-01, 1.86660332e-01, 1.89398334e-01,\n",
              "        1.90072914e-01, 1.90906219e-01, 1.96898080e-01, 1.92969641e-01,\n",
              "        1.95588600e-01, 1.94874339e-01, 1.93882309e-01, 1.92771235e-01,\n",
              "        1.89596740e-01, 1.87136506e-01, 1.88961841e-01, 1.88525348e-01,\n",
              "        1.81700183e-01, 1.83366793e-01, 1.77216208e-01, 1.77652701e-01,\n",
              "        1.72216378e-01, 1.61740543e-01, 1.58486685e-01, 1.58486685e-01,\n",
              "        1.52018650e-01, 1.48447343e-01, 1.45312529e-01, 1.37019159e-01,\n",
              "        1.33924026e-01, 1.34519244e-01, 1.30193994e-01, 1.22178393e-01,\n",
              "        1.20551464e-01, 1.19718159e-01, 1.11583515e-01, 1.09956586e-01,\n",
              "        1.07020177e-01, 1.04401219e-01, 9.97585191e-02, 9.71395604e-02,\n",
              "        9.27349480e-02, 8.89255535e-02, 9.01159893e-02, 8.62669135e-02,\n",
              "        8.20607071e-02, 8.33701864e-02, 7.85290809e-02, 7.74576887e-02,\n",
              "        7.55133102e-02, 7.08706107e-02, 6.80929271e-02, 6.58707803e-02,\n",
              "        6.60691863e-02, 6.21010670e-02, 6.43628950e-02, 6.36089523e-02,\n",
              "        6.21407482e-02, 6.18629799e-02, 5.98392390e-02, 5.94027459e-02,\n",
              "        5.74583674e-02, 5.76567734e-02, 5.38076977e-02, 5.36886541e-02,\n",
              "        5.13077825e-02, 4.99189408e-02, 4.47603857e-02, 4.57524155e-02,\n",
              "        4.34112251e-02, 4.21017457e-02, 4.05541792e-02, 4.23795141e-02,\n",
              "        3.65860599e-02, 3.83320324e-02, 3.85701196e-02, 3.84907572e-02,\n",
              "        3.50384934e-02, 3.69035095e-02, 3.53956241e-02, 3.51178558e-02,\n",
              "        3.25385782e-02, 3.11497365e-02, 3.37290140e-02, 3.31337961e-02,\n",
              "        3.41258260e-02, 3.28957090e-02, 3.35702893e-02, 3.11497365e-02,\n",
              "        2.92450392e-02, 2.82926906e-02, 2.73006608e-02, 2.85307778e-02,\n",
              "        2.59118190e-02, 2.53166011e-02, 2.48404268e-02, 2.34515850e-02,\n",
              "        2.11500759e-02, 1.82930300e-02, 1.90072914e-02, 1.70232318e-02,\n",
              "        1.41265047e-02, 1.40074611e-02, 1.25789382e-02, 1.28170253e-02,\n",
              "        1.06742409e-02, 1.04361538e-02, 9.20603677e-03, 9.00763081e-03,\n",
              "        7.57910786e-03, 6.74580281e-03, 7.02357116e-03, 5.43632344e-03,\n",
              "        5.03951151e-03, 4.40461242e-03, 4.44429361e-03, 3.76971333e-03,\n",
              "        2.89672709e-03, 2.34119039e-03, 2.49991516e-03, 2.77768351e-03,\n",
              "        1.74597249e-03, 1.82533488e-03, 1.23011698e-03, 1.23011698e-03,\n",
              "        9.52348631e-04, 1.03171102e-03, 1.46820414e-03, 7.53942667e-04,\n",
              "        7.53942667e-04, 6.34899088e-04, 5.95217895e-04, 3.57130737e-04,\n",
              "        4.36493123e-04, 2.77768351e-04, 3.17449544e-04, 1.98405965e-04,\n",
              "        1.98405965e-04, 3.17449544e-04, 2.77768351e-04, 1.98405965e-04,\n",
              "        7.93623860e-05, 0.00000000e+00, 7.93623860e-05, 3.96811930e-05,\n",
              "        7.93623860e-05, 7.93623860e-05, 3.96811930e-05, 1.19043579e-04,\n",
              "        7.93623860e-05, 3.96811930e-05, 3.96811930e-05, 0.00000000e+00,\n",
              "        3.96811930e-05, 0.00000000e+00, 0.00000000e+00, 3.96811930e-05]),\n",
              " array([56.20051938, 56.2792723 , 56.35802522, 56.43677814, 56.51553106,\n",
              "        56.59428398, 56.6730369 , 56.75178981, 56.83054273, 56.90929565,\n",
              "        56.98804857, 57.06680149, 57.14555441, 57.22430733, 57.30306025,\n",
              "        57.38181316, 57.46056608, 57.539319  , 57.61807192, 57.69682484,\n",
              "        57.77557776, 57.85433068, 57.9330836 , 58.01183651, 58.09058943,\n",
              "        58.16934235, 58.24809527, 58.32684819, 58.40560111, 58.48435403,\n",
              "        58.56310695, 58.64185986, 58.72061278, 58.7993657 , 58.87811862,\n",
              "        58.95687154, 59.03562446, 59.11437738, 59.19313029, 59.27188321,\n",
              "        59.35063613, 59.42938905, 59.50814197, 59.58689489, 59.66564781,\n",
              "        59.74440073, 59.82315364, 59.90190656, 59.98065948, 60.0594124 ,\n",
              "        60.13816532, 60.21691824, 60.29567116, 60.37442408, 60.45317699,\n",
              "        60.53192991, 60.61068283, 60.68943575, 60.76818867, 60.84694159,\n",
              "        60.92569451, 61.00444743, 61.08320034, 61.16195326, 61.24070618,\n",
              "        61.3194591 , 61.39821202, 61.47696494, 61.55571786, 61.63447078,\n",
              "        61.71322369, 61.79197661, 61.87072953, 61.94948245, 62.02823537,\n",
              "        62.10698829, 62.18574121, 62.26449413, 62.34324704, 62.42199996,\n",
              "        62.50075288, 62.5795058 , 62.65825872, 62.73701164, 62.81576456,\n",
              "        62.89451748, 62.97327039, 63.05202331, 63.13077623, 63.20952915,\n",
              "        63.28828207, 63.36703499, 63.44578791, 63.52454082, 63.60329374,\n",
              "        63.68204666, 63.76079958, 63.8395525 , 63.91830542, 63.99705834,\n",
              "        64.07581126, 64.15456417, 64.23331709, 64.31207001, 64.39082293,\n",
              "        64.46957585, 64.54832877, 64.62708169, 64.70583461, 64.78458752,\n",
              "        64.86334044, 64.94209336, 65.02084628, 65.0995992 , 65.17835212,\n",
              "        65.25710504, 65.33585796, 65.41461087, 65.49336379, 65.57211671,\n",
              "        65.65086963, 65.72962255, 65.80837547, 65.88712839, 65.96588131,\n",
              "        66.04463422, 66.12338714, 66.20214006, 66.28089298, 66.3596459 ,\n",
              "        66.43839882, 66.51715174, 66.59590466, 66.67465757, 66.75341049,\n",
              "        66.83216341, 66.91091633, 66.98966925, 67.06842217, 67.14717509,\n",
              "        67.22592801, 67.30468092, 67.38343384, 67.46218676, 67.54093968,\n",
              "        67.6196926 , 67.69844552, 67.77719844, 67.85595136, 67.93470427,\n",
              "        68.01345719, 68.09221011, 68.17096303, 68.24971595, 68.32846887,\n",
              "        68.40722179, 68.4859747 , 68.56472762, 68.64348054, 68.72223346,\n",
              "        68.80098638, 68.8797393 , 68.95849222, 69.03724514, 69.11599805,\n",
              "        69.19475097, 69.27350389, 69.35225681, 69.43100973, 69.50976265,\n",
              "        69.58851557, 69.66726849, 69.7460214 , 69.82477432, 69.90352724,\n",
              "        69.98228016, 70.06103308, 70.139786  , 70.21853892, 70.29729184,\n",
              "        70.37604475, 70.45479767, 70.53355059, 70.61230351, 70.69105643,\n",
              "        70.76980935, 70.84856227, 70.92731519, 71.0060681 , 71.08482102,\n",
              "        71.16357394, 71.24232686, 71.32107978, 71.3998327 , 71.47858562,\n",
              "        71.55733854, 71.63609145, 71.71484437, 71.79359729, 71.87235021,\n",
              "        71.95110313]),\n",
              " <BarContainer object of 200 artists>)"
            ]
          },
          "metadata": {},
          "execution_count": 39
        },
        {
          "output_type": "display_data",
          "data": {
            "text/plain": [
              "<Figure size 640x480 with 1 Axes>"
            ],
            "image/png": "[encoded data removed]"
          },
          "metadata": {}
        }
      ]
    },
    {
      "cell_type": "code",
      "source": [
        "# normalise each set of data.\n",
        "\n",
        "x_train_scaled = np.copy(x_train)\n",
        "x_train_scaled[:,:2] = np.log(x_train_scaled[:,:2])\n",
        "scaler = StandardScaler()\n",
        "scaler.fit(x_train_scaled)\n",
        "x_train_scaled = scaler.transform(x_train_scaled)/20.+0.5\n",
        "\n",
        "def data_scaler(data):\n",
        "    \"\"\"\n",
        "    Scales input testing and validation data\n",
        "    \"\"\"\n",
        "\n",
        "    data_scaled = np.copy(data)\n",
        "    data_scaled[:,:2] = np.log(data[:,:2])\n",
        "    data_scaled = scaler.transform(data_scaled)/20.+0.5\n",
        "\n",
        "    return data_scaled\n",
        "\n",
        "x_test_scaled = data_scaler(x_test)\n",
        "x_val_scaled = data_scaler(x_val)"
      ],
      "metadata": {
        "id": "4udOEfsGyTer"
      },
      "id": "4udOEfsGyTer",
      "execution_count": 40,
      "outputs": []
    },
    {
      "cell_type": "code",
      "source": [
        "print(np.mean(x_test_scaled[:,1]), np.std(x_test_scaled[:,1]), np.max(x_test_scaled[:,1]), np.min(x_test_scaled[:,1]))"
      ],
      "metadata": {
        "colab": {
          "base_uri": "https://localhost:8080/"
        },
        "id": "DhwWOJXC56aV",
        "outputId": "1ff0c78a-bd34-49c7-bf4e-2a3874872fd6"
      },
      "id": "DhwWOJXC56aV",
      "execution_count": 41,
      "outputs": [
        {
          "output_type": "stream",
          "name": "stdout",
          "text": [
            "0.49987088936449664 0.0500180649217171 0.7152666733434989 0.3919323649312017\n"
          ]
        }
      ]
    },
    {
      "cell_type": "code",
      "source": [
        "# check distributions match\n",
        "_ = plt.hist(x_train_scaled[:,1],bins=np.linspace(-0,1,512),density=True, label='g')\n",
        "_ = plt.hist(x_train_scaled[:,0],bins=np.linspace(-0,1,512),alpha=0.6,density=True, label='z')\n",
        "\n",
        "_ = plt.hist(x_val_scaled[:,1],bins=np.linspace(-0,1,512),density=True, label='g')\n",
        "_ = plt.hist(x_val_scaled[:,0],bins=np.linspace(-0,1,512),alpha=0.6,density=True, label='z')\n",
        "\n",
        "_ = plt.hist(x_test_scaled[:,1],bins=np.linspace(-0,1,512),density=True, label='g')\n",
        "_ = plt.hist(x_test_scaled[:,0],bins=np.linspace(-0,1,512),alpha=0.6,density=True, label='z')\n",
        "\n",
        "plt.legend()"
      ],
      "metadata": {
        "colab": {
          "base_uri": "https://localhost:8080/",
          "height": 447
        },
        "id": "YFM5f_XQ37yx",
        "outputId": "3dd153cf-46ec-4190-db79-68fa8b3fe43e"
      },
      "id": "YFM5f_XQ37yx",
      "execution_count": 42,
      "outputs": [
        {
          "output_type": "execute_result",
          "data": {
            "text/plain": [
              "<matplotlib.legend.Legend at 0x7dc738030d00>"
            ]
          },
          "metadata": {},
          "execution_count": 42
        },
        {
          "output_type": "display_data",
          "data": {
            "text/plain": [
              "<Figure size 640x480 with 1 Axes>"
            ],
            "image/png": "[encoded data removed]"
          },
          "metadata": {}
        }
      ]
    },
    {
      "cell_type": "markdown",
      "source": [
        "The following cell checks the ratio of models in each dataset. This is so the density estimation can be rescaled later."
      ],
      "metadata": {
        "id": "w6wsh4YULPT6"
      },
      "id": "w6wsh4YULPT6"
    },
    {
      "cell_type": "code",
      "source": [
        "def M_ratio(y):\n",
        "  scale = np.sum(y)/np.sum(1 - y)\n",
        "  return scale\n",
        "\n",
        "print(M_ratio(y_train), M_ratio(y_val), M_ratio(y_test))\n",
        "\n",
        "\n"
      ],
      "metadata": {
        "colab": {
          "base_uri": "https://localhost:8080/"
        },
        "id": "OdSU-SFX_Opv",
        "outputId": "6f9d87b6-b356-47b0-85f5-2de73f601900"
      },
      "id": "OdSU-SFX_Opv",
      "execution_count": 43,
      "outputs": [
        {
          "output_type": "stream",
          "name": "stdout",
          "text": [
            "1.3087950937950938 1.3020920261287445 1.2967386311437759\n"
          ]
        }
      ]
    },
    {
      "cell_type": "markdown",
      "metadata": {
        "id": "IrgSYceYU3Kp"
      },
      "source": [
        "## Define functions for network"
      ],
      "id": "IrgSYceYU3Kp"
    },
    {
      "cell_type": "code",
      "execution_count": 44,
      "metadata": {
        "id": "8d01cfb2-2a20-438b-91ee-7bc29b26048e"
      },
      "outputs": [],
      "source": [
        "def smooth_sign(x, k =100.):\n",
        "\n",
        "    return 2.*tf.math.sigmoid(k*x) - 1\n",
        "\n",
        "\n",
        "def parity_odd_power(x, alpha=2):\n",
        "    return (x)*(tf.math.abs(x)**(alpha-1))\n",
        "\n",
        "\n",
        "# def leaky_parity_odd_power(x, alpha=2):\n",
        "#     x_transition = (alpha)**(alpha/(1.-alpha))\n",
        "#     shift=(alpha)**(1./(1.-alpha)) - x_transition\n",
        "#     return tf.where(tf.math.abs(x)<x_transition, x, tf.sign(x)*tf.math.abs(x+tf.sign(x)*shift)**alpha)\n",
        "\n",
        "\n",
        "def leaky_parity_odd_power(x, alpha=2):\n",
        "    return x + parity_odd_power(x, alpha)"
      ],
      "id": "8d01cfb2-2a20-438b-91ee-7bc29b26048e"
    },
    {
      "cell_type": "code",
      "execution_count": 45,
      "metadata": {
        "id": "accurate-pride"
      },
      "outputs": [],
      "source": [
        "# Evidence Net functions:\n",
        "\n",
        "class POPExpLoss(tf.keras.losses.Loss):\n",
        "    \"\"\"\n",
        "    Custom exponential loss\n",
        "    \"\"\"\n",
        "\n",
        "    def call(self, model_label, model_pred):\n",
        "        model_pred =  leaky_parity_odd_power(model_pred, alpha=1)\n",
        "        model_pred = tf.clip_by_value(model_pred, -50, 50)\n",
        "        loss_val =  tf.math.exp((0.5 - model_label) * (model_pred) )\n",
        "        return tf.reduce_mean(loss_val)\n",
        "\n",
        "\n",
        "class ExpLoss(tf.keras.losses.Loss):\n",
        "    \"\"\"\n",
        "    Custom exponential loss\n",
        "    \"\"\"\n",
        "\n",
        "    def call(self, model_label, model_pred):\n",
        "        model_pred = tf.clip_by_value(model_pred, -50, 50)\n",
        "        loss_val =  tf.math.exp((0.5 - model_label) * (model_pred) )\n",
        "        return tf.reduce_mean(loss_val)\n",
        "\n",
        "\n",
        "def get_lr_metric(optimizer):\n",
        "    \"\"\"\n",
        "    Learning rate on-the-fly\n",
        "    :param optimizer:\n",
        "    :return: learning rate\n",
        "    \"\"\"\n",
        "    def lr(y_true, y_pred):\n",
        "        return optimizer._decayed_lr(tf.float32)  # I use ._decayed_lr method instead of .lr\n",
        "        # return optimizer.lr(tf.float32) #C try .lr\n",
        "    return lr\n",
        "\n",
        "\n",
        "\n",
        "class DenseNetwork:\n",
        "    \"\"\"\n",
        "    Network that takes in data and returns functions of the Bayesian evidence\n",
        "    \"\"\"\n",
        "\n",
        "    def __init__(self, input_size, weight_init='he_normal', layer_width=100, added_layers=3,\n",
        "                 learning_rate=1e-4, decay_rate=None, batch_norm_flag=1, residual_flag=0):\n",
        "        \"\"\"\n",
        "        Initialisation\n",
        "        :param map_size: size of square image (there are map_size**2 pixels)\n",
        "        :param learning_rate: learning rate for the optimizer\n",
        "        \"\"\"\n",
        "        self.input_size = input_size\n",
        "        self.learning_rate = learning_rate\n",
        "        self.layer_width = layer_width\n",
        "        self.weight_init = weight_init\n",
        "        self.decay_rate = decay_rate\n",
        "        self.added_layers = added_layers\n",
        "        self.batch_norm_flag = batch_norm_flag\n",
        "        self.residual_flag = residual_flag\n",
        "\n",
        "\n",
        "        print('Hyper-parameters:', input_size, weight_init, layer_width, added_layers,\n",
        "              learning_rate, decay_rate, batch_norm_flag, residual_flag)\n",
        "\n",
        "    def simple_layer(self, x_in):\n",
        "        x_out = Dense(self.layer_width, kernel_initializer=self.weight_init)(x_in)\n",
        "        x_out = LeakyReLU(alpha=0.1)(x_out)\n",
        "        # x_out = tf.tanh(x_out)\n",
        "        if self.batch_norm_flag == 1:\n",
        "            x_out = BatchNormalization()(x_out)\n",
        "        return x_out\n",
        "\n",
        "    def residual_block(self, x_in):\n",
        "        x_out = Dense(self.layer_width, kernel_initializer=self.weight_init)(x_in)\n",
        "        x_out = LeakyReLU(alpha=0.1)(x_out)\n",
        "        # x_out = tf.tanh(x_out)\n",
        "        if self.batch_norm_flag == 1:\n",
        "            x_out = BatchNormalization()(x_out)\n",
        "\n",
        "        x_out = Dense(self.layer_width, kernel_initializer=self.weight_init)(x_out)\n",
        "        x_out = LeakyReLU(alpha=0.1)(x_out) + x_in\n",
        "        if self.batch_norm_flag == 1:\n",
        "            x_out = BatchNormalization()(x_out)\n",
        "\n",
        "        return x_out\n",
        "\n",
        "    def model(self):\n",
        "\n",
        "        input_data = (Input(shape=(self.input_size,)))\n",
        "\n",
        "\n",
        "        x1 = Dense(int(1.1*self.input_size)+20, input_dim=self.input_size, kernel_initializer=self.weight_init)(input_data)\n",
        "        x_inner = LeakyReLU(alpha=0.1)(x1)\n",
        "        x_inner = BatchNormalization()(x_inner)\n",
        "        x_inner = Dense(self.layer_width, input_dim=self.input_size, kernel_initializer=self.weight_init)(x_inner)\n",
        "        x_inner = LeakyReLU(alpha=0.1)(x_inner)\n",
        "        x_inner = BatchNormalization()(x_inner)\n",
        "\n",
        "        # x_inner = tf.tanh(x1)\n",
        "\n",
        "        for i in range(self.added_layers):\n",
        "            x_inner = self.residual_block(x_inner)\n",
        "            # x_inner = self.simple_layer(x_inner)\n",
        "\n",
        "        x_out = Dense(self.layer_width, kernel_initializer=self.weight_init)(x_inner)\n",
        "        x_out = LeakyReLU(alpha=0.1)(x_out)\n",
        "        x_out = Dense(1, kernel_initializer=self.weight_init)(x_out)\n",
        "        x_out = 0.1*x_out + 0.001\n",
        "        ### alpha scaled here\n",
        "        x_out = leaky_parity_odd_power(x_out, alpha=1)\n",
        "        ###\n",
        "\n",
        "        dense_model = Model(input_data, x_out)\n",
        "\n",
        "        if self.decay_rate is not None:\n",
        "            lr_schedule = optimizers.schedules.ExponentialDecay(initial_learning_rate=self.learning_rate,\n",
        "                                                                decay_steps=5000,\n",
        "                                                                decay_rate=self.decay_rate)\n",
        "            optimizer = optimizers.Adam(learning_rate=lr_schedule)\n",
        "            lr_metric = get_lr_metric(optimizer)\n",
        "            dense_model.compile(optimizer=optimizer,\n",
        "                                loss=ExpLoss(),\n",
        "                                metrics=[lr_metric])\n",
        "        else:\n",
        "            dense_model.compile(optimizer=optimizers.Adam(learning_rate=self.learning_rate),\n",
        "                                loss=ExpLoss())\n",
        "\n",
        "        return dense_model\n",
        "\n",
        "\n",
        "\n",
        "class CustomCallback(callbacks.Callback):\n",
        "    def on_epoch_end(self, epoch, logs=None):\n",
        "        keys = list(logs.keys())\n",
        "        print(\"Loss: {:.5e}. Val loss: {:.5e}\".format(logs['loss'], logs['val_loss']))\n"
      ],
      "id": "accurate-pride"
    },
    {
      "cell_type": "markdown",
      "metadata": {
        "id": "figured-width"
      },
      "source": [
        "# Evidence Net\n",
        "Network parameters below are set to the best values found during network tuning. Note also that $\\alpha $ can be scaled in the cell above. An ensemble of networks are trained with their Bayes factor predictions averaged to improve the accuracy."
      ],
      "id": "figured-width"
    },
    {
      "cell_type": "code",
      "execution_count": 46,
      "metadata": {
        "id": "ZEVRqjEiCfRw",
        "colab": {
          "base_uri": "https://localhost:8080/"
        },
        "outputId": "f74bdca0-4dbd-4fe2-fa50-7d495df4329a"
      },
      "outputs": [
        {
          "output_type": "stream",
          "name": "stdout",
          "text": [
            "Hyper-parameters: 2 he_normal 45 3 0.0001 0.9 1 0\n",
            "Epoch 1/50\n",
            "640/640 [==============================] - 13s 12ms/step - loss: 0.6146 - lr: 9.9328e-05 - val_loss: 0.6974 - val_lr: 9.8661e-05\n",
            "Epoch 2/50\n",
            "640/640 [==============================] - 5s 8ms/step - loss: 0.4349 - lr: 9.7997e-05 - val_loss: 0.4271 - val_lr: 9.7339e-05\n",
            "Epoch 3/50\n",
            "640/640 [==============================] - 6s 9ms/step - loss: 0.4113 - lr: 9.6684e-05 - val_loss: 0.4094 - val_lr: 9.6035e-05\n",
            "Epoch 4/50\n",
            "640/640 [==============================] - 7s 11ms/step - loss: 0.4030 - lr: 9.5389e-05 - val_loss: 0.4696 - val_lr: 9.4748e-05\n",
            "Epoch 5/50\n",
            "640/640 [==============================] - 6s 9ms/step - loss: 0.4014 - lr: 9.4111e-05 - val_loss: 0.8688 - val_lr: 9.3479e-05\n",
            "Epoch 6/50\n",
            "640/640 [==============================] - 6s 10ms/step - loss: 0.3984 - lr: 9.2851e-05 - val_loss: 0.3958 - val_lr: 9.2227e-05\n",
            "Epoch 7/50\n",
            "640/640 [==============================] - 6s 10ms/step - loss: 0.3967 - lr: 9.1607e-05 - val_loss: 0.6948 - val_lr: 9.0991e-05\n",
            "Epoch 8/50\n",
            "640/640 [==============================] - 6s 9ms/step - loss: 0.3950 - lr: 9.0380e-05 - val_loss: 0.3973 - val_lr: 8.9773e-05\n",
            "Epoch 9/50\n",
            "640/640 [==============================] - 8s 12ms/step - loss: 0.3941 - lr: 8.9169e-05 - val_loss: 0.4223 - val_lr: 8.8570e-05\n",
            "Epoch 10/50\n",
            "640/640 [==============================] - 5s 8ms/step - loss: 0.3938 - lr: 8.7975e-05 - val_loss: 0.4044 - val_lr: 8.7384e-05\n",
            "Epoch 11/50\n",
            "640/640 [==============================] - 6s 9ms/step - loss: 0.3927 - lr: 8.6796e-05 - val_loss: 0.3852 - val_lr: 8.6213e-05\n",
            "Epoch 12/50\n",
            "640/640 [==============================] - 7s 10ms/step - loss: 0.3910 - lr: 8.5633e-05 - val_loss: 0.4625 - val_lr: 8.5058e-05\n",
            "Epoch 13/50\n",
            "640/640 [==============================] - 5s 8ms/step - loss: 0.3925 - lr: 8.4486e-05 - val_loss: 0.4076 - val_lr: 8.3919e-05\n",
            "Epoch 14/50\n",
            "640/640 [==============================] - 7s 11ms/step - loss: 0.3915 - lr: 8.3355e-05 - val_loss: 0.4105 - val_lr: 8.2795e-05\n",
            "Epoch 15/50\n",
            "640/640 [==============================] - 6s 10ms/step - loss: 0.3913 - lr: 8.2238e-05 - val_loss: 0.9846 - val_lr: 8.1686e-05\n",
            "Epoch 16/50\n",
            "640/640 [==============================] - 6s 9ms/step - loss: 0.3904 - lr: 8.1136e-05 - val_loss: 0.5866 - val_lr: 8.0591e-05\n",
            "Epoch 17/50\n",
            "640/640 [==============================] - 11s 17ms/step - loss: 0.3909 - lr: 8.0050e-05 - val_loss: 0.3913 - val_lr: 7.9512e-05\n",
            "Epoch 18/50\n",
            "640/640 [==============================] - 5s 9ms/step - loss: 0.3890 - lr: 7.8977e-05 - val_loss: 0.3879 - val_lr: 7.8447e-05\n",
            "Epoch 19/50\n",
            "640/640 [==============================] - 6s 9ms/step - loss: 0.3906 - lr: 7.7919e-05 - val_loss: 0.4206 - val_lr: 7.7396e-05\n",
            "Epoch 20/50\n",
            "640/640 [==============================] - 7s 11ms/step - loss: 0.3890 - lr: 7.6876e-05 - val_loss: 0.4211 - val_lr: 7.6359e-05\n",
            "Epoch 21/50\n",
            "640/640 [==============================] - 5s 8ms/step - loss: 0.3890 - lr: 7.5846e-05 - val_loss: 1.0294 - val_lr: 7.5336e-05\n",
            "Epoch 22/50\n",
            "640/640 [==============================] - 6s 10ms/step - loss: 0.3889 - lr: 7.4830e-05 - val_loss: 0.3922 - val_lr: 7.4327e-05\n",
            "Epoch 23/50\n",
            "640/640 [==============================] - 7s 10ms/step - loss: 0.3881 - lr: 7.3827e-05 - val_loss: 0.3987 - val_lr: 7.3331e-05\n",
            "Epoch 24/50\n",
            "640/640 [==============================] - 5s 8ms/step - loss: 0.3898 - lr: 7.2838e-05 - val_loss: 0.4256 - val_lr: 7.2349e-05\n",
            "Epoch 25/50\n",
            "640/640 [==============================] - 7s 12ms/step - loss: 0.3896 - lr: 7.1863e-05 - val_loss: 0.3900 - val_lr: 7.1380e-05\n",
            "Epoch 26/50\n",
            "640/640 [==============================] - 6s 9ms/step - loss: 0.3881 - lr: 7.0900e-05 - val_loss: 0.3921 - val_lr: 7.0424e-05\n",
            "Epoch 27/50\n",
            "640/640 [==============================] - 6s 10ms/step - loss: 0.3881 - lr: 6.9950e-05 - val_loss: 0.3962 - val_lr: 6.9480e-05\n",
            "Epoch 28/50\n",
            "640/640 [==============================] - 7s 10ms/step - loss: 0.3876 - lr: 6.9013e-05 - val_loss: 0.4753 - val_lr: 6.8550e-05\n",
            "Epoch 29/50\n",
            "640/640 [==============================] - 5s 8ms/step - loss: 0.3885 - lr: 6.8089e-05 - val_loss: 0.4543 - val_lr: 6.7631e-05\n",
            "Epoch 30/50\n",
            "640/640 [==============================] - 7s 10ms/step - loss: 0.3879 - lr: 6.7177e-05 - val_loss: 0.3831 - val_lr: 6.6725e-05\n",
            "Epoch 31/50\n",
            "640/640 [==============================] - 6s 9ms/step - loss: 0.3892 - lr: 6.6277e-05 - val_loss: 0.3857 - val_lr: 6.5831e-05\n",
            "Epoch 32/50\n",
            "640/640 [==============================] - 5s 8ms/step - loss: 0.3878 - lr: 6.5389e-05 - val_loss: 0.4044 - val_lr: 6.4950e-05\n",
            "Epoch 33/50\n",
            "640/640 [==============================] - 7s 12ms/step - loss: 0.3870 - lr: 6.4513e-05 - val_loss: 0.3890 - val_lr: 6.4080e-05\n",
            "Epoch 34/50\n",
            "640/640 [==============================] - 5s 8ms/step - loss: 0.3865 - lr: 6.3649e-05 - val_loss: 0.3974 - val_lr: 6.3221e-05\n",
            "Epoch 35/50\n",
            "640/640 [==============================] - 6s 10ms/step - loss: 0.3883 - lr: 6.2796e-05 - val_loss: 0.3878 - val_lr: 6.2374e-05\n",
            "Epoch 36/50\n",
            "640/640 [==============================] - 7s 11ms/step - loss: 0.3874 - lr: 6.1955e-05 - val_loss: 0.4411 - val_lr: 6.1539e-05\n",
            "Epoch 37/50\n",
            "640/640 [==============================] - 6s 9ms/step - loss: 0.3872 - lr: 6.1125e-05 - val_loss: 0.3842 - val_lr: 6.0714e-05\n",
            "Epoch 38/50\n",
            "640/640 [==============================] - 7s 11ms/step - loss: 0.3865 - lr: 6.0306e-05 - val_loss: 0.4189 - val_lr: 5.9901e-05\n",
            "Epoch 39/50\n",
            "640/640 [==============================] - 5s 8ms/step - loss: 0.3882 - lr: 5.9498e-05 - val_loss: 0.4167 - val_lr: 5.9099e-05\n",
            "Epoch 40/50\n",
            "640/640 [==============================] - 6s 9ms/step - loss: 0.3860 - lr: 5.8701e-05 - val_loss: 0.3930 - val_lr: 5.8307e-05\n",
            "Epoch 41/50\n",
            "640/640 [==============================] - 7s 11ms/step - loss: 0.3862 - lr: 5.7915e-05 - val_loss: 0.4263 - val_lr: 5.7526e-05\n",
            "Epoch 42/50\n",
            "640/640 [==============================] - 5s 8ms/step - loss: 0.3865 - lr: 5.7139e-05 - val_loss: 0.3915 - val_lr: 5.6755e-05\n",
            "Epoch 43/50\n",
            "640/640 [==============================] - 7s 11ms/step - loss: 0.3866 - lr: 5.6374e-05 - val_loss: 0.4401 - val_lr: 5.5995e-05\n",
            "Epoch 44/50\n",
            "640/640 [==============================] - 8s 12ms/step - loss: 0.3873 - lr: 5.5619e-05 - val_loss: 0.3816 - val_lr: 5.5245e-05\n",
            "Epoch 45/50\n",
            "640/640 [==============================] - 6s 9ms/step - loss: 0.3870 - lr: 5.4874e-05 - val_loss: 0.3920 - val_lr: 5.4505e-05\n",
            "Epoch 46/50\n",
            "640/640 [==============================] - 7s 11ms/step - loss: 0.3870 - lr: 5.4139e-05 - val_loss: 0.3997 - val_lr: 5.3775e-05\n",
            "Epoch 47/50\n",
            "640/640 [==============================] - 6s 9ms/step - loss: 0.3861 - lr: 5.3413e-05 - val_loss: 0.3862 - val_lr: 5.3055e-05\n",
            "Epoch 48/50\n",
            "640/640 [==============================] - 6s 9ms/step - loss: 0.3861 - lr: 5.2698e-05 - val_loss: 0.3842 - val_lr: 5.2344e-05\n",
            "Epoch 49/50\n",
            "640/640 [==============================] - 7s 11ms/step - loss: 0.3860 - lr: 5.1992e-05 - val_loss: 0.3911 - val_lr: 5.1643e-05\n",
            "Epoch 50/50\n",
            "640/640 [==============================] - 6s 9ms/step - loss: 0.3861 - lr: 5.1295e-05 - val_loss: 0.3875 - val_lr: 5.0951e-05\n",
            "Hyper-parameters: 2 he_normal 45 3 0.0001 0.9 1 0\n",
            "Epoch 1/50\n",
            "640/640 [==============================] - 10s 11ms/step - loss: 0.6488 - lr: 9.9328e-05 - val_loss: 0.6285 - val_lr: 9.8661e-05\n",
            "Epoch 2/50\n",
            "640/640 [==============================] - 6s 9ms/step - loss: 0.4509 - lr: 9.7997e-05 - val_loss: 0.4668 - val_lr: 9.7339e-05\n",
            "Epoch 3/50\n",
            "640/640 [==============================] - 7s 11ms/step - loss: 0.4171 - lr: 9.6684e-05 - val_loss: 0.6857 - val_lr: 9.6035e-05\n",
            "Epoch 4/50\n",
            "640/640 [==============================] - 6s 9ms/step - loss: 0.4060 - lr: 9.5389e-05 - val_loss: 0.4107 - val_lr: 9.4748e-05\n",
            "Epoch 5/50\n",
            "640/640 [==============================] - 6s 9ms/step - loss: 0.3993 - lr: 9.4111e-05 - val_loss: 0.7025 - val_lr: 9.3479e-05\n",
            "Epoch 6/50\n",
            "640/640 [==============================] - 7s 11ms/step - loss: 0.3981 - lr: 9.2851e-05 - val_loss: 0.4093 - val_lr: 9.2227e-05\n",
            "Epoch 7/50\n",
            "640/640 [==============================] - 6s 9ms/step - loss: 0.3996 - lr: 9.1607e-05 - val_loss: 1.4966 - val_lr: 9.0991e-05\n",
            "Epoch 8/50\n",
            "640/640 [==============================] - 7s 11ms/step - loss: 0.3966 - lr: 9.0380e-05 - val_loss: 0.4029 - val_lr: 8.9773e-05\n",
            "Epoch 9/50\n",
            "640/640 [==============================] - 6s 9ms/step - loss: 0.3948 - lr: 8.9169e-05 - val_loss: 0.4410 - val_lr: 8.8570e-05\n",
            "Epoch 10/50\n",
            "640/640 [==============================] - 6s 9ms/step - loss: 0.3974 - lr: 8.7975e-05 - val_loss: 0.3923 - val_lr: 8.7384e-05\n",
            "Epoch 11/50\n",
            "640/640 [==============================] - 8s 12ms/step - loss: 0.3951 - lr: 8.6796e-05 - val_loss: 0.3893 - val_lr: 8.6213e-05\n",
            "Epoch 12/50\n",
            "640/640 [==============================] - 6s 9ms/step - loss: 0.3928 - lr: 8.5633e-05 - val_loss: 0.4367 - val_lr: 8.5058e-05\n",
            "Epoch 13/50\n",
            "640/640 [==============================] - 6s 10ms/step - loss: 0.3927 - lr: 8.4486e-05 - val_loss: 0.3857 - val_lr: 8.3919e-05\n",
            "Epoch 14/50\n",
            "640/640 [==============================] - 6s 10ms/step - loss: 0.3925 - lr: 8.3355e-05 - val_loss: 2.6413 - val_lr: 8.2795e-05\n",
            "Epoch 15/50\n",
            "640/640 [==============================] - 6s 9ms/step - loss: 0.3913 - lr: 8.2238e-05 - val_loss: 0.4062 - val_lr: 8.1686e-05\n",
            "Epoch 16/50\n",
            "640/640 [==============================] - 7s 12ms/step - loss: 0.3920 - lr: 8.1136e-05 - val_loss: 3.1899 - val_lr: 8.0591e-05\n",
            "Epoch 17/50\n",
            "640/640 [==============================] - 5s 8ms/step - loss: 0.3923 - lr: 8.0050e-05 - val_loss: 0.4495 - val_lr: 7.9512e-05\n",
            "Epoch 18/50\n",
            "640/640 [==============================] - 6s 9ms/step - loss: 0.3899 - lr: 7.8977e-05 - val_loss: 0.4665 - val_lr: 7.8447e-05\n",
            "Epoch 19/50\n",
            "640/640 [==============================] - 9s 14ms/step - loss: 0.3909 - lr: 7.7919e-05 - val_loss: 0.4192 - val_lr: 7.7396e-05\n",
            "Epoch 20/50\n",
            "640/640 [==============================] - 6s 10ms/step - loss: 0.3910 - lr: 7.6876e-05 - val_loss: 0.5777 - val_lr: 7.6359e-05\n",
            "Epoch 21/50\n",
            "640/640 [==============================] - 6s 9ms/step - loss: 0.3907 - lr: 7.5846e-05 - val_loss: 0.4316 - val_lr: 7.5336e-05\n",
            "Epoch 22/50\n",
            "640/640 [==============================] - 7s 11ms/step - loss: 0.3894 - lr: 7.4830e-05 - val_loss: 0.4181 - val_lr: 7.4327e-05\n",
            "Epoch 23/50\n",
            "640/640 [==============================] - 5s 8ms/step - loss: 0.3901 - lr: 7.3827e-05 - val_loss: 0.3923 - val_lr: 7.3331e-05\n",
            "Epoch 24/50\n",
            "640/640 [==============================] - 6s 10ms/step - loss: 0.3891 - lr: 7.2838e-05 - val_loss: 5.5015 - val_lr: 7.2349e-05\n",
            "Epoch 25/50\n",
            "640/640 [==============================] - 6s 10ms/step - loss: 0.3897 - lr: 7.1863e-05 - val_loss: 5.7949 - val_lr: 7.1380e-05\n",
            "Epoch 26/50\n",
            "640/640 [==============================] - 6s 9ms/step - loss: 0.3892 - lr: 7.0900e-05 - val_loss: 0.4442 - val_lr: 7.0424e-05\n",
            "Epoch 27/50\n",
            "640/640 [==============================] - 7s 11ms/step - loss: 0.3886 - lr: 6.9950e-05 - val_loss: 0.4032 - val_lr: 6.9480e-05\n",
            "Epoch 28/50\n",
            "640/640 [==============================] - 5s 8ms/step - loss: 0.3911 - lr: 6.9013e-05 - val_loss: 0.6432 - val_lr: 6.8550e-05\n",
            "Epoch 29/50\n",
            "640/640 [==============================] - 6s 9ms/step - loss: 0.3884 - lr: 6.8089e-05 - val_loss: 0.4104 - val_lr: 6.7631e-05\n",
            "Epoch 30/50\n",
            "640/640 [==============================] - 7s 11ms/step - loss: 0.3878 - lr: 6.7177e-05 - val_loss: 0.4179 - val_lr: 6.6725e-05\n",
            "Epoch 31/50\n",
            "640/640 [==============================] - 6s 9ms/step - loss: 0.3881 - lr: 6.6277e-05 - val_loss: 0.7183 - val_lr: 6.5831e-05\n",
            "Epoch 32/50\n",
            "640/640 [==============================] - 7s 11ms/step - loss: 0.3874 - lr: 6.5389e-05 - val_loss: 0.3887 - val_lr: 6.4950e-05\n",
            "Epoch 33/50\n",
            "640/640 [==============================] - 6s 10ms/step - loss: 0.3913 - lr: 6.4513e-05 - val_loss: 0.3965 - val_lr: 6.4080e-05\n",
            "Epoch 34/50\n",
            "640/640 [==============================] - 6s 9ms/step - loss: 0.3873 - lr: 6.3649e-05 - val_loss: 0.4861 - val_lr: 6.3221e-05\n",
            "Epoch 35/50\n",
            "640/640 [==============================] - 7s 11ms/step - loss: 0.3872 - lr: 6.2796e-05 - val_loss: 0.3929 - val_lr: 6.2374e-05\n",
            "Epoch 36/50\n",
            "640/640 [==============================] - 5s 8ms/step - loss: 0.3866 - lr: 6.1955e-05 - val_loss: 0.3991 - val_lr: 6.1539e-05\n",
            "Epoch 37/50\n",
            "640/640 [==============================] - 6s 10ms/step - loss: 0.3866 - lr: 6.1125e-05 - val_loss: 0.4170 - val_lr: 6.0714e-05\n",
            "Epoch 38/50\n",
            "640/640 [==============================] - 6s 10ms/step - loss: 0.3862 - lr: 6.0306e-05 - val_loss: 0.4132 - val_lr: 5.9901e-05\n",
            "Epoch 39/50\n",
            "640/640 [==============================] - 5s 8ms/step - loss: 0.3869 - lr: 5.9498e-05 - val_loss: 1.0750 - val_lr: 5.9099e-05\n",
            "Epoch 40/50\n",
            "640/640 [==============================] - 7s 12ms/step - loss: 0.3869 - lr: 5.8701e-05 - val_loss: 0.5672 - val_lr: 5.8307e-05\n",
            "Epoch 41/50\n",
            "640/640 [==============================] - 6s 9ms/step - loss: 0.3862 - lr: 5.7915e-05 - val_loss: 0.4951 - val_lr: 5.7526e-05\n",
            "Epoch 42/50\n",
            "640/640 [==============================] - 6s 10ms/step - loss: 0.3856 - lr: 5.7139e-05 - val_loss: 0.3838 - val_lr: 5.6755e-05\n",
            "Epoch 43/50\n",
            "640/640 [==============================] - 7s 10ms/step - loss: 0.3869 - lr: 5.6374e-05 - val_loss: 0.5921 - val_lr: 5.5995e-05\n",
            "Epoch 44/50\n",
            "640/640 [==============================] - 5s 8ms/step - loss: 0.3849 - lr: 5.5619e-05 - val_loss: 0.4287 - val_lr: 5.5245e-05\n",
            "Epoch 45/50\n",
            "640/640 [==============================] - 8s 12ms/step - loss: 0.3851 - lr: 5.4874e-05 - val_loss: 0.4951 - val_lr: 5.4505e-05\n",
            "Epoch 46/50\n",
            "640/640 [==============================] - 8s 12ms/step - loss: 0.3858 - lr: 5.4139e-05 - val_loss: 3.5030 - val_lr: 5.3775e-05\n",
            "Epoch 47/50\n",
            "640/640 [==============================] - 5s 9ms/step - loss: 0.3868 - lr: 5.3413e-05 - val_loss: 2.9160 - val_lr: 5.3055e-05\n",
            "Epoch 48/50\n",
            "640/640 [==============================] - 7s 11ms/step - loss: 0.3858 - lr: 5.2698e-05 - val_loss: 1.9363 - val_lr: 5.2344e-05\n",
            "Epoch 49/50\n",
            "640/640 [==============================] - 6s 9ms/step - loss: 0.3845 - lr: 5.1992e-05 - val_loss: 0.5128 - val_lr: 5.1643e-05\n",
            "Epoch 50/50\n",
            "640/640 [==============================] - 5s 9ms/step - loss: 0.3856 - lr: 5.1295e-05 - val_loss: 1.0242 - val_lr: 5.0951e-05\n",
            "Hyper-parameters: 2 he_normal 45 3 0.0001 0.9 1 0\n",
            "Epoch 1/50\n",
            "640/640 [==============================] - 8s 9ms/step - loss: 0.6235 - lr: 9.9328e-05 - val_loss: 0.6357 - val_lr: 9.8661e-05\n",
            "Epoch 2/50\n",
            "640/640 [==============================] - 8s 12ms/step - loss: 0.4416 - lr: 9.7997e-05 - val_loss: 0.4486 - val_lr: 9.7339e-05\n",
            "Epoch 3/50\n",
            "640/640 [==============================] - 5s 8ms/step - loss: 0.4117 - lr: 9.6684e-05 - val_loss: 0.4407 - val_lr: 9.6035e-05\n",
            "Epoch 4/50\n",
            "640/640 [==============================] - 6s 9ms/step - loss: 0.4034 - lr: 9.5389e-05 - val_loss: 1.8212 - val_lr: 9.4748e-05\n",
            "Epoch 5/50\n",
            "640/640 [==============================] - 7s 11ms/step - loss: 0.4003 - lr: 9.4111e-05 - val_loss: 0.3994 - val_lr: 9.3479e-05\n",
            "Epoch 6/50\n",
            "640/640 [==============================] - 5s 8ms/step - loss: 0.3973 - lr: 9.2851e-05 - val_loss: 0.4091 - val_lr: 9.2227e-05\n",
            "Epoch 7/50\n",
            "640/640 [==============================] - 7s 11ms/step - loss: 0.3962 - lr: 9.1607e-05 - val_loss: 0.4221 - val_lr: 9.0991e-05\n",
            "Epoch 8/50\n",
            "640/640 [==============================] - 6s 9ms/step - loss: 0.3971 - lr: 9.0380e-05 - val_loss: 0.5272 - val_lr: 8.9773e-05\n",
            "Epoch 9/50\n",
            "640/640 [==============================] - 6s 9ms/step - loss: 0.3954 - lr: 8.9169e-05 - val_loss: 0.4041 - val_lr: 8.8570e-05\n",
            "Epoch 10/50\n",
            "640/640 [==============================] - 7s 12ms/step - loss: 0.3954 - lr: 8.7975e-05 - val_loss: 0.3957 - val_lr: 8.7384e-05\n",
            "Epoch 11/50\n",
            "640/640 [==============================] - 6s 9ms/step - loss: 0.3958 - lr: 8.6796e-05 - val_loss: 0.4851 - val_lr: 8.6213e-05\n",
            "Epoch 12/50\n",
            "640/640 [==============================] - 7s 11ms/step - loss: 0.3946 - lr: 8.5633e-05 - val_loss: 0.3885 - val_lr: 8.5058e-05\n",
            "Epoch 13/50\n",
            "640/640 [==============================] - 6s 9ms/step - loss: 0.3942 - lr: 8.4486e-05 - val_loss: 0.4180 - val_lr: 8.3919e-05\n",
            "Epoch 14/50\n",
            "640/640 [==============================] - 5s 8ms/step - loss: 0.3952 - lr: 8.3355e-05 - val_loss: 0.3898 - val_lr: 8.2795e-05\n",
            "Epoch 15/50\n",
            "640/640 [==============================] - 8s 12ms/step - loss: 0.3937 - lr: 8.2238e-05 - val_loss: 0.4514 - val_lr: 8.1686e-05\n",
            "Epoch 16/50\n",
            "640/640 [==============================] - 5s 8ms/step - loss: 0.3924 - lr: 8.1136e-05 - val_loss: 0.3979 - val_lr: 8.0591e-05\n",
            "Epoch 17/50\n",
            "640/640 [==============================] - 6s 10ms/step - loss: 0.3925 - lr: 8.0050e-05 - val_loss: 0.3968 - val_lr: 7.9512e-05\n",
            "Epoch 18/50\n",
            "640/640 [==============================] - 7s 10ms/step - loss: 0.3930 - lr: 7.8977e-05 - val_loss: 0.3927 - val_lr: 7.8447e-05\n",
            "Epoch 19/50\n",
            "640/640 [==============================] - 6s 9ms/step - loss: 0.3931 - lr: 7.7919e-05 - val_loss: 0.4024 - val_lr: 7.7396e-05\n",
            "Epoch 20/50\n",
            "640/640 [==============================] - 7s 12ms/step - loss: 0.3929 - lr: 7.6876e-05 - val_loss: 0.4037 - val_lr: 7.6359e-05\n",
            "Epoch 21/50\n",
            "640/640 [==============================] - 8s 12ms/step - loss: 0.3922 - lr: 7.5846e-05 - val_loss: 0.6207 - val_lr: 7.5336e-05\n",
            "Epoch 22/50\n",
            "640/640 [==============================] - 6s 9ms/step - loss: 0.3924 - lr: 7.4830e-05 - val_loss: 0.5159 - val_lr: 7.4327e-05\n",
            "Epoch 23/50\n",
            "640/640 [==============================] - 7s 11ms/step - loss: 0.3928 - lr: 7.3827e-05 - val_loss: 0.3892 - val_lr: 7.3331e-05\n",
            "Epoch 24/50\n",
            "640/640 [==============================] - 5s 8ms/step - loss: 0.3931 - lr: 7.2838e-05 - val_loss: 0.3859 - val_lr: 7.2349e-05\n",
            "Epoch 25/50\n",
            "640/640 [==============================] - 6s 9ms/step - loss: 0.3935 - lr: 7.1863e-05 - val_loss: 0.3914 - val_lr: 7.1380e-05\n",
            "Epoch 26/50\n",
            "640/640 [==============================] - 7s 10ms/step - loss: 0.3900 - lr: 7.0900e-05 - val_loss: 0.3874 - val_lr: 7.0424e-05\n",
            "Epoch 27/50\n",
            "640/640 [==============================] - 5s 8ms/step - loss: 0.3912 - lr: 6.9950e-05 - val_loss: 0.3872 - val_lr: 6.9480e-05\n",
            "Epoch 28/50\n",
            "640/640 [==============================] - 7s 11ms/step - loss: 0.3920 - lr: 6.9013e-05 - val_loss: 0.5421 - val_lr: 6.8550e-05\n",
            "Epoch 29/50\n",
            "640/640 [==============================] - 6s 9ms/step - loss: 0.3907 - lr: 6.8089e-05 - val_loss: 0.3916 - val_lr: 6.7631e-05\n",
            "Epoch 30/50\n",
            "640/640 [==============================] - 6s 9ms/step - loss: 0.3914 - lr: 6.7177e-05 - val_loss: 0.4212 - val_lr: 6.6725e-05\n",
            "Epoch 31/50\n",
            "640/640 [==============================] - 7s 11ms/step - loss: 0.3905 - lr: 6.6277e-05 - val_loss: 0.3906 - val_lr: 6.5831e-05\n",
            "Epoch 32/50\n",
            "640/640 [==============================] - 6s 9ms/step - loss: 0.3903 - lr: 6.5389e-05 - val_loss: 0.3905 - val_lr: 6.4950e-05\n",
            "Epoch 33/50\n",
            "640/640 [==============================] - 6s 10ms/step - loss: 0.3903 - lr: 6.4513e-05 - val_loss: 0.3860 - val_lr: 6.4080e-05\n",
            "Epoch 34/50\n",
            "640/640 [==============================] - 6s 10ms/step - loss: 0.3924 - lr: 6.3649e-05 - val_loss: 0.4059 - val_lr: 6.3221e-05\n",
            "Epoch 35/50\n",
            "640/640 [==============================] - 5s 9ms/step - loss: 0.3906 - lr: 6.2796e-05 - val_loss: 0.4067 - val_lr: 6.2374e-05\n",
            "Epoch 36/50\n",
            "640/640 [==============================] - 7s 12ms/step - loss: 0.3902 - lr: 6.1955e-05 - val_loss: 0.4059 - val_lr: 6.1539e-05\n",
            "Epoch 37/50\n",
            "640/640 [==============================] - 6s 9ms/step - loss: 0.3901 - lr: 6.1125e-05 - val_loss: 0.3837 - val_lr: 6.0714e-05\n",
            "Epoch 38/50\n",
            "640/640 [==============================] - 6s 9ms/step - loss: 0.3904 - lr: 6.0306e-05 - val_loss: 0.3899 - val_lr: 5.9901e-05\n",
            "Epoch 39/50\n",
            "640/640 [==============================] - 7s 11ms/step - loss: 0.3891 - lr: 5.9498e-05 - val_loss: 0.4546 - val_lr: 5.9099e-05\n",
            "Epoch 40/50\n",
            "640/640 [==============================] - 5s 8ms/step - loss: 0.3911 - lr: 5.8701e-05 - val_loss: 0.3837 - val_lr: 5.8307e-05\n",
            "Epoch 41/50\n",
            "640/640 [==============================] - 7s 10ms/step - loss: 0.3913 - lr: 5.7915e-05 - val_loss: 0.3980 - val_lr: 5.7526e-05\n",
            "Epoch 42/50\n",
            "640/640 [==============================] - 6s 10ms/step - loss: 0.3908 - lr: 5.7139e-05 - val_loss: 0.3871 - val_lr: 5.6755e-05\n",
            "Epoch 43/50\n",
            "640/640 [==============================] - 6s 9ms/step - loss: 0.3899 - lr: 5.6374e-05 - val_loss: 0.3927 - val_lr: 5.5995e-05\n",
            "Epoch 44/50\n",
            "640/640 [==============================] - 8s 12ms/step - loss: 0.3904 - lr: 5.5619e-05 - val_loss: 0.3869 - val_lr: 5.5245e-05\n",
            "Epoch 45/50\n",
            "640/640 [==============================] - 5s 9ms/step - loss: 0.3886 - lr: 5.4874e-05 - val_loss: 0.3955 - val_lr: 5.4505e-05\n",
            "Epoch 46/50\n",
            "640/640 [==============================] - 6s 10ms/step - loss: 0.3900 - lr: 5.4139e-05 - val_loss: 0.4140 - val_lr: 5.3775e-05\n",
            "Epoch 47/50\n",
            "640/640 [==============================] - 8s 13ms/step - loss: 0.3899 - lr: 5.3413e-05 - val_loss: 0.3873 - val_lr: 5.3055e-05\n",
            "Epoch 48/50\n",
            "640/640 [==============================] - 6s 10ms/step - loss: 0.3886 - lr: 5.2698e-05 - val_loss: 0.3929 - val_lr: 5.2344e-05\n",
            "Epoch 49/50\n",
            "640/640 [==============================] - 7s 12ms/step - loss: 0.3882 - lr: 5.1992e-05 - val_loss: 0.4744 - val_lr: 5.1643e-05\n",
            "Epoch 50/50\n",
            "640/640 [==============================] - 6s 9ms/step - loss: 0.3905 - lr: 5.1295e-05 - val_loss: 0.3991 - val_lr: 5.0951e-05\n"
          ]
        }
      ],
      "source": [
        "model_instances, model_instances_model,histories,results = [],[],[],[]\n",
        "\n",
        "# input size, epochs, number of ensembles\n",
        "N = x_train_scaled.shape[1]\n",
        "epochs = 50\n",
        "n_models = 3\n",
        "\n",
        "with tf.device('/device:GPU:0'):\n",
        "    for model_count in range(n_models):\n",
        "        model_instances.append(DenseNetwork(N, weight_init='he_normal',\n",
        "                                            layer_width=45, added_layers=3,\n",
        "                                            learning_rate=1e-4, decay_rate=0.9,\n",
        "                                            batch_norm_flag=1))\n",
        "        model_instances_model.append(model_instances[-1].model())\n",
        "\n",
        "        early_stop = tf.keras.callbacks.EarlyStopping(monitor='val_loss', patience=100)\n",
        "        histories.append(model_instances_model[-1].fit(x_train_scaled,y_train,\n",
        "            epochs=epochs, batch_size=500,\n",
        "                             shuffle=True,\n",
        "                             validation_data = (x_val_scaled, y_val),\n",
        "                             callbacks = [early_stop],\n",
        "                             verbose=1))\n",
        "        gc.collect()"
      ],
      "id": "ZEVRqjEiCfRw"
    },
    {
      "cell_type": "markdown",
      "metadata": {
        "id": "BPwzySLtk5XE"
      },
      "source": [
        "## Network tuning\n",
        "Validation losses are plotted to evaluate network tuning."
      ],
      "id": "BPwzySLtk5XE"
    },
    {
      "cell_type": "code",
      "execution_count": 22,
      "metadata": {
        "colab": {
          "base_uri": "https://localhost:8080/"
        },
        "id": "W-Tn2g2dBD5p",
        "outputId": "cd5ddbdf-c3e5-475c-955f-05a5054a85ea"
      },
      "outputs": [
        {
          "output_type": "stream",
          "name": "stdout",
          "text": [
            "parameter values:\n",
            "\n",
            "losses:\n",
            " [0.3893, 0.3904, 0.3918]\n",
            "val_losses:\n",
            " [0.3858, 0.3862, 0.3874]\n",
            "early stopping:\n",
            " [50, 50, 50]\n"
          ]
        }
      ],
      "source": [
        "# print the final loss and validation losses\n",
        "losses, val_losses,stopping = [],[],[]\n",
        "for i in range(len(histories)):\n",
        "  losses.append( round(histories[i].history['loss'][-1], 4))\n",
        "  val_losses.append( round(histories[i].history['val_loss'][-1], 4))\n",
        "  stopping.append(len(histories[i].history['val_loss']))\n",
        "  # histories[0].history['loss'][-1]\n",
        "\n",
        "print('parameter values:\\n')\n",
        "print('losses:\\n',losses)\n",
        "print('val_losses:\\n',val_losses)\n",
        "print('early stopping:\\n',stopping)"
      ],
      "id": "W-Tn2g2dBD5p"
    },
    {
      "cell_type": "code",
      "execution_count": 47,
      "metadata": {
        "colab": {
          "base_uri": "https://localhost:8080/",
          "height": 488
        },
        "id": "aca08579-4234-427a-8907-4d3eb4c1dcc4",
        "outputId": "b3b53baf-6e57-4dc5-ee13-280f70e938ff"
      },
      "outputs": [
        {
          "output_type": "execute_result",
          "data": {
            "text/plain": [
              "(0.0, 1.0)"
            ]
          },
          "metadata": {},
          "execution_count": 47
        },
        {
          "output_type": "display_data",
          "data": {
            "text/plain": [
              "<Figure size 640x480 with 1 Axes>"
            ],
            "image/png": "[encoded data removed]"
          },
          "metadata": {}
        }
      ],
      "source": [
        "title = 'new_default'\n",
        "\n",
        "plt.ylabel('Loss')\n",
        "plt.xlabel('Epoch')\n",
        "# plt.title('Network loss with varying '+title+r' ($\\theta$)')\n",
        "plt.title('Network loss with new_default parameters')\n",
        "for i in range(len(histories)):\n",
        "\n",
        "    _ = plt.plot(histories[i].history['loss'][:],label=r'training')#; $\\theta$='+str(expt_value[i]))\n",
        "    _ = plt.plot(histories[i].history['val_loss'][:],label=r'validation')#; $\\theta$='+str(expt_value[i]))\n",
        "    # save the history\n",
        "    # np.save(path+'/network_tuning/'+title+'_'+str(expt_value[i])+'.npy',histories[0].history)\n",
        "    # np.save(path+'/network_tuning/'+title+'.npy',histories[0].history)\n",
        "plt.legend()\n",
        "plt.ylim(0,1)\n",
        "# plt.xlim(0,90)\n",
        "# plt.savefig(path+'/network_tuning/'+title, dpi=250)\n"
      ],
      "id": "aca08579-4234-427a-8907-4d3eb4c1dcc4"
    },
    {
      "cell_type": "markdown",
      "metadata": {
        "id": "WZnoLrEbmzcL"
      },
      "source": [
        "Metric data can be loaded from the numpy file as below"
      ],
      "id": "WZnoLrEbmzcL"
    },
    {
      "cell_type": "code",
      "execution_count": 24,
      "metadata": {
        "colab": {
          "base_uri": "https://localhost:8080/"
        },
        "id": "WNeEYND6fCYm",
        "outputId": "004ff525-ccd7-429a-9f0e-ed85a51c3301"
      },
      "outputs": [
        {
          "output_type": "execute_result",
          "data": {
            "text/plain": [
              "0.7307199835777283"
            ]
          },
          "metadata": {},
          "execution_count": 24
        }
      ],
      "source": [
        "# note the .item() is important\n",
        "data = np.load(path+'/network_tuning/batch_size_100.npy',allow_pickle=True).item()\n",
        "data['val_accuracy'][-1]"
      ],
      "id": "WNeEYND6fCYm"
    },
    {
      "cell_type": "markdown",
      "metadata": {
        "id": "8nb1Js3-k_BV"
      },
      "source": [
        "## Network Output\n",
        "The network estimates log K values for the test data. As the ratio of priors is not 1, the network predictions should be transformed to give logK."
      ],
      "id": "8nb1Js3-k_BV"
    },
    {
      "cell_type": "code",
      "execution_count": 48,
      "metadata": {
        "id": "4FoUH_Rjg8A1"
      },
      "outputs": [],
      "source": [
        "# collect network outputs f(xO).\n",
        "validation_prediction = (model_instances_model[0].predict(x_test_scaled))\n",
        "for i in range(n_models-1):\n",
        "  temp = (model_instances_model[i+1].predict(x_test_scaled))\n",
        "  validation_prediction = np.append(validation_prediction, temp, axis=1)\n"
      ],
      "id": "4FoUH_Rjg8A1"
    },
    {
      "cell_type": "code",
      "source": [
        "# calucate mean average output\n",
        "validation_prediction_avg = np.mean(validation_prediction, axis=1)\n",
        "print(validation_prediction)\n",
        "print(validation_prediction_avg)"
      ],
      "metadata": {
        "colab": {
          "base_uri": "https://localhost:8080/"
        },
        "id": "8wtDNWmIaA6E",
        "outputId": "da1cf9cc-c9d2-4879-c765-501baa7a2f9b"
      },
      "id": "8wtDNWmIaA6E",
      "execution_count": 49,
      "outputs": [
        {
          "output_type": "stream",
          "name": "stdout",
          "text": [
            "[[-1.8794096  -1.108906   -1.7105615 ]\n",
            " [15.776411   19.700203   18.726776  ]\n",
            " [ 0.648078    3.8412907   0.8656061 ]\n",
            " ...\n",
            " [16.3415     18.932781   23.713934  ]\n",
            " [-0.06030933  0.60112363 -0.3432161 ]\n",
            " [-1.3084996  -1.2241429  -1.2827652 ]]\n",
            "[-1.5662924  18.067797    1.7849917  ... 19.662737    0.06586606\n",
            " -1.2718025 ]\n"
          ]
        }
      ]
    },
    {
      "cell_type": "markdown",
      "metadata": {
        "id": "98774e70-2010-426c-964b-f6fbb61545e0"
      },
      "source": [
        "# Coverage tests\n",
        "Coverage tests are used to evaluate the network output.\n",
        "\n",
        "Posterior probabilities p(M1|x) are calculated from the network output on test data. The posteriors are binned. The fraction of model 1 labels (Simba) in each bin are examined. The fraction of model 1 labels in each bin should be close to the bin centre to show the network is well calibrated, forming a y=x line. The residual differences from the y=x line are used to measure the network performance.\n",
        "\n"
      ],
      "id": "98774e70-2010-426c-964b-f6fbb61545e0"
    },
    {
      "cell_type": "code",
      "execution_count": 50,
      "metadata": {
        "colab": {
          "base_uri": "https://localhost:8080/"
        },
        "id": "HmmYrJH9CgxN",
        "outputId": "87ce7e26-a172-41cc-ea22-6ec70894b2b6"
      },
      "outputs": [
        {
          "output_type": "stream",
          "name": "stdout",
          "text": [
            "(100000,)\n"
          ]
        }
      ],
      "source": [
        "# calculate posteriors from network log K values\n",
        "posterior_model_prob = np.exp(validation_prediction_avg)/(1+np.exp(validation_prediction_avg)) # p(M1|x)\n",
        "print(posterior_model_prob.shape)\n",
        "\n",
        "# prepare posterior bins\n",
        "nbins = 100\n",
        "probability_array  = np.linspace(0,1,nbins)\n"
      ],
      "id": "HmmYrJH9CgxN"
    },
    {
      "cell_type": "code",
      "execution_count": 51,
      "metadata": {
        "id": "uxHYsUSRDaEo"
      },
      "outputs": [],
      "source": [
        "def coverage_test(post_model_prob, prob_array):\n",
        "  '''\n",
        "  Performs the coverage tests to evaluate calibration of the network\n",
        "  :param post_model_prob: array of p(M1|x) predicted by network\n",
        "  :param prob_array: array of chosen bins for posteriors\n",
        "  :returns: posterior bin centres, validation fractions, post_bin_n (number of data prob in each bin),\n",
        "            binomial_std (standard error of binomial)\n",
        "  '''\n",
        "\n",
        "  # perform coverage test\n",
        "  bin_centres, fractions, post_bin_n = [],[],[]\n",
        "\n",
        "  for i in range(0,len(prob_array)-1):\n",
        "    # bin posteriors\n",
        "    indexes = np.where((post_model_prob > prob_array[i])\n",
        "                                        & (post_model_prob < prob_array[i+1]))[0]\n",
        "    post_bin = post_model_prob[indexes]\n",
        "    post_bin_mid = np.float32((prob_array[i]+prob_array[i+1]) / 2)\n",
        "    post_bin_size = np.float32(len(post_bin))\n",
        "\n",
        "    # get fraction of model 1 labels in each bin\n",
        "    label_bin = y_test[indexes]\n",
        "    fraction = np.sum(label_bin) / len(label_bin)\n",
        "\n",
        "    bin_centres.append(post_bin_mid), fractions.append(fraction), post_bin_n.append(post_bin_size)\n",
        "\n",
        "\n",
        "  # get the binomial error for each bin\n",
        "  binomial_std = np.sqrt((np.asarray(bin_centres)*(1.-np.asarray(bin_centres))) / np.asarray(post_bin_n))\n",
        "\n",
        "  return bin_centres, fractions, post_bin_n, binomial_std"
      ],
      "id": "uxHYsUSRDaEo"
    },
    {
      "cell_type": "code",
      "source": [
        "bin_centres, fractions, post_bin_n, binomial_std = coverage_test(posterior_model_prob, probability_array)"
      ],
      "metadata": {
        "id": "oQ2NrouYWnMr"
      },
      "id": "oQ2NrouYWnMr",
      "execution_count": 52,
      "outputs": []
    },
    {
      "cell_type": "code",
      "execution_count": 53,
      "metadata": {
        "colab": {
          "base_uri": "https://localhost:8080/",
          "height": 415
        },
        "id": "KZsSMbnaRfqg",
        "outputId": "7eb8d542-76be-4ece-8255-f5d795c4a1c5"
      },
      "outputs": [
        {
          "output_type": "display_data",
          "data": {
            "text/plain": [
              "<Figure size 500x400 with 1 Axes>"
            ],
            "image/png": "[encoded data removed]"
          },
          "metadata": {}
        }
      ],
      "source": [
        "plt.figure(figsize=(5,4))\n",
        "\n",
        "# plt.plot(bin_centres, fractions,'.')\n",
        "# plt.plot(post_bin_means, fractions,'.')\n",
        "plt.errorbar(bin_centres, fractions, np.asarray(binomial_std), marker='.', ls='')\n",
        "plt.title('Model posterior blind coverage test')\n",
        "plt.xlabel(r'$p(M_1 | x)$ bins', fontsize=11)\n",
        "plt.ylabel(str('Validation model fraction'), fontsize=11)\n",
        "plt.plot([0,1],[0,1],'k-',alpha=0.5)\n",
        "# plt.axis('square')\n",
        "plt.grid(True)\n",
        "\n",
        "plt.savefig(path+'coverage_test_20_B.png', dpi=250)\n",
        "# plt.axis('equal')"
      ],
      "id": "KZsSMbnaRfqg"
    },
    {
      "cell_type": "markdown",
      "metadata": {
        "id": "BHCDQZiHG_rE"
      },
      "source": [
        "## Residual between model fraction and posterior probability from evidence network\n",
        "Scaled residuals are the residuals scaled by their binomial error. The scaled residuals should form a normal distribution around 0. The network is said to perform well if the mean and standard deviation of the scaled residuals are close to 0 and 1 respectively."
      ],
      "id": "BHCDQZiHG_rE"
    },
    {
      "cell_type": "code",
      "execution_count": 54,
      "metadata": {
        "colab": {
          "base_uri": "https://localhost:8080/",
          "height": 569
        },
        "id": "qPZGBUtNpIyq",
        "outputId": "45a83f05-1cf9-4984-ed98-93f8ed934808"
      },
      "outputs": [
        {
          "output_type": "display_data",
          "data": {
            "text/plain": [
              "<Figure size 1400x600 with 2 Axes>"
            ],
            "image/png": "[encoded data removed]"
          },
          "metadata": {}
        }
      ],
      "source": [
        "residual = (np.asarray(fractions) - np.asarray(bin_centres))\n",
        "scaled_residual = residual/np.asarray(binomial_std)\n",
        "\n",
        "plt.figure(figsize=(14,6))\n",
        "\n",
        "plt.subplot(1,2,1)\n",
        "plt.errorbar(bin_centres, scaled_residual,yerr=binomial_std/np.asarray(binomial_std), marker='.', ls='')\n",
        "plt.title('Scaled Residual')\n",
        "plt.xlabel(r'$p(M_1 | x)$ bin', fontsize=11)\n",
        "plt.ylabel(r'[fraction - $p(M_1 | x) ] \\, / \\, \\sigma$', fontsize=11)\n",
        "plt.plot([0,1],[0,0],'k-',alpha=0.5)\n",
        "# plt.axis('square')\n",
        "plt.grid(True)\n",
        "# plt.ylim(-4,4)\n",
        "\n",
        "plt.subplot(1,2,2)\n",
        "plt.errorbar(bin_centres, residual,yerr=binomial_std, marker='.', ls='',c='orange')\n",
        "plt.title('Raw Residual')\n",
        "plt.xlabel(r'$p(M_1 | x)$ bin', fontsize=11)\n",
        "plt.ylabel(r'fraction - $p(M_1 | x)  $', fontsize=11)\n",
        "plt.plot([0,1],[0,0],'k-',alpha=0.5)\n",
        "# plt.axis('square')\n",
        "plt.grid(True)\n",
        "\n",
        "plt.subplots_adjust(wspace=.5)\n",
        "\n",
        "# plt.savefig(path+'/residuals_unobservables_EvidenceNet.png', dpi=250)\n"
      ],
      "id": "qPZGBUtNpIyq"
    },
    {
      "cell_type": "code",
      "source": [
        "print(np.mean(scaled_residual))\n",
        "print(np.std(scaled_residual))"
      ],
      "metadata": {
        "colab": {
          "base_uri": "https://localhost:8080/"
        },
        "id": "QONYzROdhvHh",
        "outputId": "232d4813-b3ef-4731-ee93-7a3648ce2a54"
      },
      "id": "QONYzROdhvHh",
      "execution_count": 55,
      "outputs": [
        {
          "output_type": "stream",
          "name": "stdout",
          "text": [
            "-3.924509708859544\n",
            "4.986462582532665\n"
          ]
        }
      ]
    },
    {
      "cell_type": "markdown",
      "source": [
        "## Normalising flows\n",
        "The following cells use the package PZ Flow to learn the probability density function of the data. We train the neural density estimator to estimate p(x|M1) and p(x|M0), then derive the Bayes factor from this."
      ],
      "metadata": {
        "id": "o_rJ2wjGJv3Q"
      },
      "id": "o_rJ2wjGJv3Q"
    },
    {
      "cell_type": "code",
      "execution_count": 103,
      "metadata": {
        "id": "Rd_Raj_RIPza"
      },
      "outputs": [],
      "source": [
        "# turn datasets into pandas dataframe for PZ Flow.\n",
        "train_df = pd.DataFrame({'stellar_mass': x_train_scaled[:,0], 'stellar_metallicity': x_train_scaled[:,1], 'model': y_train})\n",
        "val_df = pd.DataFrame({'stellar_mass': x_val_scaled[:,0], 'stellar_metallicity': x_val_scaled[:,1], 'model': y_val})\n",
        "test_df = pd.DataFrame({'stellar_mass': x_test_scaled[:,0], 'stellar_metallicity': x_test_scaled[:,1], 'model': y_test})\n",
        "\n",
        "# separate training and validation by model.\n",
        "train_M1_df = train_df[train_df['model'] == 1]\n",
        "train_M0_df = train_df[train_df['model'] == 0]\n",
        "val_M1_df = val_df[val_df['model'] == 1]\n",
        "val_M0_df = val_df[val_df['model'] == 0]\n",
        "\n",
        "\n"
      ],
      "id": "Rd_Raj_RIPza"
    },
    {
      "cell_type": "code",
      "source": [
        "# train the normalising flow.\n",
        "flow_M1 = Flow([\"stellar_mass\", 'stellar_metallicity'])\n",
        "\n",
        "train_loss_M1, val_loss_M1 = flow_M1.train(train_M1_df, val_M1_df, verbose=True, epochs=50, batch_size=100, progress_bar=True)\n"
      ],
      "metadata": {
        "colab": {
          "base_uri": "https://localhost:8080/"
        },
        "id": "JJ0m6GB8K3db",
        "outputId": "ed5f21cb-d0c1-4b48-ffe3-9fb28d095b6c"
      },
      "id": "JJ0m6GB8K3db",
      "execution_count": 105,
      "outputs": [
        {
          "output_type": "stream",
          "name": "stdout",
          "text": [
            "Training 50 epochs \n",
            "Loss:\n",
            "(0) -1.7143  -1.7152\n"
          ]
        },
        {
          "output_type": "stream",
          "name": "stderr",
          "text": [
            "\r  0%|          | 0/50 [00:00<?, ?it/s]"
          ]
        },
        {
          "output_type": "stream",
          "name": "stdout",
          "text": [
            "(1) -4.7030  -4.6961\n"
          ]
        },
        {
          "output_type": "stream",
          "name": "stderr",
          "text": [
            "  6%|▌         | 3/50 [00:39<08:44, 11.15s/it]"
          ]
        },
        {
          "output_type": "stream",
          "name": "stdout",
          "text": [
            "(3) -4.7357  -4.7299\n"
          ]
        },
        {
          "output_type": "stream",
          "name": "stderr",
          "text": [
            " 10%|█         | 5/50 [00:50<05:44,  7.65s/it]"
          ]
        },
        {
          "output_type": "stream",
          "name": "stdout",
          "text": [
            "(5) -4.7293  -4.7245\n"
          ]
        },
        {
          "output_type": "stream",
          "name": "stderr",
          "text": [
            " 14%|█▍        | 7/50 [00:59<04:18,  6.00s/it]"
          ]
        },
        {
          "output_type": "stream",
          "name": "stdout",
          "text": [
            "(7) -4.7421  -4.7353\n"
          ]
        },
        {
          "output_type": "stream",
          "name": "stderr",
          "text": [
            " 18%|█▊        | 9/50 [01:17<04:57,  7.25s/it]"
          ]
        },
        {
          "output_type": "stream",
          "name": "stdout",
          "text": [
            "(9) -4.7366  -4.7288\n"
          ]
        },
        {
          "output_type": "stream",
          "name": "stderr",
          "text": [
            " 22%|██▏       | 11/50 [01:31<04:41,  7.22s/it]"
          ]
        },
        {
          "output_type": "stream",
          "name": "stdout",
          "text": [
            "(11) -4.7316  -4.7250\n"
          ]
        },
        {
          "output_type": "stream",
          "name": "stderr",
          "text": [
            " 26%|██▌       | 13/50 [01:43<04:01,  6.54s/it]"
          ]
        },
        {
          "output_type": "stream",
          "name": "stdout",
          "text": [
            "(13) -4.7486  -4.7422\n"
          ]
        },
        {
          "output_type": "stream",
          "name": "stderr",
          "text": [
            " 30%|███       | 15/50 [01:53<03:14,  5.56s/it]"
          ]
        },
        {
          "output_type": "stream",
          "name": "stdout",
          "text": [
            "(15) -4.7365  -4.7293\n"
          ]
        },
        {
          "output_type": "stream",
          "name": "stderr",
          "text": [
            " 34%|███▍      | 17/50 [02:03<02:55,  5.31s/it]"
          ]
        },
        {
          "output_type": "stream",
          "name": "stdout",
          "text": [
            "(17) -4.7447  -4.7385\n"
          ]
        },
        {
          "output_type": "stream",
          "name": "stderr",
          "text": [
            " 38%|███▊      | 19/50 [02:15<02:55,  5.67s/it]"
          ]
        },
        {
          "output_type": "stream",
          "name": "stdout",
          "text": [
            "(19) -4.7261  -4.7186\n"
          ]
        },
        {
          "output_type": "stream",
          "name": "stderr",
          "text": [
            " 42%|████▏     | 21/50 [02:24<02:27,  5.07s/it]"
          ]
        },
        {
          "output_type": "stream",
          "name": "stdout",
          "text": [
            "(21) -4.7365  -4.7309\n"
          ]
        },
        {
          "output_type": "stream",
          "name": "stderr",
          "text": [
            " 46%|████▌     | 23/50 [02:35<02:22,  5.26s/it]"
          ]
        },
        {
          "output_type": "stream",
          "name": "stdout",
          "text": [
            "(23) -4.7575  7546569135286428132404304208199680.0000\n"
          ]
        },
        {
          "output_type": "stream",
          "name": "stderr",
          "text": [
            " 50%|█████     | 25/50 [02:44<02:05,  5.03s/it]"
          ]
        },
        {
          "output_type": "stream",
          "name": "stdout",
          "text": [
            "(25) -4.7469  -4.7412\n"
          ]
        },
        {
          "output_type": "stream",
          "name": "stderr",
          "text": [
            " 54%|█████▍    | 27/50 [02:55<01:55,  5.03s/it]"
          ]
        },
        {
          "output_type": "stream",
          "name": "stdout",
          "text": [
            "(27) -4.7557  -4.7487\n"
          ]
        },
        {
          "output_type": "stream",
          "name": "stderr",
          "text": [
            " 58%|█████▊    | 29/50 [03:05<01:50,  5.25s/it]"
          ]
        },
        {
          "output_type": "stream",
          "name": "stdout",
          "text": [
            "(29) -4.7507  -4.7443\n"
          ]
        },
        {
          "output_type": "stream",
          "name": "stderr",
          "text": [
            " 62%|██████▏   | 31/50 [03:15<01:34,  4.96s/it]"
          ]
        },
        {
          "output_type": "stream",
          "name": "stdout",
          "text": [
            "(31) -4.7493  -4.7425\n"
          ]
        },
        {
          "output_type": "stream",
          "name": "stderr",
          "text": [
            " 66%|██████▌   | 33/50 [03:26<01:28,  5.21s/it]"
          ]
        },
        {
          "output_type": "stream",
          "name": "stdout",
          "text": [
            "(33) -4.7541  -4.7478\n"
          ]
        },
        {
          "output_type": "stream",
          "name": "stderr",
          "text": [
            " 70%|███████   | 35/50 [03:35<01:14,  4.97s/it]"
          ]
        },
        {
          "output_type": "stream",
          "name": "stdout",
          "text": [
            "(35) -4.7571  -4.7500\n"
          ]
        },
        {
          "output_type": "stream",
          "name": "stderr",
          "text": [
            " 74%|███████▍  | 37/50 [03:48<01:14,  5.75s/it]"
          ]
        },
        {
          "output_type": "stream",
          "name": "stdout",
          "text": [
            "(37) -4.7356  -4.7289\n"
          ]
        },
        {
          "output_type": "stream",
          "name": "stderr",
          "text": [
            " 78%|███████▊  | 39/50 [03:59<01:02,  5.73s/it]"
          ]
        },
        {
          "output_type": "stream",
          "name": "stdout",
          "text": [
            "(39) -4.7572  -4.7513\n"
          ]
        },
        {
          "output_type": "stream",
          "name": "stderr",
          "text": [
            " 82%|████████▏ | 41/50 [04:17<01:07,  7.52s/it]"
          ]
        },
        {
          "output_type": "stream",
          "name": "stdout",
          "text": [
            "(41) -4.7538  -4.7483\n"
          ]
        },
        {
          "output_type": "stream",
          "name": "stderr",
          "text": [
            " 86%|████████▌ | 43/50 [04:26<00:42,  6.01s/it]"
          ]
        },
        {
          "output_type": "stream",
          "name": "stdout",
          "text": [
            "(43) -4.7646  -4.7573\n"
          ]
        },
        {
          "output_type": "stream",
          "name": "stderr",
          "text": [
            " 90%|█████████ | 45/50 [04:37<00:28,  5.74s/it]"
          ]
        },
        {
          "output_type": "stream",
          "name": "stdout",
          "text": [
            "(45) -4.7472  -4.7396\n"
          ]
        },
        {
          "output_type": "stream",
          "name": "stderr",
          "text": [
            " 94%|█████████▍| 47/50 [04:46<00:15,  5.24s/it]"
          ]
        },
        {
          "output_type": "stream",
          "name": "stdout",
          "text": [
            "(47) -4.7205  -4.7154\n"
          ]
        },
        {
          "output_type": "stream",
          "name": "stderr",
          "text": [
            " 98%|█████████▊| 49/50 [04:57<00:05,  5.15s/it]"
          ]
        },
        {
          "output_type": "stream",
          "name": "stdout",
          "text": [
            "(49) -4.7646  -4.7583\n"
          ]
        },
        {
          "output_type": "stream",
          "name": "stderr",
          "text": [
            "100%|██████████| 50/50 [05:01<00:00,  6.03s/it]"
          ]
        },
        {
          "output_type": "stream",
          "name": "stdout",
          "text": [
            "(50) -4.7410  -4.7335\n"
          ]
        },
        {
          "output_type": "stream",
          "name": "stderr",
          "text": [
            "\n"
          ]
        }
      ]
    },
    {
      "cell_type": "code",
      "source": [
        "flow_M0 = Flow([\"stellar_mass\", 'stellar_metallicity'])\n",
        "\n",
        "train_loss_M0, val_loss_M0 = flow_M0.train(train_M0_df, val_M0_df, verbose=True, epochs=50, batch_size=100, progress_bar=True)"
      ],
      "metadata": {
        "colab": {
          "base_uri": "https://localhost:8080/"
        },
        "id": "Yq06YH1OOIQw",
        "outputId": "0359b035-feb7-4373-f73f-39c47b1a3b9f"
      },
      "id": "Yq06YH1OOIQw",
      "execution_count": 106,
      "outputs": [
        {
          "output_type": "stream",
          "name": "stdout",
          "text": [
            "Training 50 epochs \n",
            "Loss:\n",
            "(0) -2.0442  -2.0437\n"
          ]
        },
        {
          "output_type": "stream",
          "name": "stderr",
          "text": [
            "  2%|▏         | 1/50 [00:23<19:26, 23.81s/it]"
          ]
        },
        {
          "output_type": "stream",
          "name": "stdout",
          "text": [
            "(1) -5.6804  -5.6770\n"
          ]
        },
        {
          "output_type": "stream",
          "name": "stderr",
          "text": [
            "  6%|▌         | 3/50 [00:36<08:07, 10.37s/it]"
          ]
        },
        {
          "output_type": "stream",
          "name": "stdout",
          "text": [
            "(3) -5.7363  -5.7325\n"
          ]
        },
        {
          "output_type": "stream",
          "name": "stderr",
          "text": [
            " 10%|█         | 5/50 [00:43<04:41,  6.26s/it]"
          ]
        },
        {
          "output_type": "stream",
          "name": "stdout",
          "text": [
            "(5) -5.7138  -5.7113\n"
          ]
        },
        {
          "output_type": "stream",
          "name": "stderr",
          "text": [
            " 14%|█▍        | 7/50 [00:52<03:46,  5.28s/it]"
          ]
        },
        {
          "output_type": "stream",
          "name": "stdout",
          "text": [
            "(7) -5.7537  -5.7482\n"
          ]
        },
        {
          "output_type": "stream",
          "name": "stderr",
          "text": [
            " 18%|█▊        | 9/50 [00:59<02:57,  4.33s/it]"
          ]
        },
        {
          "output_type": "stream",
          "name": "stdout",
          "text": [
            "(9) -5.7756  -5.7712\n"
          ]
        },
        {
          "output_type": "stream",
          "name": "stderr",
          "text": [
            " 22%|██▏       | 11/50 [01:08<02:46,  4.27s/it]"
          ]
        },
        {
          "output_type": "stream",
          "name": "stdout",
          "text": [
            "(11) -5.7737  -5.7692\n"
          ]
        },
        {
          "output_type": "stream",
          "name": "stderr",
          "text": [
            " 26%|██▌       | 13/50 [01:15<02:27,  3.98s/it]"
          ]
        },
        {
          "output_type": "stream",
          "name": "stdout",
          "text": [
            "(13) -5.7686  -5.7646\n"
          ]
        },
        {
          "output_type": "stream",
          "name": "stderr",
          "text": [
            " 30%|███       | 15/50 [01:23<02:19,  3.99s/it]"
          ]
        },
        {
          "output_type": "stream",
          "name": "stdout",
          "text": [
            "(15) -5.7585  -5.7542\n"
          ]
        },
        {
          "output_type": "stream",
          "name": "stderr",
          "text": [
            " 34%|███▍      | 17/50 [01:31<02:09,  3.93s/it]"
          ]
        },
        {
          "output_type": "stream",
          "name": "stdout",
          "text": [
            "(17) -5.7748  -5.7704\n"
          ]
        },
        {
          "output_type": "stream",
          "name": "stderr",
          "text": [
            " 38%|███▊      | 19/50 [01:38<01:59,  3.87s/it]"
          ]
        },
        {
          "output_type": "stream",
          "name": "stdout",
          "text": [
            "(19) -5.7836  -5.7778\n"
          ]
        },
        {
          "output_type": "stream",
          "name": "stderr",
          "text": [
            " 42%|████▏     | 21/50 [01:50<02:19,  4.80s/it]"
          ]
        },
        {
          "output_type": "stream",
          "name": "stdout",
          "text": [
            "(21) -5.7852  -5.7792\n"
          ]
        },
        {
          "output_type": "stream",
          "name": "stderr",
          "text": [
            " 46%|████▌     | 23/50 [01:56<01:49,  4.07s/it]"
          ]
        },
        {
          "output_type": "stream",
          "name": "stdout",
          "text": [
            "(23) -5.7427  -5.7376\n"
          ]
        },
        {
          "output_type": "stream",
          "name": "stderr",
          "text": [
            " 50%|█████     | 25/50 [02:05<01:47,  4.31s/it]"
          ]
        },
        {
          "output_type": "stream",
          "name": "stdout",
          "text": [
            "(25) -5.6958  -5.6919\n"
          ]
        },
        {
          "output_type": "stream",
          "name": "stderr",
          "text": [
            " 54%|█████▍    | 27/50 [02:13<01:34,  4.11s/it]"
          ]
        },
        {
          "output_type": "stream",
          "name": "stdout",
          "text": [
            "(27) -5.8002  -5.7946\n"
          ]
        },
        {
          "output_type": "stream",
          "name": "stderr",
          "text": [
            " 58%|█████▊    | 29/50 [02:22<01:30,  4.29s/it]"
          ]
        },
        {
          "output_type": "stream",
          "name": "stdout",
          "text": [
            "(29) -5.7591  -5.7536\n"
          ]
        },
        {
          "output_type": "stream",
          "name": "stderr",
          "text": [
            " 62%|██████▏   | 31/50 [02:29<01:13,  3.89s/it]"
          ]
        },
        {
          "output_type": "stream",
          "name": "stdout",
          "text": [
            "(31) -5.7978  -5.7923\n"
          ]
        },
        {
          "output_type": "stream",
          "name": "stderr",
          "text": [
            " 66%|██████▌   | 33/50 [02:37<01:09,  4.08s/it]"
          ]
        },
        {
          "output_type": "stream",
          "name": "stdout",
          "text": [
            "(33) -5.8023  -5.7972\n"
          ]
        },
        {
          "output_type": "stream",
          "name": "stderr",
          "text": [
            " 70%|███████   | 35/50 [02:53<01:30,  6.05s/it]"
          ]
        },
        {
          "output_type": "stream",
          "name": "stdout",
          "text": [
            "(35) -5.7777  -5.7724\n"
          ]
        },
        {
          "output_type": "stream",
          "name": "stderr",
          "text": [
            " 74%|███████▍  | 37/50 [03:02<01:06,  5.10s/it]"
          ]
        },
        {
          "output_type": "stream",
          "name": "stdout",
          "text": [
            "(37) -5.8046  -5.7988\n"
          ]
        },
        {
          "output_type": "stream",
          "name": "stderr",
          "text": [
            " 78%|███████▊  | 39/50 [03:09<00:49,  4.48s/it]"
          ]
        },
        {
          "output_type": "stream",
          "name": "stdout",
          "text": [
            "(39) -5.8046  -5.8000\n"
          ]
        },
        {
          "output_type": "stream",
          "name": "stderr",
          "text": [
            " 82%|████████▏ | 41/50 [03:18<00:37,  4.22s/it]"
          ]
        },
        {
          "output_type": "stream",
          "name": "stdout",
          "text": [
            "(41) -5.7542  -5.7489\n"
          ]
        },
        {
          "output_type": "stream",
          "name": "stderr",
          "text": [
            " 86%|████████▌ | 43/50 [03:25<00:27,  3.89s/it]"
          ]
        },
        {
          "output_type": "stream",
          "name": "stdout",
          "text": [
            "(43) -5.7444  -5.7391\n"
          ]
        },
        {
          "output_type": "stream",
          "name": "stderr",
          "text": [
            " 90%|█████████ | 45/50 [03:33<00:20,  4.06s/it]"
          ]
        },
        {
          "output_type": "stream",
          "name": "stdout",
          "text": [
            "(45) -5.8052  -5.7992\n"
          ]
        },
        {
          "output_type": "stream",
          "name": "stderr",
          "text": [
            " 94%|█████████▍| 47/50 [03:40<00:11,  3.73s/it]"
          ]
        },
        {
          "output_type": "stream",
          "name": "stdout",
          "text": [
            "(47) -5.8024  -5.7967\n"
          ]
        },
        {
          "output_type": "stream",
          "name": "stderr",
          "text": [
            " 98%|█████████▊| 49/50 [03:49<00:04,  4.06s/it]"
          ]
        },
        {
          "output_type": "stream",
          "name": "stdout",
          "text": [
            "(49) -5.8100  -5.8045\n"
          ]
        },
        {
          "output_type": "stream",
          "name": "stderr",
          "text": [
            "100%|██████████| 50/50 [03:52<00:00,  4.66s/it]"
          ]
        },
        {
          "output_type": "stream",
          "name": "stdout",
          "text": [
            "(50) -5.7915  -5.7868\n"
          ]
        },
        {
          "output_type": "stream",
          "name": "stderr",
          "text": [
            "\n"
          ]
        }
      ]
    },
    {
      "cell_type": "code",
      "source": [
        "plt.plot(train_loss_M1, label='training M1')\n",
        "plt.plot(val_loss_M1, label='validation M1')\n",
        "plt.plot(train_loss_M1, label='training M0')\n",
        "plt.plot(val_loss_M1, label='validation M0')\n",
        "# plt.ylim(-5,-4)\n",
        "plt.xlabel(\"Epoch\")\n",
        "plt.ylabel(\"Loss\")\n",
        "plt.legend()\n",
        "plt.show()"
      ],
      "metadata": {
        "colab": {
          "base_uri": "https://localhost:8080/",
          "height": 465
        },
        "id": "HaPlkAZeNEAK",
        "outputId": "4fe8cf1f-a0e8-4d05-a39f-f366491ca8ba"
      },
      "id": "HaPlkAZeNEAK",
      "execution_count": 107,
      "outputs": [
        {
          "output_type": "display_data",
          "data": {
            "text/plain": [
              "<Figure size 640x480 with 1 Axes>"
            ],
            "image/png": "[encoded data removed]"
          },
          "metadata": {}
        }
      ]
    },
    {
      "cell_type": "markdown",
      "source": [
        "## Flow Output\n",
        "The learnt densities are plotted alongside 2d histograms of the original data for each model."
      ],
      "metadata": {
        "id": "-d0KDoeCTwWc"
      },
      "id": "-d0KDoeCTwWc"
    },
    {
      "cell_type": "code",
      "source": [
        "def density(flow, xlim=(0.4,0.7), ylim=(0.4,0.7) ):\n",
        "  '''\n",
        "  Calculates a grid of density values\n",
        "  '''\n",
        "\n",
        "  nx, ny = (1000, 1000)\n",
        "  x, y = np.linspace(xlim[0], xlim[1], nx), np.linspace(ylim[0], ylim[1], ny)\n",
        "  # y = np.linspace(ylim[0], ylim[1], ny)\n",
        "  xv, yv = np.meshgrid(x, y)\n",
        "  X, Y = xv.flatten(), yv.flatten()\n",
        "  # Y = yv.flatten()\n",
        "  grid_df = pd.DataFrame({'stellar_mass': X, 'stellar_metallicity': Y})\n",
        "  density = np.exp(flow.log_prob(grid_df))\n",
        "  density = density.reshape((nx,ny))\n",
        "  # matrix needs flipping.\n",
        "  density = np.flipud(density)\n",
        "\n",
        "  return density\n",
        "\n",
        "\n",
        "\n"
      ],
      "metadata": {
        "id": "oo1apxVU9ccE"
      },
      "id": "oo1apxVU9ccE",
      "execution_count": 109,
      "outputs": []
    },
    {
      "cell_type": "code",
      "source": [
        "# define grid limits for densities.\n",
        "xx, yy = (0.4,0.65), (0.4,0.65)\n",
        "dens_M1 = density(flow_M1, xx,yy)\n",
        "dens_M0 = density(flow_M0, xx,yy)"
      ],
      "metadata": {
        "id": "ThfVG24n9-91"
      },
      "id": "ThfVG24n9-91",
      "execution_count": 110,
      "outputs": []
    },
    {
      "cell_type": "code",
      "source": [
        "# plot outputs.\n",
        "fig, ax = plt.subplots(2,2,  figsize=(10,8))\n",
        "\n",
        "ax[0,0].set_title('Data: (top: $M_1$, bottom: $M_0$)')\n",
        "ax[0,0].hist2d(train_M1_df.iloc[:,0],train_M1_df.iloc[:,1], bins=[np.linspace(xx[0],xx[1],200), np.linspace(yy[0],yy[1],200)])\n",
        "ax[1,0].hist2d(train_M0_df.iloc[:,0],train_M0_df.iloc[:,1], bins=[np.linspace(xx[0],xx[1],200), np.linspace(yy[0],yy[1],200)])\n",
        "ax[0,0].axis('square')\n",
        "ax[1,0].axis('square')\n",
        "\n",
        "\n",
        "ax[0,1].set_title('PZ Flow (top: $M_1$, bottom: $M_0$)')\n",
        "ax[0,1].imshow(dens_M1,extent=[xx[0],xx[1],yy[0],yy[1]])\n",
        "ax[1,1].imshow(dens_M0,extent=[xx[0],xx[1],yy[0],yy[1]])\n",
        "\n",
        "\n",
        "plt.setp(ax, xlabel='stellar mass (scaled)' , ylabel='stellar metallicity (scaled)')"
      ],
      "metadata": {
        "colab": {
          "base_uri": "https://localhost:8080/",
          "height": 858
        },
        "id": "e5_kUJII-Erv",
        "outputId": "06c9edfc-5993-4924-b275-93c5cc011d74"
      },
      "id": "e5_kUJII-Erv",
      "execution_count": 111,
      "outputs": [
        {
          "output_type": "execute_result",
          "data": {
            "text/plain": [
              "[Text(0.5, 0, 'stellar mass (scaled)'),\n",
              " Text(0, 0.5, 'stellar metallicity (scaled)'),\n",
              " Text(0.5, 0, 'stellar mass (scaled)'),\n",
              " Text(0, 0.5, 'stellar metallicity (scaled)'),\n",
              " Text(0.5, 0, 'stellar mass (scaled)'),\n",
              " Text(0, 0.5, 'stellar metallicity (scaled)'),\n",
              " Text(0.5, 0, 'stellar mass (scaled)'),\n",
              " Text(0, 0.5, 'stellar metallicity (scaled)')]"
            ]
          },
          "metadata": {},
          "execution_count": 111
        },
        {
          "output_type": "display_data",
          "data": {
            "text/plain": [
              "<Figure size 1000x800 with 4 Axes>"
            ],
            "image/png": "[encoded data removed]"
          },
          "metadata": {}
        }
      ]
    },
    {
      "cell_type": "markdown",
      "source": [
        "The flow outputs log( p(x|M1) ) and log( p(x|M0) ). We combine these to get log K."
      ],
      "metadata": {
        "id": "W5ORhTKuwBOu"
      },
      "id": "W5ORhTKuwBOu"
    },
    {
      "cell_type": "code",
      "source": [
        "logprob_M1 = flow_M1.log_prob(test_df)\n",
        "logprob_M0 = flow_M0.log_prob(test_df)\n"
      ],
      "metadata": {
        "id": "KYIKdiqr8lGJ"
      },
      "id": "KYIKdiqr8lGJ",
      "execution_count": 121,
      "outputs": []
    },
    {
      "cell_type": "code",
      "source": [
        "# include priors ratio correction to compare output of EvidenceNet and PZFlow.\n",
        "logK_flow = logprob_M1 -  logprob_M0 + np.log(M_ratio(y_test))"
      ],
      "metadata": {
        "id": "SyPcXbANwPEh"
      },
      "id": "SyPcXbANwPEh",
      "execution_count": 122,
      "outputs": []
    },
    {
      "cell_type": "markdown",
      "source": [
        "Calculate the Bayes factors and perform a coverage test."
      ],
      "metadata": {
        "id": "_Ho9OBrlbwZE"
      },
      "id": "_Ho9OBrlbwZE"
    },
    {
      "cell_type": "code",
      "source": [
        "# print(np.mean(logK_flow), np.std(logK_flow))\n",
        "plt.hist(logK_flow,bins=100,density=True, alpha=0.7,color='blue', label='PZFlow',range=(-10,10))\n",
        "plt.hist(validation_prediction_avg,bins=100,density=True, alpha=0.7, color='orange', label='Evidence',range=(-10,10))\n",
        "plt.xlim(-10,10)\n",
        "plt.legend()"
      ],
      "metadata": {
        "colab": {
          "base_uri": "https://localhost:8080/",
          "height": 465
        },
        "id": "WDulj4rdBBbT",
        "outputId": "daf7f3af-eb32-4259-e8b1-3bcedecd3199"
      },
      "id": "WDulj4rdBBbT",
      "execution_count": 131,
      "outputs": [
        {
          "output_type": "stream",
          "name": "stdout",
          "text": [
            "inf inf\n"
          ]
        },
        {
          "output_type": "execute_result",
          "data": {
            "text/plain": [
              "<matplotlib.legend.Legend at 0x7be0bf128520>"
            ]
          },
          "metadata": {},
          "execution_count": 131
        },
        {
          "output_type": "display_data",
          "data": {
            "text/plain": [
              "<Figure size 640x480 with 1 Axes>"
            ],
            "image/png": "[encoded data removed]"
          },
          "metadata": {}
        }
      ]
    },
    {
      "cell_type": "code",
      "source": [
        "# get p(M1|x) from logK\n",
        "post_flow = np.exp(logK_flow)/(1+np.exp(logK_flow))\n",
        "\n",
        "# prepare posterior bins\n",
        "nbins = 100\n",
        "probability_array  = np.linspace(0,1,nbins)\n"
      ],
      "metadata": {
        "id": "1bOvErT9e6XV",
        "colab": {
          "base_uri": "https://localhost:8080/"
        },
        "outputId": "d899c8f7-cd0d-40b7-f05c-c68fe876c775"
      },
      "id": "1bOvErT9e6XV",
      "execution_count": 132,
      "outputs": [
        {
          "output_type": "stream",
          "name": "stderr",
          "text": [
            "<ipython-input-132-e144110becd1>:2: RuntimeWarning: overflow encountered in exp\n",
            "  post_flow = np.exp(logK_flow)/(1+np.exp(logK_flow))\n",
            "<ipython-input-132-e144110becd1>:2: RuntimeWarning: invalid value encountered in divide\n",
            "  post_flow = np.exp(logK_flow)/(1+np.exp(logK_flow))\n"
          ]
        }
      ]
    },
    {
      "cell_type": "code",
      "source": [
        "bin_centres_flow, fractions_flow, post_bin_n_flow, binomial_std_flow = coverage_test(post_flow, probability_array)"
      ],
      "metadata": {
        "id": "vm3KLkHXRpEN"
      },
      "id": "vm3KLkHXRpEN",
      "execution_count": 133,
      "outputs": []
    },
    {
      "cell_type": "code",
      "source": [
        "plt.figure(figsize=(5,4))\n",
        "\n",
        "plt.errorbar(bin_centres_flow, fractions_flow, np.asarray(binomial_std_flow), marker='.', ls='')\n",
        "plt.title('Model posterior blind coverage test PZFlow')\n",
        "plt.xlabel(r'$p(M_1 | x)$ bins', fontsize=11)\n",
        "plt.ylabel(str('Validation model fraction'), fontsize=11)\n",
        "plt.plot([0,1],[0,1],'k-',alpha=0.5)\n",
        "# plt.axis('square')\n",
        "plt.grid(True)\n",
        "\n",
        "# plt.savefig(path+'coverage_test_20_B.png', dpi=250)\n",
        "# plt.axis('equal')"
      ],
      "metadata": {
        "colab": {
          "base_uri": "https://localhost:8080/",
          "height": 415
        },
        "id": "Dfo5VYzFhZ5b",
        "outputId": "1db85298-ab91-44a0-bf61-64da596ccf8e"
      },
      "id": "Dfo5VYzFhZ5b",
      "execution_count": 134,
      "outputs": [
        {
          "output_type": "display_data",
          "data": {
            "text/plain": [
              "<Figure size 500x400 with 1 Axes>"
            ],
            "image/png": "[encoded data removed]"
          },
          "metadata": {}
        }
      ]
    },
    {
      "cell_type": "code",
      "source": [
        "residual_flow = (np.asarray(fractions_flow) - np.asarray(bin_centres_flow))\n",
        "scaled_residual_flow = residual_flow/np.asarray(binomial_std_flow)\n",
        "\n",
        "plt.figure(figsize=(16,4))\n",
        "\n",
        "plt.subplot(1,2,1)\n",
        "plt.errorbar(bin_centres_flow, scaled_residual_flow,yerr=binomial_std_flow/np.asarray(binomial_std_flow), marker='.', ls='')\n",
        "plt.title('Scaled Residual')\n",
        "plt.xlabel(r'$p(M_1 | x)$ bin', fontsize=11)\n",
        "plt.ylabel(r'[fraction - $p(M_1 | x) ] / \\sigma$', fontsize=11)\n",
        "plt.plot([0,1],[0,0],'k-',alpha=0.5)\n",
        "# plt.axis('square')\n",
        "plt.grid(True)\n",
        "\n",
        "plt.subplot(1,2,2)\n",
        "plt.errorbar(bin_centres_flow, residual_flow,yerr=binomial_std_flow, marker='.', ls='',c='orange')\n",
        "plt.title('Raw Residual')\n",
        "plt.xlabel(r'$p(M_1 | x)$ bin', fontsize=11)\n",
        "plt.ylabel(r'[fraction - $p(M_1 | x) ] $', fontsize=11)\n",
        "plt.plot([0,1],[0,0],'k-',alpha=0.5)\n",
        "# plt.axis('square')\n",
        "plt.grid(True)\n",
        "\n",
        "plt.subplots_adjust(wspace=.5)\n"
      ],
      "metadata": {
        "colab": {
          "base_uri": "https://localhost:8080/",
          "height": 376
        },
        "id": "EcnYMe3zjzsU",
        "outputId": "231a00a9-6c9c-4abc-f0a6-b7206bde5cb3"
      },
      "id": "EcnYMe3zjzsU",
      "execution_count": 135,
      "outputs": [
        {
          "output_type": "display_data",
          "data": {
            "text/plain": [
              "<Figure size 1600x400 with 2 Axes>"
            ],
            "image/png": "[encoded data removed]"
          },
          "metadata": {}
        }
      ]
    },
    {
      "cell_type": "code",
      "source": [
        "print(np.mean(scaled_residual_flow))\n",
        "print(np.std(scaled_residual_flow))"
      ],
      "metadata": {
        "id": "C5Tsn3_jj0IQ",
        "colab": {
          "base_uri": "https://localhost:8080/"
        },
        "outputId": "25621449-20fb-4108-9146-390171ada4f1"
      },
      "id": "C5Tsn3_jj0IQ",
      "execution_count": 136,
      "outputs": [
        {
          "output_type": "stream",
          "name": "stdout",
          "text": [
            "0.41200581999201613\n",
            "1.4274167518321634\n"
          ]
        }
      ]
    },
    {
      "cell_type": "markdown",
      "source": [
        "The coverage test produces scaled residuals with a lower mean and standard deviation compared to that of PZFLow, demonstrating its ability to estimate Bayes factors more accuracy.\n",
        "\n",
        "In future work, the evidence network could be used to derive Bayes factors from real galaxy photometry data and subsequently determine which model ($M_0$ or $M_1$) is more probable.  "
      ],
      "metadata": {
        "id": "VsP4o-qjUDM9"
      },
      "id": "VsP4o-qjUDM9"
    },
    {
      "cell_type": "code",
      "source": [],
      "metadata": {
        "id": "-duO0G6Lg5NE"
      },
      "id": "-duO0G6Lg5NE",
      "execution_count": null,
      "outputs": []
    }
  ],
  "metadata": {
    "colab": {
      "provenance": [],
      "gpuType": "T4",
      "include_colab_link": true
    },
    "kernelspec": {
      "display_name": "Python 3",
      "name": "python3"
    },
    "language_info": {
      "codemirror_mode": {
        "name": "ipython",
        "version": 3
      },
      "file_extension": ".py",
      "mimetype": "text/x-python",
      "name": "python",
      "nbconvert_exporter": "python",
      "pygments_lexer": "ipython3",
      "version": "3.9.12"
    },
    "vscode": {
      "interpreter": {
        "hash": "6e093467a8db9a7011af417371fcd573d1abb74261412f30c0a1eba50c9dc224"
      }
    },
    "accelerator": "GPU"
  },
  "nbformat": 4,
  "nbformat_minor": 5
}