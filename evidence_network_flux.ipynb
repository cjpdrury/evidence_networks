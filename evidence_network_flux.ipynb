{
  "cells": [
    {
      "cell_type": "markdown",
      "metadata": {
        "id": "view-in-github",
        "colab_type": "text"
      },
      "source": [
        "<a href=\"https://colab.research.google.com/github/cjpdrury/evidence_networks/blob/fluxes/evidence_network_flux.ipynb\" target=\"_parent\"><img src=\"https://colab.research.google.com/assets/colab-badge.svg\" alt=\"Open In Colab\"/></a>"
      ]
    },
    {
      "cell_type": "markdown",
      "metadata": {
        "id": "x6OgvpynRxrT"
      },
      "source": [
        "## Evidence Network example"
      ],
      "id": "x6OgvpynRxrT"
    },
    {
      "cell_type": "code",
      "execution_count": 1,
      "metadata": {
        "colab": {
          "base_uri": "https://localhost:8080/"
        },
        "id": "hZlXrY_oRxCy",
        "outputId": "8cdec65e-913c-44ac-f791-8b27eabebeb9"
      },
      "outputs": [
        {
          "output_type": "stream",
          "name": "stdout",
          "text": [
            "Collecting tensorflow==2.8.0\n",
            "  Downloading tensorflow-2.8.0-cp310-cp310-manylinux2010_x86_64.whl (497.6 MB)\n",
            "\u001b[2K     \u001b[90m━━━━━━━━━━━━━━━━━━━━━━━━━━━━━━━━━━━━━━━\u001b[0m \u001b[32m497.6/497.6 MB\u001b[0m \u001b[31m2.7 MB/s\u001b[0m eta \u001b[36m0:00:00\u001b[0m\n",
            "\u001b[?25hRequirement already satisfied: absl-py>=0.4.0 in /usr/local/lib/python3.10/dist-packages (from tensorflow==2.8.0) (1.4.0)\n",
            "Requirement already satisfied: astunparse>=1.6.0 in /usr/local/lib/python3.10/dist-packages (from tensorflow==2.8.0) (1.6.3)\n",
            "Requirement already satisfied: flatbuffers>=1.12 in /usr/local/lib/python3.10/dist-packages (from tensorflow==2.8.0) (23.5.26)\n",
            "Requirement already satisfied: gast>=0.2.1 in /usr/local/lib/python3.10/dist-packages (from tensorflow==2.8.0) (0.4.0)\n",
            "Requirement already satisfied: google-pasta>=0.1.1 in /usr/local/lib/python3.10/dist-packages (from tensorflow==2.8.0) (0.2.0)\n",
            "Requirement already satisfied: h5py>=2.9.0 in /usr/local/lib/python3.10/dist-packages (from tensorflow==2.8.0) (3.9.0)\n",
            "Collecting keras-preprocessing>=1.1.1 (from tensorflow==2.8.0)\n",
            "  Downloading Keras_Preprocessing-1.1.2-py2.py3-none-any.whl (42 kB)\n",
            "\u001b[2K     \u001b[90m━━━━━━━━━━━━━━━━━━━━━━━━━━━━━━━━━━━━━━━━\u001b[0m \u001b[32m42.6/42.6 kB\u001b[0m \u001b[31m4.9 MB/s\u001b[0m eta \u001b[36m0:00:00\u001b[0m\n",
            "\u001b[?25hRequirement already satisfied: libclang>=9.0.1 in /usr/local/lib/python3.10/dist-packages (from tensorflow==2.8.0) (16.0.6)\n",
            "Requirement already satisfied: numpy>=1.20 in /usr/local/lib/python3.10/dist-packages (from tensorflow==2.8.0) (1.23.5)\n",
            "Requirement already satisfied: opt-einsum>=2.3.2 in /usr/local/lib/python3.10/dist-packages (from tensorflow==2.8.0) (3.3.0)\n",
            "Requirement already satisfied: protobuf>=3.9.2 in /usr/local/lib/python3.10/dist-packages (from tensorflow==2.8.0) (3.20.3)\n",
            "Requirement already satisfied: setuptools in /usr/local/lib/python3.10/dist-packages (from tensorflow==2.8.0) (67.7.2)\n",
            "Requirement already satisfied: six>=1.12.0 in /usr/local/lib/python3.10/dist-packages (from tensorflow==2.8.0) (1.16.0)\n",
            "Requirement already satisfied: termcolor>=1.1.0 in /usr/local/lib/python3.10/dist-packages (from tensorflow==2.8.0) (2.3.0)\n",
            "Requirement already satisfied: typing-extensions>=3.6.6 in /usr/local/lib/python3.10/dist-packages (from tensorflow==2.8.0) (4.5.0)\n",
            "Requirement already satisfied: wrapt>=1.11.0 in /usr/local/lib/python3.10/dist-packages (from tensorflow==2.8.0) (1.15.0)\n",
            "Collecting tensorboard<2.9,>=2.8 (from tensorflow==2.8.0)\n",
            "  Downloading tensorboard-2.8.0-py3-none-any.whl (5.8 MB)\n",
            "\u001b[2K     \u001b[90m━━━━━━━━━━━━━━━━━━━━━━━━━━━━━━━━━━━━━━━━\u001b[0m \u001b[32m5.8/5.8 MB\u001b[0m \u001b[31m45.3 MB/s\u001b[0m eta \u001b[36m0:00:00\u001b[0m\n",
            "\u001b[?25hCollecting tf-estimator-nightly==2.8.0.dev2021122109 (from tensorflow==2.8.0)\n",
            "  Downloading tf_estimator_nightly-2.8.0.dev2021122109-py2.py3-none-any.whl (462 kB)\n",
            "\u001b[2K     \u001b[90m━━━━━━━━━━━━━━━━━━━━━━━━━━━━━━━━━━━━━━\u001b[0m \u001b[32m462.5/462.5 kB\u001b[0m \u001b[31m13.9 MB/s\u001b[0m eta \u001b[36m0:00:00\u001b[0m\n",
            "\u001b[?25hCollecting keras<2.9,>=2.8.0rc0 (from tensorflow==2.8.0)\n",
            "  Downloading keras-2.8.0-py2.py3-none-any.whl (1.4 MB)\n",
            "\u001b[2K     \u001b[90m━━━━━━━━━━━━━━━━━━━━━━━━━━━━━━━━━━━━━━━━\u001b[0m \u001b[32m1.4/1.4 MB\u001b[0m \u001b[31m50.5 MB/s\u001b[0m eta \u001b[36m0:00:00\u001b[0m\n",
            "\u001b[?25hRequirement already satisfied: tensorflow-io-gcs-filesystem>=0.23.1 in /usr/local/lib/python3.10/dist-packages (from tensorflow==2.8.0) (0.33.0)\n",
            "Requirement already satisfied: grpcio<2.0,>=1.24.3 in /usr/local/lib/python3.10/dist-packages (from tensorflow==2.8.0) (1.57.0)\n",
            "Requirement already satisfied: wheel<1.0,>=0.23.0 in /usr/local/lib/python3.10/dist-packages (from astunparse>=1.6.0->tensorflow==2.8.0) (0.41.2)\n",
            "Requirement already satisfied: google-auth<3,>=1.6.3 in /usr/local/lib/python3.10/dist-packages (from tensorboard<2.9,>=2.8->tensorflow==2.8.0) (2.17.3)\n",
            "Collecting google-auth-oauthlib<0.5,>=0.4.1 (from tensorboard<2.9,>=2.8->tensorflow==2.8.0)\n",
            "  Downloading google_auth_oauthlib-0.4.6-py2.py3-none-any.whl (18 kB)\n",
            "Requirement already satisfied: markdown>=2.6.8 in /usr/local/lib/python3.10/dist-packages (from tensorboard<2.9,>=2.8->tensorflow==2.8.0) (3.4.4)\n",
            "Requirement already satisfied: requests<3,>=2.21.0 in /usr/local/lib/python3.10/dist-packages (from tensorboard<2.9,>=2.8->tensorflow==2.8.0) (2.31.0)\n",
            "Collecting tensorboard-data-server<0.7.0,>=0.6.0 (from tensorboard<2.9,>=2.8->tensorflow==2.8.0)\n",
            "  Downloading tensorboard_data_server-0.6.1-py3-none-manylinux2010_x86_64.whl (4.9 MB)\n",
            "\u001b[2K     \u001b[90m━━━━━━━━━━━━━━━━━━━━━━━━━━━━━━━━━━━━━━━━\u001b[0m \u001b[32m4.9/4.9 MB\u001b[0m \u001b[31m65.8 MB/s\u001b[0m eta \u001b[36m0:00:00\u001b[0m\n",
            "\u001b[?25hCollecting tensorboard-plugin-wit>=1.6.0 (from tensorboard<2.9,>=2.8->tensorflow==2.8.0)\n",
            "  Downloading tensorboard_plugin_wit-1.8.1-py3-none-any.whl (781 kB)\n",
            "\u001b[2K     \u001b[90m━━━━━━━━━━━━━━━━━━━━━━━━━━━━━━━━━━━━━━\u001b[0m \u001b[32m781.3/781.3 kB\u001b[0m \u001b[31m53.5 MB/s\u001b[0m eta \u001b[36m0:00:00\u001b[0m\n",
            "\u001b[?25hRequirement already satisfied: werkzeug>=0.11.15 in /usr/local/lib/python3.10/dist-packages (from tensorboard<2.9,>=2.8->tensorflow==2.8.0) (2.3.7)\n",
            "Requirement already satisfied: cachetools<6.0,>=2.0.0 in /usr/local/lib/python3.10/dist-packages (from google-auth<3,>=1.6.3->tensorboard<2.9,>=2.8->tensorflow==2.8.0) (5.3.1)\n",
            "Requirement already satisfied: pyasn1-modules>=0.2.1 in /usr/local/lib/python3.10/dist-packages (from google-auth<3,>=1.6.3->tensorboard<2.9,>=2.8->tensorflow==2.8.0) (0.3.0)\n",
            "Requirement already satisfied: rsa<5,>=3.1.4 in /usr/local/lib/python3.10/dist-packages (from google-auth<3,>=1.6.3->tensorboard<2.9,>=2.8->tensorflow==2.8.0) (4.9)\n",
            "Requirement already satisfied: requests-oauthlib>=0.7.0 in /usr/local/lib/python3.10/dist-packages (from google-auth-oauthlib<0.5,>=0.4.1->tensorboard<2.9,>=2.8->tensorflow==2.8.0) (1.3.1)\n",
            "Requirement already satisfied: charset-normalizer<4,>=2 in /usr/local/lib/python3.10/dist-packages (from requests<3,>=2.21.0->tensorboard<2.9,>=2.8->tensorflow==2.8.0) (3.2.0)\n",
            "Requirement already satisfied: idna<4,>=2.5 in /usr/local/lib/python3.10/dist-packages (from requests<3,>=2.21.0->tensorboard<2.9,>=2.8->tensorflow==2.8.0) (3.4)\n",
            "Requirement already satisfied: urllib3<3,>=1.21.1 in /usr/local/lib/python3.10/dist-packages (from requests<3,>=2.21.0->tensorboard<2.9,>=2.8->tensorflow==2.8.0) (2.0.4)\n",
            "Requirement already satisfied: certifi>=2017.4.17 in /usr/local/lib/python3.10/dist-packages (from requests<3,>=2.21.0->tensorboard<2.9,>=2.8->tensorflow==2.8.0) (2023.7.22)\n",
            "Requirement already satisfied: MarkupSafe>=2.1.1 in /usr/local/lib/python3.10/dist-packages (from werkzeug>=0.11.15->tensorboard<2.9,>=2.8->tensorflow==2.8.0) (2.1.3)\n",
            "Requirement already satisfied: pyasn1<0.6.0,>=0.4.6 in /usr/local/lib/python3.10/dist-packages (from pyasn1-modules>=0.2.1->google-auth<3,>=1.6.3->tensorboard<2.9,>=2.8->tensorflow==2.8.0) (0.5.0)\n",
            "Requirement already satisfied: oauthlib>=3.0.0 in /usr/local/lib/python3.10/dist-packages (from requests-oauthlib>=0.7.0->google-auth-oauthlib<0.5,>=0.4.1->tensorboard<2.9,>=2.8->tensorflow==2.8.0) (3.2.2)\n",
            "Installing collected packages: tf-estimator-nightly, tensorboard-plugin-wit, keras, tensorboard-data-server, keras-preprocessing, google-auth-oauthlib, tensorboard, tensorflow\n",
            "  Attempting uninstall: keras\n",
            "    Found existing installation: keras 2.13.1\n",
            "    Uninstalling keras-2.13.1:\n",
            "      Successfully uninstalled keras-2.13.1\n",
            "  Attempting uninstall: tensorboard-data-server\n",
            "    Found existing installation: tensorboard-data-server 0.7.1\n",
            "    Uninstalling tensorboard-data-server-0.7.1:\n",
            "      Successfully uninstalled tensorboard-data-server-0.7.1\n",
            "  Attempting uninstall: google-auth-oauthlib\n",
            "    Found existing installation: google-auth-oauthlib 1.0.0\n",
            "    Uninstalling google-auth-oauthlib-1.0.0:\n",
            "      Successfully uninstalled google-auth-oauthlib-1.0.0\n",
            "  Attempting uninstall: tensorboard\n",
            "    Found existing installation: tensorboard 2.13.0\n",
            "    Uninstalling tensorboard-2.13.0:\n",
            "      Successfully uninstalled tensorboard-2.13.0\n",
            "  Attempting uninstall: tensorflow\n",
            "    Found existing installation: tensorflow 2.13.0\n",
            "    Uninstalling tensorflow-2.13.0:\n",
            "      Successfully uninstalled tensorflow-2.13.0\n",
            "Successfully installed google-auth-oauthlib-0.4.6 keras-2.8.0 keras-preprocessing-1.1.2 tensorboard-2.8.0 tensorboard-data-server-0.6.1 tensorboard-plugin-wit-1.8.1 tensorflow-2.8.0 tf-estimator-nightly-2.8.0.dev2021122109\n",
            "Collecting pzflow\n",
            "  Downloading pzflow-3.1.1-py3-none-any.whl (8.7 MB)\n",
            "\u001b[2K     \u001b[90m━━━━━━━━━━━━━━━━━━━━━━━━━━━━━━━━━━━━━━━━\u001b[0m \u001b[32m8.7/8.7 MB\u001b[0m \u001b[31m10.7 MB/s\u001b[0m eta \u001b[36m0:00:00\u001b[0m\n",
            "\u001b[?25hRequirement already satisfied: matplotlib in /usr/local/lib/python3.10/dist-packages (3.7.1)\n",
            "Collecting dill<0.4.0,>=0.3.6 (from pzflow)\n",
            "  Downloading dill-0.3.7-py3-none-any.whl (115 kB)\n",
            "\u001b[2K     \u001b[90m━━━━━━━━━━━━━━━━━━━━━━━━━━━━━━━━━━━━━━\u001b[0m \u001b[32m115.3/115.3 kB\u001b[0m \u001b[31m13.6 MB/s\u001b[0m eta \u001b[36m0:00:00\u001b[0m\n",
            "\u001b[?25hRequirement already satisfied: jax<0.5.0,>=0.4.2 in /usr/local/lib/python3.10/dist-packages (from pzflow) (0.4.14)\n",
            "Requirement already satisfied: jaxlib<0.5.0,>=0.4.2 in /usr/local/lib/python3.10/dist-packages (from pzflow) (0.4.14+cuda11.cudnn86)\n",
            "Requirement already satisfied: optax<0.2.0,>=0.1.4 in /usr/local/lib/python3.10/dist-packages (from pzflow) (0.1.7)\n",
            "Requirement already satisfied: pandas>=1.1 in /usr/local/lib/python3.10/dist-packages (from pzflow) (1.5.3)\n",
            "Requirement already satisfied: tqdm<5.0.0,>=4.64.1 in /usr/local/lib/python3.10/dist-packages (from pzflow) (4.66.1)\n",
            "Requirement already satisfied: contourpy>=1.0.1 in /usr/local/lib/python3.10/dist-packages (from matplotlib) (1.1.0)\n",
            "Requirement already satisfied: cycler>=0.10 in /usr/local/lib/python3.10/dist-packages (from matplotlib) (0.11.0)\n",
            "Requirement already satisfied: fonttools>=4.22.0 in /usr/local/lib/python3.10/dist-packages (from matplotlib) (4.42.1)\n",
            "Requirement already satisfied: kiwisolver>=1.0.1 in /usr/local/lib/python3.10/dist-packages (from matplotlib) (1.4.5)\n",
            "Requirement already satisfied: numpy>=1.20 in /usr/local/lib/python3.10/dist-packages (from matplotlib) (1.23.5)\n",
            "Requirement already satisfied: packaging>=20.0 in /usr/local/lib/python3.10/dist-packages (from matplotlib) (23.1)\n",
            "Requirement already satisfied: pillow>=6.2.0 in /usr/local/lib/python3.10/dist-packages (from matplotlib) (9.4.0)\n",
            "Requirement already satisfied: pyparsing>=2.3.1 in /usr/local/lib/python3.10/dist-packages (from matplotlib) (3.1.1)\n",
            "Requirement already satisfied: python-dateutil>=2.7 in /usr/local/lib/python3.10/dist-packages (from matplotlib) (2.8.2)\n",
            "Requirement already satisfied: ml-dtypes>=0.2.0 in /usr/local/lib/python3.10/dist-packages (from jax<0.5.0,>=0.4.2->pzflow) (0.2.0)\n",
            "Requirement already satisfied: opt-einsum in /usr/local/lib/python3.10/dist-packages (from jax<0.5.0,>=0.4.2->pzflow) (3.3.0)\n",
            "Requirement already satisfied: scipy>=1.7 in /usr/local/lib/python3.10/dist-packages (from jax<0.5.0,>=0.4.2->pzflow) (1.10.1)\n",
            "Requirement already satisfied: absl-py>=0.7.1 in /usr/local/lib/python3.10/dist-packages (from optax<0.2.0,>=0.1.4->pzflow) (1.4.0)\n",
            "Requirement already satisfied: chex>=0.1.5 in /usr/local/lib/python3.10/dist-packages (from optax<0.2.0,>=0.1.4->pzflow) (0.1.7)\n",
            "Requirement already satisfied: pytz>=2020.1 in /usr/local/lib/python3.10/dist-packages (from pandas>=1.1->pzflow) (2023.3.post1)\n",
            "Requirement already satisfied: six>=1.5 in /usr/local/lib/python3.10/dist-packages (from python-dateutil>=2.7->matplotlib) (1.16.0)\n",
            "Requirement already satisfied: dm-tree>=0.1.5 in /usr/local/lib/python3.10/dist-packages (from chex>=0.1.5->optax<0.2.0,>=0.1.4->pzflow) (0.1.8)\n",
            "Requirement already satisfied: toolz>=0.9.0 in /usr/local/lib/python3.10/dist-packages (from chex>=0.1.5->optax<0.2.0,>=0.1.4->pzflow) (0.12.0)\n",
            "Requirement already satisfied: typing-extensions>=4.2.0 in /usr/local/lib/python3.10/dist-packages (from chex>=0.1.5->optax<0.2.0,>=0.1.4->pzflow) (4.5.0)\n",
            "Installing collected packages: dill, pzflow\n",
            "Successfully installed dill-0.3.7 pzflow-3.1.1\n"
          ]
        }
      ],
      "source": [
        "# install this version of tf to use decayed lr metric\n",
        "!pip install tensorflow==2.8.0\n",
        "!pip install pzflow matplotlib\n",
        "\n",
        "\n"
      ],
      "id": "hZlXrY_oRxCy"
    },
    {
      "cell_type": "code",
      "source": [
        "\n",
        "gpu_info = !nvidia-smi\n",
        "gpu_info = '\\n'.join(gpu_info)\n",
        "if gpu_info.find('failed') >= 0:\n",
        "  print('Not connected to a GPU')\n",
        "else:\n",
        "  print(gpu_info)"
      ],
      "metadata": {
        "colab": {
          "base_uri": "https://localhost:8080/"
        },
        "id": "zPxjzoGMBwbH",
        "outputId": "224ffab3-4ba3-419b-d08e-0d46190c18cc"
      },
      "id": "zPxjzoGMBwbH",
      "execution_count": 2,
      "outputs": [
        {
          "output_type": "stream",
          "name": "stdout",
          "text": [
            "Sat Sep  9 09:26:17 2023       \n",
            "+-----------------------------------------------------------------------------+\n",
            "| NVIDIA-SMI 525.105.17   Driver Version: 525.105.17   CUDA Version: 12.0     |\n",
            "|-------------------------------+----------------------+----------------------+\n",
            "| GPU  Name        Persistence-M| Bus-Id        Disp.A | Volatile Uncorr. ECC |\n",
            "| Fan  Temp  Perf  Pwr:Usage/Cap|         Memory-Usage | GPU-Util  Compute M. |\n",
            "|                               |                      |               MIG M. |\n",
            "|===============================+======================+======================|\n",
            "|   0  Tesla T4            Off  | 00000000:00:04.0 Off |                    0 |\n",
            "| N/A   52C    P8    10W /  70W |      0MiB / 15360MiB |      0%      Default |\n",
            "|                               |                      |                  N/A |\n",
            "+-------------------------------+----------------------+----------------------+\n",
            "                                                                               \n",
            "+-----------------------------------------------------------------------------+\n",
            "| Processes:                                                                  |\n",
            "|  GPU   GI   CI        PID   Type   Process name                  GPU Memory |\n",
            "|        ID   ID                                                   Usage      |\n",
            "|=============================================================================|\n",
            "|  No running processes found                                                 |\n",
            "+-----------------------------------------------------------------------------+\n"
          ]
        }
      ]
    },
    {
      "cell_type": "code",
      "execution_count": 3,
      "metadata": {
        "colab": {
          "base_uri": "https://localhost:8080/"
        },
        "id": "reported-burlington",
        "outputId": "8b2f8f8f-ba53-4e83-b937-b76c4051dc9d"
      },
      "outputs": [
        {
          "output_type": "stream",
          "name": "stdout",
          "text": [
            "[PhysicalDevice(name='/physical_device:GPU:0', device_type='GPU')]\n",
            "[0]\n",
            "2.8.0\n"
          ]
        }
      ],
      "source": [
        "import numpy as np\n",
        "from scipy.stats import norm, multivariate_normal\n",
        "import sys, os, time, gc\n",
        "\n",
        "import tensorflow as tf\n",
        "import tensorflow.keras as keras\n",
        "from tensorflow.keras.models import Model\n",
        "from tensorflow.keras.layers import Dense, LeakyReLU, Input,ReLU\n",
        "from tensorflow.keras import optimizers, callbacks\n",
        "import h5py\n",
        "\n",
        "from tensorflow.keras.layers import concatenate, BatchNormalization\n",
        "\n",
        "import pandas as pd\n",
        "import random\n",
        "from sklearn.preprocessing import StandardScaler\n",
        "from sklearn.model_selection import train_test_split\n",
        "\n",
        "import requests\n",
        "import time\n",
        "\n",
        "from pzflow import Flow\n",
        "from pzflow.examples import get_twomoons_data\n",
        "\n",
        "import jax.numpy as jnp\n",
        "\n",
        "\n",
        "import matplotlib.pyplot as plt\n",
        "plt.rcParams[\"font.family\"] = \"serif\"\n",
        "plt.rcParams[\"mathtext.fontset\"] = \"cm\"\n",
        "plt.rcParams['image.cmap'] = 'coolwarm'\n",
        "plt.rcParams[\"figure.facecolor\"] = \"white\"\n",
        "print(tf.config.list_physical_devices('GPU'))\n",
        "tf.print(tf.constant([0.0]))\n",
        "print(tf.__version__)"
      ],
      "id": "reported-burlington"
    },
    {
      "cell_type": "code",
      "execution_count": 4,
      "metadata": {
        "colab": {
          "base_uri": "https://localhost:8080/"
        },
        "id": "cqtfv2o_Kgrb",
        "outputId": "a40338f9-afaf-4d5c-aed6-c7e3e0d0df5a"
      },
      "outputs": [
        {
          "output_type": "stream",
          "name": "stdout",
          "text": [
            "Mounted at /content/drive\n"
          ]
        }
      ],
      "source": [
        "from google.colab import drive\n",
        "drive.mount('/content/drive')\n",
        "# !cd /content/drive/MyDrive/ML_Intern/\n",
        "\n",
        "path = '/content/drive/MyDrive/ML_Intern'\n",
        "\n"
      ],
      "id": "cqtfv2o_Kgrb"
    },
    {
      "cell_type": "markdown",
      "source": [
        "## Write flux data to numpy\n",
        "The data is stored as two HDF5 files, containing SIMBA and TNG simulations. The following cell only needs to be ran once, to store the data as a numpy file."
      ],
      "metadata": {
        "id": "CbKC_ejA7vEw"
      },
      "id": "CbKC_ejA7vEw"
    },
    {
      "cell_type": "code",
      "source": [
        "# for each file in TNG and SIMBA, extract chosen fluxes.\n",
        "f_TNG = h5py.File(path+'/TNG_master.hdf5', 'r')\n",
        "f_SIM = h5py.File(path+'/simba_master.hdf5', 'r')\n",
        "\n",
        "\n",
        "sloan_TNG, sloan_SIM, galex_TNG,galex_SIM = [],[],[],[]\n",
        "\n",
        "# loop through each folder. Extract all galaxies from chosen filter.\n",
        "for i in range(len(f_TNG.keys())):\n",
        "  data = np.array(f_TNG[str(i)]['intrinsic']['SLOAN']['SDSS.g'])\n",
        "  sloan_TNG.append(data)\n",
        "  data = np.array(f_TNG[str(i)]['intrinsic']['GALEX']['GALEX.FUV'])\n",
        "  galex_TNG.append(data)\n",
        "\n",
        "\n",
        "for i in range(len(f_SIM.keys())):\n",
        "  data = np.array(f_SIM[str(i)]['intrinsic']['SLOAN']['SDSS.g'])\n",
        "  sloan_SIM.append(data)\n",
        "  data = np.array(f_SIM[str(i)]['intrinsic']['GALEX']['GALEX.FUV'])\n",
        "  galex_SIM.append(data)\n",
        "\n",
        "\n",
        "flux_TNG = np.stack((np.concatenate(sloan_TNG).ravel(), np.concatenate(galex_TNG).ravel()), axis=1)\n",
        "flux_SIM = np.stack((np.concatenate(sloan_SIM).ravel(), np.concatenate(galex_SIM).ravel()), axis=1)\n",
        "\n",
        "np.save(path+'/flux_TNG.npy',flux_TNG)\n",
        "np.save(path+'/flux_SIMBA.npy',flux_SIM)"
      ],
      "metadata": {
        "id": "gGir10a2TmF1"
      },
      "id": "gGir10a2TmF1",
      "execution_count": 17,
      "outputs": []
    },
    {
      "cell_type": "code",
      "source": [
        "# want a TNG and a SIMBA folder each containing all the sloan filters.\n",
        "f_TNG = h5py.File(path+'/TNG_master.hdf5', 'r')\n",
        "f_SIM = h5py.File(path+'/simba_master.hdf5', 'r')\n",
        "filters = list(f_TNG[str(0)]['intrinsic']['SLOAN'].keys())\n",
        "print(filters)\n",
        "\n",
        "sloan_TNG, sloan_SIM, flux_TNG = [],[],[]\n",
        "\n",
        "# for i in range(len(f_TNG.keys())):\n",
        "# for j, filter in enumerate(filters):\n",
        "  # if j == 1:\n",
        "  #   flux_TNG = sloan_TNG\n",
        "  #   print()\n",
        "\n",
        "\n",
        "  # if j > 2:\n",
        "  #   flux_TNG = np.stack((flux_TNG, np.concatenate(sloan_TNG).ravel()), axis=1)\n",
        "\n",
        "\n",
        "xx = np.zeros((9350,1))\n",
        "for j, filter in enumerate(filters):\n",
        "  data = []\n",
        "  for i in range(5):\n",
        "      # print(j)\n",
        "      temp = np.array(f_TNG[str(i)]['intrinsic']['SLOAN'][filter])\n",
        "      data.extend(temp)\n",
        "\n",
        "  # xx = np.zeros(len(data))\n",
        "  # data = np.reshape(data, (len(data),1))\n",
        "  print(np.shape(xx),np.shape(data))\n",
        "\n",
        "  if j == 0:\n",
        "    sloan_TNG = data\n",
        "  else:\n",
        "    sloan_TNG  = np.hstack((sloan_TNG, np.reshape(data, (len(data),1)) ))\n",
        "\n",
        "\n",
        "\n",
        "  # if j > 1:\n",
        "    # sloan_TNG = = np.hstack((, np.reshape(data, (len(data),1)) ))\n",
        "\n",
        "  # xx = np.hstack((xx, np.reshape(data, (len(data),1)) ))\n"
      ],
      "metadata": {
        "colab": {
          "base_uri": "https://localhost:8080/",
          "height": 373
        },
        "id": "n-ZyrstYDf7a",
        "outputId": "81e66c66-7c63-4e94-c692-4d400eb18452"
      },
      "id": "n-ZyrstYDf7a",
      "execution_count": 5,
      "outputs": [
        {
          "output_type": "stream",
          "name": "stdout",
          "text": [
            "['SDSS.g', 'SDSS.i', 'SDSS.r', 'SDSS.u', 'SDSS.z']\n",
            "(9350, 1) (9350,)\n",
            "(9350, 1) (9350,)\n"
          ]
        },
        {
          "output_type": "error",
          "ename": "ValueError",
          "evalue": "ignored",
          "traceback": [
            "\u001b[0;31m---------------------------------------------------------------------------\u001b[0m",
            "\u001b[0;31mValueError\u001b[0m                                Traceback (most recent call last)",
            "\u001b[0;32m<ipython-input-5-138020859c26>\u001b[0m in \u001b[0;36m<cell line: 21>\u001b[0;34m()\u001b[0m\n\u001b[1;32m     33\u001b[0m     \u001b[0msloan_TNG\u001b[0m \u001b[0;34m=\u001b[0m \u001b[0mdata\u001b[0m\u001b[0;34m\u001b[0m\u001b[0;34m\u001b[0m\u001b[0m\n\u001b[1;32m     34\u001b[0m   \u001b[0;32melse\u001b[0m\u001b[0;34m:\u001b[0m\u001b[0;34m\u001b[0m\u001b[0;34m\u001b[0m\u001b[0m\n\u001b[0;32m---> 35\u001b[0;31m     \u001b[0msloan_TNG\u001b[0m  \u001b[0;34m=\u001b[0m \u001b[0mnp\u001b[0m\u001b[0;34m.\u001b[0m\u001b[0mhstack\u001b[0m\u001b[0;34m(\u001b[0m\u001b[0;34m(\u001b[0m\u001b[0msloan_TNG\u001b[0m\u001b[0;34m,\u001b[0m \u001b[0mnp\u001b[0m\u001b[0;34m.\u001b[0m\u001b[0mreshape\u001b[0m\u001b[0;34m(\u001b[0m\u001b[0mdata\u001b[0m\u001b[0;34m,\u001b[0m \u001b[0;34m(\u001b[0m\u001b[0mlen\u001b[0m\u001b[0;34m(\u001b[0m\u001b[0mdata\u001b[0m\u001b[0;34m)\u001b[0m\u001b[0;34m,\u001b[0m\u001b[0;36m1\u001b[0m\u001b[0;34m)\u001b[0m\u001b[0;34m)\u001b[0m \u001b[0;34m)\u001b[0m\u001b[0;34m)\u001b[0m\u001b[0;34m\u001b[0m\u001b[0;34m\u001b[0m\u001b[0m\n\u001b[0m\u001b[1;32m     36\u001b[0m \u001b[0;34m\u001b[0m\u001b[0m\n\u001b[1;32m     37\u001b[0m \u001b[0;34m\u001b[0m\u001b[0m\n",
            "\u001b[0;32m/usr/local/lib/python3.10/dist-packages/numpy/core/overrides.py\u001b[0m in \u001b[0;36mhstack\u001b[0;34m(*args, **kwargs)\u001b[0m\n",
            "\u001b[0;32m/usr/local/lib/python3.10/dist-packages/numpy/core/shape_base.py\u001b[0m in \u001b[0;36mhstack\u001b[0;34m(tup)\u001b[0m\n\u001b[1;32m    341\u001b[0m     \u001b[0;31m# As a special case, dimension 0 of 1-dimensional arrays is \"horizontal\"\u001b[0m\u001b[0;34m\u001b[0m\u001b[0;34m\u001b[0m\u001b[0m\n\u001b[1;32m    342\u001b[0m     \u001b[0;32mif\u001b[0m \u001b[0marrs\u001b[0m \u001b[0;32mand\u001b[0m \u001b[0marrs\u001b[0m\u001b[0;34m[\u001b[0m\u001b[0;36m0\u001b[0m\u001b[0;34m]\u001b[0m\u001b[0;34m.\u001b[0m\u001b[0mndim\u001b[0m \u001b[0;34m==\u001b[0m \u001b[0;36m1\u001b[0m\u001b[0;34m:\u001b[0m\u001b[0;34m\u001b[0m\u001b[0;34m\u001b[0m\u001b[0m\n\u001b[0;32m--> 343\u001b[0;31m         \u001b[0;32mreturn\u001b[0m \u001b[0m_nx\u001b[0m\u001b[0;34m.\u001b[0m\u001b[0mconcatenate\u001b[0m\u001b[0;34m(\u001b[0m\u001b[0marrs\u001b[0m\u001b[0;34m,\u001b[0m \u001b[0;36m0\u001b[0m\u001b[0;34m)\u001b[0m\u001b[0;34m\u001b[0m\u001b[0;34m\u001b[0m\u001b[0m\n\u001b[0m\u001b[1;32m    344\u001b[0m     \u001b[0;32melse\u001b[0m\u001b[0;34m:\u001b[0m\u001b[0;34m\u001b[0m\u001b[0;34m\u001b[0m\u001b[0m\n\u001b[1;32m    345\u001b[0m         \u001b[0;32mreturn\u001b[0m \u001b[0m_nx\u001b[0m\u001b[0;34m.\u001b[0m\u001b[0mconcatenate\u001b[0m\u001b[0;34m(\u001b[0m\u001b[0marrs\u001b[0m\u001b[0;34m,\u001b[0m \u001b[0;36m1\u001b[0m\u001b[0;34m)\u001b[0m\u001b[0;34m\u001b[0m\u001b[0;34m\u001b[0m\u001b[0m\n",
            "\u001b[0;32m/usr/local/lib/python3.10/dist-packages/numpy/core/overrides.py\u001b[0m in \u001b[0;36mconcatenate\u001b[0;34m(*args, **kwargs)\u001b[0m\n",
            "\u001b[0;31mValueError\u001b[0m: all the input arrays must have same number of dimensions, but the array at index 0 has 1 dimension(s) and the array at index 1 has 2 dimension(s)"
          ]
        }
      ]
    },
    {
      "cell_type": "code",
      "source": [
        "xx\n"
      ],
      "metadata": {
        "colab": {
          "base_uri": "https://localhost:8080/"
        },
        "id": "4kMwCmhzdCE4",
        "outputId": "b47a81b9-9dd0-4b9c-853d-0d14f284494b"
      },
      "id": "4kMwCmhzdCE4",
      "execution_count": null,
      "outputs": [
        {
          "output_type": "execute_result",
          "data": {
            "text/plain": [
              "array([[0.00000000e+00, 1.00826496e+30, 1.67628141e+30, 1.56165165e+30,\n",
              "        5.34499408e+29, 1.86869467e+30],\n",
              "       [0.00000000e+00, 2.23286460e+29, 2.25228548e+29, 3.28863826e+29,\n",
              "        1.69894525e+29, 2.32851402e+29],\n",
              "       [0.00000000e+00, 4.37290153e+28, 7.82308513e+28, 6.52967920e+28,\n",
              "        1.65737131e+28, 8.69658333e+28],\n",
              "       ...,\n",
              "       [0.00000000e+00, 3.17197027e+26, 4.15461360e+26, 3.60344617e+26,\n",
              "        1.67779286e+26, 4.59738809e+26],\n",
              "       [0.00000000e+00, 1.22984177e+25, 2.01060165e+25, 1.72988129e+25,\n",
              "        5.09778294e+24, 2.18096304e+25],\n",
              "       [0.00000000e+00, 3.17560437e+28, 1.84220666e+28, 6.09196014e+28,\n",
              "        3.64492229e+28, 1.67106495e+28]])"
            ]
          },
          "metadata": {},
          "execution_count": 90
        }
      ]
    },
    {
      "cell_type": "code",
      "source": [
        "print(np.shape(sloan_TNG))\n",
        "print(np.shape(sloan_TNG[1]))"
      ],
      "metadata": {
        "colab": {
          "base_uri": "https://localhost:8080/"
        },
        "id": "pC86va7naqAm",
        "outputId": "091662b1-7e08-4c5d-daa3-0d302d442819"
      },
      "id": "pC86va7naqAm",
      "execution_count": null,
      "outputs": [
        {
          "output_type": "stream",
          "name": "stdout",
          "text": [
            "(9350,)\n",
            "()\n"
          ]
        }
      ]
    },
    {
      "cell_type": "code",
      "source": [
        "f_TNG[str(i)]['intrinsic']['SLOAN']"
      ],
      "metadata": {
        "colab": {
          "base_uri": "https://localhost:8080/"
        },
        "id": "3ryg37mKYfjj",
        "outputId": "7d58fa58-c438-445c-9c29-0a2ddc34b94b"
      },
      "id": "3ryg37mKYfjj",
      "execution_count": null,
      "outputs": [
        {
          "output_type": "execute_result",
          "data": {
            "text/plain": [
              "<HDF5 group \"/4/intrinsic/SLOAN\" (5 members)>"
            ]
          },
          "metadata": {},
          "execution_count": 8
        }
      ]
    },
    {
      "cell_type": "code",
      "source": [
        "np.shape(sloan_TNG)"
      ],
      "metadata": {
        "colab": {
          "base_uri": "https://localhost:8080/"
        },
        "id": "VA9tVadcHdkw",
        "outputId": "9f25f6ee-f1f7-4197-8d97-87bb506df2ac"
      },
      "id": "VA9tVadcHdkw",
      "execution_count": null,
      "outputs": [
        {
          "output_type": "stream",
          "name": "stderr",
          "text": [
            "/usr/local/lib/python3.10/dist-packages/numpy/core/fromnumeric.py:2009: VisibleDeprecationWarning: Creating an ndarray from ragged nested sequences (which is a list-or-tuple of lists-or-tuples-or ndarrays with different lengths or shapes) is deprecated. If you meant to do this, you must specify 'dtype=object' when creating the ndarray.\n",
            "  result = asarray(a).shape\n"
          ]
        },
        {
          "output_type": "execute_result",
          "data": {
            "text/plain": [
              "(25,)"
            ]
          },
          "metadata": {},
          "execution_count": 38
        }
      ]
    },
    {
      "cell_type": "markdown",
      "source": [
        "## Load flux data from numpy file"
      ],
      "metadata": {
        "id": "mwmhhMaRvsTD"
      },
      "id": "mwmhhMaRvsTD"
    },
    {
      "cell_type": "code",
      "source": [
        "# unpack data\n",
        "flux_TNG = np.load(path+'/flux_TNG.npy')\n",
        "flux_sim = np.load(path+'/flux_SIMBA.npy')\n",
        "print(np.shape(flux_TNG))\n",
        "\n",
        "# get headers and convert to pandas\n",
        "header = 'sloan_g | galex_fuv'\n",
        "header = header.split('|')\n",
        "\n",
        "df_TNG = pd.DataFrame(flux_TNG, columns=header)\n",
        "df_SIM = pd.DataFrame(flux_SIM, columns=header)\n",
        "\n",
        "# add model labels 'm'\n",
        "df_TNG['m'] = np.zeros(df_TNG.shape[0])\n",
        "df_SIM['m'] = np.ones(df_SIM.shape[0])\n",
        "\n",
        "df_TNG.head()"
      ],
      "metadata": {
        "colab": {
          "base_uri": "https://localhost:8080/",
          "height": 223
        },
        "id": "XhbOE6zorc5L",
        "outputId": "8c60ed79-8f43-4412-b07c-54004f2578b7"
      },
      "id": "XhbOE6zorc5L",
      "execution_count": 18,
      "outputs": [
        {
          "output_type": "stream",
          "name": "stdout",
          "text": [
            "(2413891, 2)\n"
          ]
        },
        {
          "output_type": "execute_result",
          "data": {
            "text/plain": [
              "       sloan_g      galex_fuv    m\n",
              "0  1.008265e+30  3.683015e+29  0.0\n",
              "1  2.232865e+29  1.797155e+29  0.0\n",
              "2  4.372902e+28  1.415112e+27  0.0\n",
              "3  8.979900e+27  4.046966e+27  0.0\n",
              "4  4.124089e+28  3.872917e+27  0.0"
            ],
            "text/html": [
              "\n",
              "  <div id=\"df-7c8591cf-af5a-4860-a2c8-a77aa5b12f70\" class=\"colab-df-container\">\n",
              "    <div>\n",
              "<style scoped>\n",
              "    .dataframe tbody tr th:only-of-type {\n",
              "        vertical-align: middle;\n",
              "    }\n",
              "\n",
              "    .dataframe tbody tr th {\n",
              "        vertical-align: top;\n",
              "    }\n",
              "\n",
              "    .dataframe thead th {\n",
              "        text-align: right;\n",
              "    }\n",
              "</style>\n",
              "<table border=\"1\" class=\"dataframe\">\n",
              "  <thead>\n",
              "    <tr style=\"text-align: right;\">\n",
              "      <th></th>\n",
              "      <th>sloan_g</th>\n",
              "      <th>galex_fuv</th>\n",
              "      <th>m</th>\n",
              "    </tr>\n",
              "  </thead>\n",
              "  <tbody>\n",
              "    <tr>\n",
              "      <th>0</th>\n",
              "      <td>1.008265e+30</td>\n",
              "      <td>3.683015e+29</td>\n",
              "      <td>0.0</td>\n",
              "    </tr>\n",
              "    <tr>\n",
              "      <th>1</th>\n",
              "      <td>2.232865e+29</td>\n",
              "      <td>1.797155e+29</td>\n",
              "      <td>0.0</td>\n",
              "    </tr>\n",
              "    <tr>\n",
              "      <th>2</th>\n",
              "      <td>4.372902e+28</td>\n",
              "      <td>1.415112e+27</td>\n",
              "      <td>0.0</td>\n",
              "    </tr>\n",
              "    <tr>\n",
              "      <th>3</th>\n",
              "      <td>8.979900e+27</td>\n",
              "      <td>4.046966e+27</td>\n",
              "      <td>0.0</td>\n",
              "    </tr>\n",
              "    <tr>\n",
              "      <th>4</th>\n",
              "      <td>4.124089e+28</td>\n",
              "      <td>3.872917e+27</td>\n",
              "      <td>0.0</td>\n",
              "    </tr>\n",
              "  </tbody>\n",
              "</table>\n",
              "</div>\n",
              "    <div class=\"colab-df-buttons\">\n",
              "\n",
              "  <div class=\"colab-df-container\">\n",
              "    <button class=\"colab-df-convert\" onclick=\"convertToInteractive('df-7c8591cf-af5a-4860-a2c8-a77aa5b12f70')\"\n",
              "            title=\"Convert this dataframe to an interactive table.\"\n",
              "            style=\"display:none;\">\n",
              "\n",
              "  <svg xmlns=\"http://www.w3.org/2000/svg\" height=\"24px\" viewBox=\"0 -960 960 960\">\n",
              "    <path d=\"M120-120v-720h720v720H120Zm60-500h600v-160H180v160Zm220 220h160v-160H400v160Zm0 220h160v-160H400v160ZM180-400h160v-160H180v160Zm440 0h160v-160H620v160ZM180-180h160v-160H180v160Zm440 0h160v-160H620v160Z\"/>\n",
              "  </svg>\n",
              "    </button>\n",
              "\n",
              "  <style>\n",
              "    .colab-df-container {\n",
              "      display:flex;\n",
              "      gap: 12px;\n",
              "    }\n",
              "\n",
              "    .colab-df-convert {\n",
              "      background-color: #E8F0FE;\n",
              "      border: none;\n",
              "      border-radius: 50%;\n",
              "      cursor: pointer;\n",
              "      display: none;\n",
              "      fill: #1967D2;\n",
              "      height: 32px;\n",
              "      padding: 0 0 0 0;\n",
              "      width: 32px;\n",
              "    }\n",
              "\n",
              "    .colab-df-convert:hover {\n",
              "      background-color: #E2EBFA;\n",
              "      box-shadow: 0px 1px 2px rgba(60, 64, 67, 0.3), 0px 1px 3px 1px rgba(60, 64, 67, 0.15);\n",
              "      fill: #174EA6;\n",
              "    }\n",
              "\n",
              "    .colab-df-buttons div {\n",
              "      margin-bottom: 4px;\n",
              "    }\n",
              "\n",
              "    [theme=dark] .colab-df-convert {\n",
              "      background-color: #3B4455;\n",
              "      fill: #D2E3FC;\n",
              "    }\n",
              "\n",
              "    [theme=dark] .colab-df-convert:hover {\n",
              "      background-color: #434B5C;\n",
              "      box-shadow: 0px 1px 3px 1px rgba(0, 0, 0, 0.15);\n",
              "      filter: drop-shadow(0px 1px 2px rgba(0, 0, 0, 0.3));\n",
              "      fill: #FFFFFF;\n",
              "    }\n",
              "  </style>\n",
              "\n",
              "    <script>\n",
              "      const buttonEl =\n",
              "        document.querySelector('#df-7c8591cf-af5a-4860-a2c8-a77aa5b12f70 button.colab-df-convert');\n",
              "      buttonEl.style.display =\n",
              "        google.colab.kernel.accessAllowed ? 'block' : 'none';\n",
              "\n",
              "      async function convertToInteractive(key) {\n",
              "        const element = document.querySelector('#df-7c8591cf-af5a-4860-a2c8-a77aa5b12f70');\n",
              "        const dataTable =\n",
              "          await google.colab.kernel.invokeFunction('convertToInteractive',\n",
              "                                                    [key], {});\n",
              "        if (!dataTable) return;\n",
              "\n",
              "        const docLinkHtml = 'Like what you see? Visit the ' +\n",
              "          '<a target=\"_blank\" href=https://colab.research.google.com/notebooks/data_table.ipynb>data table notebook</a>'\n",
              "          + ' to learn more about interactive tables.';\n",
              "        element.innerHTML = '';\n",
              "        dataTable['output_type'] = 'display_data';\n",
              "        await google.colab.output.renderOutput(dataTable, element);\n",
              "        const docLink = document.createElement('div');\n",
              "        docLink.innerHTML = docLinkHtml;\n",
              "        element.appendChild(docLink);\n",
              "      }\n",
              "    </script>\n",
              "  </div>\n",
              "\n",
              "\n",
              "<div id=\"df-0bea7217-aba9-4fdf-a5bf-f7e4e14efd5d\">\n",
              "  <button class=\"colab-df-quickchart\" onclick=\"quickchart('df-0bea7217-aba9-4fdf-a5bf-f7e4e14efd5d')\"\n",
              "            title=\"Suggest charts.\"\n",
              "            style=\"display:none;\">\n",
              "\n",
              "<svg xmlns=\"http://www.w3.org/2000/svg\" height=\"24px\"viewBox=\"0 0 24 24\"\n",
              "     width=\"24px\">\n",
              "    <g>\n",
              "        <path d=\"M19 3H5c-1.1 0-2 .9-2 2v14c0 1.1.9 2 2 2h14c1.1 0 2-.9 2-2V5c0-1.1-.9-2-2-2zM9 17H7v-7h2v7zm4 0h-2V7h2v10zm4 0h-2v-4h2v4z\"/>\n",
              "    </g>\n",
              "</svg>\n",
              "  </button>\n",
              "\n",
              "<style>\n",
              "  .colab-df-quickchart {\n",
              "      --bg-color: #E8F0FE;\n",
              "      --fill-color: #1967D2;\n",
              "      --hover-bg-color: #E2EBFA;\n",
              "      --hover-fill-color: #174EA6;\n",
              "      --disabled-fill-color: #AAA;\n",
              "      --disabled-bg-color: #DDD;\n",
              "  }\n",
              "\n",
              "  [theme=dark] .colab-df-quickchart {\n",
              "      --bg-color: #3B4455;\n",
              "      --fill-color: #D2E3FC;\n",
              "      --hover-bg-color: #434B5C;\n",
              "      --hover-fill-color: #FFFFFF;\n",
              "      --disabled-bg-color: #3B4455;\n",
              "      --disabled-fill-color: #666;\n",
              "  }\n",
              "\n",
              "  .colab-df-quickchart {\n",
              "    background-color: var(--bg-color);\n",
              "    border: none;\n",
              "    border-radius: 50%;\n",
              "    cursor: pointer;\n",
              "    display: none;\n",
              "    fill: var(--fill-color);\n",
              "    height: 32px;\n",
              "    padding: 0;\n",
              "    width: 32px;\n",
              "  }\n",
              "\n",
              "  .colab-df-quickchart:hover {\n",
              "    background-color: var(--hover-bg-color);\n",
              "    box-shadow: 0 1px 2px rgba(60, 64, 67, 0.3), 0 1px 3px 1px rgba(60, 64, 67, 0.15);\n",
              "    fill: var(--button-hover-fill-color);\n",
              "  }\n",
              "\n",
              "  .colab-df-quickchart-complete:disabled,\n",
              "  .colab-df-quickchart-complete:disabled:hover {\n",
              "    background-color: var(--disabled-bg-color);\n",
              "    fill: var(--disabled-fill-color);\n",
              "    box-shadow: none;\n",
              "  }\n",
              "\n",
              "  .colab-df-spinner {\n",
              "    border: 2px solid var(--fill-color);\n",
              "    border-color: transparent;\n",
              "    border-bottom-color: var(--fill-color);\n",
              "    animation:\n",
              "      spin 1s steps(1) infinite;\n",
              "  }\n",
              "\n",
              "  @keyframes spin {\n",
              "    0% {\n",
              "      border-color: transparent;\n",
              "      border-bottom-color: var(--fill-color);\n",
              "      border-left-color: var(--fill-color);\n",
              "    }\n",
              "    20% {\n",
              "      border-color: transparent;\n",
              "      border-left-color: var(--fill-color);\n",
              "      border-top-color: var(--fill-color);\n",
              "    }\n",
              "    30% {\n",
              "      border-color: transparent;\n",
              "      border-left-color: var(--fill-color);\n",
              "      border-top-color: var(--fill-color);\n",
              "      border-right-color: var(--fill-color);\n",
              "    }\n",
              "    40% {\n",
              "      border-color: transparent;\n",
              "      border-right-color: var(--fill-color);\n",
              "      border-top-color: var(--fill-color);\n",
              "    }\n",
              "    60% {\n",
              "      border-color: transparent;\n",
              "      border-right-color: var(--fill-color);\n",
              "    }\n",
              "    80% {\n",
              "      border-color: transparent;\n",
              "      border-right-color: var(--fill-color);\n",
              "      border-bottom-color: var(--fill-color);\n",
              "    }\n",
              "    90% {\n",
              "      border-color: transparent;\n",
              "      border-bottom-color: var(--fill-color);\n",
              "    }\n",
              "  }\n",
              "</style>\n",
              "\n",
              "  <script>\n",
              "    async function quickchart(key) {\n",
              "      const quickchartButtonEl =\n",
              "        document.querySelector('#' + key + ' button');\n",
              "      quickchartButtonEl.disabled = true;  // To prevent multiple clicks.\n",
              "      quickchartButtonEl.classList.add('colab-df-spinner');\n",
              "      try {\n",
              "        const charts = await google.colab.kernel.invokeFunction(\n",
              "            'suggestCharts', [key], {});\n",
              "      } catch (error) {\n",
              "        console.error('Error during call to suggestCharts:', error);\n",
              "      }\n",
              "      quickchartButtonEl.classList.remove('colab-df-spinner');\n",
              "      quickchartButtonEl.classList.add('colab-df-quickchart-complete');\n",
              "    }\n",
              "    (() => {\n",
              "      let quickchartButtonEl =\n",
              "        document.querySelector('#df-0bea7217-aba9-4fdf-a5bf-f7e4e14efd5d button');\n",
              "      quickchartButtonEl.style.display =\n",
              "        google.colab.kernel.accessAllowed ? 'block' : 'none';\n",
              "    })();\n",
              "  </script>\n",
              "</div>\n",
              "    </div>\n",
              "  </div>\n"
            ]
          },
          "metadata": {},
          "execution_count": 18
        }
      ]
    },
    {
      "cell_type": "code",
      "source": [
        "# assign label of 0 for IllustrisTNG and 1 for SIMBA\n",
        "flux_TNG = np.append(flux_TNG, np.zeros((len(flux_TNG[:,0]),1)) ,axis=1)\n",
        "flux_SIM = np.append(flux_SIM, np.ones((len(flux_SIM[:,0]),1)) ,axis=1)"
      ],
      "metadata": {
        "id": "K9KlOJ2dv90g"
      },
      "id": "K9KlOJ2dv90g",
      "execution_count": 19,
      "outputs": []
    },
    {
      "cell_type": "code",
      "source": [
        "# combine into one dataset\n",
        "train_flux = np.append(flux_TNG,flux_SIM, axis=0 )"
      ],
      "metadata": {
        "id": "Hr9O_zWJyN9x"
      },
      "id": "Hr9O_zWJyN9x",
      "execution_count": 20,
      "outputs": []
    },
    {
      "cell_type": "markdown",
      "source": [
        "## Produce training, validation and testing data\n",
        "Note that some galaxies had zero-valued flux. These were removed. The fluxes are scaled to have a mean of zero and standard deviation of 1."
      ],
      "metadata": {
        "id": "s2bOEjOeyWZu"
      },
      "id": "s2bOEjOeyWZu"
    },
    {
      "cell_type": "code",
      "source": [
        "# randomly sample from training data\n",
        "\n",
        "n_sample = 500000\n",
        "# n_sample = train_data.shape[0]\n",
        "\n",
        "choices = np.random.choice(train_flux.shape[0],\n",
        "                                  size=n_sample,\n",
        "                                  replace=False)\n",
        "train_flux = train_flux[choices,:]\n",
        "print(train_flux.shape)\n",
        "\n",
        "\n",
        "# separate training, validation and test data\n",
        "x_train, x_test, y_train, y_test = train_test_split(train_flux[:,:-1], train_flux[:,-1], test_size=0.20, shuffle=True, random_state=44)\n",
        "x_train, x_val, y_train, y_val = train_test_split(x_train[:,:], y_train[:], test_size=0.20, shuffle=True, random_state=43)"
      ],
      "metadata": {
        "colab": {
          "base_uri": "https://localhost:8080/"
        },
        "id": "TTYe91RXyc3j",
        "outputId": "733aba16-d3d1-4a81-eba3-c2a08f151981"
      },
      "id": "TTYe91RXyc3j",
      "execution_count": 21,
      "outputs": [
        {
          "output_type": "stream",
          "name": "stdout",
          "text": [
            "(500000, 3)\n"
          ]
        }
      ]
    },
    {
      "cell_type": "code",
      "source": [
        "print(x_train.shape, x_val.shape, x_test.shape, y_train.shape, y_val.shape,y_test.shape )"
      ],
      "metadata": {
        "colab": {
          "base_uri": "https://localhost:8080/"
        },
        "id": "rYh5wa4fyJhb",
        "outputId": "f3076dd8-b0cf-4d6c-d10f-cc63ba12a8c4"
      },
      "id": "rYh5wa4fyJhb",
      "execution_count": 22,
      "outputs": [
        {
          "output_type": "stream",
          "name": "stdout",
          "text": [
            "(320000, 2) (80000, 2) (100000, 2) (320000,) (80000,) (100000,)\n"
          ]
        }
      ]
    },
    {
      "cell_type": "code",
      "source": [
        "# remove zero valued fluxes.\n",
        "y_train = y_train[~np.all(x_train == 0, axis=1)]\n",
        "x_train = x_train[~np.all(x_train == 0, axis=1)]\n",
        "\n"
      ],
      "metadata": {
        "id": "AGsAKujN0gsr"
      },
      "id": "AGsAKujN0gsr",
      "execution_count": 23,
      "outputs": []
    },
    {
      "cell_type": "code",
      "source": [
        "print(np.mean(x_train[:,0]), np.std(x_train[:,0]), np.max(x_train[:,0]), np.min(x_train[:,0]))"
      ],
      "metadata": {
        "colab": {
          "base_uri": "https://localhost:8080/"
        },
        "id": "mJi4tX3LzN4e",
        "outputId": "d6958385-0d86-4057-98ae-9258ac5194bb"
      },
      "id": "mJi4tX3LzN4e",
      "execution_count": 24,
      "outputs": [
        {
          "output_type": "stream",
          "name": "stdout",
          "text": [
            "9.900401519375507e+27 1.0210955773243128e+29 3.6372586036599697e+31 1.1946210177347945e+24\n"
          ]
        }
      ]
    },
    {
      "cell_type": "code",
      "source": [
        "# check distributions\n",
        "plt.hist(np.log(x_train[:,0]),bins=200, density=True, alpha=0.6)\n",
        "plt.hist(np.log(x_train[:,1]),bins=200, density=True, alpha=0.6)"
      ],
      "metadata": {
        "colab": {
          "base_uri": "https://localhost:8080/",
          "height": 1000
        },
        "id": "j6CYW1Uzyrfi",
        "outputId": "85f63709-76f0-40f8-caa8-84304ee675c1"
      },
      "id": "j6CYW1Uzyrfi",
      "execution_count": 25,
      "outputs": [
        {
          "output_type": "execute_result",
          "data": {
            "text/plain": [
              "(array([4.28332652e-04, 1.60624745e-03, 4.44395127e-03, 1.19130019e-02,\n",
              "        1.42420607e-02, 1.74545556e-02, 2.64227705e-02, 2.85108922e-02,\n",
              "        1.96497604e-02, 2.07473628e-02, 2.99029733e-02, 5.04093990e-02,\n",
              "        4.26190989e-02, 3.28209895e-02, 3.58996304e-02, 4.07451436e-02,\n",
              "        4.54568027e-02, 4.79197155e-02, 4.83748189e-02, 4.90440887e-02,\n",
              "        5.12125227e-02, 5.11857520e-02, 5.25778331e-02, 5.01684619e-02,\n",
              "        5.12660643e-02, 4.76252368e-02, 4.81606526e-02, 4.74646120e-02,\n",
              "        4.70630502e-02, 4.69291962e-02, 4.71701333e-02, 4.66614883e-02,\n",
              "        4.74110705e-02, 4.82677358e-02, 5.02487743e-02, 4.95795045e-02,\n",
              "        5.35951231e-02, 5.57903280e-02, 5.89225105e-02, 6.25365672e-02,\n",
              "        6.49727092e-02, 7.26291554e-02, 8.03926847e-02, 9.05655852e-02,\n",
              "        1.10643678e-01, 1.22958242e-01, 1.51281739e-01, 1.77731280e-01,\n",
              "        2.33253900e-01, 2.37938788e-01, 2.19226006e-01, 2.03591864e-01,\n",
              "        1.71306290e-01, 1.47533828e-01, 1.64238801e-01, 1.66969422e-01,\n",
              "        1.54976108e-01, 1.42768627e-01, 1.47292891e-01, 1.35058639e-01,\n",
              "        1.24751885e-01, 1.21566161e-01, 1.15863982e-01, 1.09947638e-01,\n",
              "        1.06065873e-01, 1.01220360e-01, 9.57055770e-02, 9.00301694e-02,\n",
              "        9.10206886e-02, 8.07942466e-02, 8.37658043e-02, 7.73140438e-02,\n",
              "        7.73943561e-02, 7.26826970e-02, 7.35661330e-02, 7.09961371e-02,\n",
              "        6.80245794e-02, 6.79978086e-02, 6.32593786e-02, 6.17602143e-02,\n",
              "        5.88957397e-02, 5.69147012e-02, 5.52816829e-02, 5.48801211e-02,\n",
              "        5.16408554e-02, 5.06771069e-02, 4.94188798e-02, 4.83748189e-02,\n",
              "        4.81606526e-02, 4.53764904e-02, 4.37702429e-02, 4.22443078e-02,\n",
              "        4.10396223e-02, 4.06916020e-02, 3.94869164e-02, 3.63011923e-02,\n",
              "        3.54177562e-02, 3.52035899e-02, 3.52839022e-02, 3.70775452e-02,\n",
              "        3.27406771e-02, 3.48020280e-02, 3.38918211e-02, 3.42398414e-02,\n",
              "        3.19643242e-02, 3.33564053e-02, 3.13485960e-02, 3.20714073e-02,\n",
              "        3.24729692e-02, 3.29548434e-02, 3.24461984e-02, 3.44807785e-02,\n",
              "        3.15359915e-02, 3.27139063e-02, 3.17769286e-02, 3.22320321e-02,\n",
              "        3.33564053e-02, 3.09738049e-02, 2.99565149e-02, 2.96888070e-02,\n",
              "        3.10005757e-02, 3.06257846e-02, 2.74400605e-02, 2.79219348e-02,\n",
              "        2.79487056e-02, 2.42543364e-02, 2.36921498e-02, 2.29157969e-02,\n",
              "        2.38795454e-02, 2.23268395e-02, 1.95159065e-02, 1.91678862e-02,\n",
              "        1.91411154e-02, 1.81773669e-02, 1.74277848e-02, 1.66246611e-02,\n",
              "        1.46168518e-02, 1.49648720e-02, 1.50451844e-02, 1.37066449e-02,\n",
              "        1.33318538e-02, 1.25019593e-02, 1.15114400e-02, 1.18326895e-02,\n",
              "        1.21539390e-02, 1.58215373e-02, 1.74010140e-02, 1.62766408e-02,\n",
              "        2.03993426e-02, 1.70529937e-02, 1.45900810e-02, 1.21539390e-02,\n",
              "        1.03067544e-02, 9.85165100e-03, 9.47685993e-03, 7.68321695e-03,\n",
              "        6.50530216e-03, 5.94311555e-03, 4.44395127e-03, 3.61405675e-03,\n",
              "        3.15895331e-03, 2.30228801e-03, 2.06135089e-03, 1.52593507e-03,\n",
              "        1.36531033e-03, 1.41885191e-03, 9.36977677e-04, 6.96040560e-04,\n",
              "        5.88957397e-04, 4.81874234e-04, 2.94478699e-04, 5.88957397e-04,\n",
              "        1.87395535e-04, 2.40937117e-04, 1.33853954e-04, 1.07083163e-04,\n",
              "        1.60624745e-04, 1.33853954e-04, 2.67707908e-05, 8.03123723e-05,\n",
              "        5.35415815e-05, 8.03123723e-05, 8.03123723e-05, 0.00000000e+00,\n",
              "        0.00000000e+00, 0.00000000e+00, 2.67707908e-05, 0.00000000e+00,\n",
              "        0.00000000e+00, 0.00000000e+00, 0.00000000e+00, 0.00000000e+00,\n",
              "        0.00000000e+00, 0.00000000e+00, 0.00000000e+00, 0.00000000e+00,\n",
              "        0.00000000e+00, 0.00000000e+00, 0.00000000e+00, 2.67707908e-05]),\n",
              " array([49.08385989, 49.20059159, 49.31732329, 49.434055  , 49.5507867 ,\n",
              "        49.6675184 , 49.7842501 , 49.90098181, 50.01771351, 50.13444521,\n",
              "        50.25117692, 50.36790862, 50.48464032, 50.60137203, 50.71810373,\n",
              "        50.83483543, 50.95156714, 51.06829884, 51.18503054, 51.30176224,\n",
              "        51.41849395, 51.53522565, 51.65195735, 51.76868906, 51.88542076,\n",
              "        52.00215246, 52.11888417, 52.23561587, 52.35234757, 52.46907928,\n",
              "        52.58581098, 52.70254268, 52.81927439, 52.93600609, 53.05273779,\n",
              "        53.16946949, 53.2862012 , 53.4029329 , 53.5196646 , 53.63639631,\n",
              "        53.75312801, 53.86985971, 53.98659142, 54.10332312, 54.22005482,\n",
              "        54.33678653, 54.45351823, 54.57024993, 54.68698163, 54.80371334,\n",
              "        54.92044504, 55.03717674, 55.15390845, 55.27064015, 55.38737185,\n",
              "        55.50410356, 55.62083526, 55.73756696, 55.85429867, 55.97103037,\n",
              "        56.08776207, 56.20449377, 56.32122548, 56.43795718, 56.55468888,\n",
              "        56.67142059, 56.78815229, 56.90488399, 57.0216157 , 57.1383474 ,\n",
              "        57.2550791 , 57.37181081, 57.48854251, 57.60527421, 57.72200591,\n",
              "        57.83873762, 57.95546932, 58.07220102, 58.18893273, 58.30566443,\n",
              "        58.42239613, 58.53912784, 58.65585954, 58.77259124, 58.88932295,\n",
              "        59.00605465, 59.12278635, 59.23951805, 59.35624976, 59.47298146,\n",
              "        59.58971316, 59.70644487, 59.82317657, 59.93990827, 60.05663998,\n",
              "        60.17337168, 60.29010338, 60.40683509, 60.52356679, 60.64029849,\n",
              "        60.7570302 , 60.8737619 , 60.9904936 , 61.1072253 , 61.22395701,\n",
              "        61.34068871, 61.45742041, 61.57415212, 61.69088382, 61.80761552,\n",
              "        61.92434723, 62.04107893, 62.15781063, 62.27454234, 62.39127404,\n",
              "        62.50800574, 62.62473744, 62.74146915, 62.85820085, 62.97493255,\n",
              "        63.09166426, 63.20839596, 63.32512766, 63.44185937, 63.55859107,\n",
              "        63.67532277, 63.79205448, 63.90878618, 64.02551788, 64.14224958,\n",
              "        64.25898129, 64.37571299, 64.49244469, 64.6091764 , 64.7259081 ,\n",
              "        64.8426398 , 64.95937151, 65.07610321, 65.19283491, 65.30956662,\n",
              "        65.42629832, 65.54303002, 65.65976172, 65.77649343, 65.89322513,\n",
              "        66.00995683, 66.12668854, 66.24342024, 66.36015194, 66.47688365,\n",
              "        66.59361535, 66.71034705, 66.82707876, 66.94381046, 67.06054216,\n",
              "        67.17727386, 67.29400557, 67.41073727, 67.52746897, 67.64420068,\n",
              "        67.76093238, 67.87766408, 67.99439579, 68.11112749, 68.22785919,\n",
              "        68.3445909 , 68.4613226 , 68.5780543 , 68.69478601, 68.81151771,\n",
              "        68.92824941, 69.04498111, 69.16171282, 69.27844452, 69.39517622,\n",
              "        69.51190793, 69.62863963, 69.74537133, 69.86210304, 69.97883474,\n",
              "        70.09556644, 70.21229815, 70.32902985, 70.44576155, 70.56249325,\n",
              "        70.67922496, 70.79595666, 70.91268836, 71.02942007, 71.14615177,\n",
              "        71.26288347, 71.37961518, 71.49634688, 71.61307858, 71.72981029,\n",
              "        71.84654199, 71.96327369, 72.08000539, 72.1967371 , 72.3134688 ,\n",
              "        72.4302005 ]),\n",
              " <BarContainer object of 200 artists>)"
            ]
          },
          "metadata": {},
          "execution_count": 25
        },
        {
          "output_type": "display_data",
          "data": {
            "text/plain": [
              "<Figure size 640x480 with 1 Axes>"
            ],
            "image/png": "[encoded data removed]"
          },
          "metadata": {}
        }
      ]
    },
    {
      "cell_type": "code",
      "source": [
        "x_train[:,:2].shape"
      ],
      "metadata": {
        "colab": {
          "base_uri": "https://localhost:8080/"
        },
        "id": "Rwd8BGA248MJ",
        "outputId": "00ac56ea-aa51-470f-fe3f-3ad8b15c062b"
      },
      "id": "Rwd8BGA248MJ",
      "execution_count": 26,
      "outputs": [
        {
          "output_type": "execute_result",
          "data": {
            "text/plain": [
              "(320000, 2)"
            ]
          },
          "metadata": {},
          "execution_count": 26
        }
      ]
    },
    {
      "cell_type": "code",
      "source": [
        "# normalise each set of data.\n",
        "\n",
        "x_train_scaled = np.copy(x_train)\n",
        "x_train_scaled[:,:2] = np.log(x_train_scaled[:,:2])\n",
        "scaler = StandardScaler()\n",
        "scaler.fit(x_train_scaled)\n",
        "x_train_scaled = scaler.transform(x_train_scaled)/20.+0.5\n",
        "\n",
        "def data_scaler(data):\n",
        "    \"\"\"\n",
        "    Scales input testing and validation data\n",
        "    \"\"\"\n",
        "\n",
        "    data_scaled = np.copy(data)\n",
        "    data_scaled[:,:2] = np.log(data[:,:2])\n",
        "    data_scaled = scaler.transform(data_scaled)/20.+0.5\n",
        "\n",
        "    return data_scaled\n",
        "\n",
        "x_test_scaled = data_scaler(x_test)\n",
        "x_val_scaled = data_scaler(x_val)"
      ],
      "metadata": {
        "id": "4udOEfsGyTer"
      },
      "id": "4udOEfsGyTer",
      "execution_count": 27,
      "outputs": []
    },
    {
      "cell_type": "code",
      "source": [
        "print(np.mean(x_test_scaled[:,1]), np.std(x_test_scaled[:,1]), np.max(x_test_scaled[:,1]), np.min(x_test_scaled[:,1]))"
      ],
      "metadata": {
        "colab": {
          "base_uri": "https://localhost:8080/"
        },
        "id": "DhwWOJXC56aV",
        "outputId": "9a4e9ebc-f4f4-4ab7-921d-0c3bf4f7e2e0"
      },
      "id": "DhwWOJXC56aV",
      "execution_count": 28,
      "outputs": [
        {
          "output_type": "stream",
          "name": "stdout",
          "text": [
            "0.5002229649763025 0.050031835989643704 0.6889791500170453 0.4005466645760643\n"
          ]
        }
      ]
    },
    {
      "cell_type": "code",
      "source": [
        "# check distributions match\n",
        "_ = plt.hist(x_train_scaled[:,1],bins=np.linspace(-0,1,512),density=True, label='g')\n",
        "_ = plt.hist(x_train_scaled[:,0],bins=np.linspace(-0,1,512),alpha=0.6,density=True, label='z')\n",
        "\n",
        "_ = plt.hist(x_val_scaled[:,1],bins=np.linspace(-0,1,512),density=True, label='g')\n",
        "_ = plt.hist(x_val_scaled[:,0],bins=np.linspace(-0,1,512),alpha=0.6,density=True, label='z')\n",
        "\n",
        "_ = plt.hist(x_test_scaled[:,1],bins=np.linspace(-0,1,512),density=True, label='g')\n",
        "_ = plt.hist(x_test_scaled[:,0],bins=np.linspace(-0,1,512),alpha=0.6,density=True, label='z')\n",
        "\n",
        "plt.legend()"
      ],
      "metadata": {
        "colab": {
          "base_uri": "https://localhost:8080/",
          "height": 447
        },
        "id": "YFM5f_XQ37yx",
        "outputId": "9b85fd53-795d-433d-b021-159b74f4c881"
      },
      "id": "YFM5f_XQ37yx",
      "execution_count": 29,
      "outputs": [
        {
          "output_type": "execute_result",
          "data": {
            "text/plain": [
              "<matplotlib.legend.Legend at 0x7be17026cdf0>"
            ]
          },
          "metadata": {},
          "execution_count": 29
        },
        {
          "output_type": "display_data",
          "data": {
            "text/plain": [
              "<Figure size 640x480 with 1 Axes>"
            ],
            "image/png": "[encoded data removed]"
          },
          "metadata": {}
        }
      ]
    },
    {
      "cell_type": "code",
      "source": [
        "# check the fraction of each model is the same in each set\n",
        "print(np.mean(y_train), np.mean(y_val),np.mean(y_test) )\n",
        "\n",
        "\n"
      ],
      "metadata": {
        "colab": {
          "base_uri": "https://localhost:8080/"
        },
        "id": "SXg5qYMo625p",
        "outputId": "94bb6a25-508a-4ff5-99bc-83c2d4c4c501"
      },
      "id": "SXg5qYMo625p",
      "execution_count": 30,
      "outputs": [
        {
          "output_type": "stream",
          "name": "stdout",
          "text": [
            "0.56443125 0.5636375 0.56609\n"
          ]
        }
      ]
    },
    {
      "cell_type": "markdown",
      "source": [
        "---------------------------------------------------------"
      ],
      "metadata": {
        "id": "_pgDw3kg7sTe"
      },
      "id": "_pgDw3kg7sTe"
    },
    {
      "cell_type": "markdown",
      "metadata": {
        "id": "IrgSYceYU3Kp"
      },
      "source": [
        "## Define functions for network"
      ],
      "id": "IrgSYceYU3Kp"
    },
    {
      "cell_type": "code",
      "execution_count": 31,
      "metadata": {
        "id": "8d01cfb2-2a20-438b-91ee-7bc29b26048e"
      },
      "outputs": [],
      "source": [
        "def smooth_sign(x, k =100.):\n",
        "\n",
        "    return 2.*tf.math.sigmoid(k*x) - 1\n",
        "\n",
        "\n",
        "def parity_odd_power(x, alpha=2):\n",
        "    return (x)*(tf.math.abs(x)**(alpha-1))\n",
        "\n",
        "\n",
        "# def leaky_parity_odd_power(x, alpha=2):\n",
        "#     x_transition = (alpha)**(alpha/(1.-alpha))\n",
        "#     shift=(alpha)**(1./(1.-alpha)) - x_transition\n",
        "#     return tf.where(tf.math.abs(x)<x_transition, x, tf.sign(x)*tf.math.abs(x+tf.sign(x)*shift)**alpha)\n",
        "\n",
        "\n",
        "def leaky_parity_odd_power(x, alpha=2):\n",
        "    return x + parity_odd_power(x, alpha)"
      ],
      "id": "8d01cfb2-2a20-438b-91ee-7bc29b26048e"
    },
    {
      "cell_type": "code",
      "execution_count": 88,
      "metadata": {
        "id": "accurate-pride"
      },
      "outputs": [],
      "source": [
        "# Evidence Net functions:\n",
        "\n",
        "class POPExpLoss(tf.keras.losses.Loss):\n",
        "    \"\"\"\n",
        "    Custom exponential loss\n",
        "    \"\"\"\n",
        "\n",
        "    def call(self, model_label, model_pred):\n",
        "        model_pred =  leaky_parity_odd_power(model_pred, alpha=1)\n",
        "        model_pred = tf.clip_by_value(model_pred, -50, 50)\n",
        "        loss_val =  tf.math.exp((0.5 - model_label) * (model_pred) )\n",
        "        return tf.reduce_mean(loss_val)\n",
        "\n",
        "\n",
        "class ExpLoss(tf.keras.losses.Loss):\n",
        "    \"\"\"\n",
        "    Custom exponential loss\n",
        "    \"\"\"\n",
        "\n",
        "    def call(self, model_label, model_pred):\n",
        "        model_pred = tf.clip_by_value(model_pred, -50, 50)\n",
        "        loss_val =  tf.math.exp((0.5 - model_label) * (model_pred) )\n",
        "        return tf.reduce_mean(loss_val)\n",
        "\n",
        "\n",
        "def get_lr_metric(optimizer):\n",
        "    \"\"\"\n",
        "    Learning rate on-the-fly\n",
        "    :param optimizer:\n",
        "    :return: learning rate\n",
        "    \"\"\"\n",
        "    def lr(y_true, y_pred):\n",
        "        return optimizer._decayed_lr(tf.float32)  # I use ._decayed_lr method instead of .lr\n",
        "        # return optimizer.lr(tf.float32) #C try .lr\n",
        "    return lr\n",
        "\n",
        "\n",
        "\n",
        "class DenseNetwork:\n",
        "    \"\"\"\n",
        "    Network that takes in data and returns functions of the Bayesian evidence\n",
        "    \"\"\"\n",
        "\n",
        "    def __init__(self, input_size, weight_init='he_normal', layer_width=100, added_layers=3,\n",
        "                 learning_rate=1e-4, decay_rate=None, batch_norm_flag=1, residual_flag=0):\n",
        "        \"\"\"\n",
        "        Initialisation\n",
        "        :param map_size: size of square image (there are map_size**2 pixels)\n",
        "        :param learning_rate: learning rate for the optimizer\n",
        "        \"\"\"\n",
        "        self.input_size = input_size\n",
        "        self.learning_rate = learning_rate\n",
        "        self.layer_width = layer_width\n",
        "        self.weight_init = weight_init\n",
        "        self.decay_rate = decay_rate\n",
        "        self.added_layers = added_layers\n",
        "        self.batch_norm_flag = batch_norm_flag\n",
        "        self.residual_flag = residual_flag\n",
        "\n",
        "\n",
        "        print('Hyper-parameters:', input_size, weight_init, layer_width, added_layers,\n",
        "              learning_rate, decay_rate, batch_norm_flag, residual_flag)\n",
        "\n",
        "    def simple_layer(self, x_in):\n",
        "        x_out = Dense(self.layer_width, kernel_initializer=self.weight_init)(x_in)\n",
        "        x_out = LeakyReLU(alpha=0.1)(x_out)\n",
        "        # x_out = tf.tanh(x_out)\n",
        "        if self.batch_norm_flag == 1:\n",
        "            x_out = BatchNormalization()(x_out)\n",
        "        return x_out\n",
        "\n",
        "    def residual_block(self, x_in):\n",
        "        x_out = Dense(self.layer_width, kernel_initializer=self.weight_init)(x_in)\n",
        "        x_out = LeakyReLU(alpha=0.1)(x_out)\n",
        "        # x_out = tf.tanh(x_out)\n",
        "        if self.batch_norm_flag == 1:\n",
        "            x_out = BatchNormalization()(x_out)\n",
        "\n",
        "        x_out = Dense(self.layer_width, kernel_initializer=self.weight_init)(x_out)\n",
        "        x_out = LeakyReLU(alpha=0.1)(x_out) + x_in\n",
        "        if self.batch_norm_flag == 1:\n",
        "            x_out = BatchNormalization()(x_out)\n",
        "\n",
        "        return x_out\n",
        "\n",
        "    def model(self):\n",
        "\n",
        "        input_data = (Input(shape=(self.input_size,)))\n",
        "\n",
        "\n",
        "        x1 = Dense(int(1.1*self.input_size)+20, input_dim=self.input_size, kernel_initializer=self.weight_init)(input_data)\n",
        "        x_inner = LeakyReLU(alpha=0.1)(x1)\n",
        "        x_inner = BatchNormalization()(x_inner)\n",
        "        x_inner = Dense(self.layer_width, input_dim=self.input_size, kernel_initializer=self.weight_init)(x_inner)\n",
        "        x_inner = LeakyReLU(alpha=0.1)(x_inner)\n",
        "        x_inner = BatchNormalization()(x_inner)\n",
        "\n",
        "        # x_inner = tf.tanh(x1)\n",
        "\n",
        "        for i in range(self.added_layers):\n",
        "            x_inner = self.residual_block(x_inner)\n",
        "            # x_inner = self.simple_layer(x_inner)\n",
        "\n",
        "        x_out = Dense(self.layer_width, kernel_initializer=self.weight_init)(x_inner)\n",
        "        x_out = LeakyReLU(alpha=0.1)(x_out)\n",
        "        x_out = Dense(1, kernel_initializer=self.weight_init)(x_out)\n",
        "        x_out = 0.1*x_out + 0.001\n",
        "        x_out = leaky_parity_odd_power(x_out, alpha=2)\n",
        "\n",
        "        dense_model = Model(input_data, x_out)\n",
        "\n",
        "        if self.decay_rate is not None:\n",
        "            lr_schedule = optimizers.schedules.ExponentialDecay(initial_learning_rate=self.learning_rate,\n",
        "                                                                decay_steps=5000,\n",
        "                                                                decay_rate=self.decay_rate)\n",
        "            optimizer = optimizers.Adam(learning_rate=lr_schedule)\n",
        "            lr_metric = get_lr_metric(optimizer)\n",
        "            dense_model.compile(optimizer=optimizer,\n",
        "                                loss=ExpLoss(),\n",
        "                                metrics=[lr_metric])\n",
        "        else:\n",
        "            dense_model.compile(optimizer=optimizers.Adam(learning_rate=self.learning_rate),\n",
        "                                loss=ExpLoss())\n",
        "\n",
        "        return dense_model\n",
        "\n",
        "\n",
        "\n",
        "class CustomCallback(callbacks.Callback):\n",
        "    def on_epoch_end(self, epoch, logs=None):\n",
        "        keys = list(logs.keys())\n",
        "        print(\"Loss: {:.5e}. Val loss: {:.5e}\".format(logs['loss'], logs['val_loss']))\n"
      ],
      "id": "accurate-pride"
    },
    {
      "cell_type": "markdown",
      "metadata": {
        "id": "figured-width"
      },
      "source": [
        "# Evidence Net"
      ],
      "id": "figured-width"
    },
    {
      "cell_type": "code",
      "execution_count": 91,
      "metadata": {
        "id": "ZEVRqjEiCfRw",
        "colab": {
          "base_uri": "https://localhost:8080/"
        },
        "outputId": "978031d6-2581-4623-d6cb-da3021266ce1"
      },
      "outputs": [
        {
          "output_type": "stream",
          "name": "stdout",
          "text": [
            "Hyper-parameters: 2 he_normal 45 3 0.0001 0.9 1 0\n",
            "Epoch 1/50\n",
            "2134/2134 [==============================] - 31s 12ms/step - loss: 0.4001 - lr: 9.7784e-05 - val_loss: 0.3129 - val_lr: 9.5602e-05\n",
            "Epoch 2/50\n",
            "2134/2134 [==============================] - 20s 9ms/step - loss: 0.3249 - lr: 9.3484e-05 - val_loss: 0.3127 - val_lr: 9.1399e-05\n",
            "Epoch 3/50\n",
            "2134/2134 [==============================] - 21s 10ms/step - loss: 0.3184 - lr: 8.9373e-05 - val_loss: 0.3052 - val_lr: 8.7380e-05\n",
            "Epoch 4/50\n",
            "2134/2134 [==============================] - 23s 11ms/step - loss: 0.3139 - lr: 8.5444e-05 - val_loss: 0.3094 - val_lr: 8.3537e-05\n",
            "Epoch 5/50\n",
            "2134/2134 [==============================] - 21s 10ms/step - loss: 0.3106 - lr: 8.1686e-05 - val_loss: 0.3070 - val_lr: 7.9864e-05\n",
            "Epoch 6/50\n",
            "2134/2134 [==============================] - 21s 10ms/step - loss: 0.3138 - lr: 7.8095e-05 - val_loss: 0.2991 - val_lr: 7.6353e-05\n",
            "Epoch 7/50\n",
            "2134/2134 [==============================] - 22s 10ms/step - loss: 0.3054 - lr: 7.4661e-05 - val_loss: 0.3232 - val_lr: 7.2996e-05\n",
            "Epoch 8/50\n",
            "2134/2134 [==============================] - 23s 11ms/step - loss: 0.3081 - lr: 7.1378e-05 - val_loss: 0.3047 - val_lr: 6.9786e-05\n",
            "Epoch 9/50\n",
            "2134/2134 [==============================] - 21s 10ms/step - loss: 0.3044 - lr: 6.8239e-05 - val_loss: 0.2998 - val_lr: 6.6717e-05\n",
            "Epoch 10/50\n",
            "2134/2134 [==============================] - 21s 10ms/step - loss: 0.3088 - lr: 6.5238e-05 - val_loss: 0.2976 - val_lr: 6.3783e-05\n",
            "Epoch 11/50\n",
            "2134/2134 [==============================] - 24s 11ms/step - loss: 0.3028 - lr: 6.2370e-05 - val_loss: 0.2946 - val_lr: 6.0979e-05\n",
            "Epoch 12/50\n",
            "2134/2134 [==============================] - 21s 10ms/step - loss: 0.3027 - lr: 5.9627e-05 - val_loss: 0.2957 - val_lr: 5.8297e-05\n",
            "Epoch 13/50\n",
            "2134/2134 [==============================] - 21s 10ms/step - loss: 0.3019 - lr: 5.7005e-05 - val_loss: 0.2939 - val_lr: 5.5734e-05\n",
            "Epoch 14/50\n",
            "2134/2134 [==============================] - 23s 11ms/step - loss: 0.3018 - lr: 5.4499e-05 - val_loss: 0.2952 - val_lr: 5.3283e-05\n",
            "Epoch 15/50\n",
            "2134/2134 [==============================] - 25s 12ms/step - loss: 0.3000 - lr: 5.2102e-05 - val_loss: 0.2964 - val_lr: 5.0940e-05\n",
            "Epoch 16/50\n",
            "2134/2134 [==============================] - 23s 11ms/step - loss: 0.3001 - lr: 4.9811e-05 - val_loss: 0.2949 - val_lr: 4.8700e-05\n",
            "Epoch 17/50\n",
            "2134/2134 [==============================] - 23s 11ms/step - loss: 0.2996 - lr: 4.7621e-05 - val_loss: 0.2989 - val_lr: 4.6559e-05\n",
            "Epoch 18/50\n",
            "2134/2134 [==============================] - 21s 10ms/step - loss: 0.2993 - lr: 4.5527e-05 - val_loss: 0.2961 - val_lr: 4.4512e-05\n",
            "Epoch 19/50\n",
            "2134/2134 [==============================] - 24s 11ms/step - loss: 0.2987 - lr: 4.3525e-05 - val_loss: 0.2938 - val_lr: 4.2554e-05\n",
            "Epoch 20/50\n",
            "2134/2134 [==============================] - 22s 10ms/step - loss: 0.2992 - lr: 4.1611e-05 - val_loss: 0.2928 - val_lr: 4.0683e-05\n",
            "Epoch 21/50\n",
            "2134/2134 [==============================] - 25s 12ms/step - loss: 0.2987 - lr: 3.9781e-05 - val_loss: 0.2928 - val_lr: 3.8894e-05\n",
            "Epoch 22/50\n",
            "2134/2134 [==============================] - 23s 11ms/step - loss: 0.2989 - lr: 3.8032e-05 - val_loss: 0.3072 - val_lr: 3.7184e-05\n",
            "Epoch 23/50\n",
            "2134/2134 [==============================] - 21s 10ms/step - loss: 0.2991 - lr: 3.6360e-05 - val_loss: 0.2933 - val_lr: 3.5549e-05\n",
            "Epoch 24/50\n",
            "2134/2134 [==============================] - 21s 10ms/step - loss: 0.2971 - lr: 3.4761e-05 - val_loss: 0.2939 - val_lr: 3.3986e-05\n",
            "Epoch 25/50\n",
            "2134/2134 [==============================] - 23s 11ms/step - loss: 0.2976 - lr: 3.3233e-05 - val_loss: 0.2931 - val_lr: 3.2491e-05\n",
            "Epoch 26/50\n",
            "2134/2134 [==============================] - 21s 10ms/step - loss: 0.2980 - lr: 3.1771e-05 - val_loss: 0.2929 - val_lr: 3.1063e-05\n",
            "Epoch 27/50\n",
            "2134/2134 [==============================] - 21s 10ms/step - loss: 0.2976 - lr: 3.0374e-05 - val_loss: 0.2916 - val_lr: 2.9697e-05\n",
            "Epoch 28/50\n",
            "2134/2134 [==============================] - 23s 11ms/step - loss: 0.2972 - lr: 2.9039e-05 - val_loss: 0.2935 - val_lr: 2.8391e-05\n",
            "Epoch 29/50\n",
            "2134/2134 [==============================] - 24s 11ms/step - loss: 0.2968 - lr: 2.7762e-05 - val_loss: 0.2920 - val_lr: 2.7142e-05\n",
            "Epoch 30/50\n",
            "2134/2134 [==============================] - 22s 10ms/step - loss: 0.2967 - lr: 2.6541e-05 - val_loss: 0.2940 - val_lr: 2.5949e-05\n",
            "Epoch 31/50\n",
            "2134/2134 [==============================] - 25s 12ms/step - loss: 0.2973 - lr: 2.5374e-05 - val_loss: 0.2931 - val_lr: 2.4808e-05\n",
            "Epoch 32/50\n",
            "2134/2134 [==============================] - 22s 10ms/step - loss: 0.2968 - lr: 2.4258e-05 - val_loss: 0.2944 - val_lr: 2.3717e-05\n",
            "Epoch 33/50\n",
            "2134/2134 [==============================] - 22s 10ms/step - loss: 0.2963 - lr: 2.3192e-05 - val_loss: 0.2924 - val_lr: 2.2674e-05\n",
            "Epoch 34/50\n",
            "2134/2134 [==============================] - 23s 11ms/step - loss: 0.2964 - lr: 2.2172e-05 - val_loss: 0.2912 - val_lr: 2.1677e-05\n",
            "Epoch 35/50\n",
            "2134/2134 [==============================] - 24s 11ms/step - loss: 0.2963 - lr: 2.1197e-05 - val_loss: 0.2922 - val_lr: 2.0724e-05\n",
            "Epoch 36/50\n",
            "2134/2134 [==============================] - 22s 10ms/step - loss: 0.2962 - lr: 2.0265e-05 - val_loss: 0.2912 - val_lr: 1.9813e-05\n",
            "Epoch 37/50\n",
            "2134/2134 [==============================] - 23s 11ms/step - loss: 0.2958 - lr: 1.9374e-05 - val_loss: 0.2918 - val_lr: 1.8942e-05\n",
            "Epoch 38/50\n",
            "2134/2134 [==============================] - 23s 11ms/step - loss: 0.2963 - lr: 1.8522e-05 - val_loss: 0.2920 - val_lr: 1.8109e-05\n",
            "Epoch 39/50\n",
            "2134/2134 [==============================] - 22s 10ms/step - loss: 0.2959 - lr: 1.7707e-05 - val_loss: 0.2931 - val_lr: 1.7312e-05\n",
            "Epoch 40/50\n",
            "2134/2134 [==============================] - 24s 11ms/step - loss: 0.2962 - lr: 1.6929e-05 - val_loss: 0.2907 - val_lr: 1.6551e-05\n",
            "Epoch 41/50\n",
            "2134/2134 [==============================] - 24s 11ms/step - loss: 0.2957 - lr: 1.6184e-05 - val_loss: 0.2911 - val_lr: 1.5823e-05\n",
            "Epoch 42/50\n",
            "2134/2134 [==============================] - 27s 12ms/step - loss: 0.2959 - lr: 1.5473e-05 - val_loss: 0.2911 - val_lr: 1.5128e-05\n",
            "Epoch 43/50\n",
            "2134/2134 [==============================] - 23s 11ms/step - loss: 0.2962 - lr: 1.4792e-05 - val_loss: 0.2914 - val_lr: 1.4462e-05\n",
            "Epoch 44/50\n",
            "2134/2134 [==============================] - 22s 10ms/step - loss: 0.2958 - lr: 1.4142e-05 - val_loss: 0.2912 - val_lr: 1.3826e-05\n",
            "Epoch 45/50\n",
            "2134/2134 [==============================] - 23s 11ms/step - loss: 0.2953 - lr: 1.3520e-05 - val_loss: 0.2904 - val_lr: 1.3218e-05\n",
            "Epoch 46/50\n",
            "2134/2134 [==============================] - 23s 11ms/step - loss: 0.2955 - lr: 1.2926e-05 - val_loss: 0.2967 - val_lr: 1.2637e-05\n",
            "Epoch 47/50\n",
            "2134/2134 [==============================] - 22s 10ms/step - loss: 0.2953 - lr: 1.2357e-05 - val_loss: 0.2914 - val_lr: 1.2082e-05\n",
            "Epoch 48/50\n",
            "2134/2134 [==============================] - 25s 12ms/step - loss: 0.2954 - lr: 1.1814e-05 - val_loss: 0.2900 - val_lr: 1.1550e-05\n",
            "Epoch 49/50\n",
            "2134/2134 [==============================] - 25s 12ms/step - loss: 0.2953 - lr: 1.1294e-05 - val_loss: 0.2915 - val_lr: 1.1042e-05\n",
            "Epoch 50/50\n",
            "2134/2134 [==============================] - 24s 11ms/step - loss: 0.2950 - lr: 1.0798e-05 - val_loss: 0.2916 - val_lr: 1.0557e-05\n",
            "Hyper-parameters: 2 he_normal 45 3 0.0001 0.9 1 0\n",
            "Epoch 1/50\n",
            "2134/2134 [==============================] - 27s 11ms/step - loss: 0.4004 - lr: 9.7784e-05 - val_loss: 0.3186 - val_lr: 9.5602e-05\n",
            "Epoch 2/50\n",
            "2134/2134 [==============================] - 23s 11ms/step - loss: 0.3180 - lr: 9.3484e-05 - val_loss: 0.3097 - val_lr: 9.1399e-05\n",
            "Epoch 3/50\n",
            "2134/2134 [==============================] - 25s 12ms/step - loss: 0.3142 - lr: 8.9373e-05 - val_loss: 0.3047 - val_lr: 8.7380e-05\n",
            "Epoch 4/50\n",
            "2134/2134 [==============================] - 25s 12ms/step - loss: 0.3116 - lr: 8.5444e-05 - val_loss: 0.2995 - val_lr: 8.3537e-05\n",
            "Epoch 5/50\n",
            "2134/2134 [==============================] - 23s 11ms/step - loss: 0.3090 - lr: 8.1686e-05 - val_loss: 0.3294 - val_lr: 7.9864e-05\n",
            "Epoch 6/50\n",
            "2134/2134 [==============================] - 26s 12ms/step - loss: 0.3097 - lr: 7.8095e-05 - val_loss: 0.3079 - val_lr: 7.6353e-05\n",
            "Epoch 7/50\n",
            "2134/2134 [==============================] - 23s 11ms/step - loss: 0.3063 - lr: 7.4661e-05 - val_loss: 0.2964 - val_lr: 7.2996e-05\n",
            "Epoch 8/50\n",
            "2134/2134 [==============================] - 24s 11ms/step - loss: 0.3043 - lr: 7.1378e-05 - val_loss: 0.2969 - val_lr: 6.9786e-05\n",
            "Epoch 9/50\n",
            "2134/2134 [==============================] - 24s 11ms/step - loss: 0.3030 - lr: 6.8239e-05 - val_loss: 0.2972 - val_lr: 6.6717e-05\n",
            "Epoch 10/50\n",
            "2134/2134 [==============================] - 26s 12ms/step - loss: 0.3026 - lr: 6.5238e-05 - val_loss: 0.2973 - val_lr: 6.3783e-05\n",
            "Epoch 11/50\n",
            "2134/2134 [==============================] - 25s 12ms/step - loss: 0.3030 - lr: 6.2370e-05 - val_loss: 0.2967 - val_lr: 6.0979e-05\n",
            "Epoch 12/50\n",
            "2134/2134 [==============================] - 23s 11ms/step - loss: 0.3008 - lr: 5.9627e-05 - val_loss: 0.2993 - val_lr: 5.8297e-05\n",
            "Epoch 13/50\n",
            "2134/2134 [==============================] - 25s 12ms/step - loss: 0.3012 - lr: 5.7005e-05 - val_loss: 0.2954 - val_lr: 5.5734e-05\n",
            "Epoch 14/50\n",
            "2134/2134 [==============================] - 24s 11ms/step - loss: 0.3016 - lr: 5.4499e-05 - val_loss: 0.2953 - val_lr: 5.3283e-05\n",
            "Epoch 15/50\n",
            "2134/2134 [==============================] - 23s 11ms/step - loss: 0.3009 - lr: 5.2102e-05 - val_loss: 0.2931 - val_lr: 5.0940e-05\n",
            "Epoch 16/50\n",
            "2134/2134 [==============================] - 26s 12ms/step - loss: 0.3000 - lr: 4.9811e-05 - val_loss: 0.2941 - val_lr: 4.8700e-05\n",
            "Epoch 17/50\n",
            "2134/2134 [==============================] - 26s 12ms/step - loss: 0.3000 - lr: 4.7621e-05 - val_loss: 0.2937 - val_lr: 4.6559e-05\n",
            "Epoch 18/50\n",
            "2134/2134 [==============================] - 25s 12ms/step - loss: 0.2987 - lr: 4.5527e-05 - val_loss: 0.2916 - val_lr: 4.4512e-05\n",
            "Epoch 19/50\n",
            "2134/2134 [==============================] - 23s 11ms/step - loss: 0.3008 - lr: 4.3525e-05 - val_loss: 0.2981 - val_lr: 4.2554e-05\n",
            "Epoch 20/50\n",
            "2134/2134 [==============================] - 23s 11ms/step - loss: 0.3005 - lr: 4.1611e-05 - val_loss: 0.2946 - val_lr: 4.0683e-05\n",
            "Epoch 21/50\n",
            "2134/2134 [==============================] - 25s 12ms/step - loss: 0.2992 - lr: 3.9781e-05 - val_loss: 0.2975 - val_lr: 3.8894e-05\n",
            "Epoch 22/50\n",
            "2134/2134 [==============================] - 23s 11ms/step - loss: 0.2988 - lr: 3.8032e-05 - val_loss: 0.2928 - val_lr: 3.7184e-05\n",
            "Epoch 23/50\n",
            "2134/2134 [==============================] - 28s 13ms/step - loss: 0.2980 - lr: 3.6360e-05 - val_loss: 0.2925 - val_lr: 3.5549e-05\n",
            "Epoch 24/50\n",
            "2134/2134 [==============================] - 24s 11ms/step - loss: 0.2975 - lr: 3.4761e-05 - val_loss: 0.2916 - val_lr: 3.3986e-05\n",
            "Epoch 25/50\n",
            "2134/2134 [==============================] - 25s 12ms/step - loss: 0.2984 - lr: 3.3233e-05 - val_loss: 0.2917 - val_lr: 3.2491e-05\n",
            "Epoch 26/50\n",
            "2134/2134 [==============================] - 25s 12ms/step - loss: 0.2980 - lr: 3.1771e-05 - val_loss: 0.3042 - val_lr: 3.1063e-05\n",
            "Epoch 27/50\n",
            "2134/2134 [==============================] - 23s 11ms/step - loss: 0.2976 - lr: 3.0374e-05 - val_loss: 0.2923 - val_lr: 2.9697e-05\n",
            "Epoch 28/50\n",
            "2134/2134 [==============================] - 26s 12ms/step - loss: 0.2976 - lr: 2.9039e-05 - val_loss: 0.2940 - val_lr: 2.8391e-05\n",
            "Epoch 29/50\n",
            "2134/2134 [==============================] - 23s 11ms/step - loss: 0.2968 - lr: 2.7762e-05 - val_loss: 0.2931 - val_lr: 2.7142e-05\n",
            "Epoch 30/50\n",
            "2134/2134 [==============================] - 27s 13ms/step - loss: 0.2969 - lr: 2.6541e-05 - val_loss: 0.2922 - val_lr: 2.5949e-05\n",
            "Epoch 31/50\n",
            "2134/2134 [==============================] - 24s 11ms/step - loss: 0.2969 - lr: 2.5374e-05 - val_loss: 0.2910 - val_lr: 2.4808e-05\n",
            "Epoch 32/50\n",
            "2134/2134 [==============================] - 22s 10ms/step - loss: 0.2966 - lr: 2.4258e-05 - val_loss: 0.2918 - val_lr: 2.3717e-05\n",
            "Epoch 33/50\n",
            "2134/2134 [==============================] - 24s 11ms/step - loss: 0.2979 - lr: 2.3192e-05 - val_loss: 0.2934 - val_lr: 2.2674e-05\n",
            "Epoch 34/50\n",
            "2134/2134 [==============================] - 23s 11ms/step - loss: 0.2963 - lr: 2.2172e-05 - val_loss: 0.2927 - val_lr: 2.1677e-05\n",
            "Epoch 35/50\n",
            "2134/2134 [==============================] - 23s 11ms/step - loss: 0.2958 - lr: 2.1197e-05 - val_loss: 0.2915 - val_lr: 2.0724e-05\n",
            "Epoch 36/50\n",
            "2134/2134 [==============================] - 27s 13ms/step - loss: 0.2964 - lr: 2.0265e-05 - val_loss: 0.2916 - val_lr: 1.9813e-05\n",
            "Epoch 37/50\n",
            "2134/2134 [==============================] - 23s 11ms/step - loss: 0.2959 - lr: 1.9374e-05 - val_loss: 0.2915 - val_lr: 1.8942e-05\n",
            "Epoch 38/50\n",
            "2134/2134 [==============================] - 23s 11ms/step - loss: 0.2962 - lr: 1.8522e-05 - val_loss: 0.2912 - val_lr: 1.8109e-05\n",
            "Epoch 39/50\n",
            "2134/2134 [==============================] - 25s 12ms/step - loss: 0.2962 - lr: 1.7707e-05 - val_loss: 0.2918 - val_lr: 1.7312e-05\n",
            "Epoch 40/50\n",
            "2134/2134 [==============================] - 24s 11ms/step - loss: 0.2956 - lr: 1.6929e-05 - val_loss: 0.2908 - val_lr: 1.6551e-05\n",
            "Epoch 41/50\n",
            "2134/2134 [==============================] - 27s 13ms/step - loss: 0.2957 - lr: 1.6184e-05 - val_loss: 0.2909 - val_lr: 1.5823e-05\n",
            "Epoch 42/50\n",
            "2134/2134 [==============================] - 23s 11ms/step - loss: 0.2973 - lr: 1.5473e-05 - val_loss: 0.2910 - val_lr: 1.5128e-05\n",
            "Epoch 43/50\n",
            "2134/2134 [==============================] - 28s 13ms/step - loss: 0.2957 - lr: 1.4792e-05 - val_loss: 0.2916 - val_lr: 1.4462e-05\n",
            "Epoch 44/50\n",
            "2134/2134 [==============================] - 25s 12ms/step - loss: 0.2952 - lr: 1.4142e-05 - val_loss: 0.2906 - val_lr: 1.3826e-05\n",
            "Epoch 45/50\n",
            "2134/2134 [==============================] - 25s 12ms/step - loss: 0.2961 - lr: 1.3520e-05 - val_loss: 0.2911 - val_lr: 1.3218e-05\n",
            "Epoch 46/50\n",
            "2134/2134 [==============================] - 25s 12ms/step - loss: 0.2952 - lr: 1.2926e-05 - val_loss: 0.2922 - val_lr: 1.2637e-05\n",
            "Epoch 47/50\n",
            "2134/2134 [==============================] - 24s 11ms/step - loss: 0.2959 - lr: 1.2357e-05 - val_loss: 0.2914 - val_lr: 1.2082e-05\n",
            "Epoch 48/50\n",
            "2134/2134 [==============================] - 27s 13ms/step - loss: 0.2955 - lr: 1.1814e-05 - val_loss: 0.2902 - val_lr: 1.1550e-05\n",
            "Epoch 49/50\n",
            "2134/2134 [==============================] - 26s 12ms/step - loss: 0.2948 - lr: 1.1294e-05 - val_loss: 0.2910 - val_lr: 1.1042e-05\n",
            "Epoch 50/50\n",
            "2134/2134 [==============================] - 25s 12ms/step - loss: 0.2956 - lr: 1.0798e-05 - val_loss: 0.2903 - val_lr: 1.0557e-05\n",
            "Hyper-parameters: 2 he_normal 45 3 0.0001 0.9 1 0\n",
            "Epoch 1/50\n",
            "2134/2134 [==============================] - 26s 11ms/step - loss: 0.4140 - lr: 9.7784e-05 - val_loss: 0.3161 - val_lr: 9.5602e-05\n",
            "Epoch 2/50\n",
            "2134/2134 [==============================] - 24s 11ms/step - loss: 0.3214 - lr: 9.3484e-05 - val_loss: 0.3169 - val_lr: 9.1399e-05\n",
            "Epoch 3/50\n",
            "2134/2134 [==============================] - 26s 12ms/step - loss: 0.3135 - lr: 8.9373e-05 - val_loss: 0.3119 - val_lr: 8.7380e-05\n",
            "Epoch 4/50\n",
            "2134/2134 [==============================] - 24s 11ms/step - loss: 0.3083 - lr: 8.5444e-05 - val_loss: 0.3048 - val_lr: 8.3537e-05\n",
            "Epoch 5/50\n",
            "2134/2134 [==============================] - 25s 12ms/step - loss: 0.3068 - lr: 8.1686e-05 - val_loss: 0.3032 - val_lr: 7.9864e-05\n",
            "Epoch 6/50\n",
            "2134/2134 [==============================] - 23s 11ms/step - loss: 0.3048 - lr: 7.8095e-05 - val_loss: 0.3010 - val_lr: 7.6353e-05\n",
            "Epoch 7/50\n",
            "2134/2134 [==============================] - 24s 11ms/step - loss: 0.3038 - lr: 7.4661e-05 - val_loss: 0.3009 - val_lr: 7.2996e-05\n",
            "Epoch 8/50\n",
            "2134/2134 [==============================] - 23s 11ms/step - loss: 0.3028 - lr: 7.1378e-05 - val_loss: 0.2939 - val_lr: 6.9786e-05\n",
            "Epoch 9/50\n",
            "2134/2134 [==============================] - 23s 11ms/step - loss: 0.3022 - lr: 6.8239e-05 - val_loss: 0.2949 - val_lr: 6.6717e-05\n",
            "Epoch 10/50\n",
            "2134/2134 [==============================] - 28s 13ms/step - loss: 0.3016 - lr: 6.5238e-05 - val_loss: 0.2992 - val_lr: 6.3783e-05\n",
            "Epoch 11/50\n",
            "2134/2134 [==============================] - 23s 11ms/step - loss: 0.3003 - lr: 6.2370e-05 - val_loss: 0.2970 - val_lr: 6.0979e-05\n",
            "Epoch 12/50\n",
            "2134/2134 [==============================] - 23s 11ms/step - loss: 0.3005 - lr: 5.9627e-05 - val_loss: 0.2965 - val_lr: 5.8297e-05\n",
            "Epoch 13/50\n",
            "2134/2134 [==============================] - 25s 12ms/step - loss: 0.3031 - lr: 5.7005e-05 - val_loss: 0.2952 - val_lr: 5.5734e-05\n",
            "Epoch 14/50\n",
            "2134/2134 [==============================] - 23s 11ms/step - loss: 0.3002 - lr: 5.4499e-05 - val_loss: 0.2923 - val_lr: 5.3283e-05\n",
            "Epoch 15/50\n",
            "2134/2134 [==============================] - 23s 11ms/step - loss: 0.2985 - lr: 5.2102e-05 - val_loss: 0.3145 - val_lr: 5.0940e-05\n",
            "Epoch 16/50\n",
            "2134/2134 [==============================] - 27s 13ms/step - loss: 0.2987 - lr: 4.9811e-05 - val_loss: 0.3343 - val_lr: 4.8700e-05\n",
            "Epoch 17/50\n",
            "2134/2134 [==============================] - 23s 11ms/step - loss: 0.2986 - lr: 4.7621e-05 - val_loss: 0.2922 - val_lr: 4.6559e-05\n",
            "Epoch 18/50\n",
            "2134/2134 [==============================] - 24s 11ms/step - loss: 0.2976 - lr: 4.5527e-05 - val_loss: 0.2932 - val_lr: 4.4512e-05\n",
            "Epoch 19/50\n",
            "2134/2134 [==============================] - 24s 11ms/step - loss: 0.2984 - lr: 4.3525e-05 - val_loss: 0.2944 - val_lr: 4.2554e-05\n",
            "Epoch 20/50\n",
            "2134/2134 [==============================] - 23s 11ms/step - loss: 0.2976 - lr: 4.1611e-05 - val_loss: 0.2959 - val_lr: 4.0683e-05\n",
            "Epoch 21/50\n",
            "2134/2134 [==============================] - 25s 12ms/step - loss: 0.3032 - lr: 3.9781e-05 - val_loss: 0.2957 - val_lr: 3.8894e-05\n",
            "Epoch 22/50\n",
            "2134/2134 [==============================] - 26s 12ms/step - loss: 0.2980 - lr: 3.8032e-05 - val_loss: 0.2964 - val_lr: 3.7184e-05\n",
            "Epoch 23/50\n",
            "2134/2134 [==============================] - 25s 12ms/step - loss: 0.2975 - lr: 3.6360e-05 - val_loss: 0.2922 - val_lr: 3.5549e-05\n",
            "Epoch 24/50\n",
            "2134/2134 [==============================] - 23s 11ms/step - loss: 0.2968 - lr: 3.4761e-05 - val_loss: 0.2954 - val_lr: 3.3986e-05\n",
            "Epoch 25/50\n",
            "2134/2134 [==============================] - 22s 10ms/step - loss: 0.2972 - lr: 3.3233e-05 - val_loss: 0.2940 - val_lr: 3.2491e-05\n",
            "Epoch 26/50\n",
            "2134/2134 [==============================] - 24s 11ms/step - loss: 0.2972 - lr: 3.1771e-05 - val_loss: 0.2976 - val_lr: 3.1063e-05\n",
            "Epoch 27/50\n",
            "2134/2134 [==============================] - 22s 10ms/step - loss: 0.2977 - lr: 3.0374e-05 - val_loss: 0.2944 - val_lr: 2.9697e-05\n",
            "Epoch 28/50\n",
            "2134/2134 [==============================] - 22s 11ms/step - loss: 0.2964 - lr: 2.9039e-05 - val_loss: 0.2917 - val_lr: 2.8391e-05\n",
            "Epoch 29/50\n",
            "2134/2134 [==============================] - 26s 12ms/step - loss: 0.2964 - lr: 2.7762e-05 - val_loss: 0.2942 - val_lr: 2.7142e-05\n",
            "Epoch 30/50\n",
            "2134/2134 [==============================] - 22s 10ms/step - loss: 0.2962 - lr: 2.6541e-05 - val_loss: 0.2934 - val_lr: 2.5949e-05\n",
            "Epoch 31/50\n",
            "2134/2134 [==============================] - 24s 11ms/step - loss: 0.2961 - lr: 2.5374e-05 - val_loss: 0.2906 - val_lr: 2.4808e-05\n",
            "Epoch 32/50\n",
            "2134/2134 [==============================] - 23s 11ms/step - loss: 0.2958 - lr: 2.4258e-05 - val_loss: 0.2953 - val_lr: 2.3717e-05\n",
            "Epoch 33/50\n",
            "2134/2134 [==============================] - 22s 11ms/step - loss: 0.2958 - lr: 2.3192e-05 - val_loss: 0.2905 - val_lr: 2.2674e-05\n",
            "Epoch 34/50\n",
            "2134/2134 [==============================] - 25s 12ms/step - loss: 0.2959 - lr: 2.2172e-05 - val_loss: 0.2930 - val_lr: 2.1677e-05\n",
            "Epoch 35/50\n",
            "2134/2134 [==============================] - 24s 11ms/step - loss: 0.2961 - lr: 2.1197e-05 - val_loss: 0.2913 - val_lr: 2.0724e-05\n",
            "Epoch 36/50\n",
            "2134/2134 [==============================] - 25s 12ms/step - loss: 0.2954 - lr: 2.0265e-05 - val_loss: 0.2993 - val_lr: 1.9813e-05\n",
            "Epoch 37/50\n",
            "2134/2134 [==============================] - 22s 10ms/step - loss: 0.2954 - lr: 1.9374e-05 - val_loss: 0.2908 - val_lr: 1.8942e-05\n",
            "Epoch 38/50\n",
            "2134/2134 [==============================] - 22s 10ms/step - loss: 0.2953 - lr: 1.8522e-05 - val_loss: 0.2913 - val_lr: 1.8109e-05\n",
            "Epoch 39/50\n",
            "2134/2134 [==============================] - 24s 11ms/step - loss: 0.2957 - lr: 1.7707e-05 - val_loss: 0.2911 - val_lr: 1.7312e-05\n",
            "Epoch 40/50\n",
            "2134/2134 [==============================] - 23s 11ms/step - loss: 0.2954 - lr: 1.6929e-05 - val_loss: 0.2899 - val_lr: 1.6551e-05\n",
            "Epoch 41/50\n",
            "2134/2134 [==============================] - 22s 10ms/step - loss: 0.2955 - lr: 1.6184e-05 - val_loss: 0.2905 - val_lr: 1.5823e-05\n",
            "Epoch 42/50\n",
            "2134/2134 [==============================] - 27s 12ms/step - loss: 0.2954 - lr: 1.5473e-05 - val_loss: 0.2902 - val_lr: 1.5128e-05\n",
            "Epoch 43/50\n",
            "2134/2134 [==============================] - 22s 10ms/step - loss: 0.2956 - lr: 1.4792e-05 - val_loss: 0.2914 - val_lr: 1.4462e-05\n",
            "Epoch 44/50\n",
            "2134/2134 [==============================] - 24s 11ms/step - loss: 0.2949 - lr: 1.4142e-05 - val_loss: 0.2909 - val_lr: 1.3826e-05\n",
            "Epoch 45/50\n",
            "2134/2134 [==============================] - 24s 11ms/step - loss: 0.2946 - lr: 1.3520e-05 - val_loss: 0.2899 - val_lr: 1.3218e-05\n",
            "Epoch 46/50\n",
            "2134/2134 [==============================] - 23s 11ms/step - loss: 0.2949 - lr: 1.2926e-05 - val_loss: 0.2899 - val_lr: 1.2637e-05\n",
            "Epoch 47/50\n",
            "2134/2134 [==============================] - 25s 12ms/step - loss: 0.2951 - lr: 1.2357e-05 - val_loss: 0.2901 - val_lr: 1.2082e-05\n",
            "Epoch 48/50\n",
            "2134/2134 [==============================] - 25s 12ms/step - loss: 0.2954 - lr: 1.1814e-05 - val_loss: 0.2913 - val_lr: 1.1550e-05\n",
            "Epoch 49/50\n",
            "2134/2134 [==============================] - 25s 12ms/step - loss: 0.2948 - lr: 1.1294e-05 - val_loss: 0.2899 - val_lr: 1.1042e-05\n",
            "Epoch 50/50\n",
            "2134/2134 [==============================] - 22s 10ms/step - loss: 0.2945 - lr: 1.0798e-05 - val_loss: 0.2896 - val_lr: 1.0557e-05\n"
          ]
        }
      ],
      "source": [
        "model_instances, model_instances_model,histories,results = [],[],[],[]\n",
        "# for i in range(len(expt_value)):\n",
        "\n",
        "# input size, epochs, number of ensembles\n",
        "N = x_train_scaled.shape[1]\n",
        "epochs = 50\n",
        "n_models = 3\n",
        "#####\n",
        "validation_model = np.atleast_2d([y_train, 1. - y_train]).T\n",
        "#######\n",
        "\n",
        "with tf.device('/device:GPU:0'):\n",
        "    for model_count in range(n_models):\n",
        "        model_instances.append(DenseNetwork(N, weight_init='he_normal',\n",
        "                                            layer_width=45, added_layers=3,\n",
        "                                            learning_rate=1e-4, decay_rate=0.9,\n",
        "                                            batch_norm_flag=1))\n",
        "        model_instances_model.append(model_instances[-1].model())\n",
        "        # validation_prediction = (model_instances_model[-1].predict(x_test_scaled))\n",
        "        # print('Initialization: mean =', validation_prediction.mean(), 'std= ', validation_prediction.std())\n",
        "        # early stopping\n",
        "        early_stop = tf.keras.callbacks.EarlyStopping(monitor='val_loss', patience=100)\n",
        "        histories.append(model_instances_model[-1].fit(x_train_scaled,y_train,\n",
        "            epochs=epochs, batch_size=150,\n",
        "                             shuffle=True,\n",
        "                             validation_data = (x_val_scaled, y_val),\n",
        "                             callbacks = [early_stop],\n",
        "                             verbose=1))\n",
        "        gc.collect()"
      ],
      "id": "ZEVRqjEiCfRw"
    },
    {
      "cell_type": "markdown",
      "metadata": {
        "id": "BPwzySLtk5XE"
      },
      "source": [
        "## Network tuning\n",
        "Below I have my own set of plots for tuning hyper-parameters. These may become obsolete after using optuna."
      ],
      "id": "BPwzySLtk5XE"
    },
    {
      "cell_type": "code",
      "execution_count": 92,
      "metadata": {
        "colab": {
          "base_uri": "https://localhost:8080/"
        },
        "id": "W-Tn2g2dBD5p",
        "outputId": "cae350e1-b87b-4142-aa93-09e1f72d8964"
      },
      "outputs": [
        {
          "output_type": "stream",
          "name": "stdout",
          "text": [
            "parameter values:\n",
            "\n",
            "losses:\n",
            " [0.295, 0.2956, 0.2945]\n",
            "val_losses:\n",
            " [0.2916, 0.2903, 0.2896]\n",
            "early stopping:\n",
            " [50, 50, 50]\n"
          ]
        }
      ],
      "source": [
        "# print the final loss and validation losses\n",
        "losses, val_losses,stopping = [],[],[]\n",
        "for i in range(len(histories)):\n",
        "  losses.append( round(histories[i].history['loss'][-1], 4))\n",
        "  val_losses.append( round(histories[i].history['val_loss'][-1], 4))\n",
        "  stopping.append(len(histories[i].history['val_loss']))\n",
        "  # histories[0].history['loss'][-1]\n",
        "\n",
        "print('parameter values:\\n')\n",
        "print('losses:\\n',losses)\n",
        "print('val_losses:\\n',val_losses)\n",
        "print('early stopping:\\n',stopping)"
      ],
      "id": "W-Tn2g2dBD5p"
    },
    {
      "cell_type": "code",
      "execution_count": 93,
      "metadata": {
        "colab": {
          "base_uri": "https://localhost:8080/",
          "height": 488
        },
        "id": "aca08579-4234-427a-8907-4d3eb4c1dcc4",
        "outputId": "889d8ff1-a92d-4653-c2d4-fb7e91ddb760"
      },
      "outputs": [
        {
          "output_type": "execute_result",
          "data": {
            "text/plain": [
              "(0.0, 1.0)"
            ]
          },
          "metadata": {},
          "execution_count": 93
        },
        {
          "output_type": "display_data",
          "data": {
            "text/plain": [
              "<Figure size 640x480 with 1 Axes>"
            ],
            "image/png": "[encoded data removed]"
          },
          "metadata": {}
        }
      ],
      "source": [
        "title = 'new_default'\n",
        "\n",
        "plt.ylabel('Loss')\n",
        "plt.xlabel('Epoch')\n",
        "# plt.title('Network loss with varying '+title+r' ($\\theta$)')\n",
        "plt.title('Network loss with new_default parameters')\n",
        "for i in range(len(histories)):\n",
        "    # if i == 1:\n",
        "    #     continue\n",
        "\n",
        "    _ = plt.plot(histories[i].history['loss'][:],label=r'training')#; $\\theta$='+str(expt_value[i]))\n",
        "    _ = plt.plot(histories[i].history['val_loss'][:],label=r'validation')#; $\\theta$='+str(expt_value[i]))\n",
        "    # save the history\n",
        "    # np.save(path+'/network_tuning/'+title+'_'+str(expt_value[i])+'.npy',histories[0].history)\n",
        "    # np.save(path+'/network_tuning/'+title+'.npy',histories[0].history)\n",
        "plt.legend()\n",
        "plt.ylim(0,1)\n",
        "# plt.xlim(0,90)\n",
        "# plt.savefig(path+'/network_tuning/'+title, dpi=250)\n"
      ],
      "id": "aca08579-4234-427a-8907-4d3eb4c1dcc4"
    },
    {
      "cell_type": "markdown",
      "metadata": {
        "id": "WZnoLrEbmzcL"
      },
      "source": [
        "Metric data can be loaded from the numpy file as below"
      ],
      "id": "WZnoLrEbmzcL"
    },
    {
      "cell_type": "code",
      "execution_count": null,
      "metadata": {
        "colab": {
          "base_uri": "https://localhost:8080/"
        },
        "id": "WNeEYND6fCYm",
        "outputId": "1ac2a499-5f18-4b56-cd28-21059a7fc016"
      },
      "outputs": [
        {
          "output_type": "execute_result",
          "data": {
            "text/plain": [
              "0.7307199835777283"
            ]
          },
          "metadata": {},
          "execution_count": 167
        }
      ],
      "source": [
        "# note the .item() is important\n",
        "data = np.load(path+'/network_tuning/batch_size_100.npy',allow_pickle=True).item()\n",
        "data['val_accuracy'][-1]"
      ],
      "id": "WNeEYND6fCYm"
    },
    {
      "cell_type": "markdown",
      "metadata": {
        "id": "8nb1Js3-k_BV"
      },
      "source": [
        "## Network Output\n",
        "The network estimates log K values for the test data. As the ratio of priors is not 1, the network predictions should be transformed to give logK."
      ],
      "id": "8nb1Js3-k_BV"
    },
    {
      "cell_type": "code",
      "execution_count": 94,
      "metadata": {
        "colab": {
          "base_uri": "https://localhost:8080/"
        },
        "id": "4FoUH_Rjg8A1",
        "outputId": "72dc04ec-b7a3-405e-ac19-410307f9a8da"
      },
      "outputs": [
        {
          "output_type": "stream",
          "name": "stdout",
          "text": [
            "0\n",
            "1\n"
          ]
        }
      ],
      "source": [
        "# collect network outputs f(xO).\n",
        "validation_prediction = (model_instances_model[0].predict(x_test_scaled))\n",
        "for i in range(n_models-1):\n",
        "  print(i)\n",
        "  temp = (model_instances_model[i+1].predict(x_test_scaled))\n",
        "  validation_prediction = np.append(validation_prediction, temp, axis=1)\n",
        "\n",
        "\n",
        "# network output f(xO).\n",
        "# validation_prediction = (model_instances_model[-1].predict(x_test_scaled))\n",
        "\n",
        "# if using l-POP:\n",
        "# validation_prediction = leaky_parity_odd_power(validation_prediction)\n",
        "# validation_prediction = validation_prediction.numpy()\n",
        "\n",
        "# print(validation_prediction.shape)"
      ],
      "id": "4FoUH_Rjg8A1"
    },
    {
      "cell_type": "code",
      "source": [
        "# calucalte mean average output\n",
        "validation_prediction_avg = np.mean(validation_prediction, axis=1)\n",
        "print(validation_prediction)\n",
        "print(validation_prediction_avg)"
      ],
      "metadata": {
        "colab": {
          "base_uri": "https://localhost:8080/"
        },
        "id": "8wtDNWmIaA6E",
        "outputId": "4b2433b1-7874-4130-a334-3e1630f87583"
      },
      "id": "8wtDNWmIaA6E",
      "execution_count": 95,
      "outputs": [
        {
          "output_type": "stream",
          "name": "stdout",
          "text": [
            "[[-5.357578   -5.3570185  -5.490716  ]\n",
            " [-0.17251334 -0.09134772 -0.10863484]\n",
            " [-3.6232817  -3.9098287  -3.774723  ]\n",
            " ...\n",
            " [28.558949   16.412802   21.547941  ]\n",
            " [30.324749   27.339191   31.373016  ]\n",
            " [-5.8312416  -6.053277   -6.3124    ]]\n",
            "[-5.40177   -0.1241653 -3.7692778 ... 22.173231  29.678986  -6.0656395]\n"
          ]
        }
      ]
    },
    {
      "cell_type": "code",
      "execution_count": null,
      "metadata": {
        "id": "Saw1uyksh8GW"
      },
      "outputs": [],
      "source": [
        "# plt.hist(validation_prediction,bins=200)\n",
        "# plt.plot(validation_prediction,'.')\n",
        "# plt.ylim(-100,100)\n",
        "\n",
        "\n",
        "# validation_prediction_mean = np.mean(validation_prediction)\n",
        "# log_K_net = np.log10(np.exp(validation_prediction_mean))\n",
        "# print(log_K)\n",
        "\n",
        "\n"
      ],
      "id": "Saw1uyksh8GW"
    },
    {
      "cell_type": "markdown",
      "metadata": {
        "id": "98774e70-2010-426c-964b-f6fbb61545e0"
      },
      "source": [
        "# Coverage tests\n",
        "Here I've tried to recreate the coverage tests using my own code. First we calculate p(M1|x). We then bin the posterior probabilities and examine the fraction of model 1 labels (SIMBA) in each bin."
      ],
      "id": "98774e70-2010-426c-964b-f6fbb61545e0"
    },
    {
      "cell_type": "code",
      "execution_count": 96,
      "metadata": {
        "colab": {
          "base_uri": "https://localhost:8080/"
        },
        "id": "HmmYrJH9CgxN",
        "outputId": "79e54bf3-9aba-41bc-9b36-731a0ece1685"
      },
      "outputs": [
        {
          "output_type": "stream",
          "name": "stdout",
          "text": [
            "(100000,)\n"
          ]
        }
      ],
      "source": [
        "# calculate posteriors from network log K values\n",
        "posterior_model_prob = np.exp(validation_prediction_avg)/(1+np.exp(validation_prediction_avg)) # p(M1|x)\n",
        "print(posterior_model_prob.shape)\n",
        "\n",
        "# prepare posterior bins\n",
        "nbins = 100\n",
        "probability_array  = np.linspace(0,1,nbins)\n"
      ],
      "id": "HmmYrJH9CgxN"
    },
    {
      "cell_type": "code",
      "execution_count": 97,
      "metadata": {
        "id": "uxHYsUSRDaEo"
      },
      "outputs": [],
      "source": [
        "def coverage_test(post_model_prob, prob_array):\n",
        "  '''\n",
        "  Performs the coverage tests to evaluate calibration of the network\n",
        "  :param post_model_prob: array of p(M1|x) predicted by network\n",
        "  :param prob_array: array of chosen bins for posteriors\n",
        "  :returns: posterior bin centres, validation fractions, post_bin_n (number of data prob in each bin),\n",
        "            binomial_std (standard error of binomial)\n",
        "  '''\n",
        "\n",
        "  # perform coverage test\n",
        "  bin_centres, fractions, post_bin_n = [],[],[]\n",
        "\n",
        "  for i in range(0,len(prob_array)-1):\n",
        "    # bin posteriors\n",
        "    indexes = np.where((post_model_prob > prob_array[i])\n",
        "                                        & (post_model_prob < prob_array[i+1]))[0]\n",
        "    post_bin = post_model_prob[indexes]\n",
        "    post_bin_mid = np.float32((prob_array[i]+prob_array[i+1]) / 2)\n",
        "    post_bin_size = np.float32(len(post_bin))\n",
        "\n",
        "    # get fraction of model 1 labels in each bin\n",
        "    label_bin = y_test[indexes]\n",
        "    fraction = np.sum(label_bin) / len(label_bin)\n",
        "\n",
        "    bin_centres.append(post_bin_mid), fractions.append(fraction), post_bin_n.append(post_bin_size)\n",
        "\n",
        "\n",
        "  # get the binomial error for each bin\n",
        "  binomial_std = np.sqrt((np.asarray(bin_centres)*(1.-np.asarray(bin_centres))) / np.asarray(post_bin_n))\n",
        "\n",
        "  return bin_centres, fractions, post_bin_n, binomial_std"
      ],
      "id": "uxHYsUSRDaEo"
    },
    {
      "cell_type": "code",
      "source": [
        "bin_centres, fractions, post_bin_n, binomial_std = coverage_test(posterior_model_prob, probability_array)"
      ],
      "metadata": {
        "id": "oQ2NrouYWnMr"
      },
      "id": "oQ2NrouYWnMr",
      "execution_count": 98,
      "outputs": []
    },
    {
      "cell_type": "code",
      "execution_count": 99,
      "metadata": {
        "colab": {
          "base_uri": "https://localhost:8080/",
          "height": 415
        },
        "id": "KZsSMbnaRfqg",
        "outputId": "4abcb200-787c-4041-d5a6-1913ae3383c2"
      },
      "outputs": [
        {
          "output_type": "display_data",
          "data": {
            "text/plain": [
              "<Figure size 500x400 with 1 Axes>"
            ],
            "image/png": "[encoded data removed]"
          },
          "metadata": {}
        }
      ],
      "source": [
        "plt.figure(figsize=(5,4))\n",
        "\n",
        "# plt.plot(bin_centres, fractions,'.')\n",
        "# plt.plot(post_bin_means, fractions,'.')\n",
        "plt.errorbar(bin_centres, fractions, np.asarray(binomial_std), marker='.', ls='')\n",
        "plt.title('Model posterior blind coverage test')\n",
        "plt.xlabel(r'$p(M_1 | x)$ bins', fontsize=11)\n",
        "plt.ylabel(str('Validation model fraction'), fontsize=11)\n",
        "plt.plot([0,1],[0,1],'k-',alpha=0.5)\n",
        "# plt.axis('square')\n",
        "plt.grid(True)\n",
        "\n",
        "plt.savefig(path+'coverage_test_20_B.png', dpi=250)\n",
        "# plt.axis('equal')"
      ],
      "id": "KZsSMbnaRfqg"
    },
    {
      "cell_type": "markdown",
      "metadata": {
        "id": "BHCDQZiHG_rE"
      },
      "source": [
        "## Residual between model fraction and posterior probability from evidence network"
      ],
      "id": "BHCDQZiHG_rE"
    },
    {
      "cell_type": "code",
      "execution_count": 100,
      "metadata": {
        "colab": {
          "base_uri": "https://localhost:8080/",
          "height": 445
        },
        "id": "qPZGBUtNpIyq",
        "outputId": "1b9ef53d-64d9-402c-f13f-188fb2c17a13"
      },
      "outputs": [
        {
          "output_type": "display_data",
          "data": {
            "text/plain": [
              "<Figure size 1400x600 with 2 Axes>"
            ],
            "image/png": "[encoded data removed]"
          },
          "metadata": {}
        }
      ],
      "source": [
        "residual = (np.asarray(fractions) - np.asarray(bin_centres))\n",
        "scaled_residual = residual/np.asarray(binomial_std)\n",
        "\n",
        "plt.figure(figsize=(14,6))\n",
        "\n",
        "plt.subplot(1,2,1)\n",
        "# plt.plot(post_bin_means, residual, marker='.', ls='')\n",
        "plt.errorbar(bin_centres, scaled_residual,yerr=binomial_std/np.asarray(binomial_std), marker='.', ls='')\n",
        "# plt.plot(post_bin_means, residual*binomial_std, marker='.', ls='',c='orange')\n",
        "plt.title('Scaled Residual')\n",
        "plt.xlabel(r'$p(M_1 | x)$ bin', fontsize=11)\n",
        "plt.ylabel(r'[fraction - $p(M_1 | x) ] \\, / \\, \\sigma$', fontsize=11)\n",
        "plt.plot([0,1],[0,0],'k-',alpha=0.5)\n",
        "# plt.axis('square')\n",
        "plt.grid(True)\n",
        "# plt.ylim(-4,4)\n",
        "\n",
        "plt.subplot(1,2,2)\n",
        "# plt.plot(post_bin_means, residual, marker='.', ls='')\n",
        "plt.errorbar(bin_centres, residual,yerr=binomial_std, marker='.', ls='',c='orange')\n",
        "plt.title('Raw Residual')\n",
        "plt.xlabel(r'$p(M_1 | x)$ bin', fontsize=11)\n",
        "plt.ylabel(r'fraction - $p(M_1 | x)  $', fontsize=11)\n",
        "plt.plot([0,1],[0,0],'k-',alpha=0.5)\n",
        "# plt.axis('square')\n",
        "plt.grid(True)\n",
        "\n",
        "plt.subplots_adjust(wspace=.5)\n",
        "\n",
        "# plt.savefig(path+'/residuals_unobservables_EvidenceNet.png', dpi=250)\n"
      ],
      "id": "qPZGBUtNpIyq"
    },
    {
      "cell_type": "code",
      "source": [
        "print(np.mean(scaled_residual))\n",
        "print(np.std(scaled_residual))"
      ],
      "metadata": {
        "colab": {
          "base_uri": "https://localhost:8080/"
        },
        "id": "QONYzROdhvHh",
        "outputId": "70203f3a-a917-4de9-b18a-fa278ade863b"
      },
      "id": "QONYzROdhvHh",
      "execution_count": 101,
      "outputs": [
        {
          "output_type": "stream",
          "name": "stdout",
          "text": [
            "0.21590541120644172\n",
            "1.2810551951920492\n"
          ]
        }
      ]
    },
    {
      "cell_type": "markdown",
      "source": [
        "## Normalising flows\n",
        "The following cells use the package PZ Flow to learn the probability density function of the data. We train the neural density estimator to estimate p(x|M1) and p(x|M0), then derive the Bayes factor from this."
      ],
      "metadata": {
        "id": "o_rJ2wjGJv3Q"
      },
      "id": "o_rJ2wjGJv3Q"
    },
    {
      "cell_type": "code",
      "execution_count": null,
      "metadata": {
        "id": "Rd_Raj_RIPza"
      },
      "outputs": [],
      "source": [
        "# turn datasets into pandas dataframe for PZ Flow.\n",
        "train_df = pd.DataFrame({'stellar_mass': x_train_scaled[:,0], 'stellar_metallicity': x_train_scaled[:,1], 'model': y_train})\n",
        "val_df = pd.DataFrame({'stellar_mass': x_val_scaled[:,0], 'stellar_metallicity': x_val_scaled[:,1], 'model': y_val})\n",
        "test_df = pd.DataFrame({'stellar_mass': x_test_scaled[:,0], 'stellar_metallicity': x_test_scaled[:,1], 'model': y_test})\n",
        "\n",
        "# separate training and validation by model.\n",
        "train_M1_df = train_df[train_df['model'] == 1]\n",
        "train_M0_df = train_df[train_df['model'] == 0]\n",
        "val_M1_df = val_df[val_df['model'] == 1]\n",
        "val_M0_df = val_df[val_df['model'] == 0]\n",
        "\n",
        "\n"
      ],
      "id": "Rd_Raj_RIPza"
    },
    {
      "cell_type": "code",
      "source": [
        "# plt.hist2d(val_M1_df.iloc[:,0],val_M1_df.iloc[:,1] , bins=200)\n",
        "plt.hist2d(train_M1_df.iloc[:,0],train_M1_df.iloc[:,1] , bins=200)\n",
        "plt.xlabel(\"x\")\n",
        "plt.ylabel(\"y\")\n",
        "# plt.xlim(0.4, 0.6)\n",
        "# plt.ylim(0.4, 0.6)\n",
        "plt.show()\n"
      ],
      "metadata": {
        "colab": {
          "base_uri": "https://localhost:8080/",
          "height": 449
        },
        "id": "tnYzl2lHMTMR",
        "outputId": "38505321-8a29-4101-9105-1d145ae76e11"
      },
      "id": "tnYzl2lHMTMR",
      "execution_count": null,
      "outputs": [
        {
          "output_type": "display_data",
          "data": {
            "text/plain": [
              "<Figure size 640x480 with 1 Axes>"
            ],
            "image/png": "[encoded data removed]"
          },
          "metadata": {}
        }
      ]
    },
    {
      "cell_type": "code",
      "source": [
        "# train the normalising flow.\n",
        "flow_M1 = Flow([\"stellar_mass\", 'stellar_metallicity'])\n",
        "\n",
        "train_loss_M1, val_loss_M1 = flow_M1.train(train_M1_df, val_M1_df, verbose=True, epochs=50, batch_size=100, progress_bar=True)\n"
      ],
      "metadata": {
        "colab": {
          "base_uri": "https://localhost:8080/"
        },
        "id": "JJ0m6GB8K3db",
        "outputId": "c9a20f1c-f4e9-41f4-d802-f6d2a3d1b3c5"
      },
      "id": "JJ0m6GB8K3db",
      "execution_count": null,
      "outputs": [
        {
          "output_type": "stream",
          "name": "stdout",
          "text": [
            "Training 50 epochs \n",
            "Loss:\n",
            "(0) -1.4360  -1.4357\n"
          ]
        },
        {
          "output_type": "stream",
          "name": "stderr",
          "text": [
            "  2%|▏         | 1/50 [00:32<26:22, 32.29s/it]"
          ]
        },
        {
          "output_type": "stream",
          "name": "stdout",
          "text": [
            "(1) -4.2861  -4.2816\n"
          ]
        },
        {
          "output_type": "stream",
          "name": "stderr",
          "text": [
            "  6%|▌         | 3/50 [01:10<17:23, 22.20s/it]"
          ]
        },
        {
          "output_type": "stream",
          "name": "stdout",
          "text": [
            "(3) -4.2892  -4.2847\n"
          ]
        },
        {
          "output_type": "stream",
          "name": "stderr",
          "text": [
            " 10%|█         | 5/50 [01:50<15:31, 20.70s/it]"
          ]
        },
        {
          "output_type": "stream",
          "name": "stdout",
          "text": [
            "(5) -4.2913  -4.2865\n"
          ]
        },
        {
          "output_type": "stream",
          "name": "stderr",
          "text": [
            " 14%|█▍        | 7/50 [02:29<14:16, 19.92s/it]"
          ]
        },
        {
          "output_type": "stream",
          "name": "stdout",
          "text": [
            "(7) -4.2951  -4.2905\n"
          ]
        },
        {
          "output_type": "stream",
          "name": "stderr",
          "text": [
            " 18%|█▊        | 9/50 [03:08<13:37, 19.93s/it]"
          ]
        },
        {
          "output_type": "stream",
          "name": "stdout",
          "text": [
            "(9) -4.2957  -4.2910\n"
          ]
        },
        {
          "output_type": "stream",
          "name": "stderr",
          "text": [
            " 22%|██▏       | 11/50 [03:47<12:47, 19.68s/it]"
          ]
        },
        {
          "output_type": "stream",
          "name": "stdout",
          "text": [
            "(11) -4.2940  -4.2892\n"
          ]
        },
        {
          "output_type": "stream",
          "name": "stderr",
          "text": [
            " 26%|██▌       | 13/50 [04:26<12:00, 19.46s/it]"
          ]
        },
        {
          "output_type": "stream",
          "name": "stdout",
          "text": [
            "(13) -4.2920  -4.2877\n"
          ]
        },
        {
          "output_type": "stream",
          "name": "stderr",
          "text": [
            " 30%|███       | 15/50 [05:05<11:28, 19.67s/it]"
          ]
        },
        {
          "output_type": "stream",
          "name": "stdout",
          "text": [
            "(15) -4.2949  -4.2900\n"
          ]
        },
        {
          "output_type": "stream",
          "name": "stderr",
          "text": [
            " 34%|███▍      | 17/50 [05:44<10:39, 19.39s/it]"
          ]
        },
        {
          "output_type": "stream",
          "name": "stdout",
          "text": [
            "(17) -4.2961  -4.2916\n"
          ]
        },
        {
          "output_type": "stream",
          "name": "stderr",
          "text": [
            " 38%|███▊      | 19/50 [06:22<09:59, 19.33s/it]"
          ]
        },
        {
          "output_type": "stream",
          "name": "stdout",
          "text": [
            "(19) -4.2961  -4.2917\n"
          ]
        },
        {
          "output_type": "stream",
          "name": "stderr",
          "text": [
            " 42%|████▏     | 21/50 [07:02<09:26, 19.52s/it]"
          ]
        },
        {
          "output_type": "stream",
          "name": "stdout",
          "text": [
            "(21) -4.2960  -4.2911\n"
          ]
        },
        {
          "output_type": "stream",
          "name": "stderr",
          "text": [
            " 46%|████▌     | 23/50 [07:40<08:41, 19.31s/it]"
          ]
        },
        {
          "output_type": "stream",
          "name": "stdout",
          "text": [
            "(23) -4.2927  -4.2878\n"
          ]
        },
        {
          "output_type": "stream",
          "name": "stderr",
          "text": [
            " 50%|█████     | 25/50 [08:19<08:04, 19.36s/it]"
          ]
        },
        {
          "output_type": "stream",
          "name": "stdout",
          "text": [
            "(25) -4.2942  -4.2896\n"
          ]
        },
        {
          "output_type": "stream",
          "name": "stderr",
          "text": [
            " 54%|█████▍    | 27/50 [08:58<07:27, 19.45s/it]"
          ]
        },
        {
          "output_type": "stream",
          "name": "stdout",
          "text": [
            "(27) -4.2958  -4.2907\n"
          ]
        },
        {
          "output_type": "stream",
          "name": "stderr",
          "text": [
            " 58%|█████▊    | 29/50 [09:36<06:46, 19.35s/it]"
          ]
        },
        {
          "output_type": "stream",
          "name": "stdout",
          "text": [
            "(29) -4.2960  -4.2914\n"
          ]
        },
        {
          "output_type": "stream",
          "name": "stderr",
          "text": [
            " 62%|██████▏   | 31/50 [10:16<06:13, 19.65s/it]"
          ]
        },
        {
          "output_type": "stream",
          "name": "stdout",
          "text": [
            "(31) -4.2962  -4.2913\n"
          ]
        },
        {
          "output_type": "stream",
          "name": "stderr",
          "text": [
            " 66%|██████▌   | 33/50 [10:55<05:30, 19.43s/it]"
          ]
        },
        {
          "output_type": "stream",
          "name": "stdout",
          "text": [
            "(33) -4.2950  1794747518825374684534764262653952.0000\n"
          ]
        },
        {
          "output_type": "stream",
          "name": "stderr",
          "text": [
            " 70%|███████   | 35/50 [11:33<04:48, 19.22s/it]"
          ]
        },
        {
          "output_type": "stream",
          "name": "stdout",
          "text": [
            "(35) -4.2971  1794747518825374684534764262653952.0000\n"
          ]
        },
        {
          "output_type": "stream",
          "name": "stderr",
          "text": [
            " 74%|███████▍  | 37/50 [12:12<04:13, 19.52s/it]"
          ]
        },
        {
          "output_type": "stream",
          "name": "stdout",
          "text": [
            "(37) 449645006611124327798329397215232.0000  1794747518825374684534764262653952.0000\n"
          ]
        },
        {
          "output_type": "stream",
          "name": "stderr",
          "text": [
            " 78%|███████▊  | 39/50 [12:51<03:32, 19.28s/it]"
          ]
        },
        {
          "output_type": "stream",
          "name": "stdout",
          "text": [
            "(39) -4.2960  -4.2913\n"
          ]
        },
        {
          "output_type": "stream",
          "name": "stderr",
          "text": [
            " 82%|████████▏ | 41/50 [13:29<02:54, 19.37s/it]"
          ]
        },
        {
          "output_type": "stream",
          "name": "stdout",
          "text": [
            "(41) -4.2922  -4.2876\n"
          ]
        },
        {
          "output_type": "stream",
          "name": "stderr",
          "text": [
            " 86%|████████▌ | 43/50 [14:09<02:16, 19.56s/it]"
          ]
        },
        {
          "output_type": "stream",
          "name": "stdout",
          "text": [
            "(43) -4.2948  -4.2900\n"
          ]
        },
        {
          "output_type": "stream",
          "name": "stderr",
          "text": [
            " 90%|█████████ | 45/50 [14:48<01:37, 19.45s/it]"
          ]
        },
        {
          "output_type": "stream",
          "name": "stdout",
          "text": [
            "(45) -4.2955  -4.2909\n"
          ]
        },
        {
          "output_type": "stream",
          "name": "stderr",
          "text": [
            " 94%|█████████▍| 47/50 [15:27<00:58, 19.63s/it]"
          ]
        },
        {
          "output_type": "stream",
          "name": "stdout",
          "text": [
            "(47) 449645006611124327798329397215232.0000  -4.2895\n"
          ]
        },
        {
          "output_type": "stream",
          "name": "stderr",
          "text": [
            " 98%|█████████▊| 49/50 [16:06<00:19, 19.47s/it]"
          ]
        },
        {
          "output_type": "stream",
          "name": "stdout",
          "text": [
            "(49) -4.2935  -4.2886\n"
          ]
        },
        {
          "output_type": "stream",
          "name": "stderr",
          "text": [
            "100%|██████████| 50/50 [16:25<00:00, 19.71s/it]"
          ]
        },
        {
          "output_type": "stream",
          "name": "stdout",
          "text": [
            "(50) -4.2959  -4.2911\n"
          ]
        },
        {
          "output_type": "stream",
          "name": "stderr",
          "text": [
            "\n"
          ]
        }
      ]
    },
    {
      "cell_type": "code",
      "source": [
        "flow_M0 = Flow([\"stellar_mass\", 'stellar_metallicity'])\n",
        "\n",
        "train_loss_M0, val_loss_M0 = flow_M0.train(train_M0_df, val_M0_df, verbose=True, epochs=50, batch_size=100, progress_bar=True)"
      ],
      "metadata": {
        "colab": {
          "base_uri": "https://localhost:8080/"
        },
        "id": "Yq06YH1OOIQw",
        "outputId": "ece03b9b-14e6-4297-ef14-c706474ee375"
      },
      "id": "Yq06YH1OOIQw",
      "execution_count": null,
      "outputs": [
        {
          "output_type": "stream",
          "name": "stdout",
          "text": [
            "Training 50 epochs \n",
            "Loss:\n",
            "(0) -0.7397  -0.7393\n"
          ]
        },
        {
          "output_type": "stream",
          "name": "stderr",
          "text": [
            "  2%|▏         | 1/50 [00:23<18:47, 23.00s/it]"
          ]
        },
        {
          "output_type": "stream",
          "name": "stdout",
          "text": [
            "(1) -4.0102  -4.0148\n"
          ]
        },
        {
          "output_type": "stream",
          "name": "stderr",
          "text": [
            "  6%|▌         | 3/50 [00:45<10:57, 13.99s/it]"
          ]
        },
        {
          "output_type": "stream",
          "name": "stdout",
          "text": [
            "(3) -4.0320  -4.0372\n"
          ]
        },
        {
          "output_type": "stream",
          "name": "stderr",
          "text": [
            " 10%|█         | 5/50 [01:10<09:44, 12.98s/it]"
          ]
        },
        {
          "output_type": "stream",
          "name": "stdout",
          "text": [
            "(5) -4.0446  -4.0486\n"
          ]
        },
        {
          "output_type": "stream",
          "name": "stderr",
          "text": [
            " 14%|█▍        | 7/50 [01:33<08:43, 12.18s/it]"
          ]
        },
        {
          "output_type": "stream",
          "name": "stdout",
          "text": [
            "(7) -4.0458  2962815436928399704612963392421888.0000\n"
          ]
        },
        {
          "output_type": "stream",
          "name": "stderr",
          "text": [
            " 18%|█▊        | 9/50 [01:57<08:21, 12.23s/it]"
          ]
        },
        {
          "output_type": "stream",
          "name": "stdout",
          "text": [
            "(9) -4.0449  -4.0483\n"
          ]
        },
        {
          "output_type": "stream",
          "name": "stderr",
          "text": [
            " 22%|██▏       | 11/50 [02:20<07:42, 11.86s/it]"
          ]
        },
        {
          "output_type": "stream",
          "name": "stdout",
          "text": [
            "(11) -4.0265  -4.0299\n"
          ]
        },
        {
          "output_type": "stream",
          "name": "stderr",
          "text": [
            " 26%|██▌       | 13/50 [02:44<07:16, 11.80s/it]"
          ]
        },
        {
          "output_type": "stream",
          "name": "stdout",
          "text": [
            "(13) 738107512113456207035441478631424.0000  2962815436928399704612963392421888.0000\n"
          ]
        },
        {
          "output_type": "stream",
          "name": "stderr",
          "text": [
            " 28%|██▊       | 14/50 [03:08<08:03, 13.43s/it]"
          ]
        },
        {
          "output_type": "stream",
          "name": "stdout",
          "text": [
            "(15) inf  2962815436928399704612963392421888.0000\n",
            "Training stopping after epoch 15 because training loss diverged.\n"
          ]
        },
        {
          "output_type": "stream",
          "name": "stderr",
          "text": [
            "\n"
          ]
        }
      ]
    },
    {
      "cell_type": "code",
      "source": [
        "plt.plot(train_loss_M1, label='training M1')\n",
        "plt.plot(val_loss_M1, label='validation M1')\n",
        "plt.plot(train_loss_M1, label='training M0')\n",
        "plt.plot(val_loss_M1, label='validation M0')\n",
        "# plt.ylim(-5,-4)\n",
        "plt.xlabel(\"Epoch\")\n",
        "plt.ylabel(\"Loss\")\n",
        "plt.legend()\n",
        "plt.show()"
      ],
      "metadata": {
        "colab": {
          "base_uri": "https://localhost:8080/",
          "height": 465
        },
        "id": "HaPlkAZeNEAK",
        "outputId": "ffa09c2e-a236-46e0-ff71-397bd7c7f85f"
      },
      "id": "HaPlkAZeNEAK",
      "execution_count": null,
      "outputs": [
        {
          "output_type": "display_data",
          "data": {
            "text/plain": [
              "<Figure size 640x480 with 1 Axes>"
            ],
            "image/png": "[encoded data removed]"
          },
          "metadata": {}
        }
      ]
    },
    {
      "cell_type": "markdown",
      "source": [
        "The following cell checks that the densities are being learnt."
      ],
      "metadata": {
        "id": "-d0KDoeCTwWc"
      },
      "id": "-d0KDoeCTwWc"
    },
    {
      "cell_type": "code",
      "source": [
        "samples_M1 = flow_M1.sample(100000, seed=0)\n",
        "samples_M0 = flow_M0.sample(100000, seed=0)\n",
        "\n",
        "fig, ax = plt.subplots(2,2, sharey=True,sharex=True, figsize=(14,5))\n",
        "\n",
        "ax[0,0].set_title('Data')\n",
        "ax[0,0].hist2d(train_M1_df.iloc[:,0],train_M1_df.iloc[:,1], bins=200)\n",
        "ax[1,0].hist2d(train_M0_df.iloc[:,0],train_M0_df.iloc[:,1], bins=200)\n",
        "ax[0,0].text(0.57,0.55,'M1')\n",
        "ax[1,0].text(0.57,0.55,'M0')\n",
        "ax[0,1].text(0.57,0.55,'M1')\n",
        "ax[1,1].text(0.57,0.55,'M0')\n",
        "# ax[0].axis('square')\n",
        "\n",
        "\n",
        "ax[0,1].set_title('PZ Flow Samples')\n",
        "hist2d_out = ax[0,1].hist2d(samples_M1[\"stellar_mass\"], samples_M1[\"stellar_metallicity\"], bins=200)\n",
        "ax[1,1].hist2d(samples_M0[\"stellar_mass\"], samples_M0[\"stellar_metallicity\"], bins=200)\n",
        "# ax[1].axis('square')\n",
        "\n",
        "plt.setp(ax, ylabel='stellar mass (scaled)' , xlabel='stellar metallicity (scaled)', xlim=(0.4,0.6), ylim=(0.4,0.6))"
      ],
      "metadata": {
        "colab": {
          "base_uri": "https://localhost:8080/",
          "height": 854
        },
        "id": "RTucTvHzOwqI",
        "outputId": "9bba77ec-396a-4555-d5bb-729dc48f1d42"
      },
      "id": "RTucTvHzOwqI",
      "execution_count": null,
      "outputs": [
        {
          "output_type": "execute_result",
          "data": {
            "text/plain": [
              "[Text(0, 0.5, 'stellar mass (scaled)'),\n",
              " Text(0.5, 0, 'stellar metallicity (scaled)'),\n",
              " 0.4,\n",
              " 0.6,\n",
              " 0.4,\n",
              " 0.6,\n",
              " Text(0, 0.5, 'stellar mass (scaled)'),\n",
              " Text(0.5, 0, 'stellar metallicity (scaled)'),\n",
              " 0.4,\n",
              " 0.6,\n",
              " 0.4,\n",
              " 0.6,\n",
              " Text(0, 0.5, 'stellar mass (scaled)'),\n",
              " Text(0.5, 0, 'stellar metallicity (scaled)'),\n",
              " 0.4,\n",
              " 0.6,\n",
              " 0.4,\n",
              " 0.6,\n",
              " Text(0, 0.5, 'stellar mass (scaled)'),\n",
              " Text(0.5, 0, 'stellar metallicity (scaled)'),\n",
              " 0.4,\n",
              " 0.6,\n",
              " 0.4,\n",
              " 0.6]"
            ]
          },
          "metadata": {},
          "execution_count": 172
        },
        {
          "output_type": "display_data",
          "data": {
            "text/plain": [
              "<Figure size 1400x500 with 4 Axes>"
            ],
            "image/png": "[encoded data removed]"
          },
          "metadata": {}
        }
      ]
    },
    {
      "cell_type": "code",
      "source": [
        "logprob_M1 = flow_M1.log_prob(test_df)\n",
        "logprob_M0 = flow_M0.log_prob(test_df)\n",
        "\n",
        "idx = np.where(logprob_M1 > -1e10)\n",
        "logprob_M1 = logprob_M1[idx]\n",
        "logprob_M0 = logprob_M0[idx]\n",
        "# plt.hist(grid_M1, bins=100, alpha=0.6)\n",
        "# plt.hist(grid_M0, bins=100, alpha=0.6)"
      ],
      "metadata": {
        "id": "KYIKdiqr8lGJ"
      },
      "id": "KYIKdiqr8lGJ",
      "execution_count": null,
      "outputs": []
    },
    {
      "cell_type": "markdown",
      "source": [
        "The flow outputs log( p(x|M1) ) and log( p(x|M0) ). We combine these to get log K."
      ],
      "metadata": {
        "id": "W5ORhTKuwBOu"
      },
      "id": "W5ORhTKuwBOu"
    },
    {
      "cell_type": "code",
      "source": [
        "logK_flow = np.log( np.exp(logprob_M1) / np.exp(logprob_M0) )"
      ],
      "metadata": {
        "id": "SyPcXbANwPEh"
      },
      "id": "SyPcXbANwPEh",
      "execution_count": null,
      "outputs": []
    },
    {
      "cell_type": "markdown",
      "source": [
        "Calculate the Bayes factors and perform a coverage test."
      ],
      "metadata": {
        "id": "_Ho9OBrlbwZE"
      },
      "id": "_Ho9OBrlbwZE"
    },
    {
      "cell_type": "code",
      "source": [
        "print(np.mean(logK_flow), np.std(logK_flow))\n",
        "plt.hist(logK_flow,bins=100,density=True, alpha=0.7,color='blue', label='PZFlow')\n",
        "plt.hist(validation_prediction,bins=100,density=True, alpha=0.7, color='orange', label='Evidence')\n",
        "plt.xlim(-10,10)\n",
        "plt.legend()"
      ],
      "metadata": {
        "colab": {
          "base_uri": "https://localhost:8080/",
          "height": 465
        },
        "id": "WDulj4rdBBbT",
        "outputId": "5f2388a9-9dfe-4525-fca9-0b67fa6a52e8"
      },
      "id": "WDulj4rdBBbT",
      "execution_count": null,
      "outputs": [
        {
          "output_type": "stream",
          "name": "stdout",
          "text": [
            "0.27632126 1.8542194\n"
          ]
        },
        {
          "output_type": "execute_result",
          "data": {
            "text/plain": [
              "<matplotlib.legend.Legend at 0x7a650f4a2980>"
            ]
          },
          "metadata": {},
          "execution_count": 178
        },
        {
          "output_type": "display_data",
          "data": {
            "text/plain": [
              "<Figure size 640x480 with 1 Axes>"
            ],
            "image/png": "[encoded data removed]"
          },
          "metadata": {}
        }
      ]
    },
    {
      "cell_type": "code",
      "source": [
        "# get p(M1|x) from logK\n",
        "post_flow = np.exp(logK_flow)/(1+np.exp(logK_flow))\n",
        "\n",
        "# prepare posterior bins\n",
        "nbins = 100\n",
        "probability_array  = np.linspace(0,1,nbins)\n",
        "# print(probability_array )"
      ],
      "metadata": {
        "id": "1bOvErT9e6XV"
      },
      "id": "1bOvErT9e6XV",
      "execution_count": null,
      "outputs": []
    },
    {
      "cell_type": "code",
      "source": [
        "bin_centres_flow, fractions_flow, post_bin_n_flow, binomial_std_flow = coverage_test(post_flow, probability_array)"
      ],
      "metadata": {
        "id": "vm3KLkHXRpEN"
      },
      "id": "vm3KLkHXRpEN",
      "execution_count": null,
      "outputs": []
    },
    {
      "cell_type": "code",
      "source": [
        "plt.figure(figsize=(5,4))\n",
        "\n",
        "plt.errorbar(bin_centres_flow, fractions_flow, np.asarray(binomial_std_flow), marker='.', ls='')\n",
        "plt.title('Model posterior blind coverage test PZFlow')\n",
        "plt.xlabel(r'$p(M_1 | x)$ bins', fontsize=11)\n",
        "plt.ylabel(str('Validation model fraction'), fontsize=11)\n",
        "plt.plot([0,1],[0,1],'k-',alpha=0.5)\n",
        "# plt.axis('square')\n",
        "plt.grid(True)\n",
        "\n",
        "# plt.savefig(path+'coverage_test_20_B.png', dpi=250)\n",
        "# plt.axis('equal')"
      ],
      "metadata": {
        "colab": {
          "base_uri": "https://localhost:8080/",
          "height": 415
        },
        "id": "Dfo5VYzFhZ5b",
        "outputId": "ec164077-bc28-44e8-8827-ccd25e8fa00e"
      },
      "id": "Dfo5VYzFhZ5b",
      "execution_count": null,
      "outputs": [
        {
          "output_type": "display_data",
          "data": {
            "text/plain": [
              "<Figure size 500x400 with 1 Axes>"
            ],
            "image/png": "[encoded data removed]"
          },
          "metadata": {}
        }
      ]
    },
    {
      "cell_type": "code",
      "source": [
        "residual_flow = (np.asarray(fractions_flow) - np.asarray(bin_centres_flow))\n",
        "scaled_residual_flow = residual_flow/np.asarray(binomial_std_flow)\n",
        "\n",
        "plt.figure(figsize=(16,4))\n",
        "\n",
        "plt.subplot(1,2,1)\n",
        "plt.errorbar(bin_centres_flow, scaled_residual_flow,yerr=binomial_std_flow/np.asarray(binomial_std_flow), marker='.', ls='')\n",
        "plt.title('Scaled Residual')\n",
        "plt.xlabel(r'$p(M_1 | x)$ bin', fontsize=11)\n",
        "plt.ylabel(r'[fraction - $p(M_1 | x) ] / \\sigma$', fontsize=11)\n",
        "plt.plot([0,1],[0,0],'k-',alpha=0.5)\n",
        "# plt.axis('square')\n",
        "plt.grid(True)\n",
        "\n",
        "plt.subplot(1,2,2)\n",
        "plt.errorbar(bin_centres_flow, residual_flow,yerr=binomial_std_flow, marker='.', ls='',c='orange')\n",
        "plt.title('Raw Residual')\n",
        "plt.xlabel(r'$p(M_1 | x)$ bin', fontsize=11)\n",
        "plt.ylabel(r'[fraction - $p(M_1 | x) ] $', fontsize=11)\n",
        "plt.plot([0,1],[0,0],'k-',alpha=0.5)\n",
        "# plt.axis('square')\n",
        "plt.grid(True)\n",
        "\n",
        "plt.subplots_adjust(wspace=.5)\n"
      ],
      "metadata": {
        "colab": {
          "base_uri": "https://localhost:8080/",
          "height": 338
        },
        "id": "EcnYMe3zjzsU",
        "outputId": "fe2d3ab0-68ee-4858-e6aa-b19ed0e442af"
      },
      "id": "EcnYMe3zjzsU",
      "execution_count": null,
      "outputs": [
        {
          "output_type": "display_data",
          "data": {
            "text/plain": [
              "<Figure size 1600x400 with 2 Axes>"
            ],
            "image/png": "[encoded data removed]"
          },
          "metadata": {}
        }
      ]
    },
    {
      "cell_type": "code",
      "source": [
        "print(np.mean(scaled_residual_flow))\n",
        "print(np.std(scaled_residual_flow))"
      ],
      "metadata": {
        "id": "C5Tsn3_jj0IQ",
        "colab": {
          "base_uri": "https://localhost:8080/"
        },
        "outputId": "4ee8c1f4-2c1d-4ced-d786-bbda5a078fab"
      },
      "id": "C5Tsn3_jj0IQ",
      "execution_count": null,
      "outputs": [
        {
          "output_type": "stream",
          "name": "stdout",
          "text": [
            "6.250387557425225\n",
            "2.74017073373878\n"
          ]
        }
      ]
    },
    {
      "cell_type": "code",
      "source": [],
      "metadata": {
        "id": "H0EgMFHXIudL"
      },
      "id": "H0EgMFHXIudL",
      "execution_count": null,
      "outputs": []
    }
  ],
  "metadata": {
    "colab": {
      "provenance": [],
      "gpuType": "T4",
      "include_colab_link": true
    },
    "kernelspec": {
      "display_name": "Python 3",
      "name": "python3"
    },
    "language_info": {
      "codemirror_mode": {
        "name": "ipython",
        "version": 3
      },
      "file_extension": ".py",
      "mimetype": "text/x-python",
      "name": "python",
      "nbconvert_exporter": "python",
      "pygments_lexer": "ipython3",
      "version": "3.9.12"
    },
    "vscode": {
      "interpreter": {
        "hash": "6e093467a8db9a7011af417371fcd573d1abb74261412f30c0a1eba50c9dc224"
      }
    },
    "accelerator": "GPU"
  },
  "nbformat": 4,
  "nbformat_minor": 5
}