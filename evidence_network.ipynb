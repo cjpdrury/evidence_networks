{
  "cells": [
    {
      "cell_type": "markdown",
      "metadata": {
        "id": "view-in-github",
        "colab_type": "text"
      },
      "source": [
        "<a href=\"https://colab.research.google.com/github/cjpdrury/evidence_networks/blob/main/evidence_network.ipynb\" target=\"_parent\"><img src=\"https://colab.research.google.com/assets/colab-badge.svg\" alt=\"Open In Colab\"/></a>"
      ]
    },
    {
      "cell_type": "markdown",
      "source": [
        "## Evidence Network example"
      ],
      "metadata": {
        "id": "x6OgvpynRxrT"
      },
      "id": "x6OgvpynRxrT"
    },
    {
      "cell_type": "code",
      "source": [
        "# install this version of tf to use decayed lr metric\n",
        "!pip install tensorflow==2.8.0 "
      ],
      "metadata": {
        "colab": {
          "base_uri": "https://localhost:8080/"
        },
        "id": "hZlXrY_oRxCy",
        "outputId": "8b7401b9-8faa-4575-fe55-bbcc0e35f8db"
      },
      "id": "hZlXrY_oRxCy",
      "execution_count": 1,
      "outputs": [
        {
          "output_type": "stream",
          "name": "stdout",
          "text": [
            "Looking in indexes: https://pypi.org/simple, https://us-python.pkg.dev/colab-wheels/public/simple/\n",
            "Collecting tensorflow==2.8.0\n",
            "  Downloading tensorflow-2.8.0-cp310-cp310-manylinux2010_x86_64.whl (497.6 MB)\n",
            "\u001b[2K     \u001b[90m━━━━━━━━━━━━━━━━━━━━━━━━━━━━━━━━━━━━━━━\u001b[0m \u001b[32m497.6/497.6 MB\u001b[0m \u001b[31m2.7 MB/s\u001b[0m eta \u001b[36m0:00:00\u001b[0m\n",
            "\u001b[?25hRequirement already satisfied: absl-py>=0.4.0 in /usr/local/lib/python3.10/dist-packages (from tensorflow==2.8.0) (1.4.0)\n",
            "Requirement already satisfied: astunparse>=1.6.0 in /usr/local/lib/python3.10/dist-packages (from tensorflow==2.8.0) (1.6.3)\n",
            "Requirement already satisfied: flatbuffers>=1.12 in /usr/local/lib/python3.10/dist-packages (from tensorflow==2.8.0) (23.5.26)\n",
            "Requirement already satisfied: gast>=0.2.1 in /usr/local/lib/python3.10/dist-packages (from tensorflow==2.8.0) (0.4.0)\n",
            "Requirement already satisfied: google-pasta>=0.1.1 in /usr/local/lib/python3.10/dist-packages (from tensorflow==2.8.0) (0.2.0)\n",
            "Requirement already satisfied: h5py>=2.9.0 in /usr/local/lib/python3.10/dist-packages (from tensorflow==2.8.0) (3.8.0)\n",
            "Collecting keras-preprocessing>=1.1.1 (from tensorflow==2.8.0)\n",
            "  Downloading Keras_Preprocessing-1.1.2-py2.py3-none-any.whl (42 kB)\n",
            "\u001b[2K     \u001b[90m━━━━━━━━━━━━━━━━━━━━━━━━━━━━━━━━━━━━━━━━\u001b[0m \u001b[32m42.6/42.6 kB\u001b[0m \u001b[31m4.3 MB/s\u001b[0m eta \u001b[36m0:00:00\u001b[0m\n",
            "\u001b[?25hRequirement already satisfied: libclang>=9.0.1 in /usr/local/lib/python3.10/dist-packages (from tensorflow==2.8.0) (16.0.0)\n",
            "Requirement already satisfied: numpy>=1.20 in /usr/local/lib/python3.10/dist-packages (from tensorflow==2.8.0) (1.22.4)\n",
            "Requirement already satisfied: opt-einsum>=2.3.2 in /usr/local/lib/python3.10/dist-packages (from tensorflow==2.8.0) (3.3.0)\n",
            "Requirement already satisfied: protobuf>=3.9.2 in /usr/local/lib/python3.10/dist-packages (from tensorflow==2.8.0) (3.20.3)\n",
            "Requirement already satisfied: setuptools in /usr/local/lib/python3.10/dist-packages (from tensorflow==2.8.0) (67.7.2)\n",
            "Requirement already satisfied: six>=1.12.0 in /usr/local/lib/python3.10/dist-packages (from tensorflow==2.8.0) (1.16.0)\n",
            "Requirement already satisfied: termcolor>=1.1.0 in /usr/local/lib/python3.10/dist-packages (from tensorflow==2.8.0) (2.3.0)\n",
            "Requirement already satisfied: typing-extensions>=3.6.6 in /usr/local/lib/python3.10/dist-packages (from tensorflow==2.8.0) (4.6.3)\n",
            "Requirement already satisfied: wrapt>=1.11.0 in /usr/local/lib/python3.10/dist-packages (from tensorflow==2.8.0) (1.14.1)\n",
            "Collecting tensorboard<2.9,>=2.8 (from tensorflow==2.8.0)\n",
            "  Downloading tensorboard-2.8.0-py3-none-any.whl (5.8 MB)\n",
            "\u001b[2K     \u001b[90m━━━━━━━━━━━━━━━━━━━━━━━━━━━━━━━━━━━━━━━━\u001b[0m \u001b[32m5.8/5.8 MB\u001b[0m \u001b[31m45.5 MB/s\u001b[0m eta \u001b[36m0:00:00\u001b[0m\n",
            "\u001b[?25hCollecting tf-estimator-nightly==2.8.0.dev2021122109 (from tensorflow==2.8.0)\n",
            "  Downloading tf_estimator_nightly-2.8.0.dev2021122109-py2.py3-none-any.whl (462 kB)\n",
            "\u001b[2K     \u001b[90m━━━━━━━━━━━━━━━━━━━━━━━━━━━━━━━━━━━━━━\u001b[0m \u001b[32m462.5/462.5 kB\u001b[0m \u001b[31m17.5 MB/s\u001b[0m eta \u001b[36m0:00:00\u001b[0m\n",
            "\u001b[?25hCollecting keras<2.9,>=2.8.0rc0 (from tensorflow==2.8.0)\n",
            "  Downloading keras-2.8.0-py2.py3-none-any.whl (1.4 MB)\n",
            "\u001b[2K     \u001b[90m━━━━━━━━━━━━━━━━━━━━━━━━━━━━━━━━━━━━━━━━\u001b[0m \u001b[32m1.4/1.4 MB\u001b[0m \u001b[31m32.5 MB/s\u001b[0m eta \u001b[36m0:00:00\u001b[0m\n",
            "\u001b[?25hRequirement already satisfied: tensorflow-io-gcs-filesystem>=0.23.1 in /usr/local/lib/python3.10/dist-packages (from tensorflow==2.8.0) (0.32.0)\n",
            "Requirement already satisfied: grpcio<2.0,>=1.24.3 in /usr/local/lib/python3.10/dist-packages (from tensorflow==2.8.0) (1.54.2)\n",
            "Requirement already satisfied: wheel<1.0,>=0.23.0 in /usr/local/lib/python3.10/dist-packages (from astunparse>=1.6.0->tensorflow==2.8.0) (0.40.0)\n",
            "Requirement already satisfied: google-auth<3,>=1.6.3 in /usr/local/lib/python3.10/dist-packages (from tensorboard<2.9,>=2.8->tensorflow==2.8.0) (2.17.3)\n",
            "Collecting google-auth-oauthlib<0.5,>=0.4.1 (from tensorboard<2.9,>=2.8->tensorflow==2.8.0)\n",
            "  Downloading google_auth_oauthlib-0.4.6-py2.py3-none-any.whl (18 kB)\n",
            "Requirement already satisfied: markdown>=2.6.8 in /usr/local/lib/python3.10/dist-packages (from tensorboard<2.9,>=2.8->tensorflow==2.8.0) (3.4.3)\n",
            "Requirement already satisfied: requests<3,>=2.21.0 in /usr/local/lib/python3.10/dist-packages (from tensorboard<2.9,>=2.8->tensorflow==2.8.0) (2.27.1)\n",
            "Collecting tensorboard-data-server<0.7.0,>=0.6.0 (from tensorboard<2.9,>=2.8->tensorflow==2.8.0)\n",
            "  Downloading tensorboard_data_server-0.6.1-py3-none-manylinux2010_x86_64.whl (4.9 MB)\n",
            "\u001b[2K     \u001b[90m━━━━━━━━━━━━━━━━━━━━━━━━━━━━━━━━━━━━━━━━\u001b[0m \u001b[32m4.9/4.9 MB\u001b[0m \u001b[31m59.8 MB/s\u001b[0m eta \u001b[36m0:00:00\u001b[0m\n",
            "\u001b[?25hCollecting tensorboard-plugin-wit>=1.6.0 (from tensorboard<2.9,>=2.8->tensorflow==2.8.0)\n",
            "  Downloading tensorboard_plugin_wit-1.8.1-py3-none-any.whl (781 kB)\n",
            "\u001b[2K     \u001b[90m━━━━━━━━━━━━━━━━━━━━━━━━━━━━━━━━━━━━━━\u001b[0m \u001b[32m781.3/781.3 kB\u001b[0m \u001b[31m35.8 MB/s\u001b[0m eta \u001b[36m0:00:00\u001b[0m\n",
            "\u001b[?25hRequirement already satisfied: werkzeug>=0.11.15 in /usr/local/lib/python3.10/dist-packages (from tensorboard<2.9,>=2.8->tensorflow==2.8.0) (2.3.6)\n",
            "Requirement already satisfied: cachetools<6.0,>=2.0.0 in /usr/local/lib/python3.10/dist-packages (from google-auth<3,>=1.6.3->tensorboard<2.9,>=2.8->tensorflow==2.8.0) (5.3.1)\n",
            "Requirement already satisfied: pyasn1-modules>=0.2.1 in /usr/local/lib/python3.10/dist-packages (from google-auth<3,>=1.6.3->tensorboard<2.9,>=2.8->tensorflow==2.8.0) (0.3.0)\n",
            "Requirement already satisfied: rsa<5,>=3.1.4 in /usr/local/lib/python3.10/dist-packages (from google-auth<3,>=1.6.3->tensorboard<2.9,>=2.8->tensorflow==2.8.0) (4.9)\n",
            "Requirement already satisfied: requests-oauthlib>=0.7.0 in /usr/local/lib/python3.10/dist-packages (from google-auth-oauthlib<0.5,>=0.4.1->tensorboard<2.9,>=2.8->tensorflow==2.8.0) (1.3.1)\n",
            "Requirement already satisfied: urllib3<1.27,>=1.21.1 in /usr/local/lib/python3.10/dist-packages (from requests<3,>=2.21.0->tensorboard<2.9,>=2.8->tensorflow==2.8.0) (1.26.16)\n",
            "Requirement already satisfied: certifi>=2017.4.17 in /usr/local/lib/python3.10/dist-packages (from requests<3,>=2.21.0->tensorboard<2.9,>=2.8->tensorflow==2.8.0) (2023.5.7)\n",
            "Requirement already satisfied: charset-normalizer~=2.0.0 in /usr/local/lib/python3.10/dist-packages (from requests<3,>=2.21.0->tensorboard<2.9,>=2.8->tensorflow==2.8.0) (2.0.12)\n",
            "Requirement already satisfied: idna<4,>=2.5 in /usr/local/lib/python3.10/dist-packages (from requests<3,>=2.21.0->tensorboard<2.9,>=2.8->tensorflow==2.8.0) (3.4)\n",
            "Requirement already satisfied: MarkupSafe>=2.1.1 in /usr/local/lib/python3.10/dist-packages (from werkzeug>=0.11.15->tensorboard<2.9,>=2.8->tensorflow==2.8.0) (2.1.3)\n",
            "Requirement already satisfied: pyasn1<0.6.0,>=0.4.6 in /usr/local/lib/python3.10/dist-packages (from pyasn1-modules>=0.2.1->google-auth<3,>=1.6.3->tensorboard<2.9,>=2.8->tensorflow==2.8.0) (0.5.0)\n",
            "Requirement already satisfied: oauthlib>=3.0.0 in /usr/local/lib/python3.10/dist-packages (from requests-oauthlib>=0.7.0->google-auth-oauthlib<0.5,>=0.4.1->tensorboard<2.9,>=2.8->tensorflow==2.8.0) (3.2.2)\n",
            "Installing collected packages: tf-estimator-nightly, tensorboard-plugin-wit, keras, tensorboard-data-server, keras-preprocessing, google-auth-oauthlib, tensorboard, tensorflow\n",
            "  Attempting uninstall: keras\n",
            "    Found existing installation: keras 2.12.0\n",
            "    Uninstalling keras-2.12.0:\n",
            "      Successfully uninstalled keras-2.12.0\n",
            "  Attempting uninstall: tensorboard-data-server\n",
            "    Found existing installation: tensorboard-data-server 0.7.1\n",
            "    Uninstalling tensorboard-data-server-0.7.1:\n",
            "      Successfully uninstalled tensorboard-data-server-0.7.1\n",
            "  Attempting uninstall: google-auth-oauthlib\n",
            "    Found existing installation: google-auth-oauthlib 1.0.0\n",
            "    Uninstalling google-auth-oauthlib-1.0.0:\n",
            "      Successfully uninstalled google-auth-oauthlib-1.0.0\n",
            "  Attempting uninstall: tensorboard\n",
            "    Found existing installation: tensorboard 2.12.3\n",
            "    Uninstalling tensorboard-2.12.3:\n",
            "      Successfully uninstalled tensorboard-2.12.3\n",
            "  Attempting uninstall: tensorflow\n",
            "    Found existing installation: tensorflow 2.12.0\n",
            "    Uninstalling tensorflow-2.12.0:\n",
            "      Successfully uninstalled tensorflow-2.12.0\n",
            "Successfully installed google-auth-oauthlib-0.4.6 keras-2.8.0 keras-preprocessing-1.1.2 tensorboard-2.8.0 tensorboard-data-server-0.6.1 tensorboard-plugin-wit-1.8.1 tensorflow-2.8.0 tf-estimator-nightly-2.8.0.dev2021122109\n"
          ]
        }
      ]
    },
    {
      "cell_type": "code",
      "execution_count": 2,
      "id": "reported-burlington",
      "metadata": {
        "colab": {
          "base_uri": "https://localhost:8080/"
        },
        "id": "reported-burlington",
        "outputId": "b78028e2-4534-41b5-95cf-7cd0f468ca41"
      },
      "outputs": [
        {
          "output_type": "stream",
          "name": "stdout",
          "text": [
            "[]\n",
            "[0]\n",
            "2.8.0\n"
          ]
        }
      ],
      "source": [
        "import numpy as np\n",
        "from scipy.stats import norm, multivariate_normal\n",
        "import sys, os, time, gc\n",
        "\n",
        "import tensorflow as tf\n",
        "import tensorflow.keras as keras\n",
        "from tensorflow.keras.models import Model\n",
        "from tensorflow.keras.layers import Dense, LeakyReLU, Input,ReLU\n",
        "from tensorflow.keras import optimizers, callbacks\n",
        "\n",
        "from tensorflow.keras.layers import concatenate, BatchNormalization\n",
        "\n",
        "import pandas as pd\n",
        "import random\n",
        "from sklearn.preprocessing import StandardScaler\n",
        "from sklearn.model_selection import train_test_split\n",
        "\n",
        "\n",
        "import matplotlib.pyplot as plt\n",
        "plt.rcParams[\"font.family\"] = \"serif\"\n",
        "plt.rcParams[\"mathtext.fontset\"] = \"cm\"\n",
        "plt.rcParams['image.cmap'] = 'coolwarm'\n",
        "print(tf.config.list_physical_devices('GPU'))\n",
        "tf.print(tf.constant([0.0]))\n",
        "print(tf.__version__)"
      ]
    },
    {
      "cell_type": "code",
      "source": [
        "from google.colab import drive\n",
        "drive.mount('/content/drive') \n",
        "# !cd /content/drive/MyDrive/ML_Intern/\n",
        "\n",
        "path = '/content/drive/MyDrive/ML_Intern'\n",
        "\n"
      ],
      "metadata": {
        "colab": {
          "base_uri": "https://localhost:8080/"
        },
        "id": "cqtfv2o_Kgrb",
        "outputId": "041de506-230f-4af9-8b56-3fd335859472"
      },
      "id": "cqtfv2o_Kgrb",
      "execution_count": 3,
      "outputs": [
        {
          "output_type": "stream",
          "name": "stdout",
          "text": [
            "Mounted at /content/drive\n"
          ]
        }
      ]
    },
    {
      "cell_type": "markdown",
      "source": [
        "## Import Data and Save as Numpy file \n",
        "Once Numpy file is created it is not necessary to run this"
      ],
      "metadata": {
        "id": "3KWomcAUSpdV"
      },
      "id": "3KWomcAUSpdV"
    },
    {
      "cell_type": "code",
      "source": [
        "# import and save data as npy file\n",
        "train_Illu = np.loadtxt(path+\"/galaxies_IllustrisTNG_z=0.00.txt\", float)\n",
        "train_SIMB = np.loadtxt(path+\"/galaxies_SIMBA_z=0.00.txt\", float)\n",
        "\n",
        "f = open(path+\"/galaxies_IllustrisTNG_z=0.00.txt\")\n",
        "header = f.readline()\n",
        "\n",
        "np.save(path+'/gal_Illu.npy',train_Illu)\n",
        "np.save(path+'/gal_SIMB.npy',train_SIMB)\n"
      ],
      "metadata": {
        "id": "dom2n_nNSooG"
      },
      "id": "dom2n_nNSooG",
      "execution_count": null,
      "outputs": []
    },
    {
      "cell_type": "code",
      "source": [
        "f = open(path+\"/galaxies_IllustrisTNG_z=0.00.txt\")\n",
        "header = f.readline()\n",
        "header = header.split('|')\n",
        "print(header[0:10])\n",
        "# gal_Illu"
      ],
      "metadata": {
        "id": "kSHrXHex0YUd"
      },
      "id": "kSHrXHex0YUd",
      "execution_count": null,
      "outputs": []
    },
    {
      "cell_type": "markdown",
      "source": [
        "## Load and prepare data\n",
        "Each data file contains >100,000 data vectors. Note that SIMBA is about a 1.6x larger dataset than IllustrisTNG. A data vector is a package of 17 properties for a given galaxy. The values are normalised as they range over several orders of magnitude. A dataframe for each model is made to examine the data, but the numpy array is fed into the network as this is faster. <br>\n",
        "The models are assigned the labels; SIMBA (1), IllustrisTNG (0). They are combined into one set of training data. x_train is the data and y_train is the labels. \n"
      ],
      "metadata": {
        "id": "pCmwYsNPSyzL"
      },
      "id": "pCmwYsNPSyzL"
    },
    {
      "cell_type": "code",
      "source": [
        "# unpack data\n",
        "train_Illu = np.load(path+'/gal_Illu.npy')\n",
        "train_SIMB = np.load(path+'/gal_SIMB.npy')\n",
        "print(np.shape(train_Illu))\n",
        "\n",
        "# get headers and convert to pandas \n",
        "header = 'gas mass | stellar mass | black-hole mass | total mass | Vmax | velocity dispersion | gas metallicity | stars metallicity | star-formation rate | spin | peculiar velocity | stellar radius | total radius | Vmax radius | U | K | g'\n",
        "header = header.split('|')\n",
        "\n",
        "df_Illu = pd.DataFrame(train_Illu, columns=header)\n",
        "df_SIMB = pd.DataFrame(train_SIMB, columns=header)\n",
        "\n",
        "# add model labels 'm'\n",
        "df_Illu['m'] = np.zeros(df_Illu.shape[0])\n",
        "df_SIMB['m'] = np.ones(df_SIMB.shape[0])\n",
        "\n"
      ],
      "metadata": {
        "colab": {
          "base_uri": "https://localhost:8080/"
        },
        "id": "B8NKf1mrcG5X",
        "outputId": "84cfdd24-b763-49dd-b949-54aa1ad44bed"
      },
      "id": "B8NKf1mrcG5X",
      "execution_count": 4,
      "outputs": [
        {
          "output_type": "stream",
          "name": "stdout",
          "text": [
            "(720548, 17)\n"
          ]
        }
      ]
    },
    {
      "cell_type": "code",
      "source": [
        "df_gal = df_Illu.append(df_SIMB)\n",
        "df_gal.head()\n",
        "# df_gal.iloc[0:5,0:5]"
      ],
      "metadata": {
        "colab": {
          "base_uri": "https://localhost:8080/",
          "height": 340
        },
        "id": "ZdRP0n7v4E10",
        "outputId": "c4878925-7018-4ad4-e79d-0126fb55cc01"
      },
      "id": "ZdRP0n7v4E10",
      "execution_count": 5,
      "outputs": [
        {
          "output_type": "stream",
          "name": "stderr",
          "text": [
            "<ipython-input-5-bbc7c8626d90>:1: FutureWarning: The frame.append method is deprecated and will be removed from pandas in a future version. Use pandas.concat instead.\n",
            "  df_gal = df_Illu.append(df_SIMB)\n"
          ]
        },
        {
          "output_type": "execute_result",
          "data": {
            "text/plain": [
              "      gas mass    stellar mass    black-hole mass    total mass      Vmax   \\\n",
              "0  9.282650e+12    5.420345e+11       1.466206e+09  6.418189e+13  728.5484   \n",
              "1  1.038497e+11    2.636133e+10       1.044907e+07  9.836553e+11  233.9234   \n",
              "2  9.195971e+08    2.106634e+10       1.157354e+08  3.509456e+11  208.0617   \n",
              "3  3.779673e+10    1.197717e+09       1.650660e+06  2.944225e+11  155.9398   \n",
              "4  6.460591e+09    9.020908e+09       3.054039e+06  1.818515e+11  150.3801   \n",
              "\n",
              "    velocity dispersion    gas metallicity    stars metallicity   \\\n",
              "0              388.82180           0.004787             0.017947   \n",
              "1              119.81900           0.018286             0.015760   \n",
              "2               99.18353           0.009185             0.015279   \n",
              "3               88.05768           0.002823             0.003315   \n",
              "4               76.50587           0.016340             0.010027   \n",
              "\n",
              "    star-formation rate       spin    peculiar velocity    stellar radius   \\\n",
              "0               9.441491  7318.4480             33.48256          0.021288   \n",
              "1               2.637218  1866.9370            514.23650          0.005122   \n",
              "2               0.000000   129.6710            469.85760          0.003984   \n",
              "3               0.186221  1364.7460            903.87620          0.007515   \n",
              "4               0.260545   115.4676            318.39040          0.005950   \n",
              "\n",
              "    total radius    Vmax radius         U         K          g    m  \n",
              "0        0.265175       0.195745 -22.93387 -26.54785 -23.42693  0.0  \n",
              "1        0.044712       0.015302 -21.15315 -23.88854 -21.25109  0.0  \n",
              "2        0.025255       0.004423 -19.08513 -23.24341 -19.95050  0.0  \n",
              "3        0.026186       0.027755 -18.45237 -20.64906 -18.61216  0.0  \n",
              "4        0.019798       0.007311 -19.32953 -22.77941 -19.95593  0.0  "
            ],
            "text/html": [
              "\n",
              "  <div id=\"df-950e99b6-f8b5-4c04-a3e1-47eae2b11abe\">\n",
              "    <div class=\"colab-df-container\">\n",
              "      <div>\n",
              "<style scoped>\n",
              "    .dataframe tbody tr th:only-of-type {\n",
              "        vertical-align: middle;\n",
              "    }\n",
              "\n",
              "    .dataframe tbody tr th {\n",
              "        vertical-align: top;\n",
              "    }\n",
              "\n",
              "    .dataframe thead th {\n",
              "        text-align: right;\n",
              "    }\n",
              "</style>\n",
              "<table border=\"1\" class=\"dataframe\">\n",
              "  <thead>\n",
              "    <tr style=\"text-align: right;\">\n",
              "      <th></th>\n",
              "      <th>gas mass</th>\n",
              "      <th>stellar mass</th>\n",
              "      <th>black-hole mass</th>\n",
              "      <th>total mass</th>\n",
              "      <th>Vmax</th>\n",
              "      <th>velocity dispersion</th>\n",
              "      <th>gas metallicity</th>\n",
              "      <th>stars metallicity</th>\n",
              "      <th>star-formation rate</th>\n",
              "      <th>spin</th>\n",
              "      <th>peculiar velocity</th>\n",
              "      <th>stellar radius</th>\n",
              "      <th>total radius</th>\n",
              "      <th>Vmax radius</th>\n",
              "      <th>U</th>\n",
              "      <th>K</th>\n",
              "      <th>g</th>\n",
              "      <th>m</th>\n",
              "    </tr>\n",
              "  </thead>\n",
              "  <tbody>\n",
              "    <tr>\n",
              "      <th>0</th>\n",
              "      <td>9.282650e+12</td>\n",
              "      <td>5.420345e+11</td>\n",
              "      <td>1.466206e+09</td>\n",
              "      <td>6.418189e+13</td>\n",
              "      <td>728.5484</td>\n",
              "      <td>388.82180</td>\n",
              "      <td>0.004787</td>\n",
              "      <td>0.017947</td>\n",
              "      <td>9.441491</td>\n",
              "      <td>7318.4480</td>\n",
              "      <td>33.48256</td>\n",
              "      <td>0.021288</td>\n",
              "      <td>0.265175</td>\n",
              "      <td>0.195745</td>\n",
              "      <td>-22.93387</td>\n",
              "      <td>-26.54785</td>\n",
              "      <td>-23.42693</td>\n",
              "      <td>0.0</td>\n",
              "    </tr>\n",
              "    <tr>\n",
              "      <th>1</th>\n",
              "      <td>1.038497e+11</td>\n",
              "      <td>2.636133e+10</td>\n",
              "      <td>1.044907e+07</td>\n",
              "      <td>9.836553e+11</td>\n",
              "      <td>233.9234</td>\n",
              "      <td>119.81900</td>\n",
              "      <td>0.018286</td>\n",
              "      <td>0.015760</td>\n",
              "      <td>2.637218</td>\n",
              "      <td>1866.9370</td>\n",
              "      <td>514.23650</td>\n",
              "      <td>0.005122</td>\n",
              "      <td>0.044712</td>\n",
              "      <td>0.015302</td>\n",
              "      <td>-21.15315</td>\n",
              "      <td>-23.88854</td>\n",
              "      <td>-21.25109</td>\n",
              "      <td>0.0</td>\n",
              "    </tr>\n",
              "    <tr>\n",
              "      <th>2</th>\n",
              "      <td>9.195971e+08</td>\n",
              "      <td>2.106634e+10</td>\n",
              "      <td>1.157354e+08</td>\n",
              "      <td>3.509456e+11</td>\n",
              "      <td>208.0617</td>\n",
              "      <td>99.18353</td>\n",
              "      <td>0.009185</td>\n",
              "      <td>0.015279</td>\n",
              "      <td>0.000000</td>\n",
              "      <td>129.6710</td>\n",
              "      <td>469.85760</td>\n",
              "      <td>0.003984</td>\n",
              "      <td>0.025255</td>\n",
              "      <td>0.004423</td>\n",
              "      <td>-19.08513</td>\n",
              "      <td>-23.24341</td>\n",
              "      <td>-19.95050</td>\n",
              "      <td>0.0</td>\n",
              "    </tr>\n",
              "    <tr>\n",
              "      <th>3</th>\n",
              "      <td>3.779673e+10</td>\n",
              "      <td>1.197717e+09</td>\n",
              "      <td>1.650660e+06</td>\n",
              "      <td>2.944225e+11</td>\n",
              "      <td>155.9398</td>\n",
              "      <td>88.05768</td>\n",
              "      <td>0.002823</td>\n",
              "      <td>0.003315</td>\n",
              "      <td>0.186221</td>\n",
              "      <td>1364.7460</td>\n",
              "      <td>903.87620</td>\n",
              "      <td>0.007515</td>\n",
              "      <td>0.026186</td>\n",
              "      <td>0.027755</td>\n",
              "      <td>-18.45237</td>\n",
              "      <td>-20.64906</td>\n",
              "      <td>-18.61216</td>\n",
              "      <td>0.0</td>\n",
              "    </tr>\n",
              "    <tr>\n",
              "      <th>4</th>\n",
              "      <td>6.460591e+09</td>\n",
              "      <td>9.020908e+09</td>\n",
              "      <td>3.054039e+06</td>\n",
              "      <td>1.818515e+11</td>\n",
              "      <td>150.3801</td>\n",
              "      <td>76.50587</td>\n",
              "      <td>0.016340</td>\n",
              "      <td>0.010027</td>\n",
              "      <td>0.260545</td>\n",
              "      <td>115.4676</td>\n",
              "      <td>318.39040</td>\n",
              "      <td>0.005950</td>\n",
              "      <td>0.019798</td>\n",
              "      <td>0.007311</td>\n",
              "      <td>-19.32953</td>\n",
              "      <td>-22.77941</td>\n",
              "      <td>-19.95593</td>\n",
              "      <td>0.0</td>\n",
              "    </tr>\n",
              "  </tbody>\n",
              "</table>\n",
              "</div>\n",
              "      <button class=\"colab-df-convert\" onclick=\"convertToInteractive('df-950e99b6-f8b5-4c04-a3e1-47eae2b11abe')\"\n",
              "              title=\"Convert this dataframe to an interactive table.\"\n",
              "              style=\"display:none;\">\n",
              "        \n",
              "  <svg xmlns=\"http://www.w3.org/2000/svg\" height=\"24px\"viewBox=\"0 0 24 24\"\n",
              "       width=\"24px\">\n",
              "    <path d=\"M0 0h24v24H0V0z\" fill=\"none\"/>\n",
              "    <path d=\"M18.56 5.44l.94 2.06.94-2.06 2.06-.94-2.06-.94-.94-2.06-.94 2.06-2.06.94zm-11 1L8.5 8.5l.94-2.06 2.06-.94-2.06-.94L8.5 2.5l-.94 2.06-2.06.94zm10 10l.94 2.06.94-2.06 2.06-.94-2.06-.94-.94-2.06-.94 2.06-2.06.94z\"/><path d=\"M17.41 7.96l-1.37-1.37c-.4-.4-.92-.59-1.43-.59-.52 0-1.04.2-1.43.59L10.3 9.45l-7.72 7.72c-.78.78-.78 2.05 0 2.83L4 21.41c.39.39.9.59 1.41.59.51 0 1.02-.2 1.41-.59l7.78-7.78 2.81-2.81c.8-.78.8-2.07 0-2.86zM5.41 20L4 18.59l7.72-7.72 1.47 1.35L5.41 20z\"/>\n",
              "  </svg>\n",
              "      </button>\n",
              "      \n",
              "  <style>\n",
              "    .colab-df-container {\n",
              "      display:flex;\n",
              "      flex-wrap:wrap;\n",
              "      gap: 12px;\n",
              "    }\n",
              "\n",
              "    .colab-df-convert {\n",
              "      background-color: #E8F0FE;\n",
              "      border: none;\n",
              "      border-radius: 50%;\n",
              "      cursor: pointer;\n",
              "      display: none;\n",
              "      fill: #1967D2;\n",
              "      height: 32px;\n",
              "      padding: 0 0 0 0;\n",
              "      width: 32px;\n",
              "    }\n",
              "\n",
              "    .colab-df-convert:hover {\n",
              "      background-color: #E2EBFA;\n",
              "      box-shadow: 0px 1px 2px rgba(60, 64, 67, 0.3), 0px 1px 3px 1px rgba(60, 64, 67, 0.15);\n",
              "      fill: #174EA6;\n",
              "    }\n",
              "\n",
              "    [theme=dark] .colab-df-convert {\n",
              "      background-color: #3B4455;\n",
              "      fill: #D2E3FC;\n",
              "    }\n",
              "\n",
              "    [theme=dark] .colab-df-convert:hover {\n",
              "      background-color: #434B5C;\n",
              "      box-shadow: 0px 1px 3px 1px rgba(0, 0, 0, 0.15);\n",
              "      filter: drop-shadow(0px 1px 2px rgba(0, 0, 0, 0.3));\n",
              "      fill: #FFFFFF;\n",
              "    }\n",
              "  </style>\n",
              "\n",
              "      <script>\n",
              "        const buttonEl =\n",
              "          document.querySelector('#df-950e99b6-f8b5-4c04-a3e1-47eae2b11abe button.colab-df-convert');\n",
              "        buttonEl.style.display =\n",
              "          google.colab.kernel.accessAllowed ? 'block' : 'none';\n",
              "\n",
              "        async function convertToInteractive(key) {\n",
              "          const element = document.querySelector('#df-950e99b6-f8b5-4c04-a3e1-47eae2b11abe');\n",
              "          const dataTable =\n",
              "            await google.colab.kernel.invokeFunction('convertToInteractive',\n",
              "                                                     [key], {});\n",
              "          if (!dataTable) return;\n",
              "\n",
              "          const docLinkHtml = 'Like what you see? Visit the ' +\n",
              "            '<a target=\"_blank\" href=https://colab.research.google.com/notebooks/data_table.ipynb>data table notebook</a>'\n",
              "            + ' to learn more about interactive tables.';\n",
              "          element.innerHTML = '';\n",
              "          dataTable['output_type'] = 'display_data';\n",
              "          await google.colab.output.renderOutput(dataTable, element);\n",
              "          const docLink = document.createElement('div');\n",
              "          docLink.innerHTML = docLinkHtml;\n",
              "          element.appendChild(docLink);\n",
              "        }\n",
              "      </script>\n",
              "    </div>\n",
              "  </div>\n",
              "  "
            ]
          },
          "metadata": {},
          "execution_count": 5
        }
      ]
    },
    {
      "cell_type": "code",
      "source": [
        "# assign label of 0 for IllustrisTNG and 1 for SIMBA\n",
        "train_Illu = np.append(train_Illu, np.zeros((len(train_Illu[:,0]),1)) ,axis=1)\n",
        "train_SIMB = np.append(train_SIMB, np.ones((len(train_SIMB[:,0]),1)) ,axis=1)\n",
        "\n"
      ],
      "metadata": {
        "id": "WYVXOI81nWWC"
      },
      "id": "WYVXOI81nWWC",
      "execution_count": 6,
      "outputs": []
    },
    {
      "cell_type": "code",
      "source": [
        "# combine into one dataset\n",
        "train_data = np.append(train_SIMB,train_Illu, axis=0 )\n",
        "train_data = train_data[:,[1,7,-1]]\n",
        "# print(train_Illu.shape)\n",
        "# print(train_SIMB.shape)\n",
        "print(train_data[:,:-1].shape)\n"
      ],
      "metadata": {
        "colab": {
          "base_uri": "https://localhost:8080/"
        },
        "id": "tn8Lws2KYNN2",
        "outputId": "ca7a23fb-397d-43c0-9831-34a727ba6412"
      },
      "id": "tn8Lws2KYNN2",
      "execution_count": 196,
      "outputs": [
        {
          "output_type": "stream",
          "name": "stdout",
          "text": [
            "(1902813, 2)\n"
          ]
        }
      ]
    },
    {
      "cell_type": "code",
      "source": [
        "train_data"
      ],
      "metadata": {
        "colab": {
          "base_uri": "https://localhost:8080/"
        },
        "id": "3vh4qwHAgULA",
        "outputId": "840fa8aa-f5d0-4ad1-b34a-45bea0bf8425"
      },
      "id": "3vh4qwHAgULA",
      "execution_count": 197,
      "outputs": [
        {
          "output_type": "execute_result",
          "data": {
            "text/plain": [
              "array([[4.807714e+11, 1.858564e-02, 1.000000e+00],\n",
              "       [2.389855e+09, 1.399460e-03, 1.000000e+00],\n",
              "       [4.058050e+08, 4.641813e-04, 1.000000e+00],\n",
              "       ...,\n",
              "       [3.211801e+08, 3.859784e-03, 0.000000e+00],\n",
              "       [2.330075e+08, 2.981702e-03, 0.000000e+00],\n",
              "       [2.380963e+08, 3.564553e-03, 0.000000e+00]])"
            ]
          },
          "metadata": {},
          "execution_count": 197
        }
      ]
    },
    {
      "cell_type": "markdown",
      "source": [
        "In the following we select a sub-sample of the data to speed up training. The dataset is then split into training and testing in an 80:20 split. \n"
      ],
      "metadata": {
        "id": "QqupIyXQSvjs"
      },
      "id": "QqupIyXQSvjs"
    },
    {
      "cell_type": "code",
      "source": [
        "# randomly sample from training data\n",
        "\n",
        "# n_sample = 500000\n",
        "n_sample = train_data.shape[0]\n",
        "\n",
        "choices = np.random.choice(train_data.shape[0], \n",
        "                                  size=n_sample, \n",
        "                                  replace=False)\n",
        "train_data = train_data[choices,:]\n",
        "print(train_data.shape)\n",
        "\n",
        "\n",
        "# separate training data and training labels into x and y\n",
        "x_train, x_test, y_train, y_test = train_test_split(train_data[:,:-1], train_data[:,-1], test_size=0.20, shuffle=True, random_state=42)\n",
        "\n"
      ],
      "metadata": {
        "colab": {
          "base_uri": "https://localhost:8080/"
        },
        "id": "Op848ABr8L6c",
        "outputId": "d4beae95-b7a0-4bbe-8161-f4b3f19af61b"
      },
      "id": "Op848ABr8L6c",
      "execution_count": 198,
      "outputs": [
        {
          "output_type": "stream",
          "name": "stdout",
          "text": [
            "(1902813, 3)\n"
          ]
        }
      ]
    },
    {
      "cell_type": "code",
      "source": [
        "x_train[:,1].min()"
      ],
      "metadata": {
        "colab": {
          "base_uri": "https://localhost:8080/"
        },
        "id": "ZMyB7mnviHUy",
        "outputId": "ba6c6120-3bde-4cf0-fc69-be64be7ec843"
      },
      "id": "ZMyB7mnviHUy",
      "execution_count": 199,
      "outputs": [
        {
          "output_type": "execute_result",
          "data": {
            "text/plain": [
              "0.0001390191"
            ]
          },
          "metadata": {},
          "execution_count": 199
        }
      ]
    },
    {
      "cell_type": "code",
      "source": [
        "# normalise training data \n",
        "x_train_scaled = np.copy(x_train)\n",
        "x_train_scaled[:,0] = np.log(x_train_scaled[:,0])\n",
        "\n",
        "x_test_scaled = np.copy(x_test)\n",
        "x_test_scaled[:,0] = np.log(x_test_scaled[:,0])\n",
        "\n",
        "scaler = StandardScaler()\n",
        "scaler.fit(x_train_scaled)\n",
        "x_train_scaled = scaler.transform(x_train_scaled)/20.+0.5\n",
        "x_test_scaled = scaler.transform(x_test_scaled)/20.+0.5\n"
      ],
      "metadata": {
        "id": "gKjWQw5nI5up"
      },
      "id": "gKjWQw5nI5up",
      "execution_count": 200,
      "outputs": []
    },
    {
      "cell_type": "code",
      "source": [
        "x_train_scaled[:,0].max()"
      ],
      "metadata": {
        "colab": {
          "base_uri": "https://localhost:8080/"
        },
        "id": "JKf5564hhQda",
        "outputId": "c8b1ce4e-2479-4bea-a617-3cca8dc28f75"
      },
      "id": "JKf5564hhQda",
      "execution_count": 201,
      "outputs": [
        {
          "output_type": "execute_result",
          "data": {
            "text/plain": [
              "0.7517404013083931"
            ]
          },
          "metadata": {},
          "execution_count": 201
        }
      ]
    },
    {
      "cell_type": "code",
      "source": [
        "_ = plt.hist(x_train_scaled[:,1],bins=np.linspace(-0,1,512),density=True)\n",
        "_ = plt.hist(x_train_scaled[:,0],bins=np.linspace(-0,1,512),alpha=0.6,density=True)\n"
      ],
      "metadata": {
        "colab": {
          "base_uri": "https://localhost:8080/",
          "height": 430
        },
        "id": "qyCnMdZXgsPU",
        "outputId": "05d9fada-099f-43b0-90fc-064834308c2b"
      },
      "id": "qyCnMdZXgsPU",
      "execution_count": 202,
      "outputs": [
        {
          "output_type": "display_data",
          "data": {
            "text/plain": [
              "<Figure size 640x480 with 1 Axes>"
            ],
            "image/png": "[encoded data removed]"
          },
          "metadata": {}
        }
      ]
    },
    {
      "cell_type": "markdown",
      "source": [
        "This cell finds the ratio of samples from each model. "
      ],
      "metadata": {
        "id": "lN_6o_RwTcq5"
      },
      "id": "lN_6o_RwTcq5"
    },
    {
      "cell_type": "code",
      "execution_count": 203,
      "id": "threatened-hardware",
      "metadata": {
        "colab": {
          "base_uri": "https://localhost:8080/"
        },
        "id": "threatened-hardware",
        "outputId": "1b86c54d-7377-4dcd-aa9b-503321e02fa5"
      },
      "outputs": [
        {
          "output_type": "stream",
          "name": "stdout",
          "text": [
            "Current prior model ratio (model 1/model 0):  1.6415844126997348\n"
          ]
        }
      ],
      "source": [
        "scale = np.sum(y_train)/np.sum(1 - y_train)\n",
        "\n",
        "print('Current prior model ratio (model 1/model 0): ',\n",
        "      scale,\n",
        "      flush=True)\n",
        "\n",
        "\n",
        "# scale_rescale = 40.*np.std(y_train,axis=0)\n",
        "# print(scale_rescale)"
      ]
    },
    {
      "cell_type": "markdown",
      "source": [
        "## Define functions for network"
      ],
      "metadata": {
        "id": "IrgSYceYU3Kp"
      },
      "id": "IrgSYceYU3Kp"
    },
    {
      "cell_type": "code",
      "execution_count": 204,
      "id": "8d01cfb2-2a20-438b-91ee-7bc29b26048e",
      "metadata": {
        "id": "8d01cfb2-2a20-438b-91ee-7bc29b26048e"
      },
      "outputs": [],
      "source": [
        "#C just defined set of mathematical functions \n",
        "\n",
        "def smooth_sign(x, k =100.):\n",
        "    \n",
        "    return 2.*tf.math.sigmoid(k*x) - 1\n",
        "\n",
        "\n",
        "def parity_odd_power(x, alpha=2):\n",
        "    return (x)*(tf.math.abs(x)**(alpha-1))\n",
        "\n",
        "\n",
        "# def leaky_parity_odd_power(x, alpha=2):\n",
        "#     x_transition = (alpha)**(alpha/(1.-alpha))\n",
        "#     shift=(alpha)**(1./(1.-alpha)) - x_transition\n",
        "#     return tf.where(tf.math.abs(x)<x_transition, x, tf.sign(x)*tf.math.abs(x+tf.sign(x)*shift)**alpha)\n",
        "\n",
        "\n",
        "def leaky_parity_odd_power(x, alpha=2):\n",
        "    return x + parity_odd_power(x, alpha)"
      ]
    },
    {
      "cell_type": "code",
      "execution_count": 205,
      "id": "accurate-pride",
      "metadata": {
        "id": "accurate-pride"
      },
      "outputs": [],
      "source": [
        "# Evidence Net functions:\n",
        "    \n",
        "class POPExpLoss(tf.keras.losses.Loss):\n",
        "    \"\"\"\n",
        "    Custom exponential loss\n",
        "    \"\"\"\n",
        "\n",
        "    def call(self, model_label, model_pred):\n",
        "        model_pred =  leaky_parity_odd_power(model_pred, alpha=1)\n",
        "        model_pred = tf.clip_by_value(model_pred, -50, 50)\n",
        "        loss_val =  tf.math.exp((0.5 - model_label) * (model_pred) )\n",
        "        return tf.reduce_mean(loss_val)\n",
        "    \n",
        "    \n",
        "class ExpLoss(tf.keras.losses.Loss):\n",
        "    \"\"\"\n",
        "    Custom exponential loss\n",
        "    \"\"\"\n",
        "\n",
        "    def call(self, model_label, model_pred):\n",
        "        model_pred = tf.clip_by_value(model_pred, -50, 50)\n",
        "        loss_val =  tf.math.exp((0.5 - model_label) * (model_pred) )\n",
        "        return tf.reduce_mean(loss_val)\n",
        "\n",
        "\n",
        "def get_lr_metric(optimizer):\n",
        "    \"\"\"\n",
        "    Learning rate on-the-fly\n",
        "    :param optimizer:\n",
        "    :return: learning rate\n",
        "    \"\"\"\n",
        "    def lr(y_true, y_pred):\n",
        "        return optimizer._decayed_lr(tf.float32)  # I use ._decayed_lr method instead of .lr\n",
        "        # return optimizer.lr(tf.float32) #C try .lr\n",
        "    return lr\n",
        "\n",
        "\n",
        "\n",
        "class DenseNetwork:\n",
        "    \"\"\"\n",
        "    Network that takes in data and returns functions of the Bayesian evidence\n",
        "    \"\"\"\n",
        "\n",
        "    def __init__(self, input_size, weight_init='he_normal', layer_width=100, added_layers=3,\n",
        "                 learning_rate=1e-4, decay_rate=None, batch_norm_flag=1, residual_flag=0):\n",
        "        \"\"\"\n",
        "        Initialisation\n",
        "        :param map_size: size of square image (there are map_size**2 pixels)\n",
        "        :param learning_rate: learning rate for the optimizer\n",
        "        \"\"\"\n",
        "        self.input_size = input_size\n",
        "        self.learning_rate = learning_rate\n",
        "        self.layer_width = layer_width\n",
        "        self.weight_init = weight_init\n",
        "        self.decay_rate = decay_rate\n",
        "        self.added_layers = added_layers\n",
        "        self.batch_norm_flag = batch_norm_flag\n",
        "        self.residual_flag = residual_flag\n",
        "\n",
        "        print('Hyper-parameters:', input_size, weight_init, layer_width, added_layers,\n",
        "              learning_rate, decay_rate, batch_norm_flag, residual_flag)\n",
        "\n",
        "    def simple_layer(self, x_in):\n",
        "        x_out = Dense(self.layer_width, kernel_initializer=self.weight_init)(x_in)\n",
        "        x_out = LeakyReLU(alpha=0.1)(x_out)\n",
        "        # x_out = tf.tanh(x_out)\n",
        "        if self.batch_norm_flag == 1:\n",
        "            x_out = BatchNormalization()(x_out)\n",
        "        return x_out\n",
        "\n",
        "    def residual_block(self, x_in):\n",
        "        x_out = Dense(self.layer_width, kernel_initializer=self.weight_init)(x_in)\n",
        "        x_out = LeakyReLU(alpha=0.1)(x_out)\n",
        "        # x_out = tf.tanh(x_out)\n",
        "        if self.batch_norm_flag == 1:\n",
        "            x_out = BatchNormalization()(x_out)\n",
        "            \n",
        "        x_out = Dense(self.layer_width, kernel_initializer=self.weight_init)(x_out)\n",
        "        x_out = LeakyReLU(alpha=0.1)(x_out) + x_in\n",
        "        if self.batch_norm_flag == 1:\n",
        "            x_out = BatchNormalization()(x_out)\n",
        "             \n",
        "        return x_out\n",
        "\n",
        "    def model(self):\n",
        "\n",
        "        input_data = (Input(shape=(self.input_size,)))\n",
        "\n",
        "        \n",
        "        x1 = Dense(int(1.1*self.input_size)+20, input_dim=self.input_size, kernel_initializer=self.weight_init)(input_data)\n",
        "        x_inner = LeakyReLU(alpha=0.1)(x1)\n",
        "        x_inner = BatchNormalization()(x_inner)\n",
        "        x_inner = Dense(self.layer_width, input_dim=self.input_size, kernel_initializer=self.weight_init)(x_inner)\n",
        "        x_inner = LeakyReLU(alpha=0.1)(x_inner)\n",
        "        x_inner = BatchNormalization()(x_inner)\n",
        "        \n",
        "        # x_inner = tf.tanh(x1)\n",
        "\n",
        "        for i in range(self.added_layers):\n",
        "            x_inner = self.residual_block(x_inner)\n",
        "            # x_inner = self.simple_layer(x_inner)\n",
        "\n",
        "        x_out = Dense(self.layer_width, kernel_initializer=self.weight_init)(x_inner)\n",
        "        x_out = LeakyReLU(alpha=0.1)(x_out)\n",
        "        x_out = Dense(1, kernel_initializer=self.weight_init)(x_out)\n",
        "        x_out = 0.1*x_out + 0.001\n",
        "        x_out = leaky_parity_odd_power(x_out, alpha=2)\n",
        "\n",
        "        dense_model = Model(input_data, x_out)\n",
        "\n",
        "        if self.decay_rate is not None:\n",
        "            lr_schedule = optimizers.schedules.ExponentialDecay(initial_learning_rate=self.learning_rate,\n",
        "                                                                decay_steps=5000,\n",
        "                                                                decay_rate=self.decay_rate)\n",
        "            optimizer = optimizers.Adam(learning_rate=lr_schedule)\n",
        "            lr_metric = get_lr_metric(optimizer) \n",
        "            dense_model.compile(optimizer=optimizer,\n",
        "                                loss=ExpLoss(),\n",
        "                                metrics=[lr_metric, 'accuracy'])\n",
        "        else:\n",
        "            dense_model.compile(optimizer=optimizers.Adam(learning_rate=self.learning_rate),\n",
        "                                loss=ExpLoss())\n",
        "\n",
        "        return dense_model\n",
        "\n",
        "\n",
        "\n",
        "class CustomCallback(callbacks.Callback):\n",
        "    def on_epoch_end(self, epoch, logs=None):\n",
        "        keys = list(logs.keys())\n",
        "        print(\"Loss: {:.5e}. Val loss: {:.5e}\".format(logs['loss'], logs['val_loss']))\n",
        "        "
      ]
    },
    {
      "cell_type": "markdown",
      "id": "figured-width",
      "metadata": {
        "id": "figured-width"
      },
      "source": [
        "# Evidence Net"
      ]
    },
    {
      "cell_type": "code",
      "execution_count": 206,
      "id": "bf98775f-5c96-4ab0-acf1-1d5ff5f6de7d",
      "metadata": {
        "colab": {
          "base_uri": "https://localhost:8080/"
        },
        "id": "bf98775f-5c96-4ab0-acf1-1d5ff5f6de7d",
        "outputId": "0434a850-fd96-4070-9d2b-aae290b7be0f"
      },
      "outputs": [
        {
          "output_type": "stream",
          "name": "stdout",
          "text": [
            "Hyper-parameters: 2 he_normal 16 1 0.0001 0.95 1 0\n",
            "Epoch 1/10\n",
            "15223/15223 [==============================] - 67s 4ms/step - loss: 0.8121 - lr: 9.2582e-05 - accuracy: 0.7009 - val_loss: 189224.7500 - val_lr: 8.5541e-05 - val_accuracy: 0.7177\n",
            "Epoch 2/10\n",
            "15223/15223 [==============================] - 61s 4ms/step - loss: 0.7950 - lr: 7.9196e-05 - accuracy: 0.7182 - val_loss: 117227.3828 - val_lr: 7.3175e-05 - val_accuracy: 0.7242\n",
            "Epoch 3/10\n",
            "15223/15223 [==============================] - 61s 4ms/step - loss: 0.7922 - lr: 6.7746e-05 - accuracy: 0.7218 - val_loss: 0.9505 - val_lr: 6.2596e-05 - val_accuracy: 0.7253\n",
            "Epoch 4/10\n",
            "15223/15223 [==============================] - 66s 4ms/step - loss: 0.7905 - lr: 5.7951e-05 - accuracy: 0.7238 - val_loss: 0.7831 - val_lr: 5.3543e-05 - val_accuracy: 0.7257\n",
            "Epoch 5/10\n",
            "15223/15223 [==============================] - 62s 4ms/step - loss: 0.7894 - lr: 4.9572e-05 - accuracy: 0.7246 - val_loss: 0.7811 - val_lr: 4.5802e-05 - val_accuracy: 0.7267\n",
            "Epoch 6/10\n",
            "15223/15223 [==============================] - 60s 4ms/step - loss: 0.7889 - lr: 4.2405e-05 - accuracy: 0.7247 - val_loss: 0.7812 - val_lr: 3.9180e-05 - val_accuracy: 0.7281\n",
            "Epoch 7/10\n",
            "15223/15223 [==============================] - 61s 4ms/step - loss: 0.7885 - lr: 3.6274e-05 - accuracy: 0.7257 - val_loss: 0.7817 - val_lr: 3.3514e-05 - val_accuracy: 0.7298\n",
            "Epoch 8/10\n",
            "15223/15223 [==============================] - 65s 4ms/step - loss: 0.7882 - lr: 3.1029e-05 - accuracy: 0.7253 - val_loss: 0.7808 - val_lr: 2.8670e-05 - val_accuracy: 0.7272\n",
            "Epoch 9/10\n",
            "15223/15223 [==============================] - 66s 4ms/step - loss: 0.7881 - lr: 2.6543e-05 - accuracy: 0.7259 - val_loss: 0.7802 - val_lr: 2.4525e-05 - val_accuracy: 0.7280\n",
            "Epoch 10/10\n",
            "15223/15223 [==============================] - 60s 4ms/step - loss: 0.7877 - lr: 2.2705e-05 - accuracy: 0.7262 - val_loss: 0.7799 - val_lr: 2.0979e-05 - val_accuracy: 0.7278\n"
          ]
        }
      ],
      "source": [
        "# input size, epochs, number of ensembles\n",
        "N = x_train_scaled.shape[1]\n",
        "epochs = 10\n",
        "n_models = 1 \n",
        "\n",
        "#####\n",
        "# n_test_calc = np.min([n_validation,20000])\n",
        "# print(n_test_calc)\n",
        "# n_test_calc = x_test_scaled.shape[0]\n",
        "\n",
        "# validation_model = np.atleast_2d([training_model[-n_test_calc:], 1. -training_model[-n_test_calc:]]).T\n",
        "validation_model = np.atleast_2d([y_train, 1. - y_train]).T\n",
        "#######\n",
        "\n",
        "model_instances = []\n",
        "model_instances_model = []\n",
        "histories = []\n",
        "\n",
        "\n",
        "with tf.device('/device:GPU:0'):\n",
        "    \n",
        "    for model_count in range(n_models):\n",
        "        \n",
        "        model_instances.append(DenseNetwork(N, weight_init='he_normal',\n",
        "                                            layer_width=16, added_layers=1,\n",
        "                                            learning_rate=1e-4, decay_rate=0.95,\n",
        "                                            batch_norm_flag=1))\n",
        "\n",
        "\n",
        "        model_instances_model.append(model_instances[-1].model())\n",
        "                               \n",
        "        # validation_prediction = (model_instances_model[-1].predict(x_test_scaled))\n",
        "        # print('Initialization: mean =', validation_prediction.mean(), 'std= ', validation_prediction.std())\n",
        "                                                   \n",
        "        histories.append(model_instances_model[-1].fit(x_train_scaled,y_train,                 \n",
        "            epochs=epochs, batch_size=100,\n",
        "                             shuffle=True,\n",
        "                             validation_data = (x_test_scaled, y_test),\n",
        "                             verbose=1))\n",
        "        \n",
        "        gc.collect()"
      ]
    },
    {
      "cell_type": "code",
      "source": [
        "validation_prediction = (model_instances_model[-1].predict(x_test_scaled))\n",
        "print(validation_prediction)"
      ],
      "metadata": {
        "colab": {
          "base_uri": "https://localhost:8080/"
        },
        "id": "4FoUH_Rjg8A1",
        "outputId": "11ba62b7-823e-46a1-a377-38239c9890a9"
      },
      "id": "4FoUH_Rjg8A1",
      "execution_count": 207,
      "outputs": [
        {
          "output_type": "stream",
          "name": "stdout",
          "text": [
            "[[ 3.067193  ]\n",
            " [ 1.8901737 ]\n",
            " [ 0.3367954 ]\n",
            " ...\n",
            " [ 0.52692413]\n",
            " [-0.28775477]\n",
            " [ 2.9234157 ]]\n"
          ]
        }
      ]
    },
    {
      "cell_type": "code",
      "source": [
        "plt.hist(validation_prediction,bins=200)\n",
        "# plt.ylim(-100,100)\n",
        "\n",
        "\n",
        "# validation_prediction_mean = np.mean(validation_prediction)\n",
        "# log_K_net = np.log10(np.exp(validation_prediction_mean))\n",
        "# print(log_K)\n",
        "\n",
        "\n"
      ],
      "metadata": {
        "colab": {
          "base_uri": "https://localhost:8080/",
          "height": 1000
        },
        "id": "Saw1uyksh8GW",
        "outputId": "1d514894-eecf-44d2-b4d1-77238354cb65"
      },
      "id": "Saw1uyksh8GW",
      "execution_count": 208,
      "outputs": [
        {
          "output_type": "execute_result",
          "data": {
            "text/plain": [
              "(array([1.0000e+00, 0.0000e+00, 0.0000e+00, 0.0000e+00, 0.0000e+00,\n",
              "        1.0000e+00, 1.0000e+00, 1.0000e+00, 1.0000e+00, 0.0000e+00,\n",
              "        1.0000e+00, 1.0000e+00, 2.0000e+00, 1.0000e+00, 1.0000e+00,\n",
              "        1.0000e+00, 1.0000e+00, 2.0000e+00, 2.0000e+00, 1.0000e+00,\n",
              "        3.0000e+00, 3.0000e+00, 1.0000e+00, 1.0000e+00, 4.0000e+00,\n",
              "        5.0000e+00, 8.0000e+00, 3.0000e+00, 3.0000e+00, 4.0000e+00,\n",
              "        6.0000e+00, 5.0000e+00, 1.1000e+01, 7.0000e+00, 1.1000e+01,\n",
              "        5.0000e+00, 5.0000e+00, 1.0000e+01, 1.2000e+01, 1.4000e+01,\n",
              "        1.1000e+01, 2.1000e+01, 2.0000e+01, 2.2000e+01, 2.3000e+01,\n",
              "        2.4000e+01, 2.4000e+01, 2.9000e+01, 3.6000e+01, 3.8000e+01,\n",
              "        4.2000e+01, 2.6000e+01, 4.6000e+01, 4.9000e+01, 4.4000e+01,\n",
              "        5.6000e+01, 8.1000e+01, 6.1000e+01, 6.5000e+01, 5.9000e+01,\n",
              "        7.7000e+01, 9.5000e+01, 9.4000e+01, 1.0500e+02, 1.2200e+02,\n",
              "        1.2000e+02, 1.5200e+02, 1.7600e+02, 1.7100e+02, 2.0700e+02,\n",
              "        2.2600e+02, 2.7200e+02, 2.4600e+02, 3.4200e+02, 3.6500e+02,\n",
              "        3.7200e+02, 4.3600e+02, 5.2000e+02, 5.5300e+02, 6.0000e+02,\n",
              "        5.4600e+02, 5.7000e+02, 6.2800e+02, 6.5400e+02, 6.7300e+02,\n",
              "        7.2200e+02, 6.6900e+02, 7.0600e+02, 6.9800e+02, 7.0400e+02,\n",
              "        7.2500e+02, 7.9200e+02, 8.2600e+02, 7.7900e+02, 8.4000e+02,\n",
              "        8.5900e+02, 9.5300e+02, 9.0900e+02, 1.0000e+03, 1.0110e+03,\n",
              "        1.0500e+03, 1.0600e+03, 1.1840e+03, 1.1910e+03, 1.2720e+03,\n",
              "        1.3250e+03, 1.4930e+03, 1.6230e+03, 1.7450e+03, 1.7880e+03,\n",
              "        5.9120e+03, 7.1130e+03, 1.0058e+04, 1.0055e+04, 8.5420e+03,\n",
              "        8.1200e+03, 8.8510e+03, 9.5170e+03, 9.1520e+03, 9.9050e+03,\n",
              "        1.1082e+04, 1.0226e+04, 9.5090e+03, 9.2960e+03, 9.0770e+03,\n",
              "        9.2550e+03, 9.3930e+03, 9.4600e+03, 8.9650e+03, 8.7110e+03,\n",
              "        9.1280e+03, 8.7810e+03, 8.9740e+03, 8.4620e+03, 8.0530e+03,\n",
              "        7.5870e+03, 7.5020e+03, 6.9600e+03, 6.7480e+03, 6.3930e+03,\n",
              "        5.7220e+03, 5.3150e+03, 4.8380e+03, 4.7250e+03, 4.1790e+03,\n",
              "        3.9880e+03, 3.8830e+03, 3.7630e+03, 3.6440e+03, 3.3710e+03,\n",
              "        3.0590e+03, 2.7890e+03, 2.7490e+03, 2.6360e+03, 2.5280e+03,\n",
              "        2.2810e+03, 2.1560e+03, 2.0120e+03, 1.7100e+03, 1.5680e+03,\n",
              "        1.3920e+03, 1.2810e+03, 1.1670e+03, 1.0110e+03, 9.7900e+02,\n",
              "        9.1100e+02, 8.5200e+02, 7.3900e+02, 7.4800e+02, 6.7800e+02,\n",
              "        7.1600e+02, 6.3400e+02, 6.2600e+02, 6.0700e+02, 6.3800e+02,\n",
              "        5.7900e+02, 6.2000e+02, 5.9800e+02, 5.2600e+02, 4.2100e+02,\n",
              "        4.1600e+02, 3.8100e+02, 3.5200e+02, 2.8900e+02, 2.3000e+02,\n",
              "        1.7400e+02, 7.4000e+01, 3.1000e+01, 8.0000e+00, 5.0000e+00,\n",
              "        2.0000e+00, 2.0000e+00, 1.0000e+00, 4.0000e+00, 1.0000e+00,\n",
              "        1.0000e+00, 2.0000e+00, 0.0000e+00, 1.0000e+00, 1.0000e+00]),\n",
              " array([-11.20771408, -11.1147995 , -11.02188587, -10.92897129,\n",
              "        -10.83605766, -10.74314308, -10.65022945, -10.55731487,\n",
              "        -10.46440125, -10.37148666, -10.27857304, -10.18565845,\n",
              "        -10.09274483,  -9.99983025,  -9.90691662,  -9.81400204,\n",
              "         -9.72108841,  -9.62817383,  -9.5352602 ,  -9.44234562,\n",
              "         -9.34943199,  -9.25651741,  -9.16360283,  -9.0706892 ,\n",
              "         -8.97777462,  -8.88486099,  -8.79194641,  -8.69903278,\n",
              "         -8.6061182 ,  -8.51320457,  -8.42028999,  -8.32737637,\n",
              "         -8.23446178,  -8.14154816,  -8.04863358,  -7.95571947,\n",
              "         -7.86280537,  -7.76989126,  -7.67697716,  -7.58406305,\n",
              "         -7.49114895,  -7.39823484,  -7.30532074,  -7.21240664,\n",
              "         -7.11949253,  -7.02657843,  -6.93366432,  -6.84075022,\n",
              "         -6.74783611,  -6.65492201,  -6.5620079 ,  -6.46909332,\n",
              "         -6.37617922,  -6.28326511,  -6.19035101,  -6.0974369 ,\n",
              "         -6.0045228 ,  -5.9116087 ,  -5.81869459,  -5.72578049,\n",
              "         -5.63286638,  -5.53995228,  -5.44703817,  -5.35412407,\n",
              "         -5.26120996,  -5.16829586,  -5.07538176,  -4.98246765,\n",
              "         -4.88955355,  -4.79663944,  -4.70372486,  -4.61081076,\n",
              "         -4.51789665,  -4.42498255,  -4.33206844,  -4.23915434,\n",
              "         -4.14624023,  -4.05332613,  -3.96041203,  -3.86749792,\n",
              "         -3.77458382,  -3.68166971,  -3.58875561,  -3.4958415 ,\n",
              "         -3.4029274 ,  -3.31001329,  -3.21709895,  -3.12418485,\n",
              "         -3.03127074,  -2.93835664,  -2.84544253,  -2.75252843,\n",
              "         -2.65961432,  -2.56670022,  -2.47378612,  -2.38087177,\n",
              "         -2.28795767,  -2.19504356,  -2.10212946,  -2.00921535,\n",
              "         -1.91630125,  -1.82338715,  -1.73047304,  -1.63755882,\n",
              "         -1.54464471,  -1.45173061,  -1.3588165 ,  -1.2659024 ,\n",
              "         -1.17298818,  -1.08007407,  -0.98715997,  -0.89424586,\n",
              "         -0.8013317 ,  -0.70841759,  -0.61550343,  -0.52258933,\n",
              "         -0.42967519,  -0.33676106,  -0.24384694,  -0.15093282,\n",
              "         -0.05801868,   0.03489544,   0.12780957,   0.2207237 ,\n",
              "          0.31363782,   0.40655196,   0.49946609,   0.59238023,\n",
              "          0.68529433,   0.77820849,   0.8711226 ,   0.9640367 ,\n",
              "          1.05695081,   1.14986503,   1.24277914,   1.33569324,\n",
              "          1.42860734,   1.52152145,   1.61443567,   1.70734978,\n",
              "          1.80026388,   1.89317799,   1.98609209,   2.0790062 ,\n",
              "          2.1719203 ,   2.2648344 ,   2.35774875,   2.45066285,\n",
              "          2.54357696,   2.63649106,   2.72940516,   2.82231927,\n",
              "          2.91523337,   3.00814748,   3.10106158,   3.19397593,\n",
              "          3.28689003,   3.37980413,   3.47271824,   3.56563234,\n",
              "          3.65854645,   3.75146055,   3.84437466,   3.93728876,\n",
              "          4.03020287,   4.12311697,   4.21603107,   4.30894518,\n",
              "          4.40185928,   4.49477339,   4.58768749,   4.68060207,\n",
              "          4.77351618,   4.86643028,   4.95934439,   5.05225849,\n",
              "          5.1451726 ,   5.2380867 ,   5.3310008 ,   5.42391491,\n",
              "          5.51682901,   5.60974312,   5.70265722,   5.79557133,\n",
              "          5.88848543,   5.98139954,   6.07431364,   6.16722775,\n",
              "          6.26014185,   6.35305595,   6.44597054,   6.53888464,\n",
              "          6.63179874,   6.72471285,   6.81762695,   6.91054106,\n",
              "          7.00345516,   7.09636927,   7.18928337,   7.28219748,\n",
              "          7.37511158]),\n",
              " <BarContainer object of 200 artists>)"
            ]
          },
          "metadata": {},
          "execution_count": 208
        },
        {
          "output_type": "display_data",
          "data": {
            "text/plain": [
              "<Figure size 640x480 with 1 Axes>"
            ],
            "image/png": "[encoded data removed]"
          },
          "metadata": {}
        }
      ]
    },
    {
      "cell_type": "code",
      "execution_count": 209,
      "id": "aca08579-4234-427a-8907-4d3eb4c1dcc4",
      "metadata": {
        "colab": {
          "base_uri": "https://localhost:8080/",
          "height": 430
        },
        "id": "aca08579-4234-427a-8907-4d3eb4c1dcc4",
        "outputId": "0e681c1e-ffb5-47ce-8d05-a7b2f66109a4"
      },
      "outputs": [
        {
          "output_type": "display_data",
          "data": {
            "text/plain": [
              "<Figure size 640x480 with 1 Axes>"
            ],
            "image/png": "[encoded data removed]"
          },
          "metadata": {}
        }
      ],
      "source": [
        "for i in range(n_models):\n",
        "    _ = plt.plot(histories[i].history['loss'][:])\n",
        "    _ = plt.plot(histories[i].history['val_loss'][:],'orange')"
      ]
    },
    {
      "cell_type": "code",
      "execution_count": 210,
      "id": "5aa51c7d-0115-43b8-98e5-f168855add4b",
      "metadata": {
        "id": "5aa51c7d-0115-43b8-98e5-f168855add4b"
      },
      "outputs": [],
      "source": [
        "# validation_prediction_array = np.array([leaky_parity_odd_power(model_instances_model[i].predict(1.-validation_data_rescaled), alpha=2) \\\n",
        "                          # for i in range(n_models)])\n",
        "# validation_prediction = validation_prediction_array.mean(axis=0).flatten()"
      ]
    },
    {
      "cell_type": "markdown",
      "id": "98774e70-2010-426c-964b-f6fbb61545e0",
      "metadata": {
        "id": "98774e70-2010-426c-964b-f6fbb61545e0"
      },
      "source": [
        "# Coverage tests\n",
        "Here I've tried to recreate the coverage tests using my own code. First we calculate p(M1|x). We then bin the posterior probabilities and examine the fraction of model 1 labels (SIMBA) in each bin."
      ]
    },
    {
      "cell_type": "code",
      "source": [
        "# calculate posteriors from network log K values \n",
        "posterior_model_prob = np.exp(validation_prediction)/(1+np.exp(validation_prediction)) # p(M1|x)\n",
        "print(posterior_model_prob.shape)\n",
        "\n",
        "# prepare posterior bins\n",
        "nbins = 100\n",
        "probability_array  = np.linspace(0,1,nbins)\n",
        "# print(probability_array )"
      ],
      "metadata": {
        "colab": {
          "base_uri": "https://localhost:8080/"
        },
        "id": "HmmYrJH9CgxN",
        "outputId": "d18d5aab-8265-48b2-919c-2d63ff9af6ee"
      },
      "id": "HmmYrJH9CgxN",
      "execution_count": 211,
      "outputs": [
        {
          "output_type": "stream",
          "name": "stdout",
          "text": [
            "(380563, 1)\n"
          ]
        }
      ]
    },
    {
      "cell_type": "code",
      "source": [
        "# perform coverage test\n",
        "bin_centres, fractions, post_bin_means, post_bin_n = [],[],[],[]\n",
        "\n",
        "for i in range(0,len(probability_array)-1):\n",
        "  # bin posteriors\n",
        "  indexes = np.where((posterior_model_prob > probability_array[i]) \n",
        "                                      & (posterior_model_prob < probability_array[i+1]))[0]\n",
        "  post_bin = posterior_model_prob[indexes]\n",
        "  post_bin_mean = float(np.mean(posterior_model_prob[indexes]))\n",
        "  post_bin_mid = float((probability_array[i]+probability_array[i+1]) / 2)\n",
        "  post_bin_size = float(len(post_bin))\n",
        "\n",
        "  # get fraction of model 1 labels in each bin\n",
        "  label_bin = y_test[indexes]\n",
        "  fraction = np.sum(label_bin) / len(label_bin)\n",
        "\n",
        "  bin_centres.append(post_bin_mid), fractions.append(fraction), post_bin_means.append(post_bin_mean), post_bin_n.append(post_bin_size)\n",
        "\n",
        "\n",
        "# get the binomial error for each bin\n",
        "binomial_std = np.sqrt((np.asarray(post_bin_means)*(1.-np.asarray(post_bin_means))) / np.asarray(post_bin_n))\n",
        "\n"
      ],
      "metadata": {
        "id": "uxHYsUSRDaEo"
      },
      "id": "uxHYsUSRDaEo",
      "execution_count": 212,
      "outputs": []
    },
    {
      "cell_type": "code",
      "source": [
        "plt.figure(figsize=(5,4))\n",
        "probability_array  = np.linspace(0.2,1,20)\n",
        "# plt.plot(probability_array[3:]*1.1,probability_array[3:]*1.1, c='gray', alpha=0.5)\n",
        "# plt.plot(bin_centres, fractions,'.')\n",
        "# plt.plot(post_bin_means, fractions,'.')\n",
        "plt.errorbar(post_bin_means, fractions, np.asarray(binomial_std), marker='.', ls='')\n",
        "plt.title('Model posterior blind coverage test')\n",
        "plt.xlabel(r'$p(M_1 | x)$ (binned)', fontsize=11)\n",
        "plt.ylabel(str('Validation model fraction'), fontsize=11)\n",
        "plt.plot([0,1],[0,1],'k-',alpha=0.5)\n",
        "plt.axis('square')\n",
        "plt.grid(True)\n",
        "# plt.ylim(0.15,1.2)\n",
        "# plt.xlim(0.15,1.2)\n",
        "plt.savefig(path+'coverage_test_20_B.png', dpi=250)\n",
        "# plt.axis('equal')"
      ],
      "metadata": {
        "colab": {
          "base_uri": "https://localhost:8080/",
          "height": 415
        },
        "id": "KZsSMbnaRfqg",
        "outputId": "185cd538-9e5e-4f7d-c28c-768b5b232d9d"
      },
      "id": "KZsSMbnaRfqg",
      "execution_count": 213,
      "outputs": [
        {
          "output_type": "display_data",
          "data": {
            "text/plain": [
              "<Figure size 500x400 with 1 Axes>"
            ],
            "image/png": "[encoded data removed]"
          },
          "metadata": {}
        }
      ]
    },
    {
      "cell_type": "code",
      "execution_count": null,
      "id": "dc2b31e2-73cf-4cd7-92d6-0a13e4d6b759",
      "metadata": {
        "id": "dc2b31e2-73cf-4cd7-92d6-0a13e4d6b759"
      },
      "outputs": [],
      "source": [
        "\n",
        "\n",
        "# from matplotlib.ticker import FormatStrFormatter\n",
        "# from matplotlib import scale as mscale\n",
        "# from matplotlib import transforms as mtransforms\n",
        "\n",
        "# class CustomScale(mscale.ScaleBase):\n",
        "#     name = 'custom'\n",
        "\n",
        "#     def __init__(self, axis, **kwargs):\n",
        "#         mscale.ScaleBase.__init__(self)\n",
        "#         self.thresh = None #thresh\n",
        "\n",
        "#     def get_transform(self):\n",
        "#         return self.CustomTransform(self.thresh)\n",
        "\n",
        "#     def set_default_locators_and_formatters(self, axis):\n",
        "#         pass\n",
        "\n",
        "#     class CustomTransform(mtransforms.Transform):\n",
        "#         input_dims = 1\n",
        "#         output_dims = 1\n",
        "#         is_separable = True\n",
        "\n",
        "#         def __init__(self, thresh):\n",
        "#             mtransforms.Transform.__init__(self)\n",
        "#             self.thresh = thresh\n",
        "\n",
        "#         def transform_non_affine(self, a):\n",
        "#             return np.log(1+a)\n",
        "\n",
        "#         def inverted(self):\n",
        "#             return CustomScale.InvertedCustomTransform(self.thresh)\n",
        "\n",
        "#     class InvertedCustomTransform(mtransforms.Transform):\n",
        "#         input_dims = 1\n",
        "#         output_dims = 1\n",
        "#         is_separable = True\n",
        "\n",
        "#         def __init__(self, thresh):\n",
        "#             mtransforms.Transform.__init__(self)\n",
        "#             self.thresh = thresh\n",
        "\n",
        "#         def transform_non_affine(self, a):\n",
        "#             return math.log(1+a)\n",
        "\n",
        "#         def inverted(self):\n",
        "#             return CustomScale.CustomTransform(self.thresh)\n",
        "\n",
        "# # Now that the Scale class has been defined, it must be registered so\n",
        "# # that ``matplotlib`` can find it.\n",
        "# mscale.register_scale(CustomScale)\n",
        "\n",
        "# plt.figure(figsize=(5,4))\n",
        "# probability_array  = np.linspace(0.2,1,20)\n",
        "# plt.plot(probability_array[3:]*1.1,probability_array[3:]*1.1, c='gray', alpha=0.5)\n",
        "# plt.errorbar(prob_bin_analytic, coverage_net, coverage_std_net, ls='',marker ='.',label='EvidenceNet')\n",
        "# plt.errorbar(prob_bin_analytic, coverage_analytic, coverage_std_analytic,marker='_',\n",
        "#              label='Analytic calculation', ls=':', lw=2, alpha=0.6,zorder=2.5)\n",
        "# plt.title('Model posterior blind coverage test')\n",
        "# plt.xlabel(r'$p(M_1 | x)$ predicted (binned)', fontsize=11)\n",
        "# plt.ylabel(str('Validation model fraction\\n('+str(n_test_calc) + ' samples)'), fontsize=11)\n",
        "# plt.axis('square')\n",
        "# plt.grid(True), plt.legend( fontsize=11)\n",
        "# plt.ylim(0.15,1.2)\n",
        "# plt.xlim(0.15,1.2)\n",
        "# plt.savefig('coverage_test_100_B.png', dpi=250)\n",
        "# # plt.axis('equal')"
      ]
    },
    {
      "cell_type": "code",
      "execution_count": 58,
      "id": "49273a6b-ee28-4e41-8c6a-ba8b6b87fe22",
      "metadata": {
        "id": "49273a6b-ee28-4e41-8c6a-ba8b6b87fe22",
        "outputId": "bbc2578c-223c-44ba-d37f-9425a205f9cb",
        "colab": {
          "base_uri": "https://localhost:8080/",
          "height": 455
        }
      },
      "outputs": [
        {
          "output_type": "stream",
          "name": "stderr",
          "text": [
            "WARNING:matplotlib.legend:No artists with labels found to put in legend.  Note that artists whose label start with an underscore are ignored when legend() is called with no argument.\n"
          ]
        },
        {
          "output_type": "display_data",
          "data": {
            "text/plain": [
              "<Figure size 500x400 with 1 Axes>"
            ],
            "image/png": "[encoded data removed]"
          },
          "metadata": {}
        }
      ],
      "source": [
        "plt.figure(figsize=(5,4))\n",
        "probability_array  = np.linspace(0.2,1,20)\n",
        "plt.loglog()\n",
        "# plt.plot(probability_array[3:]*1.1,probability_array[3:]*1.1, c='gray', alpha=0.5)\n",
        "# plt.errorbar(prob_bin_analytic/(1-prob_bin_analytic), coverage_net/(1.-coverage_net), coverage_std_net, ls='',marker ='.',label='EvidenceNet')\n",
        "# plt.errorbar(prob_bin_analytic/(1-prob_bin_analytic), coverage_analytic/(1.-coverage_analytic), coverage_std_analytic,marker='_',\n",
        "            #  label='Analytic calculation', ls=':', lw=2, alpha=0.6,zorder=2.5)\n",
        "plt.title('Model posterior blind coverage test')\n",
        "plt.xlabel(r'$p(M_1 | x)$ predicted (binned)', fontsize=11)\n",
        "plt.ylabel(str('Validation model fraction'), fontsize=11)\n",
        "plt.axis('square')\n",
        "plt.grid(True), plt.legend( fontsize=11)\n",
        "# plt.ylim(0.15,1.2)\n",
        "# plt.xlim(0.15,1.2)\n",
        "plt.savefig('coverage_test_20_B.png', dpi=250)\n",
        "# plt.axis('equal')"
      ]
    },
    {
      "cell_type": "code",
      "execution_count": 56,
      "id": "97bcc82b-27bb-4897-bc27-2d080da91953",
      "metadata": {
        "id": "97bcc82b-27bb-4897-bc27-2d080da91953",
        "outputId": "fc45aaba-d82d-4005-cc57-4a56f7c9482e",
        "colab": {
          "base_uri": "https://localhost:8080/",
          "height": 444
        }
      },
      "outputs": [
        {
          "output_type": "stream",
          "name": "stderr",
          "text": [
            "WARNING:matplotlib.legend:No artists with labels found to put in legend.  Note that artists whose label start with an underscore are ignored when legend() is called with no argument.\n"
          ]
        },
        {
          "output_type": "display_data",
          "data": {
            "text/plain": [
              "<Figure size 950x400 with 2 Axes>"
            ],
            "image/png": "[encoded data removed]"
          },
          "metadata": {}
        }
      ],
      "source": [
        "plt.figure(figsize=(9.5,4))\n",
        "\n",
        "_ = plt.subplot(1,2,1)\n",
        "_ = plt.ylim(-0.5,3.6),plt.xlim(-0.5,3.6)\n",
        "_ = plt.plot([-5,1e6],[-5,1e6], lw=1, c='gray')\n",
        "# log_K_analytic = np.log10(analytic_bayes_factor).flatten()\n",
        "log_K_net = np.log10(np.exp(validation_prediction)).flatten()\n",
        "# _ = plt.title('100 parameters, RMSE=' + str(np.sqrt(np.mean((log_K_analytic-log_K_net)**2.)))[:5])\n",
        "# _ = plt.scatter(log_K_analytic,log_K_net, alpha=0.2, marker='.',s=3)\n",
        "\n",
        "_ = plt.xlabel(r'$\\log_{10}(K)$ analytic',fontsize=11)\n",
        "plt.ylabel(r'$\\log_{10}(K)$ prediction',fontsize=11)\n",
        "plt.grid(True), plt.tight_layout()\n",
        "\n",
        "_ = plt.subplot(1,2,2)\n",
        "probability_array  = np.linspace(0.2,1,20)\n",
        "plt.plot(probability_array[3:]*1.1,probability_array[3:]*1.1, c='gray', alpha=0.5)\n",
        "# plt.errorbar(prob_bin_analytic, coverage_net, binomial_std_net, ls='',marker ='.',label='Evidence Network')\n",
        "# plt.errorbar(prob_bin_analytic, coverage_analytic, binomial_std_analytic,marker='_',\n",
        "            #  label='Analytic calculation', ls=':', lw=2, alpha=0.6,zorder=2.5)\n",
        "plt.title('Model posterior blind coverage test')\n",
        "plt.xlabel(r'$p(M_1 | x)$ bins', fontsize=11)\n",
        "# plt.ylabel(str('Validation model fraction\\n('+str(n_test_calc) + ' samples)'), fontsize=11)\n",
        "plt.axis('square')\n",
        "plt.grid(True), plt.legend( fontsize=11)\n",
        "plt.ylim(0.2,1.1)\n",
        "plt.xlim(0.2,1.1)\n",
        "plt.tight_layout()\n",
        "plt.subplots_adjust(wspace=0.2)\n",
        "plt.savefig('joint_100_plot2.png', dpi=250)\n",
        "# plt.axis('equal')"
      ]
    },
    {
      "cell_type": "code",
      "source": [],
      "metadata": {
        "id": "qPZGBUtNpIyq"
      },
      "id": "qPZGBUtNpIyq",
      "execution_count": null,
      "outputs": []
    }
  ],
  "metadata": {
    "kernelspec": {
      "display_name": "Python 3",
      "name": "python3"
    },
    "language_info": {
      "codemirror_mode": {
        "name": "ipython",
        "version": 3
      },
      "file_extension": ".py",
      "mimetype": "text/x-python",
      "name": "python",
      "nbconvert_exporter": "python",
      "pygments_lexer": "ipython3",
      "version": "3.9.12"
    },
    "vscode": {
      "interpreter": {
        "hash": "6e093467a8db9a7011af417371fcd573d1abb74261412f30c0a1eba50c9dc224"
      }
    },
    "colab": {
      "provenance": [],
      "include_colab_link": true
    }
  },
  "nbformat": 4,
  "nbformat_minor": 5
}